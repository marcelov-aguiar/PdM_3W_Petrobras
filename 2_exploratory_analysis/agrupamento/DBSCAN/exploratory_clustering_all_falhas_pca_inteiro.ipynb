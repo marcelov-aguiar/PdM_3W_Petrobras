{
 "cells": [
  {
   "cell_type": "code",
   "execution_count": 1,
   "metadata": {},
   "outputs": [
    {
     "data": {
      "text/plain": [
       "'Módulo util importado com sucesso.'"
      ]
     },
     "execution_count": 1,
     "metadata": {},
     "output_type": "execute_result"
    }
   ],
   "source": [
    "import pandas as pd\n",
    "import os\n",
    "import sys\n",
    "import matplotlib.pyplot as plt\n",
    "import seaborn as sns\n",
    "import util\n",
    "from pathlib import Path\n",
    "import numpy as np\n",
    "import re\n",
    "from sklearn.cluster import KMeans\n",
    "from sklearn.cluster import DBSCAN\n",
    "from sklearn.decomposition import PCA\n",
    "from sklearn.metrics import silhouette_score\n",
    "from sklearn.preprocessing import StandardScaler\n",
    "from sklearn.preprocessing import PolynomialFeatures\n",
    "from class_manipulates_path import ManipulatePath\n",
    "from class_preprocessing_refactor import Preprocessing\n",
    "from class_format_data import FormatData\n",
    "util.init()"
   ]
  },
  {
   "cell_type": "code",
   "execution_count": 2,
   "metadata": {},
   "outputs": [],
   "source": [
    "def plot_variable(df, column_name):\n",
    "    \"\"\"\n",
    "    Plota um gráfico de dispersão para uma variável de um DataFrame.\n",
    "\n",
    "    Parâmetros:\n",
    "        - df: DataFrame pandas contendo os dados.\n",
    "        - column_name: Nome da coluna que você deseja plotar.\n",
    "        - intervalos: Lista de intervalos para plotar linhas verticais.\n",
    "    \"\"\"\n",
    "    plt.figure(figsize=(20, 10))\n",
    "    plt.scatter(df.index.values, df[column_name].values, color='darkcyan', alpha=0.5)\n",
    "    plt.xlabel('Índice')\n",
    "    plt.ylabel(column_name)\n",
    "    plt.title(f'Gráfico de dispersão para a variável \"{column_name}\"')\n",
    "\n",
    "    plt.show()"
   ]
  },
  {
   "cell_type": "code",
   "execution_count": 3,
   "metadata": {},
   "outputs": [],
   "source": [
    "def class_and_file_generator(data_path, real=False, simulated=False, drawn=False):\n",
    "    for class_path in data_path.iterdir():\n",
    "        if class_path.is_dir():\n",
    "            class_code = int(class_path.stem)\n",
    "            for instance_path in class_path.iterdir():\n",
    "                if (instance_path.suffix == '.csv'):\n",
    "                    if (simulated and instance_path.stem.startswith('SIMULATED')) or \\\n",
    "                       (drawn and instance_path.stem.startswith('DRAWN')) or \\\n",
    "                       (real and (not instance_path.stem.startswith('SIMULATED')) and \\\n",
    "                       (not instance_path.stem.startswith('DRAWN'))):\n",
    "                        yield class_code, instance_path"
   ]
  },
  {
   "cell_type": "code",
   "execution_count": 4,
   "metadata": {},
   "outputs": [],
   "source": [
    "def plot_two_variables(df, var1, var2, binary_column=None):\n",
    "    \"\"\"\n",
    "    Plota um gráfico de dispersão para duas variáveis de um DataFrame, colorindo os pontos conforme uma coluna binária, se fornecida.\n",
    "\n",
    "    Parâmetros:\n",
    "        - df: DataFrame pandas contendo os dados.\n",
    "        - var1: Nome da primeira variável (eixo x).\n",
    "        - var2: Nome da segunda variável (eixo y).\n",
    "        - binary_column: Nome da coluna binária usada para colorir os pontos (opcional).\n",
    "    \"\"\"\n",
    "    plt.figure(figsize=(10, 6))\n",
    "\n",
    "    if binary_column is not None:\n",
    "        # Obtendo os valores únicos da coluna binária\n",
    "        classes = df[binary_column].unique()\n",
    "\n",
    "        # Criando um mapeamento de classe para cor\n",
    "        colors = {cls: plt.cm.tab10(i) for i, cls in enumerate(classes)}\n",
    "\n",
    "        # Colorindo os pontos de acordo com as classes\n",
    "        for cls in classes:\n",
    "            df_cls = df[df[binary_column] == cls]\n",
    "            plt.scatter(df_cls[var1], df_cls[var2], color=colors[cls], label=cls, alpha=0.5)\n",
    "        \n",
    "        plt.legend(title=binary_column)\n",
    "    else:\n",
    "        plt.scatter(df[var1], df[var2], alpha=0.5)\n",
    "\n",
    "    plt.xlabel(var1)\n",
    "    plt.ylabel(var2)\n",
    "    plt.title(f'Gráfico de Dispersão: {var1} vs {var2}')\n",
    "    plt.grid(True)\n",
    "    plt.show()"
   ]
  },
  {
   "cell_type": "code",
   "execution_count": 5,
   "metadata": {},
   "outputs": [],
   "source": [
    "def plot_variavel_e_histograma(dataframe, nome_coluna):\n",
    "    # Verifica se a coluna existe no DataFrame\n",
    "    if nome_coluna not in dataframe.columns:\n",
    "        print(\"A coluna especificada não existe no DataFrame.\")\n",
    "        return\n",
    "    \n",
    "    # Plota a variável ao longo do tempo\n",
    "    plt.figure(figsize=(12, 5))\n",
    "    plt.subplot(1, 2, 1)\n",
    "    dataframe[nome_coluna].plot()\n",
    "    plt.title(\"Variação ao longo do tempo\")\n",
    "    plt.xlabel(\"Índice\")\n",
    "    plt.ylabel(nome_coluna)\n",
    "    \n",
    "    # Plota o histograma da variável\n",
    "    plt.subplot(1, 2, 2)\n",
    "    dataframe[nome_coluna].hist()\n",
    "    plt.title(\"Histograma\")\n",
    "    plt.xlabel(nome_coluna)\n",
    "    plt.ylabel(\"Frequência\")\n",
    "    \n",
    "    plt.tight_layout()\n",
    "    plt.show()"
   ]
  },
  {
   "cell_type": "code",
   "execution_count": 6,
   "metadata": {},
   "outputs": [],
   "source": [
    "def kmeans_two_variables(df, var1, var2, n_clusters=3):\n",
    "    \"\"\"\n",
    "    Aplica o algoritmo K-means para agrupar duas variáveis de um DataFrame.\n",
    "\n",
    "    Parâmetros:\n",
    "        - df: DataFrame pandas contendo os dados.\n",
    "        - var1: Nome da primeira variável.\n",
    "        - var2: Nome da segunda variável.\n",
    "        - n_clusters: Número de clusters (padrão é 3).\n",
    "    \"\"\"\n",
    "    # Seleciona as duas variáveis\n",
    "    X = df[[var1, var2]]\n",
    "\n",
    "    # Aplica o algoritmo K-means\n",
    "    kmeans = KMeans(n_clusters=n_clusters)\n",
    "    kmeans.fit(X)\n",
    "\n",
    "    # Obtém as coordenadas dos centroides\n",
    "    centroids = kmeans.cluster_centers_\n",
    "\n",
    "    # Plota os pontos e os centroides\n",
    "    plt.figure(figsize=(10, 6))\n",
    "    plt.scatter(X[var1], X[var2], c=kmeans.labels_, cmap='viridis', alpha=0.5)\n",
    "    plt.scatter(centroids[:, 0], centroids[:, 1], marker='x', s=100, color='red')\n",
    "    plt.xlabel(var1)\n",
    "    plt.ylabel(var2)\n",
    "    plt.title(f'K-means: {var1} vs {var2}')\n",
    "    plt.grid(True)\n",
    "    plt.show()"
   ]
  },
  {
   "cell_type": "code",
   "execution_count": 7,
   "metadata": {},
   "outputs": [],
   "source": [
    "def extract_well_number(path):\n",
    "    match = re.search(r'WELL-(\\d+)_', path)\n",
    "    if match:\n",
    "        return match.group(1)\n",
    "    else:\n",
    "        return None"
   ]
  },
  {
   "cell_type": "code",
   "execution_count": 8,
   "metadata": {},
   "outputs": [],
   "source": [
    "manipulate_path = ManipulatePath()\n",
    "\n",
    "preprocessing = Preprocessing()\n",
    "\n",
    "format_data = FormatData()\n",
    "\n",
    "path_raw_data = manipulate_path.get_path_raw_data()"
   ]
  },
  {
   "cell_type": "code",
   "execution_count": 9,
   "metadata": {},
   "outputs": [],
   "source": [
    "df_preprocessing = pd.read_parquet(manipulate_path.get_path_preprocessing_real_data_all_classes())"
   ]
  },
  {
   "cell_type": "code",
   "execution_count": 10,
   "metadata": {},
   "outputs": [],
   "source": [
    "columns_poly = ['P-TPT', 'T-TPT', 'P-MON-CKP', 'T-JUS-CKP']"
   ]
  },
  {
   "cell_type": "code",
   "execution_count": 11,
   "metadata": {},
   "outputs": [],
   "source": [
    "def polynomial_features(df, columns):\n",
    "    df_data = df.copy()\n",
    "    poly = PolynomialFeatures(degree=2, interaction_only=True, include_bias=False)\n",
    "    poly_features = poly.fit_transform(df_data[columns])\n",
    "    feature_names = poly.get_feature_names_out(input_features=columns)\n",
    "    df_poly = pd.DataFrame(poly_features, columns=feature_names, index=df_data.index)\n",
    "    df_poly = df_poly.drop(columns=columns)\n",
    "    df = pd.concat([df, df_poly],axis=1)\n",
    "    return df"
   ]
  },
  {
   "cell_type": "code",
   "execution_count": 12,
   "metadata": {},
   "outputs": [],
   "source": [
    "#df_preprocessing = polynomial_features(df_preprocessing.copy(), columns_poly)"
   ]
  },
  {
   "cell_type": "code",
   "execution_count": 13,
   "metadata": {},
   "outputs": [
    {
     "data": {
      "text/html": [
       "<div>\n",
       "<style scoped>\n",
       "    .dataframe tbody tr th:only-of-type {\n",
       "        vertical-align: middle;\n",
       "    }\n",
       "\n",
       "    .dataframe tbody tr th {\n",
       "        vertical-align: top;\n",
       "    }\n",
       "\n",
       "    .dataframe thead th {\n",
       "        text-align: right;\n",
       "    }\n",
       "</style>\n",
       "<table border=\"1\" class=\"dataframe\">\n",
       "  <thead>\n",
       "    <tr style=\"text-align: right;\">\n",
       "      <th></th>\n",
       "      <th>P-TPT</th>\n",
       "      <th>T-TPT</th>\n",
       "      <th>P-MON-CKP</th>\n",
       "      <th>T-JUS-CKP</th>\n",
       "      <th>class</th>\n",
       "    </tr>\n",
       "    <tr>\n",
       "      <th>timestamp</th>\n",
       "      <th></th>\n",
       "      <th></th>\n",
       "      <th></th>\n",
       "      <th></th>\n",
       "      <th></th>\n",
       "    </tr>\n",
       "  </thead>\n",
       "  <tbody>\n",
       "    <tr>\n",
       "      <th>2014-01-24 09:33:03</th>\n",
       "      <td>18433410.0</td>\n",
       "      <td>116.8718</td>\n",
       "      <td>9397031.0</td>\n",
       "      <td>74.80031</td>\n",
       "      <td>0.0</td>\n",
       "    </tr>\n",
       "    <tr>\n",
       "      <th>2014-01-24 09:33:04</th>\n",
       "      <td>18433410.0</td>\n",
       "      <td>116.8718</td>\n",
       "      <td>9397031.0</td>\n",
       "      <td>74.80031</td>\n",
       "      <td>0.0</td>\n",
       "    </tr>\n",
       "    <tr>\n",
       "      <th>2014-01-24 09:33:05</th>\n",
       "      <td>18433410.0</td>\n",
       "      <td>116.8718</td>\n",
       "      <td>9397032.0</td>\n",
       "      <td>74.80031</td>\n",
       "      <td>0.0</td>\n",
       "    </tr>\n",
       "    <tr>\n",
       "      <th>2014-01-24 09:33:06</th>\n",
       "      <td>18433410.0</td>\n",
       "      <td>116.8718</td>\n",
       "      <td>9397033.0</td>\n",
       "      <td>74.80031</td>\n",
       "      <td>0.0</td>\n",
       "    </tr>\n",
       "    <tr>\n",
       "      <th>2014-01-24 09:33:07</th>\n",
       "      <td>18433410.0</td>\n",
       "      <td>116.8718</td>\n",
       "      <td>9397033.0</td>\n",
       "      <td>74.80031</td>\n",
       "      <td>0.0</td>\n",
       "    </tr>\n",
       "    <tr>\n",
       "      <th>...</th>\n",
       "      <td>...</td>\n",
       "      <td>...</td>\n",
       "      <td>...</td>\n",
       "      <td>...</td>\n",
       "      <td>...</td>\n",
       "    </tr>\n",
       "    <tr>\n",
       "      <th>2019-04-03 14:59:56</th>\n",
       "      <td>8489354.0</td>\n",
       "      <td>109.7213</td>\n",
       "      <td>1496222.0</td>\n",
       "      <td>73.38219</td>\n",
       "      <td>7.0</td>\n",
       "    </tr>\n",
       "    <tr>\n",
       "      <th>2019-04-03 14:59:57</th>\n",
       "      <td>8489349.0</td>\n",
       "      <td>109.7212</td>\n",
       "      <td>1495828.0</td>\n",
       "      <td>73.38310</td>\n",
       "      <td>7.0</td>\n",
       "    </tr>\n",
       "    <tr>\n",
       "      <th>2019-04-03 14:59:58</th>\n",
       "      <td>8489344.0</td>\n",
       "      <td>109.7210</td>\n",
       "      <td>1495433.0</td>\n",
       "      <td>73.38401</td>\n",
       "      <td>7.0</td>\n",
       "    </tr>\n",
       "    <tr>\n",
       "      <th>2019-04-03 14:59:59</th>\n",
       "      <td>8489338.0</td>\n",
       "      <td>109.7209</td>\n",
       "      <td>1495039.0</td>\n",
       "      <td>73.38493</td>\n",
       "      <td>7.0</td>\n",
       "    </tr>\n",
       "    <tr>\n",
       "      <th>2019-04-03 15:00:00</th>\n",
       "      <td>8489333.0</td>\n",
       "      <td>109.7207</td>\n",
       "      <td>1494645.0</td>\n",
       "      <td>73.38583</td>\n",
       "      <td>7.0</td>\n",
       "    </tr>\n",
       "  </tbody>\n",
       "</table>\n",
       "<p>977733 rows × 5 columns</p>\n",
       "</div>"
      ],
      "text/plain": [
       "                          P-TPT     T-TPT  P-MON-CKP  T-JUS-CKP  class\n",
       "timestamp                                                             \n",
       "2014-01-24 09:33:03  18433410.0  116.8718  9397031.0   74.80031    0.0\n",
       "2014-01-24 09:33:04  18433410.0  116.8718  9397031.0   74.80031    0.0\n",
       "2014-01-24 09:33:05  18433410.0  116.8718  9397032.0   74.80031    0.0\n",
       "2014-01-24 09:33:06  18433410.0  116.8718  9397033.0   74.80031    0.0\n",
       "2014-01-24 09:33:07  18433410.0  116.8718  9397033.0   74.80031    0.0\n",
       "...                         ...       ...        ...        ...    ...\n",
       "2019-04-03 14:59:56   8489354.0  109.7213  1496222.0   73.38219    7.0\n",
       "2019-04-03 14:59:57   8489349.0  109.7212  1495828.0   73.38310    7.0\n",
       "2019-04-03 14:59:58   8489344.0  109.7210  1495433.0   73.38401    7.0\n",
       "2019-04-03 14:59:59   8489338.0  109.7209  1495039.0   73.38493    7.0\n",
       "2019-04-03 15:00:00   8489333.0  109.7207  1494645.0   73.38583    7.0\n",
       "\n",
       "[977733 rows x 5 columns]"
      ]
     },
     "execution_count": 13,
     "metadata": {},
     "output_type": "execute_result"
    }
   ],
   "source": [
    "df_preprocessing"
   ]
  },
  {
   "cell_type": "code",
   "execution_count": 14,
   "metadata": {},
   "outputs": [],
   "source": [
    "def calcular_estatisticas_janela_otimizado(df, column_name, window_size):\n",
    "    # Calcular os índices de início e fim da janela para cada linha\n",
    "    indices_inicio_janela = np.arange(len(df) - window_size + 1)\n",
    "    indices_fim_janela = indices_inicio_janela + window_size\n",
    "    \n",
    "    # Calcular as estatísticas para cada janela de uma vez\n",
    "    min_values = df[column_name].rolling(window=window_size, min_periods=1).min().iloc[indices_fim_janela - 1].values\n",
    "    max_values = df[column_name].rolling(window=window_size, min_periods=1).max().iloc[indices_fim_janela - 1].values\n",
    "    mean_values = df[column_name].rolling(window=window_size, min_periods=1).mean().iloc[indices_fim_janela - 1].values\n",
    "    \n",
    "    # Criar um novo DataFrame com as estatísticas calculadas\n",
    "    df_resultado = df.copy()\n",
    "    df_resultado[f'{column_name}_min'] = np.nan\n",
    "    df_resultado[f'{column_name}_max'] = np.nan\n",
    "    df_resultado[f'{column_name}_mean'] = np.nan\n",
    "    \n",
    "    df_resultado.iloc[window_size - 1:, df_resultado.columns.get_loc(f'{column_name}_min')] = min_values\n",
    "    df_resultado.iloc[window_size - 1:, df_resultado.columns.get_loc(f'{column_name}_max')] = max_values\n",
    "    df_resultado.iloc[window_size - 1:, df_resultado.columns.get_loc(f'{column_name}_mean')] = mean_values\n",
    "    \n",
    "    return df_resultado"
   ]
  },
  {
   "cell_type": "code",
   "execution_count": 15,
   "metadata": {},
   "outputs": [
    {
     "data": {
      "text/html": [
       "<div>\n",
       "<style scoped>\n",
       "    .dataframe tbody tr th:only-of-type {\n",
       "        vertical-align: middle;\n",
       "    }\n",
       "\n",
       "    .dataframe tbody tr th {\n",
       "        vertical-align: top;\n",
       "    }\n",
       "\n",
       "    .dataframe thead th {\n",
       "        text-align: right;\n",
       "    }\n",
       "</style>\n",
       "<table border=\"1\" class=\"dataframe\">\n",
       "  <thead>\n",
       "    <tr style=\"text-align: right;\">\n",
       "      <th></th>\n",
       "      <th>P-TPT</th>\n",
       "      <th>T-TPT</th>\n",
       "      <th>P-MON-CKP</th>\n",
       "      <th>T-JUS-CKP</th>\n",
       "      <th>class</th>\n",
       "    </tr>\n",
       "    <tr>\n",
       "      <th>timestamp</th>\n",
       "      <th></th>\n",
       "      <th></th>\n",
       "      <th></th>\n",
       "      <th></th>\n",
       "      <th></th>\n",
       "    </tr>\n",
       "  </thead>\n",
       "  <tbody>\n",
       "    <tr>\n",
       "      <th>2014-01-24 09:33:03</th>\n",
       "      <td>18433410.0</td>\n",
       "      <td>116.8718</td>\n",
       "      <td>9397031.0</td>\n",
       "      <td>74.80031</td>\n",
       "      <td>0.0</td>\n",
       "    </tr>\n",
       "    <tr>\n",
       "      <th>2014-01-24 09:33:04</th>\n",
       "      <td>18433410.0</td>\n",
       "      <td>116.8718</td>\n",
       "      <td>9397031.0</td>\n",
       "      <td>74.80031</td>\n",
       "      <td>0.0</td>\n",
       "    </tr>\n",
       "    <tr>\n",
       "      <th>2014-01-24 09:33:05</th>\n",
       "      <td>18433410.0</td>\n",
       "      <td>116.8718</td>\n",
       "      <td>9397032.0</td>\n",
       "      <td>74.80031</td>\n",
       "      <td>0.0</td>\n",
       "    </tr>\n",
       "    <tr>\n",
       "      <th>2014-01-24 09:33:06</th>\n",
       "      <td>18433410.0</td>\n",
       "      <td>116.8718</td>\n",
       "      <td>9397033.0</td>\n",
       "      <td>74.80031</td>\n",
       "      <td>0.0</td>\n",
       "    </tr>\n",
       "    <tr>\n",
       "      <th>2014-01-24 09:33:07</th>\n",
       "      <td>18433410.0</td>\n",
       "      <td>116.8718</td>\n",
       "      <td>9397033.0</td>\n",
       "      <td>74.80031</td>\n",
       "      <td>0.0</td>\n",
       "    </tr>\n",
       "    <tr>\n",
       "      <th>...</th>\n",
       "      <td>...</td>\n",
       "      <td>...</td>\n",
       "      <td>...</td>\n",
       "      <td>...</td>\n",
       "      <td>...</td>\n",
       "    </tr>\n",
       "    <tr>\n",
       "      <th>2019-04-03 14:59:56</th>\n",
       "      <td>8489354.0</td>\n",
       "      <td>109.7213</td>\n",
       "      <td>1496222.0</td>\n",
       "      <td>73.38219</td>\n",
       "      <td>7.0</td>\n",
       "    </tr>\n",
       "    <tr>\n",
       "      <th>2019-04-03 14:59:57</th>\n",
       "      <td>8489349.0</td>\n",
       "      <td>109.7212</td>\n",
       "      <td>1495828.0</td>\n",
       "      <td>73.38310</td>\n",
       "      <td>7.0</td>\n",
       "    </tr>\n",
       "    <tr>\n",
       "      <th>2019-04-03 14:59:58</th>\n",
       "      <td>8489344.0</td>\n",
       "      <td>109.7210</td>\n",
       "      <td>1495433.0</td>\n",
       "      <td>73.38401</td>\n",
       "      <td>7.0</td>\n",
       "    </tr>\n",
       "    <tr>\n",
       "      <th>2019-04-03 14:59:59</th>\n",
       "      <td>8489338.0</td>\n",
       "      <td>109.7209</td>\n",
       "      <td>1495039.0</td>\n",
       "      <td>73.38493</td>\n",
       "      <td>7.0</td>\n",
       "    </tr>\n",
       "    <tr>\n",
       "      <th>2019-04-03 15:00:00</th>\n",
       "      <td>8489333.0</td>\n",
       "      <td>109.7207</td>\n",
       "      <td>1494645.0</td>\n",
       "      <td>73.38583</td>\n",
       "      <td>7.0</td>\n",
       "    </tr>\n",
       "  </tbody>\n",
       "</table>\n",
       "<p>977733 rows × 5 columns</p>\n",
       "</div>"
      ],
      "text/plain": [
       "                          P-TPT     T-TPT  P-MON-CKP  T-JUS-CKP  class\n",
       "timestamp                                                             \n",
       "2014-01-24 09:33:03  18433410.0  116.8718  9397031.0   74.80031    0.0\n",
       "2014-01-24 09:33:04  18433410.0  116.8718  9397031.0   74.80031    0.0\n",
       "2014-01-24 09:33:05  18433410.0  116.8718  9397032.0   74.80031    0.0\n",
       "2014-01-24 09:33:06  18433410.0  116.8718  9397033.0   74.80031    0.0\n",
       "2014-01-24 09:33:07  18433410.0  116.8718  9397033.0   74.80031    0.0\n",
       "...                         ...       ...        ...        ...    ...\n",
       "2019-04-03 14:59:56   8489354.0  109.7213  1496222.0   73.38219    7.0\n",
       "2019-04-03 14:59:57   8489349.0  109.7212  1495828.0   73.38310    7.0\n",
       "2019-04-03 14:59:58   8489344.0  109.7210  1495433.0   73.38401    7.0\n",
       "2019-04-03 14:59:59   8489338.0  109.7209  1495039.0   73.38493    7.0\n",
       "2019-04-03 15:00:00   8489333.0  109.7207  1494645.0   73.38583    7.0\n",
       "\n",
       "[977733 rows x 5 columns]"
      ]
     },
     "execution_count": 15,
     "metadata": {},
     "output_type": "execute_result"
    }
   ],
   "source": [
    "df_preprocessing"
   ]
  },
  {
   "cell_type": "code",
   "execution_count": 16,
   "metadata": {},
   "outputs": [
    {
     "data": {
      "text/plain": [
       "Index(['P-TPT', 'T-TPT', 'P-MON-CKP', 'T-JUS-CKP', 'class'], dtype='object')"
      ]
     },
     "execution_count": 16,
     "metadata": {},
     "output_type": "execute_result"
    }
   ],
   "source": [
    "df_preprocessing.columns"
   ]
  },
  {
   "cell_type": "code",
   "execution_count": 17,
   "metadata": {},
   "outputs": [],
   "source": [
    "#df_preprocessing = calcular_estatisticas_janela_otimizado(df_preprocessing.copy(), \"T-TPT\", 180)\n",
    "#df_preprocessing = calcular_estatisticas_janela_otimizado(df_preprocessing.copy(), 'P-TPT', 180)\n",
    "# df_preprocessing = calcular_estatisticas_janela_otimizado(df_preprocessing.copy(), 'T-JUS-CKP', 180)"
   ]
  },
  {
   "cell_type": "code",
   "execution_count": 18,
   "metadata": {},
   "outputs": [],
   "source": [
    "def atrasar_variavel(df, column_name, window_size):\n",
    "    df_resultado = df.copy()\n",
    "    \n",
    "    # Renomear a coluna alvo\n",
    "    df_resultado.rename(columns={column_name: f'{column_name} (t)'}, inplace=True)\n",
    "    \n",
    "    # Atrasar a variável em uma janela de tamanho window_size\n",
    "    for i in range(1, window_size + 1):\n",
    "        df_resultado[f'{column_name} (t-{i})'] = df[column_name].shift(i)\n",
    "    \n",
    "    return df_resultado\n"
   ]
  },
  {
   "cell_type": "code",
   "execution_count": 19,
   "metadata": {},
   "outputs": [],
   "source": [
    "#df_preprocessing = atrasar_variavel(df_preprocessing.copy(), \"T-TPT\", 180)\n",
    "#df_preprocessing = atrasar_variavel(df_preprocessing.copy(), \"P-TPT\", 180)\n",
    "#df_preprocessing = atrasar_variavel(df_preprocessing.copy(), \"T-JUS-CKP\", 180)"
   ]
  },
  {
   "cell_type": "code",
   "execution_count": 20,
   "metadata": {},
   "outputs": [
    {
     "data": {
      "text/html": [
       "<div>\n",
       "<style scoped>\n",
       "    .dataframe tbody tr th:only-of-type {\n",
       "        vertical-align: middle;\n",
       "    }\n",
       "\n",
       "    .dataframe tbody tr th {\n",
       "        vertical-align: top;\n",
       "    }\n",
       "\n",
       "    .dataframe thead th {\n",
       "        text-align: right;\n",
       "    }\n",
       "</style>\n",
       "<table border=\"1\" class=\"dataframe\">\n",
       "  <thead>\n",
       "    <tr style=\"text-align: right;\">\n",
       "      <th></th>\n",
       "      <th>P-TPT</th>\n",
       "      <th>T-TPT</th>\n",
       "      <th>P-MON-CKP</th>\n",
       "      <th>T-JUS-CKP</th>\n",
       "      <th>class</th>\n",
       "    </tr>\n",
       "    <tr>\n",
       "      <th>timestamp</th>\n",
       "      <th></th>\n",
       "      <th></th>\n",
       "      <th></th>\n",
       "      <th></th>\n",
       "      <th></th>\n",
       "    </tr>\n",
       "  </thead>\n",
       "  <tbody>\n",
       "    <tr>\n",
       "      <th>2014-01-24 09:33:03</th>\n",
       "      <td>18433410.0</td>\n",
       "      <td>116.8718</td>\n",
       "      <td>9397031.0</td>\n",
       "      <td>74.80031</td>\n",
       "      <td>0.0</td>\n",
       "    </tr>\n",
       "    <tr>\n",
       "      <th>2014-01-24 09:33:04</th>\n",
       "      <td>18433410.0</td>\n",
       "      <td>116.8718</td>\n",
       "      <td>9397031.0</td>\n",
       "      <td>74.80031</td>\n",
       "      <td>0.0</td>\n",
       "    </tr>\n",
       "    <tr>\n",
       "      <th>2014-01-24 09:33:05</th>\n",
       "      <td>18433410.0</td>\n",
       "      <td>116.8718</td>\n",
       "      <td>9397032.0</td>\n",
       "      <td>74.80031</td>\n",
       "      <td>0.0</td>\n",
       "    </tr>\n",
       "    <tr>\n",
       "      <th>2014-01-24 09:33:06</th>\n",
       "      <td>18433410.0</td>\n",
       "      <td>116.8718</td>\n",
       "      <td>9397033.0</td>\n",
       "      <td>74.80031</td>\n",
       "      <td>0.0</td>\n",
       "    </tr>\n",
       "    <tr>\n",
       "      <th>2014-01-24 09:33:07</th>\n",
       "      <td>18433410.0</td>\n",
       "      <td>116.8718</td>\n",
       "      <td>9397033.0</td>\n",
       "      <td>74.80031</td>\n",
       "      <td>0.0</td>\n",
       "    </tr>\n",
       "    <tr>\n",
       "      <th>...</th>\n",
       "      <td>...</td>\n",
       "      <td>...</td>\n",
       "      <td>...</td>\n",
       "      <td>...</td>\n",
       "      <td>...</td>\n",
       "    </tr>\n",
       "    <tr>\n",
       "      <th>2019-04-03 14:59:56</th>\n",
       "      <td>8489354.0</td>\n",
       "      <td>109.7213</td>\n",
       "      <td>1496222.0</td>\n",
       "      <td>73.38219</td>\n",
       "      <td>7.0</td>\n",
       "    </tr>\n",
       "    <tr>\n",
       "      <th>2019-04-03 14:59:57</th>\n",
       "      <td>8489349.0</td>\n",
       "      <td>109.7212</td>\n",
       "      <td>1495828.0</td>\n",
       "      <td>73.38310</td>\n",
       "      <td>7.0</td>\n",
       "    </tr>\n",
       "    <tr>\n",
       "      <th>2019-04-03 14:59:58</th>\n",
       "      <td>8489344.0</td>\n",
       "      <td>109.7210</td>\n",
       "      <td>1495433.0</td>\n",
       "      <td>73.38401</td>\n",
       "      <td>7.0</td>\n",
       "    </tr>\n",
       "    <tr>\n",
       "      <th>2019-04-03 14:59:59</th>\n",
       "      <td>8489338.0</td>\n",
       "      <td>109.7209</td>\n",
       "      <td>1495039.0</td>\n",
       "      <td>73.38493</td>\n",
       "      <td>7.0</td>\n",
       "    </tr>\n",
       "    <tr>\n",
       "      <th>2019-04-03 15:00:00</th>\n",
       "      <td>8489333.0</td>\n",
       "      <td>109.7207</td>\n",
       "      <td>1494645.0</td>\n",
       "      <td>73.38583</td>\n",
       "      <td>7.0</td>\n",
       "    </tr>\n",
       "  </tbody>\n",
       "</table>\n",
       "<p>977733 rows × 5 columns</p>\n",
       "</div>"
      ],
      "text/plain": [
       "                          P-TPT     T-TPT  P-MON-CKP  T-JUS-CKP  class\n",
       "timestamp                                                             \n",
       "2014-01-24 09:33:03  18433410.0  116.8718  9397031.0   74.80031    0.0\n",
       "2014-01-24 09:33:04  18433410.0  116.8718  9397031.0   74.80031    0.0\n",
       "2014-01-24 09:33:05  18433410.0  116.8718  9397032.0   74.80031    0.0\n",
       "2014-01-24 09:33:06  18433410.0  116.8718  9397033.0   74.80031    0.0\n",
       "2014-01-24 09:33:07  18433410.0  116.8718  9397033.0   74.80031    0.0\n",
       "...                         ...       ...        ...        ...    ...\n",
       "2019-04-03 14:59:56   8489354.0  109.7213  1496222.0   73.38219    7.0\n",
       "2019-04-03 14:59:57   8489349.0  109.7212  1495828.0   73.38310    7.0\n",
       "2019-04-03 14:59:58   8489344.0  109.7210  1495433.0   73.38401    7.0\n",
       "2019-04-03 14:59:59   8489338.0  109.7209  1495039.0   73.38493    7.0\n",
       "2019-04-03 15:00:00   8489333.0  109.7207  1494645.0   73.38583    7.0\n",
       "\n",
       "[977733 rows x 5 columns]"
      ]
     },
     "execution_count": 20,
     "metadata": {},
     "output_type": "execute_result"
    }
   ],
   "source": [
    "df_preprocessing"
   ]
  },
  {
   "cell_type": "code",
   "execution_count": 21,
   "metadata": {},
   "outputs": [],
   "source": [
    "df_preprocessing = df_preprocessing.dropna()"
   ]
  },
  {
   "cell_type": "code",
   "execution_count": 22,
   "metadata": {},
   "outputs": [
    {
     "data": {
      "text/plain": [
       "(977733, 5)"
      ]
     },
     "execution_count": 22,
     "metadata": {},
     "output_type": "execute_result"
    }
   ],
   "source": [
    "df_preprocessing.shape"
   ]
  },
  {
   "cell_type": "code",
   "execution_count": 23,
   "metadata": {},
   "outputs": [
    {
     "data": {
      "text/plain": [
       "class\n",
       "0.0    32.679781\n",
       "5.0    30.983203\n",
       "7.0    29.009351\n",
       "1.0     4.797527\n",
       "6.0     1.810310\n",
       "2.0     0.719828\n",
       "Name: count, dtype: float64"
      ]
     },
     "execution_count": 23,
     "metadata": {},
     "output_type": "execute_result"
    }
   ],
   "source": [
    "contagem_classes = df_preprocessing['class'].value_counts()\n",
    "\n",
    "# Calcular a porcentagem de cada classe\n",
    "porcentagem_classes = contagem_classes / len(df_preprocessing) * 100\n",
    "porcentagem_classes"
   ]
  },
  {
   "cell_type": "code",
   "execution_count": 24,
   "metadata": {},
   "outputs": [],
   "source": [
    "#df_preprocessing[\"class\"] = df_preprocessing[\"class\"].replace(101, 1)"
   ]
  },
  {
   "cell_type": "code",
   "execution_count": 25,
   "metadata": {},
   "outputs": [
    {
     "data": {
      "text/plain": [
       "class\n",
       "0.0    32.679781\n",
       "5.0    30.983203\n",
       "7.0    29.009351\n",
       "1.0     4.797527\n",
       "6.0     1.810310\n",
       "2.0     0.719828\n",
       "Name: count, dtype: float64"
      ]
     },
     "execution_count": 25,
     "metadata": {},
     "output_type": "execute_result"
    }
   ],
   "source": [
    "contagem_classes = df_preprocessing['class'].value_counts()\n",
    "\n",
    "# Calcular a porcentagem de cada classe\n",
    "porcentagem_classes = contagem_classes / len(df_preprocessing) * 100\n",
    "porcentagem_classes"
   ]
  },
  {
   "cell_type": "code",
   "execution_count": 26,
   "metadata": {},
   "outputs": [
    {
     "data": {
      "text/plain": [
       "Index(['P-TPT', 'T-TPT', 'P-MON-CKP', 'T-JUS-CKP', 'class'], dtype='object')"
      ]
     },
     "execution_count": 26,
     "metadata": {},
     "output_type": "execute_result"
    }
   ],
   "source": [
    "df_preprocessing.columns"
   ]
  },
  {
   "cell_type": "code",
   "execution_count": 27,
   "metadata": {},
   "outputs": [],
   "source": [
    "#plot_two_variables(df_preprocessing, 'P-TPT', 'T-TPT', binary_column=\"class\")"
   ]
  },
  {
   "cell_type": "code",
   "execution_count": 28,
   "metadata": {},
   "outputs": [],
   "source": [
    "def kmeans_six_variables(X_pca, n_clusters=3):\n",
    "    \"\"\"\n",
    "    Aplica o algoritmo K-means para agrupar seis variáveis de um DataFrame após a redução de dimensionalidade com PCA.\n",
    "\n",
    "    Parâmetros:\n",
    "        - df: DataFrame pandas contendo os dados.\n",
    "        - n_clusters: Número de clusters (padrão é 3).\n",
    "    \"\"\"\n",
    "    # Aplica PCA para reduzir a dimensionalidade para 2 componentes\n",
    "    # Aplica o algoritmo K-means\n",
    "    kmeans = KMeans(n_clusters=n_clusters)\n",
    "    kmeans.fit(X_pca)\n",
    "\n",
    "    # Plota os grupos\n",
    "    plt.figure(figsize=(10, 6))\n",
    "    plt.scatter(X_pca[:, 0], X_pca[:, 1], c=kmeans.labels_, cmap='viridis', alpha=0.5)\n",
    "    plt.scatter(kmeans.cluster_centers_[:, 0], kmeans.cluster_centers_[:, 1], marker='x', s=100, color='red')\n",
    "    plt.xlabel('PC1')\n",
    "    plt.ylabel('PC2')\n",
    "    plt.title('K-means Clustering após Redução de Dimensionalidade')\n",
    "    plt.grid(True)\n",
    "    plt.show()"
   ]
  },
  {
   "cell_type": "code",
   "execution_count": 29,
   "metadata": {},
   "outputs": [
    {
     "name": "stderr",
     "output_type": "stream",
     "text": [
      "c:\\Users\\marce\\Documents\\0_python_env\\venv3WPetrobras\\lib\\site-packages\\sklearn\\cluster\\_kmeans.py:1416: FutureWarning: The default value of `n_init` will change from 10 to 'auto' in 1.4. Set the value of `n_init` explicitly to suppress the warning\n",
      "  super()._check_params_vs_input(X, default_n_init=10)\n"
     ]
    },
    {
     "data": {
      "image/png": "[encoded data removed]",
      "text/plain": [
       "<Figure size 1000x600 with 1 Axes>"
      ]
     },
     "metadata": {},
     "output_type": "display_data"
    }
   ],
   "source": [
    "n_components = 2\n",
    "pca = PCA(n_components=n_components)\n",
    "scaler = StandardScaler()\n",
    "X = scaler.fit_transform(df_preprocessing.drop(columns=\"class\"))\n",
    "X_pca = pca.fit_transform(X)\n",
    "kmeans_six_variables(X_pca, n_clusters=6)"
   ]
  },
  {
   "cell_type": "code",
   "execution_count": 30,
   "metadata": {},
   "outputs": [],
   "source": [
    "list_comp = [f\"COMP_{x+1}\"  for x in range(n_components)]\n",
    "df_pca = pd.DataFrame(X_pca, columns=list_comp)\n",
    "df_pca[\"class\"] = df_preprocessing[\"class\"].values"
   ]
  },
  {
   "cell_type": "code",
   "execution_count": 31,
   "metadata": {},
   "outputs": [],
   "source": [
    "# df_test = pd.DataFrame(X, columns=[\"A\",\"B\", \"C\", \"D\"])\n",
    "# df_test[\"class\"] = df_preprocessing[\"class\"].values\n",
    "# plot_two_variables(df_test, 'A', 'B', binary_column=\"class\")"
   ]
  },
  {
   "cell_type": "code",
   "execution_count": 32,
   "metadata": {},
   "outputs": [
    {
     "data": {
      "image/png": "[encoded data removed]",
      "text/plain": [
       "<Figure size 1000x600 with 1 Axes>"
      ]
     },
     "metadata": {},
     "output_type": "display_data"
    }
   ],
   "source": [
    "plot_two_variables(df_pca, 'COMP_1', 'COMP_2', binary_column=\"class\")"
   ]
  },
  {
   "cell_type": "code",
   "execution_count": null,
   "metadata": {},
   "outputs": [],
   "source": [
    "# Aplica o algoritmo DBSCAN\n",
    "eps=0.05\n",
    "min_samples=4\n",
    "dbscan = DBSCAN(eps=eps, min_samples=min_samples, n_jobs=-1)\n",
    "dbscan.fit(df_pca.drop(columns=[\"class\"]))\n",
    "\n",
    "# Plota os pontos\n",
    "plt.figure(figsize=(10, 6))\n",
    "plt.scatter(df_pca[\"COMP_1\"], df_pca[\"COMP_2\"], c=dbscan.labels_, cmap='viridis', alpha=0.5)\n",
    "plt.xlabel(\"COMP_1\")\n",
    "plt.ylabel(\"COMP_2\")\n",
    "plt.title(f'DBSCAN: {\"COMP_1\"} vs {\"COMP_2\"}')\n",
    "plt.grid(True)\n",
    "plt.show()"
   ]
  },
  {
   "cell_type": "markdown",
   "metadata": {},
   "source": [
    "# Conclusão\n",
    "\n",
    "- Dividiu bem, mas difícil dizer quem é falha e quem não é"
   ]
  }
 ],
 "metadata": {
  "kernelspec": {
   "display_name": "venv3WPetrobras",
   "language": "python",
   "name": "venv3wpetrobras"
  },
  "language_info": {
   "codemirror_mode": {
    "name": "ipython",
    "version": 3
   },
   "file_extension": ".py",
   "mimetype": "text/x-python",
   "name": "python",
   "nbconvert_exporter": "python",
   "pygments_lexer": "ipython3",
   "version": "3.8.9"
  }
 },
 "nbformat": 4,
 "nbformat_minor": 2
}
