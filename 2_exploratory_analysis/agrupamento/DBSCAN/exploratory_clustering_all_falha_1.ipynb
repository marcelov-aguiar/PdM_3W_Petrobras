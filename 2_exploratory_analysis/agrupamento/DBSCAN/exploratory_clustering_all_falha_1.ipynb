{
 "cells": [
  {
   "cell_type": "code",
   "execution_count": 1,
   "metadata": {},
   "outputs": [
    {
     "data": {
      "text/plain": [
       "'Módulo util importado com sucesso.'"
      ]
     },
     "execution_count": 1,
     "metadata": {},
     "output_type": "execute_result"
    }
   ],
   "source": [
    "import pandas as pd\n",
    "import os\n",
    "import sys\n",
    "import matplotlib.pyplot as plt\n",
    "import seaborn as sns\n",
    "import util\n",
    "from pathlib import Path\n",
    "import numpy as np\n",
    "from sklearn.cluster import KMeans\n",
    "from sklearn.cluster import DBSCAN\n",
    "from sklearn.decomposition import PCA\n",
    "from sklearn.metrics import silhouette_score\n",
    "from sklearn.preprocessing import StandardScaler\n",
    "from class_manipulates_path import ManipulatePath\n",
    "from class_preprocessing_refactor import Preprocessing\n",
    "from class_format_data import FormatData\n",
    "util.init()"
   ]
  },
  {
   "cell_type": "code",
   "execution_count": 2,
   "metadata": {},
   "outputs": [],
   "source": [
    "def plot_variable(df, column_name):\n",
    "    \"\"\"\n",
    "    Plota um gráfico de dispersão para uma variável de um DataFrame.\n",
    "\n",
    "    Parâmetros:\n",
    "        - df: DataFrame pandas contendo os dados.\n",
    "        - column_name: Nome da coluna que você deseja plotar.\n",
    "        - intervalos: Lista de intervalos para plotar linhas verticais.\n",
    "    \"\"\"\n",
    "    plt.figure(figsize=(20, 10))\n",
    "    plt.scatter(df.index.values, df[column_name].values, color='darkcyan', alpha=0.5)\n",
    "    plt.xlabel('Índice')\n",
    "    plt.ylabel(column_name)\n",
    "    plt.title(f'Gráfico de dispersão para a variável \"{column_name}\"')\n",
    "\n",
    "    plt.show()"
   ]
  },
  {
   "cell_type": "code",
   "execution_count": 3,
   "metadata": {},
   "outputs": [],
   "source": [
    "def class_and_file_generator(data_path, real=False, simulated=False, drawn=False):\n",
    "    for class_path in data_path.iterdir():\n",
    "        if class_path.is_dir():\n",
    "            class_code = int(class_path.stem)\n",
    "            for instance_path in class_path.iterdir():\n",
    "                if (instance_path.suffix == '.csv'):\n",
    "                    if (simulated and instance_path.stem.startswith('SIMULATED')) or \\\n",
    "                       (drawn and instance_path.stem.startswith('DRAWN')) or \\\n",
    "                       (real and (not instance_path.stem.startswith('SIMULATED')) and \\\n",
    "                       (not instance_path.stem.startswith('DRAWN'))):\n",
    "                        yield class_code, instance_path"
   ]
  },
  {
   "cell_type": "code",
   "execution_count": 4,
   "metadata": {},
   "outputs": [],
   "source": [
    "def plot_two_variables(df, var1, var2, binary_column=None):\n",
    "    \"\"\"\n",
    "    Plota um gráfico de dispersão para duas variáveis de um DataFrame, colorindo os pontos conforme uma coluna binária, se fornecida.\n",
    "\n",
    "    Parâmetros:\n",
    "        - df: DataFrame pandas contendo os dados.\n",
    "        - var1: Nome da primeira variável (eixo x).\n",
    "        - var2: Nome da segunda variável (eixo y).\n",
    "        - binary_column: Nome da coluna binária usada para colorir os pontos (opcional).\n",
    "    \"\"\"\n",
    "    plt.figure(figsize=(10, 6))\n",
    "\n",
    "    if binary_column is not None:\n",
    "        # Obtendo os valores únicos da coluna binária\n",
    "        classes = df[binary_column].unique()\n",
    "\n",
    "        # Criando um mapeamento de classe para cor\n",
    "        colors = {cls: plt.cm.tab10(i) for i, cls in enumerate(classes)}\n",
    "\n",
    "        # Colorindo os pontos de acordo com as classes\n",
    "        for cls in classes:\n",
    "            df_cls = df[df[binary_column] == cls]\n",
    "            plt.scatter(df_cls[var1], df_cls[var2], color=colors[cls], label=cls, alpha=0.5)\n",
    "        \n",
    "        plt.legend(title=binary_column)\n",
    "    else:\n",
    "        plt.scatter(df[var1], df[var2], alpha=0.5)\n",
    "\n",
    "    plt.xlabel(var1)\n",
    "    plt.ylabel(var2)\n",
    "    plt.title(f'Gráfico de Dispersão: {var1} vs {var2}')\n",
    "    plt.grid(True)\n",
    "    plt.show()"
   ]
  },
  {
   "cell_type": "code",
   "execution_count": 5,
   "metadata": {},
   "outputs": [],
   "source": [
    "def plot_variavel_e_histograma(dataframe, nome_coluna):\n",
    "    # Verifica se a coluna existe no DataFrame\n",
    "    if nome_coluna not in dataframe.columns:\n",
    "        print(\"A coluna especificada não existe no DataFrame.\")\n",
    "        return\n",
    "    \n",
    "    # Plota a variável ao longo do tempo\n",
    "    plt.figure(figsize=(12, 5))\n",
    "    plt.subplot(1, 2, 1)\n",
    "    dataframe[nome_coluna].plot()\n",
    "    plt.title(\"Variação ao longo do tempo\")\n",
    "    plt.xlabel(\"Índice\")\n",
    "    plt.ylabel(nome_coluna)\n",
    "    \n",
    "    # Plota o histograma da variável\n",
    "    plt.subplot(1, 2, 2)\n",
    "    dataframe[nome_coluna].hist()\n",
    "    plt.title(\"Histograma\")\n",
    "    plt.xlabel(nome_coluna)\n",
    "    plt.ylabel(\"Frequência\")\n",
    "    \n",
    "    plt.tight_layout()\n",
    "    plt.show()"
   ]
  },
  {
   "cell_type": "code",
   "execution_count": 6,
   "metadata": {},
   "outputs": [],
   "source": [
    "def kmeans_two_variables(df, var1, var2, n_clusters=3):\n",
    "    \"\"\"\n",
    "    Aplica o algoritmo K-means para agrupar duas variáveis de um DataFrame.\n",
    "\n",
    "    Parâmetros:\n",
    "        - df: DataFrame pandas contendo os dados.\n",
    "        - var1: Nome da primeira variável.\n",
    "        - var2: Nome da segunda variável.\n",
    "        - n_clusters: Número de clusters (padrão é 3).\n",
    "    \"\"\"\n",
    "    # Seleciona as duas variáveis\n",
    "    X = df[[var1, var2]]\n",
    "\n",
    "    # Aplica o algoritmo K-means\n",
    "    kmeans = KMeans(n_clusters=n_clusters)\n",
    "    kmeans.fit(X)\n",
    "\n",
    "    # Obtém as coordenadas dos centroides\n",
    "    centroids = kmeans.cluster_centers_\n",
    "\n",
    "    # Plota os pontos e os centroides\n",
    "    plt.figure(figsize=(10, 6))\n",
    "    plt.scatter(X[var1], X[var2], c=kmeans.labels_, cmap='viridis', alpha=0.5)\n",
    "    plt.scatter(centroids[:, 0], centroids[:, 1], marker='x', s=100, color='red')\n",
    "    plt.xlabel(var1)\n",
    "    plt.ylabel(var2)\n",
    "    plt.title(f'K-means: {var1} vs {var2}')\n",
    "    plt.grid(True)\n",
    "    plt.show()"
   ]
  },
  {
   "cell_type": "code",
   "execution_count": 7,
   "metadata": {},
   "outputs": [],
   "source": [
    "manipulate_path = ManipulatePath()\n",
    "\n",
    "preprocessing = Preprocessing()\n",
    "\n",
    "format_data = FormatData()\n",
    "\n",
    "path_raw_data = manipulate_path.get_path_raw_data()\n",
    "\n",
    "abnormal_classes_codes = [1, 2, 5, 6, 7, 8]"
   ]
  },
  {
   "cell_type": "code",
   "execution_count": 8,
   "metadata": {},
   "outputs": [],
   "source": [
    "# Gets all real instances but maintains only those with any type of undesirable event\n",
    "real_instances = pd.DataFrame(class_and_file_generator(path_raw_data, \n",
    "                                                       real=True,\n",
    "                                                       simulated=False, \n",
    "                                                       drawn=False),\n",
    "                              columns=['class_code', 'instance_path'])\n",
    "real_instances = real_instances.loc[real_instances.iloc[:,0].isin(abnormal_classes_codes)].reset_index(drop=True)"
   ]
  },
  {
   "cell_type": "code",
   "execution_count": 9,
   "metadata": {},
   "outputs": [
    {
     "data": {
      "text/plain": [
       "WindowsPath('c:/Users/marce/Documents/MEGA/0_PUC-Rio/2_Periodo/2_Data Science/2_Trabalho_Final/3_3W/1_data/1_raw_data/1/WELL-00001_20140124093303.csv')"
      ]
     },
     "execution_count": 9,
     "metadata": {},
     "output_type": "execute_result"
    }
   ],
   "source": [
    "real_instances[real_instances[\"class_code\"] == 1][\"instance_path\"][0]"
   ]
  },
  {
   "cell_type": "code",
   "execution_count": 10,
   "metadata": {},
   "outputs": [
    {
     "name": "stdout",
     "output_type": "stream",
     "text": [
      "1 se repete 4603\n",
      "Index min 2014-01-24 09:33:03 index max 2014-01-25 01:47:30\n",
      "1 se repete 2929\n",
      "Index min 2014-01-26 16:19:44 index max 2014-01-26 23:00:00\n",
      "1 se repete 1205\n",
      "Index min 2017-07-31 18:09:30 index max 2017-08-01 20:45:00\n",
      "1 se repete 861\n",
      "Index min 2017-07-31 22:04:32 index max 2017-08-01 20:19:27\n",
      "1 se repete 819\n",
      "Index min 2018-06-17 20:02:57 index max 2018-06-18 11:00:00\n"
     ]
    }
   ],
   "source": [
    "falha = 1\n",
    "\n",
    "file_paths = real_instances[real_instances[\"class_code\"] == falha][\"instance_path\"].values\n",
    "df_output = pd.DataFrame()\n",
    "\n",
    "for file_path in file_paths:\n",
    "    df_data = pd.read_csv(file_path)\n",
    "\n",
    "    df_data = FormatData.set_index_dataframe(df_data=df_data,\n",
    "                                         column_name=\"timestamp\")\n",
    "    quantidade = (df_data['class'] == falha).sum()\n",
    "    print(f\"1 se repete {quantidade}\")\n",
    "    print(f\"Index min {df_data.index.min()} index max {df_data.index.max()}\")\n",
    "    \n",
    "    df_output = pd.concat([df_output, df_data], axis=0)"
   ]
  },
  {
   "cell_type": "code",
   "execution_count": 11,
   "metadata": {},
   "outputs": [
    {
     "data": {
      "text/html": [
       "<div>\n",
       "<style scoped>\n",
       "    .dataframe tbody tr th:only-of-type {\n",
       "        vertical-align: middle;\n",
       "    }\n",
       "\n",
       "    .dataframe tbody tr th {\n",
       "        vertical-align: top;\n",
       "    }\n",
       "\n",
       "    .dataframe thead th {\n",
       "        text-align: right;\n",
       "    }\n",
       "</style>\n",
       "<table border=\"1\" class=\"dataframe\">\n",
       "  <thead>\n",
       "    <tr style=\"text-align: right;\">\n",
       "      <th></th>\n",
       "      <th>P-PDG</th>\n",
       "      <th>P-TPT</th>\n",
       "      <th>T-TPT</th>\n",
       "      <th>P-MON-CKP</th>\n",
       "      <th>T-JUS-CKP</th>\n",
       "      <th>P-JUS-CKGL</th>\n",
       "      <th>T-JUS-CKGL</th>\n",
       "      <th>QGL</th>\n",
       "      <th>class</th>\n",
       "    </tr>\n",
       "    <tr>\n",
       "      <th>timestamp</th>\n",
       "      <th></th>\n",
       "      <th></th>\n",
       "      <th></th>\n",
       "      <th></th>\n",
       "      <th></th>\n",
       "      <th></th>\n",
       "      <th></th>\n",
       "      <th></th>\n",
       "      <th></th>\n",
       "    </tr>\n",
       "  </thead>\n",
       "  <tbody>\n",
       "    <tr>\n",
       "      <th>2014-01-24 09:33:03</th>\n",
       "      <td>0.000000e+00</td>\n",
       "      <td>18433410.0</td>\n",
       "      <td>116.8718</td>\n",
       "      <td>9397031.0</td>\n",
       "      <td>74.80031</td>\n",
       "      <td>-300917.8</td>\n",
       "      <td>NaN</td>\n",
       "      <td>0.0</td>\n",
       "      <td>0.0</td>\n",
       "    </tr>\n",
       "    <tr>\n",
       "      <th>2014-01-24 09:33:04</th>\n",
       "      <td>0.000000e+00</td>\n",
       "      <td>18433410.0</td>\n",
       "      <td>116.8718</td>\n",
       "      <td>9397031.0</td>\n",
       "      <td>74.80031</td>\n",
       "      <td>-300917.8</td>\n",
       "      <td>NaN</td>\n",
       "      <td>0.0</td>\n",
       "      <td>0.0</td>\n",
       "    </tr>\n",
       "    <tr>\n",
       "      <th>2014-01-24 09:33:05</th>\n",
       "      <td>0.000000e+00</td>\n",
       "      <td>18433410.0</td>\n",
       "      <td>116.8718</td>\n",
       "      <td>9397032.0</td>\n",
       "      <td>74.80031</td>\n",
       "      <td>-300917.8</td>\n",
       "      <td>NaN</td>\n",
       "      <td>0.0</td>\n",
       "      <td>0.0</td>\n",
       "    </tr>\n",
       "    <tr>\n",
       "      <th>2014-01-24 09:33:06</th>\n",
       "      <td>0.000000e+00</td>\n",
       "      <td>18433410.0</td>\n",
       "      <td>116.8718</td>\n",
       "      <td>9397033.0</td>\n",
       "      <td>74.80031</td>\n",
       "      <td>-300917.8</td>\n",
       "      <td>NaN</td>\n",
       "      <td>0.0</td>\n",
       "      <td>0.0</td>\n",
       "    </tr>\n",
       "    <tr>\n",
       "      <th>2014-01-24 09:33:07</th>\n",
       "      <td>0.000000e+00</td>\n",
       "      <td>18433410.0</td>\n",
       "      <td>116.8718</td>\n",
       "      <td>9397033.0</td>\n",
       "      <td>74.80031</td>\n",
       "      <td>-300917.8</td>\n",
       "      <td>NaN</td>\n",
       "      <td>0.0</td>\n",
       "      <td>0.0</td>\n",
       "    </tr>\n",
       "    <tr>\n",
       "      <th>...</th>\n",
       "      <td>...</td>\n",
       "      <td>...</td>\n",
       "      <td>...</td>\n",
       "      <td>...</td>\n",
       "      <td>...</td>\n",
       "      <td>...</td>\n",
       "      <td>...</td>\n",
       "      <td>...</td>\n",
       "      <td>...</td>\n",
       "    </tr>\n",
       "    <tr>\n",
       "      <th>2018-06-18 10:59:56</th>\n",
       "      <td>-1.180116e+42</td>\n",
       "      <td>20647810.0</td>\n",
       "      <td>118.2188</td>\n",
       "      <td>10136700.0</td>\n",
       "      <td>71.27952</td>\n",
       "      <td>4108865.0</td>\n",
       "      <td>NaN</td>\n",
       "      <td>0.0</td>\n",
       "      <td>1.0</td>\n",
       "    </tr>\n",
       "    <tr>\n",
       "      <th>2018-06-18 10:59:57</th>\n",
       "      <td>-1.180116e+42</td>\n",
       "      <td>20647810.0</td>\n",
       "      <td>118.2194</td>\n",
       "      <td>10137410.0</td>\n",
       "      <td>71.27949</td>\n",
       "      <td>4108866.0</td>\n",
       "      <td>NaN</td>\n",
       "      <td>0.0</td>\n",
       "      <td>1.0</td>\n",
       "    </tr>\n",
       "    <tr>\n",
       "      <th>2018-06-18 10:59:58</th>\n",
       "      <td>-1.180116e+42</td>\n",
       "      <td>20647810.0</td>\n",
       "      <td>118.2201</td>\n",
       "      <td>10138120.0</td>\n",
       "      <td>71.27946</td>\n",
       "      <td>4108866.0</td>\n",
       "      <td>NaN</td>\n",
       "      <td>0.0</td>\n",
       "      <td>1.0</td>\n",
       "    </tr>\n",
       "    <tr>\n",
       "      <th>2018-06-18 10:59:59</th>\n",
       "      <td>-1.180116e+42</td>\n",
       "      <td>20647810.0</td>\n",
       "      <td>118.2207</td>\n",
       "      <td>10138830.0</td>\n",
       "      <td>71.27944</td>\n",
       "      <td>4108867.0</td>\n",
       "      <td>NaN</td>\n",
       "      <td>0.0</td>\n",
       "      <td>1.0</td>\n",
       "    </tr>\n",
       "    <tr>\n",
       "      <th>2018-06-18 11:00:00</th>\n",
       "      <td>-1.180116e+42</td>\n",
       "      <td>20647810.0</td>\n",
       "      <td>118.2214</td>\n",
       "      <td>10139540.0</td>\n",
       "      <td>71.27942</td>\n",
       "      <td>4108867.0</td>\n",
       "      <td>NaN</td>\n",
       "      <td>0.0</td>\n",
       "      <td>1.0</td>\n",
       "    </tr>\n",
       "  </tbody>\n",
       "</table>\n",
       "<p>312136 rows × 9 columns</p>\n",
       "</div>"
      ],
      "text/plain": [
       "                            P-PDG       P-TPT     T-TPT   P-MON-CKP  \\\n",
       "timestamp                                                             \n",
       "2014-01-24 09:33:03  0.000000e+00  18433410.0  116.8718   9397031.0   \n",
       "2014-01-24 09:33:04  0.000000e+00  18433410.0  116.8718   9397031.0   \n",
       "2014-01-24 09:33:05  0.000000e+00  18433410.0  116.8718   9397032.0   \n",
       "2014-01-24 09:33:06  0.000000e+00  18433410.0  116.8718   9397033.0   \n",
       "2014-01-24 09:33:07  0.000000e+00  18433410.0  116.8718   9397033.0   \n",
       "...                           ...         ...       ...         ...   \n",
       "2018-06-18 10:59:56 -1.180116e+42  20647810.0  118.2188  10136700.0   \n",
       "2018-06-18 10:59:57 -1.180116e+42  20647810.0  118.2194  10137410.0   \n",
       "2018-06-18 10:59:58 -1.180116e+42  20647810.0  118.2201  10138120.0   \n",
       "2018-06-18 10:59:59 -1.180116e+42  20647810.0  118.2207  10138830.0   \n",
       "2018-06-18 11:00:00 -1.180116e+42  20647810.0  118.2214  10139540.0   \n",
       "\n",
       "                     T-JUS-CKP  P-JUS-CKGL  T-JUS-CKGL  QGL  class  \n",
       "timestamp                                                           \n",
       "2014-01-24 09:33:03   74.80031   -300917.8         NaN  0.0    0.0  \n",
       "2014-01-24 09:33:04   74.80031   -300917.8         NaN  0.0    0.0  \n",
       "2014-01-24 09:33:05   74.80031   -300917.8         NaN  0.0    0.0  \n",
       "2014-01-24 09:33:06   74.80031   -300917.8         NaN  0.0    0.0  \n",
       "2014-01-24 09:33:07   74.80031   -300917.8         NaN  0.0    0.0  \n",
       "...                        ...         ...         ...  ...    ...  \n",
       "2018-06-18 10:59:56   71.27952   4108865.0         NaN  0.0    1.0  \n",
       "2018-06-18 10:59:57   71.27949   4108866.0         NaN  0.0    1.0  \n",
       "2018-06-18 10:59:58   71.27946   4108866.0         NaN  0.0    1.0  \n",
       "2018-06-18 10:59:59   71.27944   4108867.0         NaN  0.0    1.0  \n",
       "2018-06-18 11:00:00   71.27942   4108867.0         NaN  0.0    1.0  \n",
       "\n",
       "[312136 rows x 9 columns]"
      ]
     },
     "execution_count": 11,
     "metadata": {},
     "output_type": "execute_result"
    }
   ],
   "source": [
    "df_output"
   ]
  },
  {
   "cell_type": "code",
   "execution_count": 12,
   "metadata": {},
   "outputs": [
    {
     "data": {
      "text/plain": [
       "(232040, 9)"
      ]
     },
     "execution_count": 12,
     "metadata": {},
     "output_type": "execute_result"
    }
   ],
   "source": [
    "df_output = df_output[~df_output.index.duplicated()]\n",
    "df_output.shape"
   ]
  },
  {
   "cell_type": "code",
   "execution_count": 13,
   "metadata": {},
   "outputs": [
    {
     "name": "stdout",
     "output_type": "stream",
     "text": [
      "P-PDG null data is 0.0\n",
      "P-TPT null data is 0.0\n",
      "T-TPT null data is 0.0\n",
      "P-MON-CKP null data is 0.0\n",
      "T-JUS-CKP null data is 0.0\n",
      "P-JUS-CKGL null data is 0.0\n",
      "T-JUS-CKGL null data is 100.0\n",
      "QGL null data is 0.0\n",
      "class null data is 4.459575935183589\n"
     ]
    }
   ],
   "source": [
    "for column_name in df_output.columns:\n",
    "    percent = Preprocessing.check_null_dataframe(df_data=df_output, column_name=column_name)\n",
    "    print(f\"{column_name} null data is {percent}\")"
   ]
  },
  {
   "cell_type": "code",
   "execution_count": 14,
   "metadata": {},
   "outputs": [
    {
     "data": {
      "text/html": [
       "<div>\n",
       "<style scoped>\n",
       "    .dataframe tbody tr th:only-of-type {\n",
       "        vertical-align: middle;\n",
       "    }\n",
       "\n",
       "    .dataframe tbody tr th {\n",
       "        vertical-align: top;\n",
       "    }\n",
       "\n",
       "    .dataframe thead th {\n",
       "        text-align: right;\n",
       "    }\n",
       "</style>\n",
       "<table border=\"1\" class=\"dataframe\">\n",
       "  <thead>\n",
       "    <tr style=\"text-align: right;\">\n",
       "      <th></th>\n",
       "      <th>P-PDG</th>\n",
       "      <th>P-TPT</th>\n",
       "      <th>T-TPT</th>\n",
       "      <th>P-MON-CKP</th>\n",
       "      <th>T-JUS-CKP</th>\n",
       "      <th>P-JUS-CKGL</th>\n",
       "      <th>QGL</th>\n",
       "      <th>class</th>\n",
       "    </tr>\n",
       "    <tr>\n",
       "      <th>timestamp</th>\n",
       "      <th></th>\n",
       "      <th></th>\n",
       "      <th></th>\n",
       "      <th></th>\n",
       "      <th></th>\n",
       "      <th></th>\n",
       "      <th></th>\n",
       "      <th></th>\n",
       "    </tr>\n",
       "  </thead>\n",
       "  <tbody>\n",
       "    <tr>\n",
       "      <th>2014-01-24 09:33:03</th>\n",
       "      <td>0.000000e+00</td>\n",
       "      <td>18433410.0</td>\n",
       "      <td>116.8718</td>\n",
       "      <td>9397031.0</td>\n",
       "      <td>74.80031</td>\n",
       "      <td>-300917.8</td>\n",
       "      <td>0.0</td>\n",
       "      <td>0.0</td>\n",
       "    </tr>\n",
       "    <tr>\n",
       "      <th>2014-01-24 09:33:04</th>\n",
       "      <td>0.000000e+00</td>\n",
       "      <td>18433410.0</td>\n",
       "      <td>116.8718</td>\n",
       "      <td>9397031.0</td>\n",
       "      <td>74.80031</td>\n",
       "      <td>-300917.8</td>\n",
       "      <td>0.0</td>\n",
       "      <td>0.0</td>\n",
       "    </tr>\n",
       "    <tr>\n",
       "      <th>2014-01-24 09:33:05</th>\n",
       "      <td>0.000000e+00</td>\n",
       "      <td>18433410.0</td>\n",
       "      <td>116.8718</td>\n",
       "      <td>9397032.0</td>\n",
       "      <td>74.80031</td>\n",
       "      <td>-300917.8</td>\n",
       "      <td>0.0</td>\n",
       "      <td>0.0</td>\n",
       "    </tr>\n",
       "    <tr>\n",
       "      <th>2014-01-24 09:33:06</th>\n",
       "      <td>0.000000e+00</td>\n",
       "      <td>18433410.0</td>\n",
       "      <td>116.8718</td>\n",
       "      <td>9397033.0</td>\n",
       "      <td>74.80031</td>\n",
       "      <td>-300917.8</td>\n",
       "      <td>0.0</td>\n",
       "      <td>0.0</td>\n",
       "    </tr>\n",
       "    <tr>\n",
       "      <th>2014-01-24 09:33:07</th>\n",
       "      <td>0.000000e+00</td>\n",
       "      <td>18433410.0</td>\n",
       "      <td>116.8718</td>\n",
       "      <td>9397033.0</td>\n",
       "      <td>74.80031</td>\n",
       "      <td>-300917.8</td>\n",
       "      <td>0.0</td>\n",
       "      <td>0.0</td>\n",
       "    </tr>\n",
       "    <tr>\n",
       "      <th>...</th>\n",
       "      <td>...</td>\n",
       "      <td>...</td>\n",
       "      <td>...</td>\n",
       "      <td>...</td>\n",
       "      <td>...</td>\n",
       "      <td>...</td>\n",
       "      <td>...</td>\n",
       "      <td>...</td>\n",
       "    </tr>\n",
       "    <tr>\n",
       "      <th>2018-06-18 10:59:56</th>\n",
       "      <td>-1.180116e+42</td>\n",
       "      <td>20647810.0</td>\n",
       "      <td>118.2188</td>\n",
       "      <td>10136700.0</td>\n",
       "      <td>71.27952</td>\n",
       "      <td>4108865.0</td>\n",
       "      <td>0.0</td>\n",
       "      <td>1.0</td>\n",
       "    </tr>\n",
       "    <tr>\n",
       "      <th>2018-06-18 10:59:57</th>\n",
       "      <td>-1.180116e+42</td>\n",
       "      <td>20647810.0</td>\n",
       "      <td>118.2194</td>\n",
       "      <td>10137410.0</td>\n",
       "      <td>71.27949</td>\n",
       "      <td>4108866.0</td>\n",
       "      <td>0.0</td>\n",
       "      <td>1.0</td>\n",
       "    </tr>\n",
       "    <tr>\n",
       "      <th>2018-06-18 10:59:58</th>\n",
       "      <td>-1.180116e+42</td>\n",
       "      <td>20647810.0</td>\n",
       "      <td>118.2201</td>\n",
       "      <td>10138120.0</td>\n",
       "      <td>71.27946</td>\n",
       "      <td>4108866.0</td>\n",
       "      <td>0.0</td>\n",
       "      <td>1.0</td>\n",
       "    </tr>\n",
       "    <tr>\n",
       "      <th>2018-06-18 10:59:59</th>\n",
       "      <td>-1.180116e+42</td>\n",
       "      <td>20647810.0</td>\n",
       "      <td>118.2207</td>\n",
       "      <td>10138830.0</td>\n",
       "      <td>71.27944</td>\n",
       "      <td>4108867.0</td>\n",
       "      <td>0.0</td>\n",
       "      <td>1.0</td>\n",
       "    </tr>\n",
       "    <tr>\n",
       "      <th>2018-06-18 11:00:00</th>\n",
       "      <td>-1.180116e+42</td>\n",
       "      <td>20647810.0</td>\n",
       "      <td>118.2214</td>\n",
       "      <td>10139540.0</td>\n",
       "      <td>71.27942</td>\n",
       "      <td>4108867.0</td>\n",
       "      <td>0.0</td>\n",
       "      <td>1.0</td>\n",
       "    </tr>\n",
       "  </tbody>\n",
       "</table>\n",
       "<p>232040 rows × 8 columns</p>\n",
       "</div>"
      ],
      "text/plain": [
       "                            P-PDG       P-TPT     T-TPT   P-MON-CKP  \\\n",
       "timestamp                                                             \n",
       "2014-01-24 09:33:03  0.000000e+00  18433410.0  116.8718   9397031.0   \n",
       "2014-01-24 09:33:04  0.000000e+00  18433410.0  116.8718   9397031.0   \n",
       "2014-01-24 09:33:05  0.000000e+00  18433410.0  116.8718   9397032.0   \n",
       "2014-01-24 09:33:06  0.000000e+00  18433410.0  116.8718   9397033.0   \n",
       "2014-01-24 09:33:07  0.000000e+00  18433410.0  116.8718   9397033.0   \n",
       "...                           ...         ...       ...         ...   \n",
       "2018-06-18 10:59:56 -1.180116e+42  20647810.0  118.2188  10136700.0   \n",
       "2018-06-18 10:59:57 -1.180116e+42  20647810.0  118.2194  10137410.0   \n",
       "2018-06-18 10:59:58 -1.180116e+42  20647810.0  118.2201  10138120.0   \n",
       "2018-06-18 10:59:59 -1.180116e+42  20647810.0  118.2207  10138830.0   \n",
       "2018-06-18 11:00:00 -1.180116e+42  20647810.0  118.2214  10139540.0   \n",
       "\n",
       "                     T-JUS-CKP  P-JUS-CKGL  QGL  class  \n",
       "timestamp                                               \n",
       "2014-01-24 09:33:03   74.80031   -300917.8  0.0    0.0  \n",
       "2014-01-24 09:33:04   74.80031   -300917.8  0.0    0.0  \n",
       "2014-01-24 09:33:05   74.80031   -300917.8  0.0    0.0  \n",
       "2014-01-24 09:33:06   74.80031   -300917.8  0.0    0.0  \n",
       "2014-01-24 09:33:07   74.80031   -300917.8  0.0    0.0  \n",
       "...                        ...         ...  ...    ...  \n",
       "2018-06-18 10:59:56   71.27952   4108865.0  0.0    1.0  \n",
       "2018-06-18 10:59:57   71.27949   4108866.0  0.0    1.0  \n",
       "2018-06-18 10:59:58   71.27946   4108866.0  0.0    1.0  \n",
       "2018-06-18 10:59:59   71.27944   4108867.0  0.0    1.0  \n",
       "2018-06-18 11:00:00   71.27942   4108867.0  0.0    1.0  \n",
       "\n",
       "[232040 rows x 8 columns]"
      ]
     },
     "execution_count": 14,
     "metadata": {},
     "output_type": "execute_result"
    }
   ],
   "source": [
    "df_preprocessing = df_output.drop(columns=[\"T-JUS-CKGL\"])\n",
    "df_preprocessing"
   ]
  },
  {
   "cell_type": "code",
   "execution_count": 15,
   "metadata": {},
   "outputs": [
    {
     "data": {
      "text/plain": [
       "(221692, 8)"
      ]
     },
     "execution_count": 15,
     "metadata": {},
     "output_type": "execute_result"
    }
   ],
   "source": [
    "df_preprocessing = df_preprocessing.dropna()\n",
    "df_preprocessing.shape"
   ]
  },
  {
   "cell_type": "code",
   "execution_count": 16,
   "metadata": {},
   "outputs": [
    {
     "name": "stdout",
     "output_type": "stream",
     "text": [
      "P-PDG low variance is 0\n",
      "P-TPT low variance is 0\n",
      "T-TPT low variance is 0\n",
      "P-MON-CKP low variance is 0\n",
      "T-JUS-CKP low variance is 0\n",
      "P-JUS-CKGL low variance is 0\n",
      "QGL low variance is 1\n",
      "class low variance is 0\n"
     ]
    }
   ],
   "source": [
    "for column_name in df_preprocessing.columns:\n",
    "    percent = Preprocessing.check_column_low_variance(df_data=df_preprocessing, column_name=column_name)\n",
    "    print(f\"{column_name} low variance is {percent}\")"
   ]
  },
  {
   "cell_type": "code",
   "execution_count": 18,
   "metadata": {},
   "outputs": [
    {
     "data": {
      "text/html": [
       "<div>\n",
       "<style scoped>\n",
       "    .dataframe tbody tr th:only-of-type {\n",
       "        vertical-align: middle;\n",
       "    }\n",
       "\n",
       "    .dataframe tbody tr th {\n",
       "        vertical-align: top;\n",
       "    }\n",
       "\n",
       "    .dataframe thead th {\n",
       "        text-align: right;\n",
       "    }\n",
       "</style>\n",
       "<table border=\"1\" class=\"dataframe\">\n",
       "  <thead>\n",
       "    <tr style=\"text-align: right;\">\n",
       "      <th></th>\n",
       "      <th>P-TPT</th>\n",
       "      <th>T-TPT</th>\n",
       "      <th>P-MON-CKP</th>\n",
       "      <th>T-JUS-CKP</th>\n",
       "      <th>class</th>\n",
       "    </tr>\n",
       "    <tr>\n",
       "      <th>timestamp</th>\n",
       "      <th></th>\n",
       "      <th></th>\n",
       "      <th></th>\n",
       "      <th></th>\n",
       "      <th></th>\n",
       "    </tr>\n",
       "  </thead>\n",
       "  <tbody>\n",
       "    <tr>\n",
       "      <th>2014-01-24 09:33:03</th>\n",
       "      <td>18433410.0</td>\n",
       "      <td>116.8718</td>\n",
       "      <td>9397031.0</td>\n",
       "      <td>74.80031</td>\n",
       "      <td>0.0</td>\n",
       "    </tr>\n",
       "    <tr>\n",
       "      <th>2014-01-24 09:33:04</th>\n",
       "      <td>18433410.0</td>\n",
       "      <td>116.8718</td>\n",
       "      <td>9397031.0</td>\n",
       "      <td>74.80031</td>\n",
       "      <td>0.0</td>\n",
       "    </tr>\n",
       "    <tr>\n",
       "      <th>2014-01-24 09:33:05</th>\n",
       "      <td>18433410.0</td>\n",
       "      <td>116.8718</td>\n",
       "      <td>9397032.0</td>\n",
       "      <td>74.80031</td>\n",
       "      <td>0.0</td>\n",
       "    </tr>\n",
       "    <tr>\n",
       "      <th>2014-01-24 09:33:06</th>\n",
       "      <td>18433410.0</td>\n",
       "      <td>116.8718</td>\n",
       "      <td>9397033.0</td>\n",
       "      <td>74.80031</td>\n",
       "      <td>0.0</td>\n",
       "    </tr>\n",
       "    <tr>\n",
       "      <th>2014-01-24 09:33:07</th>\n",
       "      <td>18433410.0</td>\n",
       "      <td>116.8718</td>\n",
       "      <td>9397033.0</td>\n",
       "      <td>74.80031</td>\n",
       "      <td>0.0</td>\n",
       "    </tr>\n",
       "    <tr>\n",
       "      <th>...</th>\n",
       "      <td>...</td>\n",
       "      <td>...</td>\n",
       "      <td>...</td>\n",
       "      <td>...</td>\n",
       "      <td>...</td>\n",
       "    </tr>\n",
       "    <tr>\n",
       "      <th>2018-06-18 10:59:56</th>\n",
       "      <td>20647810.0</td>\n",
       "      <td>118.2188</td>\n",
       "      <td>10136700.0</td>\n",
       "      <td>71.27952</td>\n",
       "      <td>1.0</td>\n",
       "    </tr>\n",
       "    <tr>\n",
       "      <th>2018-06-18 10:59:57</th>\n",
       "      <td>20647810.0</td>\n",
       "      <td>118.2194</td>\n",
       "      <td>10137410.0</td>\n",
       "      <td>71.27949</td>\n",
       "      <td>1.0</td>\n",
       "    </tr>\n",
       "    <tr>\n",
       "      <th>2018-06-18 10:59:58</th>\n",
       "      <td>20647810.0</td>\n",
       "      <td>118.2201</td>\n",
       "      <td>10138120.0</td>\n",
       "      <td>71.27946</td>\n",
       "      <td>1.0</td>\n",
       "    </tr>\n",
       "    <tr>\n",
       "      <th>2018-06-18 10:59:59</th>\n",
       "      <td>20647810.0</td>\n",
       "      <td>118.2207</td>\n",
       "      <td>10138830.0</td>\n",
       "      <td>71.27944</td>\n",
       "      <td>1.0</td>\n",
       "    </tr>\n",
       "    <tr>\n",
       "      <th>2018-06-18 11:00:00</th>\n",
       "      <td>20647810.0</td>\n",
       "      <td>118.2214</td>\n",
       "      <td>10139540.0</td>\n",
       "      <td>71.27942</td>\n",
       "      <td>1.0</td>\n",
       "    </tr>\n",
       "  </tbody>\n",
       "</table>\n",
       "<p>221692 rows × 5 columns</p>\n",
       "</div>"
      ],
      "text/plain": [
       "                          P-TPT     T-TPT   P-MON-CKP  T-JUS-CKP  class\n",
       "timestamp                                                              \n",
       "2014-01-24 09:33:03  18433410.0  116.8718   9397031.0   74.80031    0.0\n",
       "2014-01-24 09:33:04  18433410.0  116.8718   9397031.0   74.80031    0.0\n",
       "2014-01-24 09:33:05  18433410.0  116.8718   9397032.0   74.80031    0.0\n",
       "2014-01-24 09:33:06  18433410.0  116.8718   9397033.0   74.80031    0.0\n",
       "2014-01-24 09:33:07  18433410.0  116.8718   9397033.0   74.80031    0.0\n",
       "...                         ...       ...         ...        ...    ...\n",
       "2018-06-18 10:59:56  20647810.0  118.2188  10136700.0   71.27952    1.0\n",
       "2018-06-18 10:59:57  20647810.0  118.2194  10137410.0   71.27949    1.0\n",
       "2018-06-18 10:59:58  20647810.0  118.2201  10138120.0   71.27946    1.0\n",
       "2018-06-18 10:59:59  20647810.0  118.2207  10138830.0   71.27944    1.0\n",
       "2018-06-18 11:00:00  20647810.0  118.2214  10139540.0   71.27942    1.0\n",
       "\n",
       "[221692 rows x 5 columns]"
      ]
     },
     "execution_count": 18,
     "metadata": {},
     "output_type": "execute_result"
    }
   ],
   "source": [
    "df_preprocessing = df_preprocessing.drop(columns=[\"P-PDG\", \"P-JUS-CKGL\", \"QGL\"])\n",
    "df_preprocessing"
   ]
  },
  {
   "cell_type": "code",
   "execution_count": 19,
   "metadata": {},
   "outputs": [
    {
     "data": {
      "text/plain": [
       "class\n",
       "0.0      66.432257\n",
       "101.0    29.257258\n",
       "1.0       4.310485\n",
       "Name: count, dtype: float64"
      ]
     },
     "execution_count": 19,
     "metadata": {},
     "output_type": "execute_result"
    }
   ],
   "source": [
    "contagem_classes = df_preprocessing['class'].value_counts()\n",
    "\n",
    "# Calcular a porcentagem de cada classe\n",
    "porcentagem_classes = contagem_classes / len(df_preprocessing) * 100\n",
    "porcentagem_classes"
   ]
  },
  {
   "cell_type": "code",
   "execution_count": 169,
   "metadata": {},
   "outputs": [],
   "source": [
    "#df_preprocessing[\"class\"] = df_preprocessing[\"class\"].replace(101, 1)"
   ]
  },
  {
   "cell_type": "code",
   "execution_count": 20,
   "metadata": {},
   "outputs": [
    {
     "data": {
      "text/plain": [
       "class\n",
       "0.0      66.432257\n",
       "101.0    29.257258\n",
       "1.0       4.310485\n",
       "Name: count, dtype: float64"
      ]
     },
     "execution_count": 20,
     "metadata": {},
     "output_type": "execute_result"
    }
   ],
   "source": [
    "contagem_classes = df_preprocessing['class'].value_counts()\n",
    "\n",
    "# Calcular a porcentagem de cada classe\n",
    "porcentagem_classes = contagem_classes / len(df_preprocessing) * 100\n",
    "porcentagem_classes"
   ]
  },
  {
   "cell_type": "code",
   "execution_count": 21,
   "metadata": {},
   "outputs": [
    {
     "data": {
      "text/plain": [
       "Index(['P-TPT', 'T-TPT', 'P-MON-CKP', 'T-JUS-CKP', 'class'], dtype='object')"
      ]
     },
     "execution_count": 21,
     "metadata": {},
     "output_type": "execute_result"
    }
   ],
   "source": [
    "df_preprocessing.columns"
   ]
  },
  {
   "cell_type": "code",
   "execution_count": 22,
   "metadata": {},
   "outputs": [
    {
     "data": {
      "image/png": "[encoded data removed]",
      "text/plain": [
       "<Figure size 1000x600 with 1 Axes>"
      ]
     },
     "metadata": {},
     "output_type": "display_data"
    }
   ],
   "source": [
    "plot_two_variables(df_preprocessing, 'P-TPT', 'T-TPT', binary_column=\"class\")"
   ]
  },
  {
   "cell_type": "code",
   "execution_count": 23,
   "metadata": {},
   "outputs": [],
   "source": [
    "def kmeans_six_variables(X_pca, n_clusters=3):\n",
    "    \"\"\"\n",
    "    Aplica o algoritmo K-means para agrupar seis variáveis de um DataFrame após a redução de dimensionalidade com PCA.\n",
    "\n",
    "    Parâmetros:\n",
    "        - df: DataFrame pandas contendo os dados.\n",
    "        - n_clusters: Número de clusters (padrão é 3).\n",
    "    \"\"\"\n",
    "    # Aplica PCA para reduzir a dimensionalidade para 2 componentes\n",
    "    # Aplica o algoritmo K-means\n",
    "    kmeans = KMeans(n_clusters=n_clusters)\n",
    "    kmeans.fit(X_pca)\n",
    "\n",
    "    # Plota os grupos\n",
    "    plt.figure(figsize=(10, 6))\n",
    "    plt.scatter(X_pca[:, 0], X_pca[:, 1], c=kmeans.labels_, cmap='viridis', alpha=0.5)\n",
    "    plt.scatter(kmeans.cluster_centers_[:, 0], kmeans.cluster_centers_[:, 1], marker='x', s=100, color='red')\n",
    "    plt.xlabel('PC1')\n",
    "    plt.ylabel('PC2')\n",
    "    plt.title('K-means Clustering após Redução de Dimensionalidade')\n",
    "    plt.grid(True)\n",
    "    plt.show()"
   ]
  },
  {
   "cell_type": "code",
   "execution_count": 28,
   "metadata": {},
   "outputs": [
    {
     "name": "stderr",
     "output_type": "stream",
     "text": [
      "c:\\Users\\marce\\Documents\\0_python_env\\venv3WPetrobras\\lib\\site-packages\\sklearn\\cluster\\_kmeans.py:1416: FutureWarning: The default value of `n_init` will change from 10 to 'auto' in 1.4. Set the value of `n_init` explicitly to suppress the warning\n",
      "  super()._check_params_vs_input(X, default_n_init=10)\n"
     ]
    },
    {
     "data": {
      "image/png": "[encoded data removed]",
      "text/plain": [
       "<Figure size 1000x600 with 1 Axes>"
      ]
     },
     "metadata": {},
     "output_type": "display_data"
    }
   ],
   "source": [
    "pca = PCA(n_components=2)\n",
    "scaler = StandardScaler()\n",
    "X = scaler.fit_transform(df_preprocessing.drop(columns=\"class\"))\n",
    "X_pca = pca.fit_transform(X)\n",
    "kmeans_six_variables(X_pca, n_clusters=12)"
   ]
  },
  {
   "cell_type": "code",
   "execution_count": 25,
   "metadata": {},
   "outputs": [],
   "source": [
    "df_pca = pd.DataFrame(X_pca, columns=[\"COMP_1\", \"COMP_2\"])\n",
    "df_pca[\"class\"] = df_preprocessing[\"class\"].values"
   ]
  },
  {
   "cell_type": "code",
   "execution_count": 26,
   "metadata": {},
   "outputs": [
    {
     "data": {
      "image/png": "[encoded data removed]",
      "text/plain": [
       "<Figure size 1000x600 with 1 Axes>"
      ]
     },
     "metadata": {},
     "output_type": "display_data"
    }
   ],
   "source": [
    "plot_two_variables(df_pca, 'COMP_1', 'COMP_2', binary_column=\"class\")"
   ]
  },
  {
   "cell_type": "code",
   "execution_count": 29,
   "metadata": {},
   "outputs": [
    {
     "data": {
      "image/png": "[encoded data removed]",
      "text/plain": [
       "<Figure size 1000x600 with 1 Axes>"
      ]
     },
     "metadata": {},
     "output_type": "display_data"
    }
   ],
   "source": [
    "# Aplica o algoritmo DBSCAN\n",
    "eps=0.01\n",
    "min_samples=4\n",
    "dbscan = DBSCAN(eps=eps, min_samples=min_samples, n_jobs=-1)\n",
    "dbscan.fit(df_pca.drop(columns=[\"class\"]))\n",
    "\n",
    "# Plota os pontos\n",
    "plt.figure(figsize=(10, 6))\n",
    "plt.scatter(df_pca[\"COMP_1\"], df_pca[\"COMP_2\"], c=dbscan.labels_, cmap='viridis', alpha=0.5)\n",
    "plt.xlabel(\"COMP_1\")\n",
    "plt.ylabel(\"COMP_2\")\n",
    "plt.title(f'DBSCAN: {\"COMP_1\"} vs {\"COMP_2\"}')\n",
    "plt.grid(True)\n",
    "plt.show()"
   ]
  },
  {
   "cell_type": "code",
   "execution_count": 30,
   "metadata": {},
   "outputs": [
    {
     "data": {
      "image/png": "[encoded data removed]",
      "text/plain": [
       "<Figure size 1000x600 with 1 Axes>"
      ]
     },
     "metadata": {},
     "output_type": "display_data"
    }
   ],
   "source": [
    "# Aplica o algoritmo DBSCAN\n",
    "# Esse algoritmo conseguiu separar em duas classes muito bem!!!!!!\n",
    "eps=0.1\n",
    "min_samples=5\n",
    "dbscan = DBSCAN(eps=eps, min_samples=min_samples, n_jobs=-1)\n",
    "dbscan.fit(df_pca.drop(columns=[\"class\"]))\n",
    "\n",
    "# Plota os pontos\n",
    "plt.figure(figsize=(10, 6))\n",
    "plt.scatter(df_pca[\"COMP_1\"], df_pca[\"COMP_2\"], c=dbscan.labels_, cmap='viridis', alpha=0.5)\n",
    "plt.xlabel(\"COMP_1\")\n",
    "plt.ylabel(\"COMP_2\")\n",
    "plt.title(f'DBSCAN: {\"COMP_1\"} vs {\"COMP_2\"}')\n",
    "plt.grid(True)\n",
    "plt.show()"
   ]
  },
  {
   "cell_type": "markdown",
   "metadata": {},
   "source": [
    "# Conclusão\n",
    "\n",
    "Não é possível usar todos os dados da falha 1 para agrupar tudo de uma vez\n",
    "\n",
    "Será necessário testar com os dados de cada poço"
   ]
  }
 ],
 "metadata": {
  "kernelspec": {
   "display_name": "venv3WPetrobras",
   "language": "python",
   "name": "python3"
  },
  "language_info": {
   "codemirror_mode": {
    "name": "ipython",
    "version": 3
   },
   "file_extension": ".py",
   "mimetype": "text/x-python",
   "name": "python",
   "nbconvert_exporter": "python",
   "pygments_lexer": "ipython3",
   "version": "3.8.9"
  }
 },
 "nbformat": 4,
 "nbformat_minor": 2
}
