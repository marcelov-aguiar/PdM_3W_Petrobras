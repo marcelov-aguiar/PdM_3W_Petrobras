{
 "cells": [
  {
   "cell_type": "code",
   "execution_count": 1,
   "metadata": {},
   "outputs": [],
   "source": [
    "import pandas as pd\n",
    "import os\n",
    "import sys\n",
    "import matplotlib.pyplot as plt\n",
    "import seaborn as sns\n",
    "import numpy as np\n",
    "import dill\n",
    "from typing import List\n",
    "import scipy.stats as sts\n",
    "from sklearn.pipeline import Pipeline\n",
    "from sklearn.decomposition import PCA\n",
    "from sklearn.preprocessing import RobustScaler\n",
    "from sklearn.metrics import f1_score\n",
    "from sklearn.metrics import precision_score, recall_score, f1_score, accuracy_score\n",
    "from sklearn.model_selection import train_test_split\n",
    "from sklearn.neighbors import KNeighborsClassifier\n",
    "from sklearn.preprocessing import StandardScaler\n",
    "from sklearn.neural_network import MLPClassifier\n",
    "from sklearn.ensemble import IsolationForest\n",
    "from scipy.stats import gaussian_kde\n",
    "\n",
    "import util\n",
    "from pathlib import Path\n",
    "from class_manipulates_path import ManipulatePath\n",
    "from class_preprocessing_refactor import Preprocessing\n",
    "from class_format_data import FormatData\n",
    "from som_anomaly_detector.anomaly_detection import AnomalyDetection\n",
    "util.init()\n",
    "\n",
    "current_path = sys.path[0]"
   ]
  },
  {
   "cell_type": "code",
   "execution_count": 2,
   "metadata": {},
   "outputs": [],
   "source": [
    "def plot_variable(df, column_name, intervalos=None):\n",
    "    \"\"\"\n",
    "    Plota um gráfico de dispersão para uma variável de um DataFrame.\n",
    "\n",
    "    Parâmetros:\n",
    "        - df: DataFrame pandas contendo os dados.\n",
    "        - column_name: Nome da coluna que você deseja plotar.\n",
    "        - intervalos: Lista de intervalos para plotar linhas verticais.\n",
    "    \"\"\"\n",
    "    plt.figure(figsize=(20, 10))\n",
    "    plt.scatter(df.index.values, df[column_name].values, color='darkcyan', alpha=0.5)\n",
    "    plt.xlabel('Índice')\n",
    "    plt.ylabel(column_name)\n",
    "    plt.title(f'Gráfico de dispersão para a variável \"{column_name}\"')\n",
    "\n",
    "\n",
    "    # Plotar linhas verticais para cada intervalo\n",
    "    if intervalos:\n",
    "        for intervalo in intervalos:\n",
    "            plt.axvline(x=intervalo, linestyle='--', color='red')\n",
    "\n",
    "    plt.show()"
   ]
  },
  {
   "cell_type": "code",
   "execution_count": 3,
   "metadata": {},
   "outputs": [],
   "source": [
    "def class_and_file_generator(data_path, real=False, simulated=False, drawn=False):\n",
    "    for class_path in data_path.iterdir():\n",
    "        if class_path.is_dir():\n",
    "            class_code = int(class_path.stem)\n",
    "            for instance_path in class_path.iterdir():\n",
    "                if (instance_path.suffix == '.csv'):\n",
    "                    if (simulated and instance_path.stem.startswith('SIMULATED')) or \\\n",
    "                       (drawn and instance_path.stem.startswith('DRAWN')) or \\\n",
    "                       (real and (not instance_path.stem.startswith('SIMULATED')) and \\\n",
    "                       (not instance_path.stem.startswith('DRAWN'))):\n",
    "                        yield class_code, instance_path"
   ]
  },
  {
   "cell_type": "code",
   "execution_count": 4,
   "metadata": {},
   "outputs": [],
   "source": [
    "manipulate_path = ManipulatePath()\n",
    "\n",
    "preprocessing = Preprocessing()\n",
    "\n",
    "format_data = FormatData()\n",
    "\n",
    "path_raw_data = manipulate_path.get_path_raw_data()\n",
    "\n",
    "abnormal_classes_codes = [1, 2, 5, 6, 7, 8]"
   ]
  },
  {
   "cell_type": "code",
   "execution_count": 5,
   "metadata": {},
   "outputs": [],
   "source": [
    "# Gets all real instances but maintains only those with any type of undesirable event\n",
    "real_instances = pd.DataFrame(class_and_file_generator(path_raw_data, \n",
    "                                                       real=True,\n",
    "                                                       simulated=False, \n",
    "                                                       drawn=False),\n",
    "                              columns=['class_code', 'instance_path'])\n",
    "real_instances = real_instances.loc[real_instances.iloc[:,0].isin(abnormal_classes_codes)].reset_index(drop=True)"
   ]
  },
  {
   "cell_type": "code",
   "execution_count": 6,
   "metadata": {},
   "outputs": [
    {
     "data": {
      "text/html": [
       "<div>\n",
       "<style scoped>\n",
       "    .dataframe tbody tr th:only-of-type {\n",
       "        vertical-align: middle;\n",
       "    }\n",
       "\n",
       "    .dataframe tbody tr th {\n",
       "        vertical-align: top;\n",
       "    }\n",
       "\n",
       "    .dataframe thead th {\n",
       "        text-align: right;\n",
       "    }\n",
       "</style>\n",
       "<table border=\"1\" class=\"dataframe\">\n",
       "  <thead>\n",
       "    <tr style=\"text-align: right;\">\n",
       "      <th></th>\n",
       "      <th>class_code</th>\n",
       "      <th>instance_path</th>\n",
       "    </tr>\n",
       "  </thead>\n",
       "  <tbody>\n",
       "    <tr>\n",
       "      <th>0</th>\n",
       "      <td>1</td>\n",
       "      <td>c:\\Users\\marce\\Documents\\MEGA\\0_PUC-Rio\\2_Peri...</td>\n",
       "    </tr>\n",
       "    <tr>\n",
       "      <th>1</th>\n",
       "      <td>1</td>\n",
       "      <td>c:\\Users\\marce\\Documents\\MEGA\\0_PUC-Rio\\2_Peri...</td>\n",
       "    </tr>\n",
       "    <tr>\n",
       "      <th>2</th>\n",
       "      <td>1</td>\n",
       "      <td>c:\\Users\\marce\\Documents\\MEGA\\0_PUC-Rio\\2_Peri...</td>\n",
       "    </tr>\n",
       "    <tr>\n",
       "      <th>3</th>\n",
       "      <td>1</td>\n",
       "      <td>c:\\Users\\marce\\Documents\\MEGA\\0_PUC-Rio\\2_Peri...</td>\n",
       "    </tr>\n",
       "    <tr>\n",
       "      <th>4</th>\n",
       "      <td>1</td>\n",
       "      <td>c:\\Users\\marce\\Documents\\MEGA\\0_PUC-Rio\\2_Peri...</td>\n",
       "    </tr>\n",
       "  </tbody>\n",
       "</table>\n",
       "</div>"
      ],
      "text/plain": [
       "   class_code                                      instance_path\n",
       "0           1  c:\\Users\\marce\\Documents\\MEGA\\0_PUC-Rio\\2_Peri...\n",
       "1           1  c:\\Users\\marce\\Documents\\MEGA\\0_PUC-Rio\\2_Peri...\n",
       "2           1  c:\\Users\\marce\\Documents\\MEGA\\0_PUC-Rio\\2_Peri...\n",
       "3           1  c:\\Users\\marce\\Documents\\MEGA\\0_PUC-Rio\\2_Peri...\n",
       "4           1  c:\\Users\\marce\\Documents\\MEGA\\0_PUC-Rio\\2_Peri..."
      ]
     },
     "execution_count": 6,
     "metadata": {},
     "output_type": "execute_result"
    }
   ],
   "source": [
    "real_instances[real_instances[\"class_code\"] == 1]"
   ]
  },
  {
   "cell_type": "code",
   "execution_count": 7,
   "metadata": {},
   "outputs": [
    {
     "data": {
      "text/plain": [
       "array([WindowsPath('c:/Users/marce/Documents/MEGA/0_PUC-Rio/2_Periodo/2_Data Science/2_Trabalho_Final/3_3W/1_data/1_raw_data/1/WELL-00001_20140124093303.csv'),\n",
       "       WindowsPath('c:/Users/marce/Documents/MEGA/0_PUC-Rio/2_Periodo/2_Data Science/2_Trabalho_Final/3_3W/1_data/1_raw_data/1/WELL-00002_20140126161944.csv'),\n",
       "       WindowsPath('c:/Users/marce/Documents/MEGA/0_PUC-Rio/2_Periodo/2_Data Science/2_Trabalho_Final/3_3W/1_data/1_raw_data/1/WELL-00006_20170731180930.csv'),\n",
       "       WindowsPath('c:/Users/marce/Documents/MEGA/0_PUC-Rio/2_Periodo/2_Data Science/2_Trabalho_Final/3_3W/1_data/1_raw_data/1/WELL-00006_20170731220432.csv'),\n",
       "       WindowsPath('c:/Users/marce/Documents/MEGA/0_PUC-Rio/2_Periodo/2_Data Science/2_Trabalho_Final/3_3W/1_data/1_raw_data/1/WELL-00006_20180617200257.csv')],\n",
       "      dtype=object)"
      ]
     },
     "execution_count": 7,
     "metadata": {},
     "output_type": "execute_result"
    }
   ],
   "source": [
    "real_instances[real_instances[\"class_code\"] == 1][\"instance_path\"].values"
   ]
  },
  {
   "cell_type": "code",
   "execution_count": 8,
   "metadata": {},
   "outputs": [
    {
     "name": "stdout",
     "output_type": "stream",
     "text": [
      "1 se repete 4603\n",
      "Index min 2014-01-24 09:33:03 index max 2014-01-25 01:47:30\n",
      "1 se repete 2929\n",
      "Index min 2014-01-26 16:19:44 index max 2014-01-26 23:00:00\n",
      "1 se repete 1205\n",
      "Index min 2017-07-31 18:09:30 index max 2017-08-01 20:45:00\n",
      "1 se repete 861\n",
      "Index min 2017-07-31 22:04:32 index max 2017-08-01 20:19:27\n",
      "1 se repete 819\n",
      "Index min 2018-06-17 20:02:57 index max 2018-06-18 11:00:00\n"
     ]
    }
   ],
   "source": [
    "falha = 1\n",
    "\n",
    "file_paths = real_instances[real_instances[\"class_code\"] == falha][\"instance_path\"].values\n",
    "df_output = pd.DataFrame()\n",
    "\n",
    "for file_path in file_paths:\n",
    "    df_data = pd.read_csv(file_path)\n",
    "\n",
    "    df_data = FormatData.set_index_dataframe(df_data=df_data,\n",
    "                                         column_name=\"timestamp\")\n",
    "    quantidade = (df_data['class'] == falha).sum()\n",
    "    print(f\"1 se repete {quantidade}\")\n",
    "    print(f\"Index min {df_data.index.min()} index max {df_data.index.max()}\")\n",
    "    \n",
    "    df_output = pd.concat([df_output, df_data], axis=0)"
   ]
  },
  {
   "cell_type": "code",
   "execution_count": 9,
   "metadata": {},
   "outputs": [],
   "source": [
    "df_output = df_output[~df_output.index.duplicated()]"
   ]
  },
  {
   "cell_type": "code",
   "execution_count": 10,
   "metadata": {},
   "outputs": [
    {
     "data": {
      "text/html": [
       "<div>\n",
       "<style scoped>\n",
       "    .dataframe tbody tr th:only-of-type {\n",
       "        vertical-align: middle;\n",
       "    }\n",
       "\n",
       "    .dataframe tbody tr th {\n",
       "        vertical-align: top;\n",
       "    }\n",
       "\n",
       "    .dataframe thead th {\n",
       "        text-align: right;\n",
       "    }\n",
       "</style>\n",
       "<table border=\"1\" class=\"dataframe\">\n",
       "  <thead>\n",
       "    <tr style=\"text-align: right;\">\n",
       "      <th></th>\n",
       "      <th>P-PDG</th>\n",
       "      <th>P-TPT</th>\n",
       "      <th>T-TPT</th>\n",
       "      <th>P-MON-CKP</th>\n",
       "      <th>T-JUS-CKP</th>\n",
       "      <th>P-JUS-CKGL</th>\n",
       "      <th>T-JUS-CKGL</th>\n",
       "      <th>QGL</th>\n",
       "      <th>class</th>\n",
       "    </tr>\n",
       "    <tr>\n",
       "      <th>timestamp</th>\n",
       "      <th></th>\n",
       "      <th></th>\n",
       "      <th></th>\n",
       "      <th></th>\n",
       "      <th></th>\n",
       "      <th></th>\n",
       "      <th></th>\n",
       "      <th></th>\n",
       "      <th></th>\n",
       "    </tr>\n",
       "  </thead>\n",
       "  <tbody>\n",
       "    <tr>\n",
       "      <th>2014-01-24 09:33:03</th>\n",
       "      <td>0.0</td>\n",
       "      <td>18433410.0</td>\n",
       "      <td>116.8718</td>\n",
       "      <td>9397031.0</td>\n",
       "      <td>74.80031</td>\n",
       "      <td>-300917.8</td>\n",
       "      <td>NaN</td>\n",
       "      <td>0.0</td>\n",
       "      <td>0.0</td>\n",
       "    </tr>\n",
       "    <tr>\n",
       "      <th>2014-01-24 09:33:04</th>\n",
       "      <td>0.0</td>\n",
       "      <td>18433410.0</td>\n",
       "      <td>116.8718</td>\n",
       "      <td>9397031.0</td>\n",
       "      <td>74.80031</td>\n",
       "      <td>-300917.8</td>\n",
       "      <td>NaN</td>\n",
       "      <td>0.0</td>\n",
       "      <td>0.0</td>\n",
       "    </tr>\n",
       "    <tr>\n",
       "      <th>2014-01-24 09:33:05</th>\n",
       "      <td>0.0</td>\n",
       "      <td>18433410.0</td>\n",
       "      <td>116.8718</td>\n",
       "      <td>9397032.0</td>\n",
       "      <td>74.80031</td>\n",
       "      <td>-300917.8</td>\n",
       "      <td>NaN</td>\n",
       "      <td>0.0</td>\n",
       "      <td>0.0</td>\n",
       "    </tr>\n",
       "    <tr>\n",
       "      <th>2014-01-24 09:33:06</th>\n",
       "      <td>0.0</td>\n",
       "      <td>18433410.0</td>\n",
       "      <td>116.8718</td>\n",
       "      <td>9397033.0</td>\n",
       "      <td>74.80031</td>\n",
       "      <td>-300917.8</td>\n",
       "      <td>NaN</td>\n",
       "      <td>0.0</td>\n",
       "      <td>0.0</td>\n",
       "    </tr>\n",
       "    <tr>\n",
       "      <th>2014-01-24 09:33:07</th>\n",
       "      <td>0.0</td>\n",
       "      <td>18433410.0</td>\n",
       "      <td>116.8718</td>\n",
       "      <td>9397033.0</td>\n",
       "      <td>74.80031</td>\n",
       "      <td>-300917.8</td>\n",
       "      <td>NaN</td>\n",
       "      <td>0.0</td>\n",
       "      <td>0.0</td>\n",
       "    </tr>\n",
       "  </tbody>\n",
       "</table>\n",
       "</div>"
      ],
      "text/plain": [
       "                     P-PDG       P-TPT     T-TPT  P-MON-CKP  T-JUS-CKP  \\\n",
       "timestamp                                                                \n",
       "2014-01-24 09:33:03    0.0  18433410.0  116.8718  9397031.0   74.80031   \n",
       "2014-01-24 09:33:04    0.0  18433410.0  116.8718  9397031.0   74.80031   \n",
       "2014-01-24 09:33:05    0.0  18433410.0  116.8718  9397032.0   74.80031   \n",
       "2014-01-24 09:33:06    0.0  18433410.0  116.8718  9397033.0   74.80031   \n",
       "2014-01-24 09:33:07    0.0  18433410.0  116.8718  9397033.0   74.80031   \n",
       "\n",
       "                     P-JUS-CKGL  T-JUS-CKGL  QGL  class  \n",
       "timestamp                                                \n",
       "2014-01-24 09:33:03   -300917.8         NaN  0.0    0.0  \n",
       "2014-01-24 09:33:04   -300917.8         NaN  0.0    0.0  \n",
       "2014-01-24 09:33:05   -300917.8         NaN  0.0    0.0  \n",
       "2014-01-24 09:33:06   -300917.8         NaN  0.0    0.0  \n",
       "2014-01-24 09:33:07   -300917.8         NaN  0.0    0.0  "
      ]
     },
     "execution_count": 10,
     "metadata": {},
     "output_type": "execute_result"
    }
   ],
   "source": [
    "df_output.head()"
   ]
  },
  {
   "cell_type": "code",
   "execution_count": 11,
   "metadata": {},
   "outputs": [
    {
     "data": {
      "text/html": [
       "<div>\n",
       "<style scoped>\n",
       "    .dataframe tbody tr th:only-of-type {\n",
       "        vertical-align: middle;\n",
       "    }\n",
       "\n",
       "    .dataframe tbody tr th {\n",
       "        vertical-align: top;\n",
       "    }\n",
       "\n",
       "    .dataframe thead th {\n",
       "        text-align: right;\n",
       "    }\n",
       "</style>\n",
       "<table border=\"1\" class=\"dataframe\">\n",
       "  <thead>\n",
       "    <tr style=\"text-align: right;\">\n",
       "      <th></th>\n",
       "      <th>P-PDG</th>\n",
       "      <th>P-TPT</th>\n",
       "      <th>T-TPT</th>\n",
       "      <th>P-MON-CKP</th>\n",
       "      <th>T-JUS-CKP</th>\n",
       "      <th>P-JUS-CKGL</th>\n",
       "      <th>class</th>\n",
       "    </tr>\n",
       "    <tr>\n",
       "      <th>timestamp</th>\n",
       "      <th></th>\n",
       "      <th></th>\n",
       "      <th></th>\n",
       "      <th></th>\n",
       "      <th></th>\n",
       "      <th></th>\n",
       "      <th></th>\n",
       "    </tr>\n",
       "  </thead>\n",
       "  <tbody>\n",
       "    <tr>\n",
       "      <th>2014-01-24 09:33:03</th>\n",
       "      <td>0.000000e+00</td>\n",
       "      <td>18433410.0</td>\n",
       "      <td>116.8718</td>\n",
       "      <td>9397031.0</td>\n",
       "      <td>74.80031</td>\n",
       "      <td>-300917.8</td>\n",
       "      <td>0.0</td>\n",
       "    </tr>\n",
       "    <tr>\n",
       "      <th>2014-01-24 09:33:04</th>\n",
       "      <td>0.000000e+00</td>\n",
       "      <td>18433410.0</td>\n",
       "      <td>116.8718</td>\n",
       "      <td>9397031.0</td>\n",
       "      <td>74.80031</td>\n",
       "      <td>-300917.8</td>\n",
       "      <td>0.0</td>\n",
       "    </tr>\n",
       "    <tr>\n",
       "      <th>2014-01-24 09:33:05</th>\n",
       "      <td>0.000000e+00</td>\n",
       "      <td>18433410.0</td>\n",
       "      <td>116.8718</td>\n",
       "      <td>9397032.0</td>\n",
       "      <td>74.80031</td>\n",
       "      <td>-300917.8</td>\n",
       "      <td>0.0</td>\n",
       "    </tr>\n",
       "    <tr>\n",
       "      <th>2014-01-24 09:33:06</th>\n",
       "      <td>0.000000e+00</td>\n",
       "      <td>18433410.0</td>\n",
       "      <td>116.8718</td>\n",
       "      <td>9397033.0</td>\n",
       "      <td>74.80031</td>\n",
       "      <td>-300917.8</td>\n",
       "      <td>0.0</td>\n",
       "    </tr>\n",
       "    <tr>\n",
       "      <th>2014-01-24 09:33:07</th>\n",
       "      <td>0.000000e+00</td>\n",
       "      <td>18433410.0</td>\n",
       "      <td>116.8718</td>\n",
       "      <td>9397033.0</td>\n",
       "      <td>74.80031</td>\n",
       "      <td>-300917.8</td>\n",
       "      <td>0.0</td>\n",
       "    </tr>\n",
       "    <tr>\n",
       "      <th>...</th>\n",
       "      <td>...</td>\n",
       "      <td>...</td>\n",
       "      <td>...</td>\n",
       "      <td>...</td>\n",
       "      <td>...</td>\n",
       "      <td>...</td>\n",
       "      <td>...</td>\n",
       "    </tr>\n",
       "    <tr>\n",
       "      <th>2018-06-18 10:59:56</th>\n",
       "      <td>-1.180116e+42</td>\n",
       "      <td>20647810.0</td>\n",
       "      <td>118.2188</td>\n",
       "      <td>10136700.0</td>\n",
       "      <td>71.27952</td>\n",
       "      <td>4108865.0</td>\n",
       "      <td>1.0</td>\n",
       "    </tr>\n",
       "    <tr>\n",
       "      <th>2018-06-18 10:59:57</th>\n",
       "      <td>-1.180116e+42</td>\n",
       "      <td>20647810.0</td>\n",
       "      <td>118.2194</td>\n",
       "      <td>10137410.0</td>\n",
       "      <td>71.27949</td>\n",
       "      <td>4108866.0</td>\n",
       "      <td>1.0</td>\n",
       "    </tr>\n",
       "    <tr>\n",
       "      <th>2018-06-18 10:59:58</th>\n",
       "      <td>-1.180116e+42</td>\n",
       "      <td>20647810.0</td>\n",
       "      <td>118.2201</td>\n",
       "      <td>10138120.0</td>\n",
       "      <td>71.27946</td>\n",
       "      <td>4108866.0</td>\n",
       "      <td>1.0</td>\n",
       "    </tr>\n",
       "    <tr>\n",
       "      <th>2018-06-18 10:59:59</th>\n",
       "      <td>-1.180116e+42</td>\n",
       "      <td>20647810.0</td>\n",
       "      <td>118.2207</td>\n",
       "      <td>10138830.0</td>\n",
       "      <td>71.27944</td>\n",
       "      <td>4108867.0</td>\n",
       "      <td>1.0</td>\n",
       "    </tr>\n",
       "    <tr>\n",
       "      <th>2018-06-18 11:00:00</th>\n",
       "      <td>-1.180116e+42</td>\n",
       "      <td>20647810.0</td>\n",
       "      <td>118.2214</td>\n",
       "      <td>10139540.0</td>\n",
       "      <td>71.27942</td>\n",
       "      <td>4108867.0</td>\n",
       "      <td>1.0</td>\n",
       "    </tr>\n",
       "  </tbody>\n",
       "</table>\n",
       "<p>232040 rows × 7 columns</p>\n",
       "</div>"
      ],
      "text/plain": [
       "                            P-PDG       P-TPT     T-TPT   P-MON-CKP  \\\n",
       "timestamp                                                             \n",
       "2014-01-24 09:33:03  0.000000e+00  18433410.0  116.8718   9397031.0   \n",
       "2014-01-24 09:33:04  0.000000e+00  18433410.0  116.8718   9397031.0   \n",
       "2014-01-24 09:33:05  0.000000e+00  18433410.0  116.8718   9397032.0   \n",
       "2014-01-24 09:33:06  0.000000e+00  18433410.0  116.8718   9397033.0   \n",
       "2014-01-24 09:33:07  0.000000e+00  18433410.0  116.8718   9397033.0   \n",
       "...                           ...         ...       ...         ...   \n",
       "2018-06-18 10:59:56 -1.180116e+42  20647810.0  118.2188  10136700.0   \n",
       "2018-06-18 10:59:57 -1.180116e+42  20647810.0  118.2194  10137410.0   \n",
       "2018-06-18 10:59:58 -1.180116e+42  20647810.0  118.2201  10138120.0   \n",
       "2018-06-18 10:59:59 -1.180116e+42  20647810.0  118.2207  10138830.0   \n",
       "2018-06-18 11:00:00 -1.180116e+42  20647810.0  118.2214  10139540.0   \n",
       "\n",
       "                     T-JUS-CKP  P-JUS-CKGL  class  \n",
       "timestamp                                          \n",
       "2014-01-24 09:33:03   74.80031   -300917.8    0.0  \n",
       "2014-01-24 09:33:04   74.80031   -300917.8    0.0  \n",
       "2014-01-24 09:33:05   74.80031   -300917.8    0.0  \n",
       "2014-01-24 09:33:06   74.80031   -300917.8    0.0  \n",
       "2014-01-24 09:33:07   74.80031   -300917.8    0.0  \n",
       "...                        ...         ...    ...  \n",
       "2018-06-18 10:59:56   71.27952   4108865.0    1.0  \n",
       "2018-06-18 10:59:57   71.27949   4108866.0    1.0  \n",
       "2018-06-18 10:59:58   71.27946   4108866.0    1.0  \n",
       "2018-06-18 10:59:59   71.27944   4108867.0    1.0  \n",
       "2018-06-18 11:00:00   71.27942   4108867.0    1.0  \n",
       "\n",
       "[232040 rows x 7 columns]"
      ]
     },
     "execution_count": 11,
     "metadata": {},
     "output_type": "execute_result"
    }
   ],
   "source": [
    "df_aux = df_output.drop(columns=[\"QGL\", \"T-JUS-CKGL\"])\n",
    "df_aux"
   ]
  },
  {
   "cell_type": "code",
   "execution_count": 12,
   "metadata": {},
   "outputs": [
    {
     "name": "stdout",
     "output_type": "stream",
     "text": [
      "P-PDG null data is 0.0\n",
      "P-TPT null data is 0.0\n",
      "T-TPT null data is 0.0\n",
      "P-MON-CKP null data is 0.0\n",
      "T-JUS-CKP null data is 0.0\n",
      "P-JUS-CKGL null data is 0.0\n",
      "class null data is 4.459575935183589\n"
     ]
    }
   ],
   "source": [
    "for column_name in df_aux.columns:\n",
    "    percent = Preprocessing.check_null_dataframe(df_data=df_aux, column_name=column_name)\n",
    "    print(f\"{column_name} null data is {percent}\")"
   ]
  },
  {
   "cell_type": "code",
   "execution_count": 13,
   "metadata": {},
   "outputs": [
    {
     "data": {
      "text/plain": [
       "(221692, 7)"
      ]
     },
     "execution_count": 13,
     "metadata": {},
     "output_type": "execute_result"
    }
   ],
   "source": [
    "df_aux = df_aux.dropna()\n",
    "df_aux.shape"
   ]
  },
  {
   "cell_type": "code",
   "execution_count": 14,
   "metadata": {},
   "outputs": [
    {
     "name": "stdout",
     "output_type": "stream",
     "text": [
      "P-PDG low variance is 0\n",
      "P-TPT low variance is 0\n",
      "T-TPT low variance is 0\n",
      "P-MON-CKP low variance is 0\n",
      "T-JUS-CKP low variance is 0\n",
      "P-JUS-CKGL low variance is 0\n",
      "class low variance is 0\n"
     ]
    }
   ],
   "source": [
    "for column_name in df_aux.columns:\n",
    "    percent = Preprocessing.check_column_low_variance(df_data=df_output, column_name=column_name)\n",
    "    print(f\"{column_name} low variance is {percent}\")"
   ]
  },
  {
   "cell_type": "code",
   "execution_count": 15,
   "metadata": {},
   "outputs": [
    {
     "name": "stderr",
     "output_type": "stream",
     "text": [
      "C:\\Users\\marce\\AppData\\Local\\Temp\\ipykernel_37576\\311632643.py:1: SettingWithCopyWarning: \n",
      "A value is trying to be set on a copy of a slice from a DataFrame.\n",
      "Try using .loc[row_indexer,col_indexer] = value instead\n",
      "\n",
      "See the caveats in the documentation: https://pandas.pydata.org/pandas-docs/stable/user_guide/indexing.html#returning-a-view-versus-a-copy\n",
      "  df_aux[\"class\"] = df_aux[\"class\"].replace(101, 1)\n"
     ]
    }
   ],
   "source": [
    "df_aux[\"class\"] = df_aux[\"class\"].replace(101, 1)"
   ]
  },
  {
   "cell_type": "code",
   "execution_count": 16,
   "metadata": {},
   "outputs": [
    {
     "data": {
      "text/plain": [
       "class\n",
       "0.0    66.432257\n",
       "1.0    33.567743\n",
       "Name: count, dtype: float64"
      ]
     },
     "execution_count": 16,
     "metadata": {},
     "output_type": "execute_result"
    }
   ],
   "source": [
    "contagem_classes = df_aux['class'].value_counts()\n",
    "\n",
    "# Calcular a porcentagem de cada classe\n",
    "porcentagem_classes = contagem_classes / len(df_aux) * 100\n",
    "porcentagem_classes"
   ]
  },
  {
   "cell_type": "code",
   "execution_count": 17,
   "metadata": {},
   "outputs": [],
   "source": [
    "# Separar as features (X) e os rótulos (y)\n",
    "X = df_aux.drop('class', axis=1)\n",
    "y = df_aux['class']\n",
    "\n",
    "X_train, X_test, y_train, y_test = train_test_split(X, y, test_size=0.3, stratify=y, random_state=42)\n",
    "\n",
    "df_train = X_train.copy()\n",
    "df_train[\"class\"] = y_train\n",
    "\n",
    "df_test = X_test.copy()\n",
    "df_test[\"class\"] = y_test"
   ]
  },
  {
   "cell_type": "code",
   "execution_count": 18,
   "metadata": {},
   "outputs": [],
   "source": [
    "full_data_train = df_train.copy()\n",
    "norm_data_train = df_train[df_train[\"class\"] == 0].copy()\n",
    "\n",
    "norm_data_train = norm_data_train.drop(columns=[\"class\"])\n",
    "\n",
    "anom_data_train = df_train[(df_train[\"class\"] == 1)].copy()\n",
    "anom_data_train = anom_data_train.drop(columns=[\"class\"])"
   ]
  },
  {
   "cell_type": "code",
   "execution_count": 19,
   "metadata": {},
   "outputs": [],
   "source": [
    "scaler = RobustScaler().fit(df_train.drop(columns=[\"class\"]))"
   ]
  },
  {
   "cell_type": "code",
   "execution_count": 20,
   "metadata": {},
   "outputs": [],
   "source": [
    "norm_data_train = scaler.transform(norm_data_train)\n",
    "anom_data_train = scaler.transform(anom_data_train)"
   ]
  },
  {
   "cell_type": "code",
   "execution_count": 22,
   "metadata": {},
   "outputs": [],
   "source": [
    "isolation_forest = IsolationForest(contamination=0.05)"
   ]
  },
  {
   "cell_type": "code",
   "execution_count": 26,
   "metadata": {},
   "outputs": [
    {
     "data": {
      "text/plain": [
       "array([[ 1.00000000e+00, -2.43048364e+00,  1.20668722e+00,\n",
       "        -8.06783047e-01,  5.66927224e-01,  1.86322608e-03],\n",
       "       [ 0.00000000e+00, -2.50725061e+01,  9.23010214e-01,\n",
       "        -4.42670661e-01,  2.19645962e+01,  7.25305678e-01],\n",
       "       [ 1.00000000e+00, -2.50525000e-01,  6.30468298e-01,\n",
       "        -7.94804178e-01,  5.58084436e-02, -2.21643993e-03],\n",
       "       ...,\n",
       "       [ 1.00000000e+00, -6.39617832e-01,  8.65773752e-01,\n",
       "        -7.96538032e-01,  1.56038375e-01, -2.89412302e-03],\n",
       "       [ 1.00000000e+00, -6.39617832e-01,  8.65773752e-01,\n",
       "        -7.96694980e-01,  1.65107363e-01, -2.66324626e-03],\n",
       "       [ 0.00000000e+00, -2.51230343e+01,  9.41029100e-01,\n",
       "        -4.59717754e-01,  2.19645962e+01,  7.26193312e-01]])"
      ]
     },
     "execution_count": 26,
     "metadata": {},
     "output_type": "execute_result"
    }
   ],
   "source": [
    "anom_data_train"
   ]
  },
  {
   "cell_type": "code",
   "execution_count": 23,
   "metadata": {},
   "outputs": [
    {
     "data": {
      "text/html": [
       "<style>#sk-container-id-1 {color: black;}#sk-container-id-1 pre{padding: 0;}#sk-container-id-1 div.sk-toggleable {background-color: white;}#sk-container-id-1 label.sk-toggleable__label {cursor: pointer;display: block;width: 100%;margin-bottom: 0;padding: 0.3em;box-sizing: border-box;text-align: center;}#sk-container-id-1 label.sk-toggleable__label-arrow:before {content: \"▸\";float: left;margin-right: 0.25em;color: #696969;}#sk-container-id-1 label.sk-toggleable__label-arrow:hover:before {color: black;}#sk-container-id-1 div.sk-estimator:hover label.sk-toggleable__label-arrow:before {color: black;}#sk-container-id-1 div.sk-toggleable__content {max-height: 0;max-width: 0;overflow: hidden;text-align: left;background-color: #f0f8ff;}#sk-container-id-1 div.sk-toggleable__content pre {margin: 0.2em;color: black;border-radius: 0.25em;background-color: #f0f8ff;}#sk-container-id-1 input.sk-toggleable__control:checked~div.sk-toggleable__content {max-height: 200px;max-width: 100%;overflow: auto;}#sk-container-id-1 input.sk-toggleable__control:checked~label.sk-toggleable__label-arrow:before {content: \"▾\";}#sk-container-id-1 div.sk-estimator input.sk-toggleable__control:checked~label.sk-toggleable__label {background-color: #d4ebff;}#sk-container-id-1 div.sk-label input.sk-toggleable__control:checked~label.sk-toggleable__label {background-color: #d4ebff;}#sk-container-id-1 input.sk-hidden--visually {border: 0;clip: rect(1px 1px 1px 1px);clip: rect(1px, 1px, 1px, 1px);height: 1px;margin: -1px;overflow: hidden;padding: 0;position: absolute;width: 1px;}#sk-container-id-1 div.sk-estimator {font-family: monospace;background-color: #f0f8ff;border: 1px dotted black;border-radius: 0.25em;box-sizing: border-box;margin-bottom: 0.5em;}#sk-container-id-1 div.sk-estimator:hover {background-color: #d4ebff;}#sk-container-id-1 div.sk-parallel-item::after {content: \"\";width: 100%;border-bottom: 1px solid gray;flex-grow: 1;}#sk-container-id-1 div.sk-label:hover label.sk-toggleable__label {background-color: #d4ebff;}#sk-container-id-1 div.sk-serial::before {content: \"\";position: absolute;border-left: 1px solid gray;box-sizing: border-box;top: 0;bottom: 0;left: 50%;z-index: 0;}#sk-container-id-1 div.sk-serial {display: flex;flex-direction: column;align-items: center;background-color: white;padding-right: 0.2em;padding-left: 0.2em;position: relative;}#sk-container-id-1 div.sk-item {position: relative;z-index: 1;}#sk-container-id-1 div.sk-parallel {display: flex;align-items: stretch;justify-content: center;background-color: white;position: relative;}#sk-container-id-1 div.sk-item::before, #sk-container-id-1 div.sk-parallel-item::before {content: \"\";position: absolute;border-left: 1px solid gray;box-sizing: border-box;top: 0;bottom: 0;left: 50%;z-index: -1;}#sk-container-id-1 div.sk-parallel-item {display: flex;flex-direction: column;z-index: 1;position: relative;background-color: white;}#sk-container-id-1 div.sk-parallel-item:first-child::after {align-self: flex-end;width: 50%;}#sk-container-id-1 div.sk-parallel-item:last-child::after {align-self: flex-start;width: 50%;}#sk-container-id-1 div.sk-parallel-item:only-child::after {width: 0;}#sk-container-id-1 div.sk-dashed-wrapped {border: 1px dashed gray;margin: 0 0.4em 0.5em 0.4em;box-sizing: border-box;padding-bottom: 0.4em;background-color: white;}#sk-container-id-1 div.sk-label label {font-family: monospace;font-weight: bold;display: inline-block;line-height: 1.2em;}#sk-container-id-1 div.sk-label-container {text-align: center;}#sk-container-id-1 div.sk-container {/* jupyter's `normalize.less` sets `[hidden] { display: none; }` but bootstrap.min.css set `[hidden] { display: none !important; }` so we also need the `!important` here to be able to override the default hidden behavior on the sphinx rendered scikit-learn.org. See: https://github.com/scikit-learn/scikit-learn/issues/21755 */display: inline-block !important;position: relative;}#sk-container-id-1 div.sk-text-repr-fallback {display: none;}</style><div id=\"sk-container-id-1\" class=\"sk-top-container\"><div class=\"sk-text-repr-fallback\"><pre>IsolationForest(contamination=0.05)</pre><b>In a Jupyter environment, please rerun this cell to show the HTML representation or trust the notebook. <br />On GitHub, the HTML representation is unable to render, please try loading this page with nbviewer.org.</b></div><div class=\"sk-container\" hidden><div class=\"sk-item\"><div class=\"sk-estimator sk-toggleable\"><input class=\"sk-toggleable__control sk-hidden--visually\" id=\"sk-estimator-id-1\" type=\"checkbox\" checked><label for=\"sk-estimator-id-1\" class=\"sk-toggleable__label sk-toggleable__label-arrow\">IsolationForest</label><div class=\"sk-toggleable__content\"><pre>IsolationForest(contamination=0.05)</pre></div></div></div></div></div>"
      ],
      "text/plain": [
       "IsolationForest(contamination=0.05)"
      ]
     },
     "execution_count": 23,
     "metadata": {},
     "output_type": "execute_result"
    }
   ],
   "source": [
    "isolation_forest.fit(norm_data_train)"
   ]
  },
  {
   "cell_type": "code",
   "execution_count": 27,
   "metadata": {},
   "outputs": [],
   "source": [
    "full_data_train_norm = scaler.transform(full_data_train.drop(columns=[\"class\"]))"
   ]
  },
  {
   "cell_type": "code",
   "execution_count": 50,
   "metadata": {},
   "outputs": [
    {
     "data": {
      "text/plain": [
       "array([[ 1.00000000e+00, -2.43048364e+00,  1.20668722e+00,\n",
       "        -8.06783047e-01,  5.66927224e-01,  1.86322608e-03],\n",
       "       [-2.63077865e+34,  1.54784309e+01, -5.01059934e-02,\n",
       "         3.08579491e-01, -1.86657696e+00,  6.37354048e-01],\n",
       "       [ 0.00000000e+00, -2.50725061e+01,  9.23010214e-01,\n",
       "        -4.42670661e-01,  2.19645962e+01,  7.25305678e-01],\n",
       "       ...,\n",
       "       [-2.63077865e+34,  1.54784309e+01, -3.82539988e-02,\n",
       "         3.09458222e-01, -1.84199578e+00,  6.35670304e-01],\n",
       "       [ 1.00000000e+00,  0.00000000e+00,  5.37964926e-01,\n",
       "        -7.92507381e-01,  1.89238475e-02,  2.41006367e-03],\n",
       "       [ 0.00000000e+00,  3.83770699e-01, -1.02139140e+00,\n",
       "         2.06704821e-01, -9.41533123e-01, -3.67409625e-01]])"
      ]
     },
     "execution_count": 50,
     "metadata": {},
     "output_type": "execute_result"
    }
   ],
   "source": [
    "full_data_train_norm"
   ]
  },
  {
   "cell_type": "code",
   "execution_count": 31,
   "metadata": {},
   "outputs": [
    {
     "data": {
      "text/plain": [
       "155184"
      ]
     },
     "execution_count": 31,
     "metadata": {},
     "output_type": "execute_result"
    }
   ],
   "source": [
    "len(full_data_train_norm)"
   ]
  },
  {
   "cell_type": "code",
   "execution_count": 36,
   "metadata": {},
   "outputs": [],
   "source": [
    "anomalias_indices = isolation_forest.predict(full_data_train_norm)\n",
    "anomalias_indices = np.where(anomalias_indices == 1, 0, anomalias_indices)\n",
    "anomalias_indices = np.where(anomalias_indices == -1, 1, anomalias_indices)"
   ]
  },
  {
   "cell_type": "code",
   "execution_count": 38,
   "metadata": {},
   "outputs": [],
   "source": [
    "full_data_train[\"PRED\"] = 0\n",
    "\n",
    "full_data_train.loc[anomalias_indices == 1, \"PRED\"] = 1"
   ]
  },
  {
   "cell_type": "code",
   "execution_count": 39,
   "metadata": {},
   "outputs": [
    {
     "data": {
      "text/plain": [
       "array([1, 0], dtype=int64)"
      ]
     },
     "execution_count": 39,
     "metadata": {},
     "output_type": "execute_result"
    }
   ],
   "source": [
    "full_data_train[\"PRED\"].unique()"
   ]
  },
  {
   "cell_type": "code",
   "execution_count": 40,
   "metadata": {},
   "outputs": [
    {
     "data": {
      "text/plain": [
       "timestamp\n",
       "2017-08-01 19:45:13    1.0\n",
       "2018-06-18 02:18:28    0.0\n",
       "2014-01-26 22:45:15    1.0\n",
       "2014-01-24 20:17:48    0.0\n",
       "2017-07-31 18:59:31    0.0\n",
       "                      ... \n",
       "2018-06-17 21:10:02    0.0\n",
       "2017-07-31 20:54:53    0.0\n",
       "2018-06-18 01:19:39    0.0\n",
       "2017-08-01 05:08:21    0.0\n",
       "2014-01-24 19:12:32    0.0\n",
       "Name: class, Length: 155184, dtype: float64"
      ]
     },
     "execution_count": 40,
     "metadata": {},
     "output_type": "execute_result"
    }
   ],
   "source": [
    "full_data_train[\"class\"]"
   ]
  },
  {
   "cell_type": "code",
   "execution_count": 41,
   "metadata": {},
   "outputs": [
    {
     "data": {
      "text/plain": [
       "0.9318422002268275"
      ]
     },
     "execution_count": 41,
     "metadata": {},
     "output_type": "execute_result"
    }
   ],
   "source": [
    "accuracy_score(full_data_train['class'].values, full_data_train[\"PRED\"].values)"
   ]
  },
  {
   "cell_type": "code",
   "execution_count": 42,
   "metadata": {},
   "outputs": [
    {
     "data": {
      "text/plain": [
       "0.9318422002268275"
      ]
     },
     "execution_count": 42,
     "metadata": {},
     "output_type": "execute_result"
    }
   ],
   "source": [
    "f1_score(full_data_train['class'].values,  full_data_train[\"PRED\"].values, average=\"micro\")"
   ]
  },
  {
   "cell_type": "code",
   "execution_count": 43,
   "metadata": {},
   "outputs": [
    {
     "name": "stdout",
     "output_type": "stream",
     "text": [
      "Classe 0:\n",
      "Precision: 0.9475420621329541\n",
      "Recall: 0.9499961199705118\n",
      "F1-score: 0.948767504153528\n",
      "\n",
      "Classe 1:\n",
      "Precision: 0.9005306319343946\n",
      "Recall: 0.8959149197573524\n",
      "F1-score: 0.8982168461368208\n",
      "\n"
     ]
    }
   ],
   "source": [
    "precision = precision_score(full_data_train['class'].values,  full_data_train[\"PRED\"].values, average=None)\n",
    "recall = recall_score(full_data_train['class'].values,  full_data_train[\"PRED\"].values, average=None)\n",
    "f1 = f1_score(full_data_train['class'].values,  full_data_train[\"PRED\"].values, average=None)\n",
    "\n",
    "for i in range(len(precision)):\n",
    "    print(f'Classe {i}:')\n",
    "    print(f'Precision: {precision[i]}')\n",
    "    print(f'Recall: {recall[i]}')\n",
    "    print(f'F1-score: {f1[i]}\\n')"
   ]
  },
  {
   "cell_type": "code",
   "execution_count": 44,
   "metadata": {},
   "outputs": [],
   "source": [
    "full_data_test_norm = scaler.transform(df_test.drop(columns=[\"class\"]))"
   ]
  },
  {
   "cell_type": "code",
   "execution_count": 45,
   "metadata": {},
   "outputs": [
    {
     "data": {
      "text/plain": [
       "array([[-2.63077865e+34,  1.54784309e+01, -7.20755444e-02,\n",
       "         3.05562951e-01, -1.86293444e+00,  6.44772689e-01],\n",
       "       [ 1.00000000e+00, -1.02338853e+00,  9.32838697e-01,\n",
       "        -7.97198319e-01,  2.18294685e-01, -1.92278492e-03],\n",
       "       [ 0.00000000e+00,  3.83770699e-01, -1.01888611e+00,\n",
       "         2.06705112e-01, -9.41749995e-01, -3.67409625e-01],\n",
       "       ...,\n",
       "       [ 0.00000000e+00, -2.42203876e+01,  6.48198111e-01,\n",
       "        -4.27129506e-01,  2.19645962e+01,  7.29646805e-01],\n",
       "       [ 1.00000000e+00, -1.28244177e-02,  6.02235498e-01,\n",
       "        -7.94207427e-01,  2.88509971e-02, -1.22693523e-03],\n",
       "       [-2.63077865e+34,  1.57342781e+01, -8.02659472e-02,\n",
       "         3.14095241e-01, -1.86676119e+00,  6.31149120e-01]])"
      ]
     },
     "execution_count": 45,
     "metadata": {},
     "output_type": "execute_result"
    }
   ],
   "source": [
    "full_data_test_norm"
   ]
  },
  {
   "cell_type": "code",
   "execution_count": 46,
   "metadata": {},
   "outputs": [],
   "source": [
    "anomalias_indices_test = isolation_forest.predict(full_data_test_norm)\n",
    "anomalias_indices_test = np.where(anomalias_indices_test == 1, 0, anomalias_indices_test)\n",
    "anomalias_indices_test = np.where(anomalias_indices_test == -1, 1, anomalias_indices_test)"
   ]
  },
  {
   "cell_type": "code",
   "execution_count": 47,
   "metadata": {},
   "outputs": [],
   "source": [
    "df_test[\"PRED\"] = 0\n",
    "\n",
    "df_test.loc[anomalias_indices_test == 1, \"PRED\"] = 1"
   ]
  },
  {
   "cell_type": "code",
   "execution_count": 48,
   "metadata": {},
   "outputs": [
    {
     "data": {
      "text/plain": [
       "<bound method Series.unique of timestamp\n",
       "2018-06-18 06:37:37    0\n",
       "2017-08-01 15:12:58    1\n",
       "2014-01-24 19:12:16    0\n",
       "2014-01-24 10:16:30    0\n",
       "2014-01-24 17:03:06    0\n",
       "                      ..\n",
       "2018-06-18 07:54:06    0\n",
       "2017-08-01 02:36:02    0\n",
       "2014-01-26 21:34:49    1\n",
       "2017-08-01 09:44:32    0\n",
       "2018-06-17 20:04:22    0\n",
       "Name: PRED, Length: 66508, dtype: int64>"
      ]
     },
     "execution_count": 48,
     "metadata": {},
     "output_type": "execute_result"
    }
   ],
   "source": [
    "df_test[\"PRED\"].unique"
   ]
  },
  {
   "cell_type": "code",
   "execution_count": 108,
   "metadata": {},
   "outputs": [
    {
     "data": {
      "text/plain": [
       "timestamp\n",
       "2018-06-18 06:37:37    0.0\n",
       "2017-08-01 15:12:58    1.0\n",
       "2014-01-24 19:12:16    0.0\n",
       "2014-01-24 10:16:30    0.0\n",
       "2014-01-24 17:03:06    0.0\n",
       "                      ... \n",
       "2018-06-18 07:54:06    0.0\n",
       "2017-08-01 02:36:02    0.0\n",
       "2014-01-26 21:34:49    1.0\n",
       "2017-08-01 09:44:32    1.0\n",
       "2018-06-17 20:04:22    0.0\n",
       "Name: class, Length: 66508, dtype: float64"
      ]
     },
     "execution_count": 108,
     "metadata": {},
     "output_type": "execute_result"
    }
   ],
   "source": [
    "df_test[\"class\"]"
   ]
  },
  {
   "cell_type": "code",
   "execution_count": 49,
   "metadata": {},
   "outputs": [
    {
     "data": {
      "text/plain": [
       "0.9314819269862272"
      ]
     },
     "execution_count": 49,
     "metadata": {},
     "output_type": "execute_result"
    }
   ],
   "source": [
    "accuracy_score(df_test['class'].values, df_test[\"PRED\"].values)"
   ]
  },
  {
   "cell_type": "code",
   "execution_count": 50,
   "metadata": {},
   "outputs": [],
   "source": [
    "precision = precision_score(df_test['class'].values,  df_test[\"PRED\"].values, average=None)\n",
    "recall = recall_score(df_test['class'].values,  df_test[\"PRED\"].values, average=None)\n",
    "f1 = f1_score(df_test['class'].values,  df_test[\"PRED\"].values, average=None)"
   ]
  },
  {
   "cell_type": "code",
   "execution_count": 51,
   "metadata": {},
   "outputs": [
    {
     "name": "stdout",
     "output_type": "stream",
     "text": [
      "Classe 0:\n",
      "Precision: 0.9461985406720115\n",
      "Recall: 0.95093135368807\n",
      "F1-score: 0.948559043652003\n",
      "\n",
      "Classe 1:\n",
      "Precision: 0.9019182048498009\n",
      "Recall: 0.892989921612542\n",
      "F1-score: 0.8974318575705058\n",
      "\n"
     ]
    }
   ],
   "source": [
    "for i in range(len(precision)):\n",
    "    print(f'Classe {i}:')\n",
    "    print(f'Precision: {precision[i]}')\n",
    "    print(f'Recall: {recall[i]}')\n",
    "    print(f'F1-score: {f1[i]}\\n')"
   ]
  }
 ],
 "metadata": {
  "kernelspec": {
   "display_name": "venv3WPetrobras",
   "language": "python",
   "name": "venv3wpetrobras"
  },
  "language_info": {
   "codemirror_mode": {
    "name": "ipython",
    "version": 3
   },
   "file_extension": ".py",
   "mimetype": "text/x-python",
   "name": "python",
   "nbconvert_exporter": "python",
   "pygments_lexer": "ipython3",
   "version": "3.8.9"
  }
 },
 "nbformat": 4,
 "nbformat_minor": 2
}
