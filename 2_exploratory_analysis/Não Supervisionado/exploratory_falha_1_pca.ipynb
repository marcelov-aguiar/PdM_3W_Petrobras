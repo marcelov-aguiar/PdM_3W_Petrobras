{
 "cells": [
  {
   "cell_type": "code",
   "execution_count": 1,
   "metadata": {},
   "outputs": [],
   "source": [
    "import pandas as pd\n",
    "import os\n",
    "import sys\n",
    "import matplotlib.pyplot as plt\n",
    "import seaborn as sns\n",
    "import numpy as np\n",
    "import dill\n",
    "from typing import List\n",
    "import scipy.stats as sts\n",
    "from sklearn.pipeline import Pipeline\n",
    "from sklearn.decomposition import PCA\n",
    "from sklearn.preprocessing import RobustScaler\n",
    "from sklearn.metrics import f1_score\n",
    "from sklearn.metrics import precision_score, recall_score, f1_score, accuracy_score\n",
    "from sklearn.model_selection import train_test_split\n",
    "from sklearn.neighbors import KNeighborsClassifier\n",
    "from sklearn.preprocessing import StandardScaler\n",
    "from sklearn.neural_network import MLPClassifier\n",
    "\n",
    "import util\n",
    "from pathlib import Path\n",
    "from class_manipulates_path import ManipulatePath\n",
    "from class_preprocessing_refactor import Preprocessing\n",
    "from class_format_data import FormatData\n",
    "util.init()\n",
    "\n",
    "current_path = sys.path[0]"
   ]
  },
  {
   "cell_type": "code",
   "execution_count": 2,
   "metadata": {},
   "outputs": [],
   "source": [
    "def plot_variable(df, column_name, intervalos=None):\n",
    "    \"\"\"\n",
    "    Plota um gráfico de dispersão para uma variável de um DataFrame.\n",
    "\n",
    "    Parâmetros:\n",
    "        - df: DataFrame pandas contendo os dados.\n",
    "        - column_name: Nome da coluna que você deseja plotar.\n",
    "        - intervalos: Lista de intervalos para plotar linhas verticais.\n",
    "    \"\"\"\n",
    "    plt.figure(figsize=(20, 10))\n",
    "    plt.scatter(df.index.values, df[column_name].values, color='darkcyan', alpha=0.5)\n",
    "    plt.xlabel('Índice')\n",
    "    plt.ylabel(column_name)\n",
    "    plt.title(f'Gráfico de dispersão para a variável \"{column_name}\"')\n",
    "\n",
    "\n",
    "    # Plotar linhas verticais para cada intervalo\n",
    "    if intervalos:\n",
    "        for intervalo in intervalos:\n",
    "            plt.axvline(x=intervalo, linestyle='--', color='red')\n",
    "\n",
    "    plt.show()"
   ]
  },
  {
   "cell_type": "code",
   "execution_count": 3,
   "metadata": {},
   "outputs": [],
   "source": [
    "def class_and_file_generator(data_path, real=False, simulated=False, drawn=False):\n",
    "    for class_path in data_path.iterdir():\n",
    "        if class_path.is_dir():\n",
    "            class_code = int(class_path.stem)\n",
    "            for instance_path in class_path.iterdir():\n",
    "                if (instance_path.suffix == '.csv'):\n",
    "                    if (simulated and instance_path.stem.startswith('SIMULATED')) or \\\n",
    "                       (drawn and instance_path.stem.startswith('DRAWN')) or \\\n",
    "                       (real and (not instance_path.stem.startswith('SIMULATED')) and \\\n",
    "                       (not instance_path.stem.startswith('DRAWN'))):\n",
    "                        yield class_code, instance_path"
   ]
  },
  {
   "cell_type": "code",
   "execution_count": 4,
   "metadata": {},
   "outputs": [],
   "source": [
    "manipulate_path = ManipulatePath()\n",
    "\n",
    "preprocessing = Preprocessing()\n",
    "\n",
    "format_data = FormatData()\n",
    "\n",
    "path_raw_data = manipulate_path.get_path_raw_data()\n",
    "\n",
    "abnormal_classes_codes = [1, 2, 5, 6, 7, 8]"
   ]
  },
  {
   "cell_type": "code",
   "execution_count": 5,
   "metadata": {},
   "outputs": [],
   "source": [
    "# Gets all real instances but maintains only those with any type of undesirable event\n",
    "real_instances = pd.DataFrame(class_and_file_generator(path_raw_data, \n",
    "                                                       real=True,\n",
    "                                                       simulated=False, \n",
    "                                                       drawn=False),\n",
    "                              columns=['class_code', 'instance_path'])\n",
    "real_instances = real_instances.loc[real_instances.iloc[:,0].isin(abnormal_classes_codes)].reset_index(drop=True)"
   ]
  },
  {
   "cell_type": "code",
   "execution_count": 6,
   "metadata": {},
   "outputs": [
    {
     "data": {
      "text/html": [
       "<div>\n",
       "<style scoped>\n",
       "    .dataframe tbody tr th:only-of-type {\n",
       "        vertical-align: middle;\n",
       "    }\n",
       "\n",
       "    .dataframe tbody tr th {\n",
       "        vertical-align: top;\n",
       "    }\n",
       "\n",
       "    .dataframe thead th {\n",
       "        text-align: right;\n",
       "    }\n",
       "</style>\n",
       "<table border=\"1\" class=\"dataframe\">\n",
       "  <thead>\n",
       "    <tr style=\"text-align: right;\">\n",
       "      <th></th>\n",
       "      <th>class_code</th>\n",
       "      <th>instance_path</th>\n",
       "    </tr>\n",
       "  </thead>\n",
       "  <tbody>\n",
       "    <tr>\n",
       "      <th>0</th>\n",
       "      <td>1</td>\n",
       "      <td>c:\\Users\\marce\\Documents\\MEGA\\0_PUC-Rio\\2_Peri...</td>\n",
       "    </tr>\n",
       "    <tr>\n",
       "      <th>1</th>\n",
       "      <td>1</td>\n",
       "      <td>c:\\Users\\marce\\Documents\\MEGA\\0_PUC-Rio\\2_Peri...</td>\n",
       "    </tr>\n",
       "    <tr>\n",
       "      <th>2</th>\n",
       "      <td>1</td>\n",
       "      <td>c:\\Users\\marce\\Documents\\MEGA\\0_PUC-Rio\\2_Peri...</td>\n",
       "    </tr>\n",
       "    <tr>\n",
       "      <th>3</th>\n",
       "      <td>1</td>\n",
       "      <td>c:\\Users\\marce\\Documents\\MEGA\\0_PUC-Rio\\2_Peri...</td>\n",
       "    </tr>\n",
       "    <tr>\n",
       "      <th>4</th>\n",
       "      <td>1</td>\n",
       "      <td>c:\\Users\\marce\\Documents\\MEGA\\0_PUC-Rio\\2_Peri...</td>\n",
       "    </tr>\n",
       "  </tbody>\n",
       "</table>\n",
       "</div>"
      ],
      "text/plain": [
       "   class_code                                      instance_path\n",
       "0           1  c:\\Users\\marce\\Documents\\MEGA\\0_PUC-Rio\\2_Peri...\n",
       "1           1  c:\\Users\\marce\\Documents\\MEGA\\0_PUC-Rio\\2_Peri...\n",
       "2           1  c:\\Users\\marce\\Documents\\MEGA\\0_PUC-Rio\\2_Peri...\n",
       "3           1  c:\\Users\\marce\\Documents\\MEGA\\0_PUC-Rio\\2_Peri...\n",
       "4           1  c:\\Users\\marce\\Documents\\MEGA\\0_PUC-Rio\\2_Peri..."
      ]
     },
     "execution_count": 6,
     "metadata": {},
     "output_type": "execute_result"
    }
   ],
   "source": [
    "real_instances[real_instances[\"class_code\"] == 1]"
   ]
  },
  {
   "cell_type": "code",
   "execution_count": 7,
   "metadata": {},
   "outputs": [
    {
     "data": {
      "text/plain": [
       "array([WindowsPath('c:/Users/marce/Documents/MEGA/0_PUC-Rio/2_Periodo/2_Data Science/2_Trabalho_Final/3_3W/1_data/1_raw_data/1/WELL-00001_20140124093303.csv'),\n",
       "       WindowsPath('c:/Users/marce/Documents/MEGA/0_PUC-Rio/2_Periodo/2_Data Science/2_Trabalho_Final/3_3W/1_data/1_raw_data/1/WELL-00002_20140126161944.csv'),\n",
       "       WindowsPath('c:/Users/marce/Documents/MEGA/0_PUC-Rio/2_Periodo/2_Data Science/2_Trabalho_Final/3_3W/1_data/1_raw_data/1/WELL-00006_20170731180930.csv'),\n",
       "       WindowsPath('c:/Users/marce/Documents/MEGA/0_PUC-Rio/2_Periodo/2_Data Science/2_Trabalho_Final/3_3W/1_data/1_raw_data/1/WELL-00006_20170731220432.csv'),\n",
       "       WindowsPath('c:/Users/marce/Documents/MEGA/0_PUC-Rio/2_Periodo/2_Data Science/2_Trabalho_Final/3_3W/1_data/1_raw_data/1/WELL-00006_20180617200257.csv')],\n",
       "      dtype=object)"
      ]
     },
     "execution_count": 7,
     "metadata": {},
     "output_type": "execute_result"
    }
   ],
   "source": [
    "real_instances[real_instances[\"class_code\"] == 1][\"instance_path\"].values"
   ]
  },
  {
   "cell_type": "code",
   "execution_count": 8,
   "metadata": {},
   "outputs": [
    {
     "name": "stdout",
     "output_type": "stream",
     "text": [
      "1 se repete 4603\n",
      "Index min 2014-01-24 09:33:03 index max 2014-01-25 01:47:30\n",
      "1 se repete 2929\n",
      "Index min 2014-01-26 16:19:44 index max 2014-01-26 23:00:00\n",
      "1 se repete 1205\n",
      "Index min 2017-07-31 18:09:30 index max 2017-08-01 20:45:00\n",
      "1 se repete 861\n",
      "Index min 2017-07-31 22:04:32 index max 2017-08-01 20:19:27\n",
      "1 se repete 819\n",
      "Index min 2018-06-17 20:02:57 index max 2018-06-18 11:00:00\n"
     ]
    }
   ],
   "source": [
    "falha = 1\n",
    "\n",
    "file_paths = real_instances[real_instances[\"class_code\"] == falha][\"instance_path\"].values\n",
    "df_output = pd.DataFrame()\n",
    "\n",
    "for file_path in file_paths:\n",
    "    df_data = pd.read_csv(file_path)\n",
    "\n",
    "    df_data = FormatData.set_index_dataframe(df_data=df_data,\n",
    "                                         column_name=\"timestamp\")\n",
    "    quantidade = (df_data['class'] == falha).sum()\n",
    "    print(f\"1 se repete {quantidade}\")\n",
    "    print(f\"Index min {df_data.index.min()} index max {df_data.index.max()}\")\n",
    "    \n",
    "    df_output = pd.concat([df_output, df_data], axis=0)"
   ]
  },
  {
   "cell_type": "code",
   "execution_count": 9,
   "metadata": {},
   "outputs": [],
   "source": [
    "df_output = df_output[~df_output.index.duplicated()]"
   ]
  },
  {
   "cell_type": "code",
   "execution_count": 10,
   "metadata": {},
   "outputs": [
    {
     "data": {
      "text/html": [
       "<div>\n",
       "<style scoped>\n",
       "    .dataframe tbody tr th:only-of-type {\n",
       "        vertical-align: middle;\n",
       "    }\n",
       "\n",
       "    .dataframe tbody tr th {\n",
       "        vertical-align: top;\n",
       "    }\n",
       "\n",
       "    .dataframe thead th {\n",
       "        text-align: right;\n",
       "    }\n",
       "</style>\n",
       "<table border=\"1\" class=\"dataframe\">\n",
       "  <thead>\n",
       "    <tr style=\"text-align: right;\">\n",
       "      <th></th>\n",
       "      <th>P-PDG</th>\n",
       "      <th>P-TPT</th>\n",
       "      <th>T-TPT</th>\n",
       "      <th>P-MON-CKP</th>\n",
       "      <th>T-JUS-CKP</th>\n",
       "      <th>P-JUS-CKGL</th>\n",
       "      <th>T-JUS-CKGL</th>\n",
       "      <th>QGL</th>\n",
       "      <th>class</th>\n",
       "    </tr>\n",
       "    <tr>\n",
       "      <th>timestamp</th>\n",
       "      <th></th>\n",
       "      <th></th>\n",
       "      <th></th>\n",
       "      <th></th>\n",
       "      <th></th>\n",
       "      <th></th>\n",
       "      <th></th>\n",
       "      <th></th>\n",
       "      <th></th>\n",
       "    </tr>\n",
       "  </thead>\n",
       "  <tbody>\n",
       "    <tr>\n",
       "      <th>2014-01-24 09:33:03</th>\n",
       "      <td>0.0</td>\n",
       "      <td>18433410.0</td>\n",
       "      <td>116.8718</td>\n",
       "      <td>9397031.0</td>\n",
       "      <td>74.80031</td>\n",
       "      <td>-300917.8</td>\n",
       "      <td>NaN</td>\n",
       "      <td>0.0</td>\n",
       "      <td>0.0</td>\n",
       "    </tr>\n",
       "    <tr>\n",
       "      <th>2014-01-24 09:33:04</th>\n",
       "      <td>0.0</td>\n",
       "      <td>18433410.0</td>\n",
       "      <td>116.8718</td>\n",
       "      <td>9397031.0</td>\n",
       "      <td>74.80031</td>\n",
       "      <td>-300917.8</td>\n",
       "      <td>NaN</td>\n",
       "      <td>0.0</td>\n",
       "      <td>0.0</td>\n",
       "    </tr>\n",
       "    <tr>\n",
       "      <th>2014-01-24 09:33:05</th>\n",
       "      <td>0.0</td>\n",
       "      <td>18433410.0</td>\n",
       "      <td>116.8718</td>\n",
       "      <td>9397032.0</td>\n",
       "      <td>74.80031</td>\n",
       "      <td>-300917.8</td>\n",
       "      <td>NaN</td>\n",
       "      <td>0.0</td>\n",
       "      <td>0.0</td>\n",
       "    </tr>\n",
       "    <tr>\n",
       "      <th>2014-01-24 09:33:06</th>\n",
       "      <td>0.0</td>\n",
       "      <td>18433410.0</td>\n",
       "      <td>116.8718</td>\n",
       "      <td>9397033.0</td>\n",
       "      <td>74.80031</td>\n",
       "      <td>-300917.8</td>\n",
       "      <td>NaN</td>\n",
       "      <td>0.0</td>\n",
       "      <td>0.0</td>\n",
       "    </tr>\n",
       "    <tr>\n",
       "      <th>2014-01-24 09:33:07</th>\n",
       "      <td>0.0</td>\n",
       "      <td>18433410.0</td>\n",
       "      <td>116.8718</td>\n",
       "      <td>9397033.0</td>\n",
       "      <td>74.80031</td>\n",
       "      <td>-300917.8</td>\n",
       "      <td>NaN</td>\n",
       "      <td>0.0</td>\n",
       "      <td>0.0</td>\n",
       "    </tr>\n",
       "  </tbody>\n",
       "</table>\n",
       "</div>"
      ],
      "text/plain": [
       "                     P-PDG       P-TPT     T-TPT  P-MON-CKP  T-JUS-CKP  \\\n",
       "timestamp                                                                \n",
       "2014-01-24 09:33:03    0.0  18433410.0  116.8718  9397031.0   74.80031   \n",
       "2014-01-24 09:33:04    0.0  18433410.0  116.8718  9397031.0   74.80031   \n",
       "2014-01-24 09:33:05    0.0  18433410.0  116.8718  9397032.0   74.80031   \n",
       "2014-01-24 09:33:06    0.0  18433410.0  116.8718  9397033.0   74.80031   \n",
       "2014-01-24 09:33:07    0.0  18433410.0  116.8718  9397033.0   74.80031   \n",
       "\n",
       "                     P-JUS-CKGL  T-JUS-CKGL  QGL  class  \n",
       "timestamp                                                \n",
       "2014-01-24 09:33:03   -300917.8         NaN  0.0    0.0  \n",
       "2014-01-24 09:33:04   -300917.8         NaN  0.0    0.0  \n",
       "2014-01-24 09:33:05   -300917.8         NaN  0.0    0.0  \n",
       "2014-01-24 09:33:06   -300917.8         NaN  0.0    0.0  \n",
       "2014-01-24 09:33:07   -300917.8         NaN  0.0    0.0  "
      ]
     },
     "execution_count": 10,
     "metadata": {},
     "output_type": "execute_result"
    }
   ],
   "source": [
    "df_output.head()"
   ]
  },
  {
   "cell_type": "code",
   "execution_count": 11,
   "metadata": {},
   "outputs": [
    {
     "data": {
      "text/html": [
       "<div>\n",
       "<style scoped>\n",
       "    .dataframe tbody tr th:only-of-type {\n",
       "        vertical-align: middle;\n",
       "    }\n",
       "\n",
       "    .dataframe tbody tr th {\n",
       "        vertical-align: top;\n",
       "    }\n",
       "\n",
       "    .dataframe thead th {\n",
       "        text-align: right;\n",
       "    }\n",
       "</style>\n",
       "<table border=\"1\" class=\"dataframe\">\n",
       "  <thead>\n",
       "    <tr style=\"text-align: right;\">\n",
       "      <th></th>\n",
       "      <th>P-PDG</th>\n",
       "      <th>P-TPT</th>\n",
       "      <th>T-TPT</th>\n",
       "      <th>P-MON-CKP</th>\n",
       "      <th>T-JUS-CKP</th>\n",
       "      <th>P-JUS-CKGL</th>\n",
       "      <th>class</th>\n",
       "    </tr>\n",
       "    <tr>\n",
       "      <th>timestamp</th>\n",
       "      <th></th>\n",
       "      <th></th>\n",
       "      <th></th>\n",
       "      <th></th>\n",
       "      <th></th>\n",
       "      <th></th>\n",
       "      <th></th>\n",
       "    </tr>\n",
       "  </thead>\n",
       "  <tbody>\n",
       "    <tr>\n",
       "      <th>2014-01-24 09:33:03</th>\n",
       "      <td>0.000000e+00</td>\n",
       "      <td>18433410.0</td>\n",
       "      <td>116.8718</td>\n",
       "      <td>9397031.0</td>\n",
       "      <td>74.80031</td>\n",
       "      <td>-300917.8</td>\n",
       "      <td>0.0</td>\n",
       "    </tr>\n",
       "    <tr>\n",
       "      <th>2014-01-24 09:33:04</th>\n",
       "      <td>0.000000e+00</td>\n",
       "      <td>18433410.0</td>\n",
       "      <td>116.8718</td>\n",
       "      <td>9397031.0</td>\n",
       "      <td>74.80031</td>\n",
       "      <td>-300917.8</td>\n",
       "      <td>0.0</td>\n",
       "    </tr>\n",
       "    <tr>\n",
       "      <th>2014-01-24 09:33:05</th>\n",
       "      <td>0.000000e+00</td>\n",
       "      <td>18433410.0</td>\n",
       "      <td>116.8718</td>\n",
       "      <td>9397032.0</td>\n",
       "      <td>74.80031</td>\n",
       "      <td>-300917.8</td>\n",
       "      <td>0.0</td>\n",
       "    </tr>\n",
       "    <tr>\n",
       "      <th>2014-01-24 09:33:06</th>\n",
       "      <td>0.000000e+00</td>\n",
       "      <td>18433410.0</td>\n",
       "      <td>116.8718</td>\n",
       "      <td>9397033.0</td>\n",
       "      <td>74.80031</td>\n",
       "      <td>-300917.8</td>\n",
       "      <td>0.0</td>\n",
       "    </tr>\n",
       "    <tr>\n",
       "      <th>2014-01-24 09:33:07</th>\n",
       "      <td>0.000000e+00</td>\n",
       "      <td>18433410.0</td>\n",
       "      <td>116.8718</td>\n",
       "      <td>9397033.0</td>\n",
       "      <td>74.80031</td>\n",
       "      <td>-300917.8</td>\n",
       "      <td>0.0</td>\n",
       "    </tr>\n",
       "    <tr>\n",
       "      <th>...</th>\n",
       "      <td>...</td>\n",
       "      <td>...</td>\n",
       "      <td>...</td>\n",
       "      <td>...</td>\n",
       "      <td>...</td>\n",
       "      <td>...</td>\n",
       "      <td>...</td>\n",
       "    </tr>\n",
       "    <tr>\n",
       "      <th>2018-06-18 10:59:56</th>\n",
       "      <td>-1.180116e+42</td>\n",
       "      <td>20647810.0</td>\n",
       "      <td>118.2188</td>\n",
       "      <td>10136700.0</td>\n",
       "      <td>71.27952</td>\n",
       "      <td>4108865.0</td>\n",
       "      <td>1.0</td>\n",
       "    </tr>\n",
       "    <tr>\n",
       "      <th>2018-06-18 10:59:57</th>\n",
       "      <td>-1.180116e+42</td>\n",
       "      <td>20647810.0</td>\n",
       "      <td>118.2194</td>\n",
       "      <td>10137410.0</td>\n",
       "      <td>71.27949</td>\n",
       "      <td>4108866.0</td>\n",
       "      <td>1.0</td>\n",
       "    </tr>\n",
       "    <tr>\n",
       "      <th>2018-06-18 10:59:58</th>\n",
       "      <td>-1.180116e+42</td>\n",
       "      <td>20647810.0</td>\n",
       "      <td>118.2201</td>\n",
       "      <td>10138120.0</td>\n",
       "      <td>71.27946</td>\n",
       "      <td>4108866.0</td>\n",
       "      <td>1.0</td>\n",
       "    </tr>\n",
       "    <tr>\n",
       "      <th>2018-06-18 10:59:59</th>\n",
       "      <td>-1.180116e+42</td>\n",
       "      <td>20647810.0</td>\n",
       "      <td>118.2207</td>\n",
       "      <td>10138830.0</td>\n",
       "      <td>71.27944</td>\n",
       "      <td>4108867.0</td>\n",
       "      <td>1.0</td>\n",
       "    </tr>\n",
       "    <tr>\n",
       "      <th>2018-06-18 11:00:00</th>\n",
       "      <td>-1.180116e+42</td>\n",
       "      <td>20647810.0</td>\n",
       "      <td>118.2214</td>\n",
       "      <td>10139540.0</td>\n",
       "      <td>71.27942</td>\n",
       "      <td>4108867.0</td>\n",
       "      <td>1.0</td>\n",
       "    </tr>\n",
       "  </tbody>\n",
       "</table>\n",
       "<p>232040 rows × 7 columns</p>\n",
       "</div>"
      ],
      "text/plain": [
       "                            P-PDG       P-TPT     T-TPT   P-MON-CKP  \\\n",
       "timestamp                                                             \n",
       "2014-01-24 09:33:03  0.000000e+00  18433410.0  116.8718   9397031.0   \n",
       "2014-01-24 09:33:04  0.000000e+00  18433410.0  116.8718   9397031.0   \n",
       "2014-01-24 09:33:05  0.000000e+00  18433410.0  116.8718   9397032.0   \n",
       "2014-01-24 09:33:06  0.000000e+00  18433410.0  116.8718   9397033.0   \n",
       "2014-01-24 09:33:07  0.000000e+00  18433410.0  116.8718   9397033.0   \n",
       "...                           ...         ...       ...         ...   \n",
       "2018-06-18 10:59:56 -1.180116e+42  20647810.0  118.2188  10136700.0   \n",
       "2018-06-18 10:59:57 -1.180116e+42  20647810.0  118.2194  10137410.0   \n",
       "2018-06-18 10:59:58 -1.180116e+42  20647810.0  118.2201  10138120.0   \n",
       "2018-06-18 10:59:59 -1.180116e+42  20647810.0  118.2207  10138830.0   \n",
       "2018-06-18 11:00:00 -1.180116e+42  20647810.0  118.2214  10139540.0   \n",
       "\n",
       "                     T-JUS-CKP  P-JUS-CKGL  class  \n",
       "timestamp                                          \n",
       "2014-01-24 09:33:03   74.80031   -300917.8    0.0  \n",
       "2014-01-24 09:33:04   74.80031   -300917.8    0.0  \n",
       "2014-01-24 09:33:05   74.80031   -300917.8    0.0  \n",
       "2014-01-24 09:33:06   74.80031   -300917.8    0.0  \n",
       "2014-01-24 09:33:07   74.80031   -300917.8    0.0  \n",
       "...                        ...         ...    ...  \n",
       "2018-06-18 10:59:56   71.27952   4108865.0    1.0  \n",
       "2018-06-18 10:59:57   71.27949   4108866.0    1.0  \n",
       "2018-06-18 10:59:58   71.27946   4108866.0    1.0  \n",
       "2018-06-18 10:59:59   71.27944   4108867.0    1.0  \n",
       "2018-06-18 11:00:00   71.27942   4108867.0    1.0  \n",
       "\n",
       "[232040 rows x 7 columns]"
      ]
     },
     "execution_count": 11,
     "metadata": {},
     "output_type": "execute_result"
    }
   ],
   "source": [
    "df_aux = df_output.drop(columns=[\"QGL\", \"T-JUS-CKGL\"])\n",
    "df_aux"
   ]
  },
  {
   "cell_type": "code",
   "execution_count": 12,
   "metadata": {},
   "outputs": [
    {
     "name": "stdout",
     "output_type": "stream",
     "text": [
      "P-PDG null data is 0.0\n",
      "P-TPT null data is 0.0\n",
      "T-TPT null data is 0.0\n",
      "P-MON-CKP null data is 0.0\n",
      "T-JUS-CKP null data is 0.0\n",
      "P-JUS-CKGL null data is 0.0\n",
      "class null data is 4.459575935183589\n"
     ]
    }
   ],
   "source": [
    "for column_name in df_aux.columns:\n",
    "    percent = Preprocessing.check_null_dataframe(df_data=df_aux, column_name=column_name)\n",
    "    print(f\"{column_name} null data is {percent}\")"
   ]
  },
  {
   "cell_type": "code",
   "execution_count": 13,
   "metadata": {},
   "outputs": [
    {
     "data": {
      "text/plain": [
       "(221692, 7)"
      ]
     },
     "execution_count": 13,
     "metadata": {},
     "output_type": "execute_result"
    }
   ],
   "source": [
    "df_aux = df_aux.dropna()\n",
    "df_aux.shape"
   ]
  },
  {
   "cell_type": "code",
   "execution_count": 14,
   "metadata": {},
   "outputs": [
    {
     "name": "stdout",
     "output_type": "stream",
     "text": [
      "P-PDG low variance is 0\n",
      "P-TPT low variance is 0\n",
      "T-TPT low variance is 0\n",
      "P-MON-CKP low variance is 0\n",
      "T-JUS-CKP low variance is 0\n",
      "P-JUS-CKGL low variance is 0\n",
      "class low variance is 0\n"
     ]
    }
   ],
   "source": [
    "for column_name in df_aux.columns:\n",
    "    percent = Preprocessing.check_column_low_variance(df_data=df_output, column_name=column_name)\n",
    "    print(f\"{column_name} low variance is {percent}\")"
   ]
  },
  {
   "cell_type": "code",
   "execution_count": 15,
   "metadata": {},
   "outputs": [
    {
     "name": "stderr",
     "output_type": "stream",
     "text": [
      "C:\\Users\\marce\\AppData\\Local\\Temp\\ipykernel_49028\\311632643.py:1: SettingWithCopyWarning: \n",
      "A value is trying to be set on a copy of a slice from a DataFrame.\n",
      "Try using .loc[row_indexer,col_indexer] = value instead\n",
      "\n",
      "See the caveats in the documentation: https://pandas.pydata.org/pandas-docs/stable/user_guide/indexing.html#returning-a-view-versus-a-copy\n",
      "  df_aux[\"class\"] = df_aux[\"class\"].replace(101, 1)\n"
     ]
    }
   ],
   "source": [
    "df_aux[\"class\"] = df_aux[\"class\"].replace(101, 1)"
   ]
  },
  {
   "cell_type": "code",
   "execution_count": 16,
   "metadata": {},
   "outputs": [
    {
     "data": {
      "text/plain": [
       "class\n",
       "0.0    66.432257\n",
       "1.0    33.567743\n",
       "Name: count, dtype: float64"
      ]
     },
     "execution_count": 16,
     "metadata": {},
     "output_type": "execute_result"
    }
   ],
   "source": [
    "contagem_classes = df_aux['class'].value_counts()\n",
    "\n",
    "# Calcular a porcentagem de cada classe\n",
    "porcentagem_classes = contagem_classes / len(df_aux) * 100\n",
    "porcentagem_classes"
   ]
  },
  {
   "cell_type": "code",
   "execution_count": 17,
   "metadata": {},
   "outputs": [],
   "source": [
    "# Separar as features (X) e os rótulos (y)\n",
    "X = df_aux.drop('class', axis=1)\n",
    "y = df_aux['class']\n",
    "\n",
    "X_train, X_test, y_train, y_test = train_test_split(X, y, test_size=0.3, stratify=y, random_state=42)\n",
    "\n",
    "df_train = X_train.copy()\n",
    "df_train[\"class\"] = y_train\n",
    "\n",
    "df_test = X_test.copy()\n",
    "df_test[\"class\"] = y_test"
   ]
  },
  {
   "cell_type": "code",
   "execution_count": 18,
   "metadata": {},
   "outputs": [],
   "source": [
    "# define AnomalyDetection Class\n",
    "class AnomalyDetection:\n",
    "\n",
    "    def __init__(self,\n",
    "                 train: pd.DataFrame,\n",
    "                 n_components: int,\n",
    "                 columns: List[str],\n",
    "                 alpha: float=0.05) -> None:\n",
    "        \"\"\"\n",
    "        class to detect anomalies using PCA\n",
    "\n",
    "        Parameters\n",
    "        ----------\n",
    "        train : pd.DataFrame\n",
    "            data to train PCA\n",
    "        n_components : int\n",
    "            number of components to be\n",
    "            held\n",
    "        alpha : float, optional\n",
    "            significance level, by default 0.05\n",
    "        \"\"\"\n",
    "        self.train = train\n",
    "        self.n = n_components\n",
    "        self.confidence = 1-alpha\n",
    "        self.columns = columns\n",
    "\n",
    "    def fit_model(self) -> None:\n",
    "        \"\"\"\n",
    "        fits the PCA model\n",
    "        \"\"\"\n",
    "        # fits with all components\n",
    "        self.pipePCA_all = Pipeline([\n",
    "            ('scaler', RobustScaler()),\n",
    "            ('model', PCA())\n",
    "        ])\n",
    "\n",
    "        # fits with only the desired components\n",
    "        self.pipePCA = Pipeline([\n",
    "            ('scaler', RobustScaler()),\n",
    "            ('model', PCA(n_components=self.n))\n",
    "        ])\n",
    "\n",
    "        self.pipePCA_all.fit(self.train.values)\n",
    "        self.pipePCA.fit(self.train.values)\n",
    "\n",
    "        # calculate confidence level for SPE\n",
    "        self.max_SPE()\n",
    "\n",
    "        # calculates the statistical limit for T2\n",
    "        self.max_T2()\n",
    "\n",
    "        with open(os.path.join(current_path, \"models\", \"pipePCA_all.dill\"), 'wb') as file:\n",
    "            dill.dump(self.pipePCA_all, file)\n",
    "        \n",
    "        with open(os.path.join(current_path, \"models\", \"pipePCA.dill\"), 'wb') as file:\n",
    "            dill.dump(self.pipePCA, file)\n",
    "\n",
    "    def calculate_T2(self,\n",
    "                      anomaly_data: pd.DataFrame) -> None:\n",
    "        \"\"\"\n",
    "        calculates the T2 statistics for the\n",
    "        inputted data\n",
    "\n",
    "        Parameters\n",
    "        ----------\n",
    "        anomaly_data : pd.DataFrame\n",
    "            inputted data\n",
    "        \n",
    "        \"\"\"\n",
    "        self.test = anomaly_data\n",
    "\n",
    "        # preprare T2 calculation\n",
    "        self.P = self.pipePCA['model'].components_.T\n",
    "        lambdas = self.pipePCA['model'].explained_variance_\n",
    "\n",
    "        # apply scaler on anomalous data\n",
    "        self.x_std = self.pipePCA['scaler'].transform(self.test[self.columns].values)\n",
    "\n",
    "        # apply algebra to calculate T2\n",
    "        t2s = np.array([\n",
    "            xi.dot(self.P).dot(np.diag(lambdas**(-1))).dot(self.P.T).dot(xi.T)\n",
    "            for xi in self.x_std\n",
    "        ])\n",
    "\n",
    "        # store t2s\n",
    "        self.test['Hotelling_T2'] = t2s\n",
    "\n",
    "    def max_T2(self) -> None:\n",
    "        \"\"\"\n",
    "        calculates the maximum T2\n",
    "        \"\"\"\n",
    "        N = self.pipePCA['model'].n_components_\n",
    "        n = self.train.shape[0]\n",
    "        factor = (N*(n-1)) / (n-N)\n",
    "        self.pipePCA._max_t2 = sts.f.ppf(self.confidence, N, n-N)\n",
    "\n",
    "    def calculate_SPE(self) -> None:\n",
    "        \"\"\"\n",
    "        calculates the Squared Prediction Error for the \n",
    "        anomalous samples\n",
    "        \"\"\"\n",
    "        self.r = self.x_std.dot(np.identity(self.P.shape[0])-self.P.dot(self.P.T))\n",
    "\n",
    "        SPE = []\n",
    "        for i in range(self.r.shape[0]):\n",
    "            SPE.append(self.r[i].dot(self.r[i].T))\n",
    "\n",
    "        self.test['SPE'] = SPE\n",
    "\n",
    "    def calculate_contributions(self) -> None:\n",
    "        \"\"\"\n",
    "        calculate individual contributions for SPE\n",
    "        \"\"\"\n",
    "        self.contributions = pd.DataFrame(self.r ** 2)\n",
    "        self.contributions.columns = self.columns\n",
    "        self.contributions.index = self.test.index\n",
    "\n",
    "    def plot_pcs(self) -> None:\n",
    "        \"\"\"\n",
    "        plots the scatterplot of the data\n",
    "        \"\"\"\n",
    "\n",
    "        # make the transformation\n",
    "        self.norm_pcs = pd.DataFrame(\n",
    "            self.pipePCA.transform(self.train),\n",
    "            index=self.train.index,\n",
    "            columns=[f'PC{k+1}' for k in range(self.pipePCA['model'].n_components_)])\n",
    "        self.anom_pcs = pd.DataFrame(\n",
    "            self.pipePCA.transform(self.test[self.columns]),\n",
    "            index=self.test.index,\n",
    "            columns=[f'PC{k+1}' for k in range(self.pipePCA['model'].n_components_)])\n",
    "\n",
    "        fig = plt.figure(figsize=(10, 10))\n",
    "        ax = fig.add_subplot(1, 1, 1)\n",
    "        ax.scatter(x=self.anom_pcs['PC1'], y=self.anom_pcs['PC2'], color='red', marker='x', alpha=0.5,\n",
    "                   label='Potential Anomalies')\n",
    "        ax.scatter(x=self.norm_pcs['PC1'], y=self.norm_pcs['PC2'], color='darkgreen', marker='o', alpha=0.8,\n",
    "                   label='Normal Operation')\n",
    "\n",
    "        ax.set_xlabel('PC1', size=24)\n",
    "        ax.set_ylabel('PC2', size=24)\n",
    "        ax.set_title('Projection of Fuel Gas Consumption\\nPrincipal Components', size=28)\n",
    "        ax.legend(loc='best', prop={'size': 16}, facecolor='white')\n",
    "        ax.tick_params(axis='x', labelsize=16)\n",
    "        ax.tick_params(axis='y', labelsize=16)\n",
    "\n",
    "    def max_SPE(self) -> None:\n",
    "        \"\"\"\n",
    "        calculates the maximum limit for SPE\n",
    "        \"\"\"\n",
    "        lambdas_all = self.pipePCA_all['model'].explained_variance_\n",
    "\n",
    "        # calculate theta\n",
    "        theta1 = self.theta(lambdas_all, self.n, 1, self.train.shape[1])\n",
    "        theta2 = self.theta(lambdas_all, self.n, 2, self.train.shape[1])\n",
    "        theta3 = self.theta(lambdas_all, self.n, 3, self.train.shape[1])\n",
    "\n",
    "        # calculate h0 parameter\n",
    "        h0 = 1 - ((2 * theta1 * theta3) / (3 * (theta2 ** 2)))\n",
    "        \n",
    "        # calculate critical value for desired confidence\n",
    "        critical_alpha = sts.norm.ppf(self.confidence)\n",
    "\n",
    "        # calculate max SPE\n",
    "        self.pipePCA._max_spe = theta1 * ((((critical_alpha * np.sqrt(2 * theta2 * (h0 ** 2)))/\n",
    "                              theta1) + 1 + (theta2 * h0 * (h0 - 1))/(theta1 ** 2)) ** (1/ h0 ))\n",
    "\n",
    "    @staticmethod\n",
    "    def theta(lambdas: list, n: int, idx: int, no_sensors: int) -> float:\n",
    "        \"\"\"\n",
    "        calculates the theta parameter\n",
    "\n",
    "        Parameters\n",
    "        ----------\n",
    "        lambdas : list\n",
    "            list of eigenvalues\n",
    "        n : int\n",
    "            number of components held\n",
    "        idx : int\n",
    "            theta desired\n",
    "        no_sensors : int\n",
    "            number of sensors\n",
    "\n",
    "        Returns\n",
    "        -------\n",
    "        float\n",
    "            value of theta\n",
    "        \"\"\"\n",
    "        theta = 0\n",
    "        for k in range(n, no_sensors):\n",
    "            theta += (lambdas[k] ** idx)\n",
    "\n",
    "        return theta\n",
    "    \n",
    "    def plot_control_charts(self) -> None:\n",
    "        \"\"\"\n",
    "        plots the control charts of T2 and SPE\n",
    "        \"\"\"\n",
    "        fig = plt.figure(figsize=(15, 15))\n",
    "        ax = fig.add_subplot(2, 1, 1)\n",
    "        ax.plot(self.test['Hotelling_T2'], 'k-', lw=0.7)\n",
    "        ax.axhline(y = self.pipePCA._max_t2, color='red', lw=2, ls='--')\n",
    "        ax.set_ylabel('Hotellings T²', size=24)\n",
    "        ax.set_title('Hotelling T² Statistics Plot - {} % confidence level'.\n",
    "                     format(self.confidence*100), size=28)\n",
    "        ax.tick_params(axis='x', labelsize=20)\n",
    "        ax.tick_params(axis='y', labelsize=20)\n",
    "        plt.grid(True, alpha=0.5)\n",
    "\n",
    "        ax = fig.add_subplot(2, 1, 2)\n",
    "        ax.plot(self.test['SPE'], 'k-', lw=0.7)\n",
    "        ax.axhline(y = self.pipePCA._max_spe, color='red', lw=2, ls='--')\n",
    "        ax.set_ylabel('Squared Prediction Error', size=24)\n",
    "        ax.set_title('SPE Statistics Plot - {} % confidence level'.\n",
    "                     format(self.confidence*100), size=28)\n",
    "        ax.tick_params(axis='x', labelsize=20)\n",
    "        ax.tick_params(axis='y', labelsize=20)\n",
    "        plt.grid(True, alpha=0.5)\n",
    "\n",
    "        plt.tight_layout()\n",
    "        plt.show()\n",
    "\n",
    "    def plot_contributions(self, idx: object) -> None:\n",
    "        \"\"\"\n",
    "        plots a bar plot of the contributions\n",
    "        for a selected index\n",
    "\n",
    "        Parameters\n",
    "        ----------\n",
    "        idx : object\n",
    "            index of the point\n",
    "        \"\"\"\n",
    "        # extract point\n",
    "        series = self.contributions.loc[[idx],:].T\n",
    "        series.columns = ['contributions']\n",
    "        \n",
    "        # sort values\n",
    "        series.sort_values(by=['contributions'], inplace=True)\n",
    "        \n",
    "        # make the plot\n",
    "        fig = plt.figure(figsize=(10, 10))\n",
    "        ax = fig.add_subplot(1, 1, 1)\n",
    "        ax.barh(y=series.index, width=series['contributions'].values, color='orange')\n",
    "        ax.set_xlabel('Contribution to SPE', size=24)\n",
    "        ax.set_title('Individual Tag contributions to SPE', size=28)\n",
    "        ax.tick_params(axis='x', labelsize=20)\n",
    "        ax.tick_params(axis='y', labelsize=20)\n",
    "\n",
    "# define AnomalyDetection Class\n",
    "class RealTimeAnomalyDetection:\n",
    "\n",
    "    def __init__(self,\n",
    "                 n_components: int,\n",
    "                 columns: List[str],\n",
    "                 alpha: float=0.05) -> None:\n",
    "        \"\"\"\n",
    "        class to detect anomalies using PCA\n",
    "\n",
    "        Parameters\n",
    "        ----------\n",
    "        train : pd.DataFrame\n",
    "            data to train PCA\n",
    "        n_components : int\n",
    "            number of components to be\n",
    "            held\n",
    "        alpha : float, optional\n",
    "            significance level, by default 0.05\n",
    "        \"\"\"\n",
    "        self.n = n_components\n",
    "        self.confidence = 1-alpha\n",
    "        self.columns = columns\n",
    "        self.load_model()\n",
    "\n",
    "    def load_model(self):\n",
    "        with open(os.path.join(current_path, \"models\", \"pipePCA_all.dill\"), 'rb') as file:\n",
    "            self.pipePCA_all = dill.load(file)\n",
    "\n",
    "        with open(os.path.join(current_path, \"models\", \"pipePCA.dill\"), 'rb') as file:\n",
    "            self.pipePCA = dill.load(file)\n",
    "    \n",
    "    def calculate_online_anomalies(self, data_online: pd.DataFrame) -> pd.DataFrame:\n",
    "        \"\"\"\n",
    "        Calculates T2, SPE, and variable contributions for online data.\n",
    "\n",
    "        Parameters\n",
    "        ----------\n",
    "        data_online : pd.DataFrame\n",
    "            New data for which anomalies need to be detected.\n",
    "\n",
    "        Returns\n",
    "        -------\n",
    "        pd.DataFrame\n",
    "            A DataFrame with T2, SPE, and variable contributions for each sample in data_online.\n",
    "        \"\"\"\n",
    "        # preprare T2 calculation\n",
    "        self.P = self.pipePCA['model'].components_.T\n",
    "        lambdas = self.pipePCA['model'].explained_variance_\n",
    "\n",
    "        # Apply the same preprocessing steps used during training on data_online\n",
    "        x_std_online = self.pipePCA['scaler'].transform(data_online[self.columns].values)\n",
    "        \n",
    "        # Apply algebra to calculate T2 for online data\n",
    "        t2s_online = np.array([\n",
    "            xi.dot(self.P).dot(np.diag(lambdas**(-1))).dot(self.P.T).dot(xi.T)\n",
    "            for xi in x_std_online\n",
    "        ])\n",
    "        \n",
    "        # Calculate SPE for online data\n",
    "        r_online = x_std_online.dot(np.identity(self.P.shape[0])-self.P.dot(self.P.T))\n",
    "        spe_online = np.array([ri.dot(ri.T) for ri in r_online])\n",
    "        \n",
    "        # Calculate variable contributions for online data\n",
    "        contributions_online = pd.DataFrame(r_online ** 2)\n",
    "        contributions_online.columns = self.columns\n",
    "        contributions_online.index = data_online.index\n",
    "        contributions_online.index.name = \"Timestamp\"\n",
    "        \n",
    "        # Create a DataFrame to store the results\n",
    "        results_df = pd.DataFrame({\n",
    "            'Timestamp': data_online.index,\n",
    "            'T2': t2s_online,\n",
    "            'SPE': spe_online\n",
    "        })\n",
    "        results_df.set_index('Timestamp', inplace=True)\n",
    "        # Add the variable contributions to the results DataFrame\n",
    "        # results_df = pd.concat([results_df, contributions_online], axis=1)\n",
    "        \n",
    "        return results_df, contributions_online"
   ]
  },
  {
   "cell_type": "code",
   "execution_count": 19,
   "metadata": {},
   "outputs": [],
   "source": [
    "full_data_train = df_train.copy()\n",
    "norm_data_train = df_train[df_train[\"class\"] == 0].copy()\n",
    "\n",
    "norm_data_train = norm_data_train.drop(columns=[\"class\"])\n",
    "\n",
    "anom_data_train = df_train[(df_train[\"class\"] == 1)].copy()\n",
    "anom_data_train = anom_data_train.drop(columns=[\"class\"])"
   ]
  },
  {
   "cell_type": "code",
   "execution_count": 20,
   "metadata": {},
   "outputs": [
    {
     "data": {
      "text/html": [
       "<style>#sk-container-id-1 {color: black;}#sk-container-id-1 pre{padding: 0;}#sk-container-id-1 div.sk-toggleable {background-color: white;}#sk-container-id-1 label.sk-toggleable__label {cursor: pointer;display: block;width: 100%;margin-bottom: 0;padding: 0.3em;box-sizing: border-box;text-align: center;}#sk-container-id-1 label.sk-toggleable__label-arrow:before {content: \"▸\";float: left;margin-right: 0.25em;color: #696969;}#sk-container-id-1 label.sk-toggleable__label-arrow:hover:before {color: black;}#sk-container-id-1 div.sk-estimator:hover label.sk-toggleable__label-arrow:before {color: black;}#sk-container-id-1 div.sk-toggleable__content {max-height: 0;max-width: 0;overflow: hidden;text-align: left;background-color: #f0f8ff;}#sk-container-id-1 div.sk-toggleable__content pre {margin: 0.2em;color: black;border-radius: 0.25em;background-color: #f0f8ff;}#sk-container-id-1 input.sk-toggleable__control:checked~div.sk-toggleable__content {max-height: 200px;max-width: 100%;overflow: auto;}#sk-container-id-1 input.sk-toggleable__control:checked~label.sk-toggleable__label-arrow:before {content: \"▾\";}#sk-container-id-1 div.sk-estimator input.sk-toggleable__control:checked~label.sk-toggleable__label {background-color: #d4ebff;}#sk-container-id-1 div.sk-label input.sk-toggleable__control:checked~label.sk-toggleable__label {background-color: #d4ebff;}#sk-container-id-1 input.sk-hidden--visually {border: 0;clip: rect(1px 1px 1px 1px);clip: rect(1px, 1px, 1px, 1px);height: 1px;margin: -1px;overflow: hidden;padding: 0;position: absolute;width: 1px;}#sk-container-id-1 div.sk-estimator {font-family: monospace;background-color: #f0f8ff;border: 1px dotted black;border-radius: 0.25em;box-sizing: border-box;margin-bottom: 0.5em;}#sk-container-id-1 div.sk-estimator:hover {background-color: #d4ebff;}#sk-container-id-1 div.sk-parallel-item::after {content: \"\";width: 100%;border-bottom: 1px solid gray;flex-grow: 1;}#sk-container-id-1 div.sk-label:hover label.sk-toggleable__label {background-color: #d4ebff;}#sk-container-id-1 div.sk-serial::before {content: \"\";position: absolute;border-left: 1px solid gray;box-sizing: border-box;top: 0;bottom: 0;left: 50%;z-index: 0;}#sk-container-id-1 div.sk-serial {display: flex;flex-direction: column;align-items: center;background-color: white;padding-right: 0.2em;padding-left: 0.2em;position: relative;}#sk-container-id-1 div.sk-item {position: relative;z-index: 1;}#sk-container-id-1 div.sk-parallel {display: flex;align-items: stretch;justify-content: center;background-color: white;position: relative;}#sk-container-id-1 div.sk-item::before, #sk-container-id-1 div.sk-parallel-item::before {content: \"\";position: absolute;border-left: 1px solid gray;box-sizing: border-box;top: 0;bottom: 0;left: 50%;z-index: -1;}#sk-container-id-1 div.sk-parallel-item {display: flex;flex-direction: column;z-index: 1;position: relative;background-color: white;}#sk-container-id-1 div.sk-parallel-item:first-child::after {align-self: flex-end;width: 50%;}#sk-container-id-1 div.sk-parallel-item:last-child::after {align-self: flex-start;width: 50%;}#sk-container-id-1 div.sk-parallel-item:only-child::after {width: 0;}#sk-container-id-1 div.sk-dashed-wrapped {border: 1px dashed gray;margin: 0 0.4em 0.5em 0.4em;box-sizing: border-box;padding-bottom: 0.4em;background-color: white;}#sk-container-id-1 div.sk-label label {font-family: monospace;font-weight: bold;display: inline-block;line-height: 1.2em;}#sk-container-id-1 div.sk-label-container {text-align: center;}#sk-container-id-1 div.sk-container {/* jupyter's `normalize.less` sets `[hidden] { display: none; }` but bootstrap.min.css set `[hidden] { display: none !important; }` so we also need the `!important` here to be able to override the default hidden behavior on the sphinx rendered scikit-learn.org. See: https://github.com/scikit-learn/scikit-learn/issues/21755 */display: inline-block !important;position: relative;}#sk-container-id-1 div.sk-text-repr-fallback {display: none;}</style><div id=\"sk-container-id-1\" class=\"sk-top-container\"><div class=\"sk-text-repr-fallback\"><pre>Pipeline(steps=[(&#x27;scaler&#x27;, RobustScaler()), (&#x27;pca&#x27;, PCA(random_state=2))])</pre><b>In a Jupyter environment, please rerun this cell to show the HTML representation or trust the notebook. <br />On GitHub, the HTML representation is unable to render, please try loading this page with nbviewer.org.</b></div><div class=\"sk-container\" hidden><div class=\"sk-item sk-dashed-wrapped\"><div class=\"sk-label-container\"><div class=\"sk-label sk-toggleable\"><input class=\"sk-toggleable__control sk-hidden--visually\" id=\"sk-estimator-id-1\" type=\"checkbox\" ><label for=\"sk-estimator-id-1\" class=\"sk-toggleable__label sk-toggleable__label-arrow\">Pipeline</label><div class=\"sk-toggleable__content\"><pre>Pipeline(steps=[(&#x27;scaler&#x27;, RobustScaler()), (&#x27;pca&#x27;, PCA(random_state=2))])</pre></div></div></div><div class=\"sk-serial\"><div class=\"sk-item\"><div class=\"sk-estimator sk-toggleable\"><input class=\"sk-toggleable__control sk-hidden--visually\" id=\"sk-estimator-id-2\" type=\"checkbox\" ><label for=\"sk-estimator-id-2\" class=\"sk-toggleable__label sk-toggleable__label-arrow\">RobustScaler</label><div class=\"sk-toggleable__content\"><pre>RobustScaler()</pre></div></div></div><div class=\"sk-item\"><div class=\"sk-estimator sk-toggleable\"><input class=\"sk-toggleable__control sk-hidden--visually\" id=\"sk-estimator-id-3\" type=\"checkbox\" ><label for=\"sk-estimator-id-3\" class=\"sk-toggleable__label sk-toggleable__label-arrow\">PCA</label><div class=\"sk-toggleable__content\"><pre>PCA(random_state=2)</pre></div></div></div></div></div></div></div>"
      ],
      "text/plain": [
       "Pipeline(steps=[('scaler', RobustScaler()), ('pca', PCA(random_state=2))])"
      ]
     },
     "execution_count": 20,
     "metadata": {},
     "output_type": "execute_result"
    }
   ],
   "source": [
    "# let's try simple PCA first\n",
    "pipePCA = Pipeline([\n",
    "    ('scaler', RobustScaler()),\n",
    "    ('pca', PCA(random_state=2))\n",
    "])\n",
    "\n",
    "pipePCA.fit(norm_data_train.values)"
   ]
  },
  {
   "cell_type": "code",
   "execution_count": 21,
   "metadata": {},
   "outputs": [
    {
     "data": {
      "text/plain": [
       "array([0.84432456, 0.943681  , 0.99996395, 0.99999023, 0.99999956,\n",
       "       1.        ])"
      ]
     },
     "execution_count": 21,
     "metadata": {},
     "output_type": "execute_result"
    }
   ],
   "source": [
    "pipePCA['pca'].explained_variance_ratio_.cumsum()"
   ]
  },
  {
   "cell_type": "code",
   "execution_count": 22,
   "metadata": {},
   "outputs": [],
   "source": [
    "# create class instance and fit model\n",
    "n_components = 3\n",
    "anomaly = AnomalyDetection(train=norm_data_train, n_components=n_components, columns=norm_data_train.columns)\n",
    "anomaly.fit_model()\n",
    "anomaly.calculate_T2(anomaly_data=anom_data_train)\n",
    "anomaly.calculate_SPE()\n",
    "anomaly.calculate_contributions()"
   ]
  },
  {
   "cell_type": "code",
   "execution_count": 23,
   "metadata": {},
   "outputs": [
    {
     "name": "stderr",
     "output_type": "stream",
     "text": [
      "c:\\Users\\marce\\Documents\\0_python_env\\venv3WPetrobras\\lib\\site-packages\\sklearn\\base.py:458: UserWarning: X has feature names, but RobustScaler was fitted without feature names\n",
      "  warnings.warn(\n",
      "c:\\Users\\marce\\Documents\\0_python_env\\venv3WPetrobras\\lib\\site-packages\\sklearn\\base.py:458: UserWarning: X has feature names, but RobustScaler was fitted without feature names\n",
      "  warnings.warn(\n"
     ]
    },
    {
     "data": {
      "image/png": "[encoded data removed]",
      "text/plain": [
       "<Figure size 1000x1000 with 1 Axes>"
      ]
     },
     "metadata": {},
     "output_type": "display_data"
    }
   ],
   "source": [
    "anomaly.plot_pcs()"
   ]
  },
  {
   "cell_type": "code",
   "execution_count": 24,
   "metadata": {},
   "outputs": [
    {
     "data": {
      "image/png": "[encoded data removed]",
      "text/plain": [
       "<Figure size 1500x1500 with 2 Axes>"
      ]
     },
     "metadata": {},
     "output_type": "display_data"
    }
   ],
   "source": [
    "anomaly.plot_control_charts()"
   ]
  },
  {
   "cell_type": "code",
   "execution_count": 25,
   "metadata": {},
   "outputs": [],
   "source": [
    "realtime_anomaly = RealTimeAnomalyDetection(n_components=n_components, columns=norm_data_train.columns)"
   ]
  },
  {
   "cell_type": "code",
   "execution_count": 26,
   "metadata": {},
   "outputs": [
    {
     "name": "stdout",
     "output_type": "stream",
     "text": [
      "2.604995401927457\n",
      "0.0006751644633553434\n"
     ]
    }
   ],
   "source": [
    "print(realtime_anomaly.pipePCA._max_t2)\n",
    "print(realtime_anomaly.pipePCA._max_spe)"
   ]
  },
  {
   "cell_type": "code",
   "execution_count": 27,
   "metadata": {},
   "outputs": [],
   "source": [
    "# Calculate the SPE and T2 statistics for all data\n",
    "# Additionally, variable contributions are also computed. All these results are per timestamp.\n",
    "results_df, contributions_online = realtime_anomaly.calculate_online_anomalies(full_data_train)"
   ]
  },
  {
   "cell_type": "code",
   "execution_count": 28,
   "metadata": {},
   "outputs": [
    {
     "data": {
      "text/html": [
       "<div>\n",
       "<style scoped>\n",
       "    .dataframe tbody tr th:only-of-type {\n",
       "        vertical-align: middle;\n",
       "    }\n",
       "\n",
       "    .dataframe tbody tr th {\n",
       "        vertical-align: top;\n",
       "    }\n",
       "\n",
       "    .dataframe thead th {\n",
       "        text-align: right;\n",
       "    }\n",
       "</style>\n",
       "<table border=\"1\" class=\"dataframe\">\n",
       "  <thead>\n",
       "    <tr style=\"text-align: right;\">\n",
       "      <th></th>\n",
       "      <th>T2</th>\n",
       "      <th>SPE</th>\n",
       "      <th>Anomaly</th>\n",
       "    </tr>\n",
       "    <tr>\n",
       "      <th>Timestamp</th>\n",
       "      <th></th>\n",
       "      <th></th>\n",
       "      <th></th>\n",
       "    </tr>\n",
       "  </thead>\n",
       "  <tbody>\n",
       "    <tr>\n",
       "      <th>2017-08-01 19:45:13</th>\n",
       "      <td>4.327967</td>\n",
       "      <td>0.069566</td>\n",
       "      <td>1</td>\n",
       "    </tr>\n",
       "    <tr>\n",
       "      <th>2018-06-18 02:18:28</th>\n",
       "      <td>3.715034</td>\n",
       "      <td>0.178528</td>\n",
       "      <td>1</td>\n",
       "    </tr>\n",
       "    <tr>\n",
       "      <th>2014-01-26 22:45:15</th>\n",
       "      <td>33.078266</td>\n",
       "      <td>0.616076</td>\n",
       "      <td>1</td>\n",
       "    </tr>\n",
       "    <tr>\n",
       "      <th>2014-01-24 20:17:48</th>\n",
       "      <td>1.059055</td>\n",
       "      <td>0.178313</td>\n",
       "      <td>0</td>\n",
       "    </tr>\n",
       "    <tr>\n",
       "      <th>2017-07-31 18:59:31</th>\n",
       "      <td>2.131466</td>\n",
       "      <td>0.194658</td>\n",
       "      <td>0</td>\n",
       "    </tr>\n",
       "  </tbody>\n",
       "</table>\n",
       "</div>"
      ],
      "text/plain": [
       "                            T2       SPE  Anomaly\n",
       "Timestamp                                        \n",
       "2017-08-01 19:45:13   4.327967  0.069566        1\n",
       "2018-06-18 02:18:28   3.715034  0.178528        1\n",
       "2014-01-26 22:45:15  33.078266  0.616076        1\n",
       "2014-01-24 20:17:48   1.059055  0.178313        0\n",
       "2017-07-31 18:59:31   2.131466  0.194658        0"
      ]
     },
     "execution_count": 28,
     "metadata": {},
     "output_type": "execute_result"
    }
   ],
   "source": [
    "results_df[\"Anomaly\"] = 0  # Initialize the \"Anomaly\" column with value 0\n",
    "\n",
    "# Apply the condition to identify anomalies and set the value to 1 when the condition is true\n",
    "results_df.loc[(results_df[\"T2\"] > realtime_anomaly.pipePCA._max_t2) & (results_df[\"SPE\"] > realtime_anomaly.pipePCA._max_spe), \"Anomaly\"] = 1\n",
    "results_df.head()"
   ]
  },
  {
   "cell_type": "code",
   "execution_count": 29,
   "metadata": {},
   "outputs": [],
   "source": [
    "full_data_train[\"PRED_ANOMALY\"] = results_df[\"Anomaly\"]"
   ]
  },
  {
   "cell_type": "code",
   "execution_count": 30,
   "metadata": {},
   "outputs": [
    {
     "data": {
      "text/plain": [
       "Timestamp\n",
       "2017-08-01 19:45:13    1\n",
       "2018-06-18 02:18:28    1\n",
       "2014-01-26 22:45:15    1\n",
       "2014-01-24 20:17:48    0\n",
       "2017-07-31 18:59:31    0\n",
       "                      ..\n",
       "2018-06-17 21:10:02    1\n",
       "2017-07-31 20:54:53    0\n",
       "2018-06-18 01:19:39    1\n",
       "2017-08-01 05:08:21    0\n",
       "2014-01-24 19:12:32    0\n",
       "Name: PRED_ANOMALY, Length: 155184, dtype: int64"
      ]
     },
     "execution_count": 30,
     "metadata": {},
     "output_type": "execute_result"
    }
   ],
   "source": [
    "full_data_train[\"PRED_ANOMALY\"]"
   ]
  },
  {
   "cell_type": "code",
   "execution_count": 32,
   "metadata": {},
   "outputs": [
    {
     "data": {
      "text/plain": [
       "0.6856828023507578"
      ]
     },
     "execution_count": 32,
     "metadata": {},
     "output_type": "execute_result"
    }
   ],
   "source": [
    "accuracy_score(full_data_train['class'].values, full_data_train[\"PRED_ANOMALY\"].values)"
   ]
  },
  {
   "cell_type": "code",
   "execution_count": 43,
   "metadata": {},
   "outputs": [
    {
     "data": {
      "text/plain": [
       "0.6856828023507578"
      ]
     },
     "execution_count": 43,
     "metadata": {},
     "output_type": "execute_result"
    }
   ],
   "source": [
    "f1_score(full_data_train['class'].values,  full_data_train[\"PRED_ANOMALY\"].values, average=\"micro\")"
   ]
  },
  {
   "cell_type": "code",
   "execution_count": 42,
   "metadata": {},
   "outputs": [
    {
     "name": "stdout",
     "output_type": "stream",
     "text": [
      "Classe 0:\n",
      "Precision: 0.8203177523796044\n",
      "Recall: 0.6746304271912467\n",
      "F1-score: 0.740375249500998\n",
      "\n",
      "Classe 1:\n",
      "Precision: 0.523543699663357\n",
      "Recall: 0.7075558627044459\n",
      "F1-score: 0.6017976537434792\n",
      "\n"
     ]
    }
   ],
   "source": [
    "precision = precision_score(full_data_train['class'].values,  full_data_train[\"PRED_ANOMALY\"].values, average=None)\n",
    "recall = recall_score(full_data_train['class'].values,  full_data_train[\"PRED_ANOMALY\"].values, average=None)\n",
    "f1 = f1_score(full_data_train['class'].values,  full_data_train[\"PRED_ANOMALY\"].values, average=None)\n",
    "\n",
    "for i in range(len(precision)):\n",
    "    print(f'Classe {i}:')\n",
    "    print(f'Precision: {precision[i]}')\n",
    "    print(f'Recall: {recall[i]}')\n",
    "    print(f'F1-score: {f1[i]}\\n')"
   ]
  },
  {
   "cell_type": "code",
   "execution_count": 33,
   "metadata": {},
   "outputs": [],
   "source": [
    "# Calculate the SPE and T2 statistics for all data\n",
    "# Additionally, variable contributions are also computed. All these results are per timestamp.\n",
    "results_df, contributions_online = realtime_anomaly.calculate_online_anomalies(df_test)\n",
    "\n",
    "results_df[\"Anomaly\"] = 0  # Initialize the \"Anomaly\" column with value 0\n",
    "\n",
    "# Apply the condition to identify anomalies and set the value to 1 when the condition is true\n",
    "results_df.loc[(results_df[\"T2\"] > realtime_anomaly.pipePCA._max_t2) & (results_df[\"SPE\"] > realtime_anomaly.pipePCA._max_spe), \"Anomaly\"] = 1\n",
    "\n",
    "df_test[\"PRED_ANOMALY\"] = results_df[\"Anomaly\"]"
   ]
  },
  {
   "cell_type": "code",
   "execution_count": 35,
   "metadata": {},
   "outputs": [
    {
     "data": {
      "text/plain": [
       "0.6869399170024658"
      ]
     },
     "execution_count": 35,
     "metadata": {},
     "output_type": "execute_result"
    }
   ],
   "source": [
    "accuracy_score(df_test['class'].values, df_test[\"PRED_ANOMALY\"].values)"
   ]
  },
  {
   "cell_type": "code",
   "execution_count": 44,
   "metadata": {},
   "outputs": [
    {
     "data": {
      "text/plain": [
       "0.6869399170024658"
      ]
     },
     "execution_count": 44,
     "metadata": {},
     "output_type": "execute_result"
    }
   ],
   "source": [
    "f1_score(df_test['class'].values,  df_test[\"PRED_ANOMALY\"].values, average=\"micro\")"
   ]
  },
  {
   "cell_type": "code",
   "execution_count": 36,
   "metadata": {},
   "outputs": [],
   "source": [
    "precision = precision_score(df_test['class'].values,  df_test[\"PRED_ANOMALY\"].values, average=None)\n",
    "recall = recall_score(df_test['class'].values,  df_test[\"PRED_ANOMALY\"].values, average=None)\n",
    "f1 = f1_score(df_test['class'].values,  df_test[\"PRED_ANOMALY\"].values, average=None)"
   ]
  },
  {
   "cell_type": "code",
   "execution_count": 37,
   "metadata": {},
   "outputs": [
    {
     "name": "stdout",
     "output_type": "stream",
     "text": [
      "Classe 0:\n",
      "Precision: 0.821613436123348\n",
      "Recall: 0.6753955141117625\n",
      "F1-score: 0.7413636758878551\n",
      "\n",
      "Classe 1:\n",
      "Precision: 0.524910560487611\n",
      "Recall: 0.7097872340425532\n",
      "F1-score: 0.6035077028545313\n",
      "\n"
     ]
    }
   ],
   "source": [
    "for i in range(len(precision)):\n",
    "    print(f'Classe {i}:')\n",
    "    print(f'Precision: {precision[i]}')\n",
    "    print(f'Recall: {recall[i]}')\n",
    "    print(f'F1-score: {f1[i]}\\n')"
   ]
  },
  {
   "cell_type": "markdown",
   "metadata": {},
   "source": [
    "# Só PCA"
   ]
  },
  {
   "cell_type": "code",
   "execution_count": 38,
   "metadata": {},
   "outputs": [
    {
     "data": {
      "text/html": [
       "<div>\n",
       "<style scoped>\n",
       "    .dataframe tbody tr th:only-of-type {\n",
       "        vertical-align: middle;\n",
       "    }\n",
       "\n",
       "    .dataframe tbody tr th {\n",
       "        vertical-align: top;\n",
       "    }\n",
       "\n",
       "    .dataframe thead th {\n",
       "        text-align: right;\n",
       "    }\n",
       "</style>\n",
       "<table border=\"1\" class=\"dataframe\">\n",
       "  <thead>\n",
       "    <tr style=\"text-align: right;\">\n",
       "      <th></th>\n",
       "      <th>P-PDG</th>\n",
       "      <th>P-TPT</th>\n",
       "      <th>T-TPT</th>\n",
       "      <th>P-MON-CKP</th>\n",
       "      <th>T-JUS-CKP</th>\n",
       "      <th>P-JUS-CKGL</th>\n",
       "    </tr>\n",
       "    <tr>\n",
       "      <th>timestamp</th>\n",
       "      <th></th>\n",
       "      <th></th>\n",
       "      <th></th>\n",
       "      <th></th>\n",
       "      <th></th>\n",
       "      <th></th>\n",
       "    </tr>\n",
       "  </thead>\n",
       "  <tbody>\n",
       "    <tr>\n",
       "      <th>2018-06-18 02:18:28</th>\n",
       "      <td>-1.180116e+42</td>\n",
       "      <td>20787460.0</td>\n",
       "      <td>117.9135</td>\n",
       "      <td>10098550.0</td>\n",
       "      <td>70.90231</td>\n",
       "      <td>4068438.0</td>\n",
       "    </tr>\n",
       "    <tr>\n",
       "      <th>2014-01-24 20:17:48</th>\n",
       "      <td>0.000000e+00</td>\n",
       "      <td>18437500.0</td>\n",
       "      <td>116.9145</td>\n",
       "      <td>9388465.0</td>\n",
       "      <td>75.09396</td>\n",
       "      <td>-300917.8</td>\n",
       "    </tr>\n",
       "    <tr>\n",
       "      <th>2017-07-31 18:59:31</th>\n",
       "      <td>4.485805e+07</td>\n",
       "      <td>18373560.0</td>\n",
       "      <td>118.4565</td>\n",
       "      <td>2538562.0</td>\n",
       "      <td>78.89034</td>\n",
       "      <td>1281834.0</td>\n",
       "    </tr>\n",
       "    <tr>\n",
       "      <th>2017-07-31 18:54:59</th>\n",
       "      <td>4.485805e+07</td>\n",
       "      <td>18373560.0</td>\n",
       "      <td>118.4255</td>\n",
       "      <td>2538446.0</td>\n",
       "      <td>78.88868</td>\n",
       "      <td>1281451.0</td>\n",
       "    </tr>\n",
       "    <tr>\n",
       "      <th>2014-01-24 19:25:40</th>\n",
       "      <td>0.000000e+00</td>\n",
       "      <td>18453360.0</td>\n",
       "      <td>116.8815</td>\n",
       "      <td>9399409.0</td>\n",
       "      <td>74.91436</td>\n",
       "      <td>-300917.8</td>\n",
       "    </tr>\n",
       "    <tr>\n",
       "      <th>...</th>\n",
       "      <td>...</td>\n",
       "      <td>...</td>\n",
       "      <td>...</td>\n",
       "      <td>...</td>\n",
       "      <td>...</td>\n",
       "      <td>...</td>\n",
       "    </tr>\n",
       "    <tr>\n",
       "      <th>2018-06-17 21:10:02</th>\n",
       "      <td>-1.180116e+42</td>\n",
       "      <td>20827360.0</td>\n",
       "      <td>117.8949</td>\n",
       "      <td>10128780.0</td>\n",
       "      <td>70.86764</td>\n",
       "      <td>4042256.0</td>\n",
       "    </tr>\n",
       "    <tr>\n",
       "      <th>2017-07-31 20:54:53</th>\n",
       "      <td>4.485805e+07</td>\n",
       "      <td>18373560.0</td>\n",
       "      <td>118.5084</td>\n",
       "      <td>2541521.0</td>\n",
       "      <td>78.93248</td>\n",
       "      <td>1291580.0</td>\n",
       "    </tr>\n",
       "    <tr>\n",
       "      <th>2018-06-18 01:19:39</th>\n",
       "      <td>-1.180116e+42</td>\n",
       "      <td>20787460.0</td>\n",
       "      <td>117.9258</td>\n",
       "      <td>10104580.0</td>\n",
       "      <td>71.00772</td>\n",
       "      <td>4061116.0</td>\n",
       "    </tr>\n",
       "    <tr>\n",
       "      <th>2017-08-01 05:08:21</th>\n",
       "      <td>4.485805e+07</td>\n",
       "      <td>18373560.0</td>\n",
       "      <td>118.5238</td>\n",
       "      <td>2542708.0</td>\n",
       "      <td>78.98779</td>\n",
       "      <td>1307295.0</td>\n",
       "    </tr>\n",
       "    <tr>\n",
       "      <th>2014-01-24 19:12:32</th>\n",
       "      <td>0.000000e+00</td>\n",
       "      <td>18433410.0</td>\n",
       "      <td>116.9055</td>\n",
       "      <td>9399469.0</td>\n",
       "      <td>74.86912</td>\n",
       "      <td>-300917.8</td>\n",
       "    </tr>\n",
       "  </tbody>\n",
       "</table>\n",
       "<p>103092 rows × 6 columns</p>\n",
       "</div>"
      ],
      "text/plain": [
       "                            P-PDG       P-TPT     T-TPT   P-MON-CKP  \\\n",
       "timestamp                                                             \n",
       "2018-06-18 02:18:28 -1.180116e+42  20787460.0  117.9135  10098550.0   \n",
       "2014-01-24 20:17:48  0.000000e+00  18437500.0  116.9145   9388465.0   \n",
       "2017-07-31 18:59:31  4.485805e+07  18373560.0  118.4565   2538562.0   \n",
       "2017-07-31 18:54:59  4.485805e+07  18373560.0  118.4255   2538446.0   \n",
       "2014-01-24 19:25:40  0.000000e+00  18453360.0  116.8815   9399409.0   \n",
       "...                           ...         ...       ...         ...   \n",
       "2018-06-17 21:10:02 -1.180116e+42  20827360.0  117.8949  10128780.0   \n",
       "2017-07-31 20:54:53  4.485805e+07  18373560.0  118.5084   2541521.0   \n",
       "2018-06-18 01:19:39 -1.180116e+42  20787460.0  117.9258  10104580.0   \n",
       "2017-08-01 05:08:21  4.485805e+07  18373560.0  118.5238   2542708.0   \n",
       "2014-01-24 19:12:32  0.000000e+00  18433410.0  116.9055   9399469.0   \n",
       "\n",
       "                     T-JUS-CKP  P-JUS-CKGL  \n",
       "timestamp                                   \n",
       "2018-06-18 02:18:28   70.90231   4068438.0  \n",
       "2014-01-24 20:17:48   75.09396   -300917.8  \n",
       "2017-07-31 18:59:31   78.89034   1281834.0  \n",
       "2017-07-31 18:54:59   78.88868   1281451.0  \n",
       "2014-01-24 19:25:40   74.91436   -300917.8  \n",
       "...                        ...         ...  \n",
       "2018-06-17 21:10:02   70.86764   4042256.0  \n",
       "2017-07-31 20:54:53   78.93248   1291580.0  \n",
       "2018-06-18 01:19:39   71.00772   4061116.0  \n",
       "2017-08-01 05:08:21   78.98779   1307295.0  \n",
       "2014-01-24 19:12:32   74.86912   -300917.8  \n",
       "\n",
       "[103092 rows x 6 columns]"
      ]
     },
     "execution_count": 38,
     "metadata": {},
     "output_type": "execute_result"
    }
   ],
   "source": [
    "norm_data_train"
   ]
  },
  {
   "cell_type": "code",
   "execution_count": 39,
   "metadata": {},
   "outputs": [],
   "source": [
    "pca = PCA(n_components=2, random_state=0)\n",
    "x_train_pca = pd.DataFrame(pca.fit_transform(norm_data_train))\n",
    "x_train_pca.index = x_train_pca.index"
   ]
  },
  {
   "cell_type": "code",
   "execution_count": 40,
   "metadata": {},
   "outputs": [],
   "source": [
    "df_restored = pd.DataFrame(pca.inverse_transform(x_train_pca), index=x_train_pca.index)"
   ]
  },
  {
   "cell_type": "code",
   "execution_count": 41,
   "metadata": {},
   "outputs": [
    {
     "ename": "ValueError",
     "evalue": "The feature names should match those that were passed during fit.\nFeature names unseen at fit time:\n- Hotelling_T2\n- SPE\n",
     "output_type": "error",
     "traceback": [
      "\u001b[1;31m---------------------------------------------------------------------------\u001b[0m",
      "\u001b[1;31mValueError\u001b[0m                                Traceback (most recent call last)",
      "Cell \u001b[1;32mIn[41], line 8\u001b[0m\n\u001b[0;32m      6\u001b[0m \u001b[38;5;66;03m# Calcula as projeções dos dados normais e anômalos nos componentes principais\u001b[39;00m\n\u001b[0;32m      7\u001b[0m projections_norm \u001b[38;5;241m=\u001b[39m pca\u001b[38;5;241m.\u001b[39mtransform(norm_data_train)\n\u001b[1;32m----> 8\u001b[0m projections_anorm \u001b[38;5;241m=\u001b[39m \u001b[43mpca\u001b[49m\u001b[38;5;241;43m.\u001b[39;49m\u001b[43mtransform\u001b[49m\u001b[43m(\u001b[49m\u001b[43manom_data_train\u001b[49m\u001b[43m)\u001b[49m\n\u001b[0;32m     10\u001b[0m \u001b[38;5;66;03m# Calcula a matriz de covariância manualmente\u001b[39;00m\n\u001b[0;32m     11\u001b[0m mean_norm \u001b[38;5;241m=\u001b[39m np\u001b[38;5;241m.\u001b[39mmean(projections_norm, axis\u001b[38;5;241m=\u001b[39m\u001b[38;5;241m0\u001b[39m)\n",
      "File \u001b[1;32mc:\\Users\\marce\\Documents\\0_python_env\\venv3WPetrobras\\lib\\site-packages\\sklearn\\utils\\_set_output.py:157\u001b[0m, in \u001b[0;36m_wrap_method_output.<locals>.wrapped\u001b[1;34m(self, X, *args, **kwargs)\u001b[0m\n\u001b[0;32m    155\u001b[0m \u001b[38;5;129m@wraps\u001b[39m(f)\n\u001b[0;32m    156\u001b[0m \u001b[38;5;28;01mdef\u001b[39;00m \u001b[38;5;21mwrapped\u001b[39m(\u001b[38;5;28mself\u001b[39m, X, \u001b[38;5;241m*\u001b[39margs, \u001b[38;5;241m*\u001b[39m\u001b[38;5;241m*\u001b[39mkwargs):\n\u001b[1;32m--> 157\u001b[0m     data_to_wrap \u001b[38;5;241m=\u001b[39m \u001b[43mf\u001b[49m\u001b[43m(\u001b[49m\u001b[38;5;28;43mself\u001b[39;49m\u001b[43m,\u001b[49m\u001b[43m \u001b[49m\u001b[43mX\u001b[49m\u001b[43m,\u001b[49m\u001b[43m \u001b[49m\u001b[38;5;241;43m*\u001b[39;49m\u001b[43margs\u001b[49m\u001b[43m,\u001b[49m\u001b[43m \u001b[49m\u001b[38;5;241;43m*\u001b[39;49m\u001b[38;5;241;43m*\u001b[39;49m\u001b[43mkwargs\u001b[49m\u001b[43m)\u001b[49m\n\u001b[0;32m    158\u001b[0m     \u001b[38;5;28;01mif\u001b[39;00m \u001b[38;5;28misinstance\u001b[39m(data_to_wrap, \u001b[38;5;28mtuple\u001b[39m):\n\u001b[0;32m    159\u001b[0m         \u001b[38;5;66;03m# only wrap the first output for cross decomposition\u001b[39;00m\n\u001b[0;32m    160\u001b[0m         return_tuple \u001b[38;5;241m=\u001b[39m (\n\u001b[0;32m    161\u001b[0m             _wrap_data_with_container(method, data_to_wrap[\u001b[38;5;241m0\u001b[39m], X, \u001b[38;5;28mself\u001b[39m),\n\u001b[0;32m    162\u001b[0m             \u001b[38;5;241m*\u001b[39mdata_to_wrap[\u001b[38;5;241m1\u001b[39m:],\n\u001b[0;32m    163\u001b[0m         )\n",
      "File \u001b[1;32mc:\\Users\\marce\\Documents\\0_python_env\\venv3WPetrobras\\lib\\site-packages\\sklearn\\decomposition\\_base.py:121\u001b[0m, in \u001b[0;36m_BasePCA.transform\u001b[1;34m(self, X)\u001b[0m\n\u001b[0;32m    102\u001b[0m \u001b[38;5;250m\u001b[39m\u001b[38;5;124;03m\"\"\"Apply dimensionality reduction to X.\u001b[39;00m\n\u001b[0;32m    103\u001b[0m \n\u001b[0;32m    104\u001b[0m \u001b[38;5;124;03mX is projected on the first principal components previously extracted\u001b[39;00m\n\u001b[1;32m   (...)\u001b[0m\n\u001b[0;32m    117\u001b[0m \u001b[38;5;124;03m    is the number of samples and `n_components` is the number of the components.\u001b[39;00m\n\u001b[0;32m    118\u001b[0m \u001b[38;5;124;03m\"\"\"\u001b[39;00m\n\u001b[0;32m    119\u001b[0m check_is_fitted(\u001b[38;5;28mself\u001b[39m)\n\u001b[1;32m--> 121\u001b[0m X \u001b[38;5;241m=\u001b[39m \u001b[38;5;28;43mself\u001b[39;49m\u001b[38;5;241;43m.\u001b[39;49m\u001b[43m_validate_data\u001b[49m\u001b[43m(\u001b[49m\u001b[43mX\u001b[49m\u001b[43m,\u001b[49m\u001b[43m \u001b[49m\u001b[43mdtype\u001b[49m\u001b[38;5;241;43m=\u001b[39;49m\u001b[43m[\u001b[49m\u001b[43mnp\u001b[49m\u001b[38;5;241;43m.\u001b[39;49m\u001b[43mfloat64\u001b[49m\u001b[43m,\u001b[49m\u001b[43m \u001b[49m\u001b[43mnp\u001b[49m\u001b[38;5;241;43m.\u001b[39;49m\u001b[43mfloat32\u001b[49m\u001b[43m]\u001b[49m\u001b[43m,\u001b[49m\u001b[43m \u001b[49m\u001b[43mreset\u001b[49m\u001b[38;5;241;43m=\u001b[39;49m\u001b[38;5;28;43;01mFalse\u001b[39;49;00m\u001b[43m)\u001b[49m\n\u001b[0;32m    122\u001b[0m \u001b[38;5;28;01mif\u001b[39;00m \u001b[38;5;28mself\u001b[39m\u001b[38;5;241m.\u001b[39mmean_ \u001b[38;5;129;01mis\u001b[39;00m \u001b[38;5;129;01mnot\u001b[39;00m \u001b[38;5;28;01mNone\u001b[39;00m:\n\u001b[0;32m    123\u001b[0m     X \u001b[38;5;241m=\u001b[39m X \u001b[38;5;241m-\u001b[39m \u001b[38;5;28mself\u001b[39m\u001b[38;5;241m.\u001b[39mmean_\n",
      "File \u001b[1;32mc:\\Users\\marce\\Documents\\0_python_env\\venv3WPetrobras\\lib\\site-packages\\sklearn\\base.py:580\u001b[0m, in \u001b[0;36mBaseEstimator._validate_data\u001b[1;34m(self, X, y, reset, validate_separately, cast_to_ndarray, **check_params)\u001b[0m\n\u001b[0;32m    509\u001b[0m \u001b[38;5;28;01mdef\u001b[39;00m \u001b[38;5;21m_validate_data\u001b[39m(\n\u001b[0;32m    510\u001b[0m     \u001b[38;5;28mself\u001b[39m,\n\u001b[0;32m    511\u001b[0m     X\u001b[38;5;241m=\u001b[39m\u001b[38;5;124m\"\u001b[39m\u001b[38;5;124mno_validation\u001b[39m\u001b[38;5;124m\"\u001b[39m,\n\u001b[1;32m   (...)\u001b[0m\n\u001b[0;32m    516\u001b[0m     \u001b[38;5;241m*\u001b[39m\u001b[38;5;241m*\u001b[39mcheck_params,\n\u001b[0;32m    517\u001b[0m ):\n\u001b[0;32m    518\u001b[0m \u001b[38;5;250m    \u001b[39m\u001b[38;5;124;03m\"\"\"Validate input data and set or check the `n_features_in_` attribute.\u001b[39;00m\n\u001b[0;32m    519\u001b[0m \n\u001b[0;32m    520\u001b[0m \u001b[38;5;124;03m    Parameters\u001b[39;00m\n\u001b[1;32m   (...)\u001b[0m\n\u001b[0;32m    578\u001b[0m \u001b[38;5;124;03m        validated.\u001b[39;00m\n\u001b[0;32m    579\u001b[0m \u001b[38;5;124;03m    \"\"\"\u001b[39;00m\n\u001b[1;32m--> 580\u001b[0m     \u001b[38;5;28;43mself\u001b[39;49m\u001b[38;5;241;43m.\u001b[39;49m\u001b[43m_check_feature_names\u001b[49m\u001b[43m(\u001b[49m\u001b[43mX\u001b[49m\u001b[43m,\u001b[49m\u001b[43m \u001b[49m\u001b[43mreset\u001b[49m\u001b[38;5;241;43m=\u001b[39;49m\u001b[43mreset\u001b[49m\u001b[43m)\u001b[49m\n\u001b[0;32m    582\u001b[0m     \u001b[38;5;28;01mif\u001b[39;00m y \u001b[38;5;129;01mis\u001b[39;00m \u001b[38;5;28;01mNone\u001b[39;00m \u001b[38;5;129;01mand\u001b[39;00m \u001b[38;5;28mself\u001b[39m\u001b[38;5;241m.\u001b[39m_get_tags()[\u001b[38;5;124m\"\u001b[39m\u001b[38;5;124mrequires_y\u001b[39m\u001b[38;5;124m\"\u001b[39m]:\n\u001b[0;32m    583\u001b[0m         \u001b[38;5;28;01mraise\u001b[39;00m \u001b[38;5;167;01mValueError\u001b[39;00m(\n\u001b[0;32m    584\u001b[0m             \u001b[38;5;124mf\u001b[39m\u001b[38;5;124m\"\u001b[39m\u001b[38;5;124mThis \u001b[39m\u001b[38;5;132;01m{\u001b[39;00m\u001b[38;5;28mself\u001b[39m\u001b[38;5;241m.\u001b[39m\u001b[38;5;18m__class__\u001b[39m\u001b[38;5;241m.\u001b[39m\u001b[38;5;18m__name__\u001b[39m\u001b[38;5;132;01m}\u001b[39;00m\u001b[38;5;124m estimator \u001b[39m\u001b[38;5;124m\"\u001b[39m\n\u001b[0;32m    585\u001b[0m             \u001b[38;5;124m\"\u001b[39m\u001b[38;5;124mrequires y to be passed, but the target y is None.\u001b[39m\u001b[38;5;124m\"\u001b[39m\n\u001b[0;32m    586\u001b[0m         )\n",
      "File \u001b[1;32mc:\\Users\\marce\\Documents\\0_python_env\\venv3WPetrobras\\lib\\site-packages\\sklearn\\base.py:507\u001b[0m, in \u001b[0;36mBaseEstimator._check_feature_names\u001b[1;34m(self, X, reset)\u001b[0m\n\u001b[0;32m    502\u001b[0m \u001b[38;5;28;01mif\u001b[39;00m \u001b[38;5;129;01mnot\u001b[39;00m missing_names \u001b[38;5;129;01mand\u001b[39;00m \u001b[38;5;129;01mnot\u001b[39;00m unexpected_names:\n\u001b[0;32m    503\u001b[0m     message \u001b[38;5;241m+\u001b[39m\u001b[38;5;241m=\u001b[39m (\n\u001b[0;32m    504\u001b[0m         \u001b[38;5;124m\"\u001b[39m\u001b[38;5;124mFeature names must be in the same order as they were in fit.\u001b[39m\u001b[38;5;130;01m\\n\u001b[39;00m\u001b[38;5;124m\"\u001b[39m\n\u001b[0;32m    505\u001b[0m     )\n\u001b[1;32m--> 507\u001b[0m \u001b[38;5;28;01mraise\u001b[39;00m \u001b[38;5;167;01mValueError\u001b[39;00m(message)\n",
      "\u001b[1;31mValueError\u001b[0m: The feature names should match those that were passed during fit.\nFeature names unseen at fit time:\n- Hotelling_T2\n- SPE\n"
     ]
    }
   ],
   "source": [
    "from scipy.stats import multivariate_normal\n",
    "# Ajustar a PCA apenas aos dados normais\n",
    "pca = PCA(n_components=1, random_state=42)\n",
    "pca.fit(norm_data_train)\n",
    "\n",
    "# Calcula as projeções dos dados normais e anômalos nos componentes principais\n",
    "projections_norm = pca.transform(norm_data_train)\n",
    "projections_anorm = pca.transform(anom_data_train)\n",
    "\n",
    "# Calcula a matriz de covariância manualmente\n",
    "mean_norm = np.mean(projections_norm, axis=0)\n",
    "cov_norm = np.cov(projections_norm, rowvar=False)\n",
    "cov_norm += np.eye(cov_norm.shape[0]) * 1e-6  # Adiciona uma pequena constante para garantir positividade definida\n",
    "\n",
    "# Calcula a densidade de probabilidade multivariada para os dados normais\n",
    "mv_density = multivariate_normal(mean=mean_norm, cov=cov_norm, allow_singular=True)\n",
    "\n",
    "# Define um limiar para identificar anomalias\n",
    "limiar = mv_density.pdf(mean_norm)\n",
    "\n",
    "# Identifica anomalias nos dados anômalos\n",
    "anomalias_indices = np.where(mv_density.pdf(projections_anorm) < limiar)[0]\n",
    "\n",
    "# Imprime os índices das anomalias\n",
    "print(\"Índices das anomalias:\", anomalias_indices)"
   ]
  }
 ],
 "metadata": {
  "kernelspec": {
   "display_name": "venv3WPetrobras",
   "language": "python",
   "name": "venv3wpetrobras"
  },
  "language_info": {
   "codemirror_mode": {
    "name": "ipython",
    "version": 3
   },
   "file_extension": ".py",
   "mimetype": "text/x-python",
   "name": "python",
   "nbconvert_exporter": "python",
   "pygments_lexer": "ipython3",
   "version": "3.8.9"
  }
 },
 "nbformat": 4,
 "nbformat_minor": 2
}
