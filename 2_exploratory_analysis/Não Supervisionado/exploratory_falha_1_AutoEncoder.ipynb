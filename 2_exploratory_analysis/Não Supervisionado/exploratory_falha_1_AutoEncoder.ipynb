{
 "cells": [
  {
   "cell_type": "code",
   "execution_count": 2,
   "metadata": {},
   "outputs": [],
   "source": [
    "import pandas as pd\n",
    "import os\n",
    "import sys\n",
    "import matplotlib.pyplot as plt\n",
    "import seaborn as sns\n",
    "import numpy as np\n",
    "import dill\n",
    "from typing import List\n",
    "import scipy.stats as sts\n",
    "from sklearn.pipeline import Pipeline\n",
    "from sklearn.decomposition import PCA\n",
    "from sklearn.preprocessing import RobustScaler\n",
    "from sklearn.metrics import f1_score\n",
    "from sklearn.metrics import precision_score, recall_score, f1_score, accuracy_score\n",
    "from sklearn.model_selection import train_test_split\n",
    "from sklearn.neighbors import KNeighborsClassifier\n",
    "from sklearn.preprocessing import StandardScaler\n",
    "from sklearn.neural_network import MLPClassifier\n",
    "\n",
    "import util\n",
    "from pathlib import Path\n",
    "from class_manipulates_path import ManipulatePath\n",
    "from class_preprocessing_refactor import Preprocessing\n",
    "from class_format_data import FormatData\n",
    "util.init()\n",
    "\n",
    "current_path = sys.path[0]"
   ]
  },
  {
   "cell_type": "code",
   "execution_count": 3,
   "metadata": {},
   "outputs": [],
   "source": [
    "def plot_variable(df, column_name, intervalos=None):\n",
    "    \"\"\"\n",
    "    Plota um gráfico de dispersão para uma variável de um DataFrame.\n",
    "\n",
    "    Parâmetros:\n",
    "        - df: DataFrame pandas contendo os dados.\n",
    "        - column_name: Nome da coluna que você deseja plotar.\n",
    "        - intervalos: Lista de intervalos para plotar linhas verticais.\n",
    "    \"\"\"\n",
    "    plt.figure(figsize=(20, 10))\n",
    "    plt.scatter(df.index.values, df[column_name].values, color='darkcyan', alpha=0.5)\n",
    "    plt.xlabel('Índice')\n",
    "    plt.ylabel(column_name)\n",
    "    plt.title(f'Gráfico de dispersão para a variável \"{column_name}\"')\n",
    "\n",
    "\n",
    "    # Plotar linhas verticais para cada intervalo\n",
    "    if intervalos:\n",
    "        for intervalo in intervalos:\n",
    "            plt.axvline(x=intervalo, linestyle='--', color='red')\n",
    "\n",
    "    plt.show()"
   ]
  },
  {
   "cell_type": "code",
   "execution_count": 4,
   "metadata": {},
   "outputs": [],
   "source": [
    "def class_and_file_generator(data_path, real=False, simulated=False, drawn=False):\n",
    "    for class_path in data_path.iterdir():\n",
    "        if class_path.is_dir():\n",
    "            class_code = int(class_path.stem)\n",
    "            for instance_path in class_path.iterdir():\n",
    "                if (instance_path.suffix == '.csv'):\n",
    "                    if (simulated and instance_path.stem.startswith('SIMULATED')) or \\\n",
    "                       (drawn and instance_path.stem.startswith('DRAWN')) or \\\n",
    "                       (real and (not instance_path.stem.startswith('SIMULATED')) and \\\n",
    "                       (not instance_path.stem.startswith('DRAWN'))):\n",
    "                        yield class_code, instance_path"
   ]
  },
  {
   "cell_type": "code",
   "execution_count": 5,
   "metadata": {},
   "outputs": [],
   "source": [
    "manipulate_path = ManipulatePath()\n",
    "\n",
    "preprocessing = Preprocessing()\n",
    "\n",
    "format_data = FormatData()\n",
    "\n",
    "path_raw_data = manipulate_path.get_path_raw_data()\n",
    "\n",
    "abnormal_classes_codes = [1, 2, 5, 6, 7, 8]"
   ]
  },
  {
   "cell_type": "code",
   "execution_count": 6,
   "metadata": {},
   "outputs": [],
   "source": [
    "# Gets all real instances but maintains only those with any type of undesirable event\n",
    "real_instances = pd.DataFrame(class_and_file_generator(path_raw_data, \n",
    "                                                       real=True,\n",
    "                                                       simulated=False, \n",
    "                                                       drawn=False),\n",
    "                              columns=['class_code', 'instance_path'])\n",
    "real_instances = real_instances.loc[real_instances.iloc[:,0].isin(abnormal_classes_codes)].reset_index(drop=True)"
   ]
  },
  {
   "cell_type": "code",
   "execution_count": 7,
   "metadata": {},
   "outputs": [
    {
     "data": {
      "text/html": [
       "<div>\n",
       "<style scoped>\n",
       "    .dataframe tbody tr th:only-of-type {\n",
       "        vertical-align: middle;\n",
       "    }\n",
       "\n",
       "    .dataframe tbody tr th {\n",
       "        vertical-align: top;\n",
       "    }\n",
       "\n",
       "    .dataframe thead th {\n",
       "        text-align: right;\n",
       "    }\n",
       "</style>\n",
       "<table border=\"1\" class=\"dataframe\">\n",
       "  <thead>\n",
       "    <tr style=\"text-align: right;\">\n",
       "      <th></th>\n",
       "      <th>class_code</th>\n",
       "      <th>instance_path</th>\n",
       "    </tr>\n",
       "  </thead>\n",
       "  <tbody>\n",
       "    <tr>\n",
       "      <th>0</th>\n",
       "      <td>1</td>\n",
       "      <td>c:\\Users\\marce\\Documents\\MEGA\\0_PUC-Rio\\2_Peri...</td>\n",
       "    </tr>\n",
       "    <tr>\n",
       "      <th>1</th>\n",
       "      <td>1</td>\n",
       "      <td>c:\\Users\\marce\\Documents\\MEGA\\0_PUC-Rio\\2_Peri...</td>\n",
       "    </tr>\n",
       "    <tr>\n",
       "      <th>2</th>\n",
       "      <td>1</td>\n",
       "      <td>c:\\Users\\marce\\Documents\\MEGA\\0_PUC-Rio\\2_Peri...</td>\n",
       "    </tr>\n",
       "    <tr>\n",
       "      <th>3</th>\n",
       "      <td>1</td>\n",
       "      <td>c:\\Users\\marce\\Documents\\MEGA\\0_PUC-Rio\\2_Peri...</td>\n",
       "    </tr>\n",
       "    <tr>\n",
       "      <th>4</th>\n",
       "      <td>1</td>\n",
       "      <td>c:\\Users\\marce\\Documents\\MEGA\\0_PUC-Rio\\2_Peri...</td>\n",
       "    </tr>\n",
       "  </tbody>\n",
       "</table>\n",
       "</div>"
      ],
      "text/plain": [
       "   class_code                                      instance_path\n",
       "0           1  c:\\Users\\marce\\Documents\\MEGA\\0_PUC-Rio\\2_Peri...\n",
       "1           1  c:\\Users\\marce\\Documents\\MEGA\\0_PUC-Rio\\2_Peri...\n",
       "2           1  c:\\Users\\marce\\Documents\\MEGA\\0_PUC-Rio\\2_Peri...\n",
       "3           1  c:\\Users\\marce\\Documents\\MEGA\\0_PUC-Rio\\2_Peri...\n",
       "4           1  c:\\Users\\marce\\Documents\\MEGA\\0_PUC-Rio\\2_Peri..."
      ]
     },
     "execution_count": 7,
     "metadata": {},
     "output_type": "execute_result"
    }
   ],
   "source": [
    "real_instances[real_instances[\"class_code\"] == 1]"
   ]
  },
  {
   "cell_type": "code",
   "execution_count": 8,
   "metadata": {},
   "outputs": [
    {
     "data": {
      "text/plain": [
       "array([WindowsPath('c:/Users/marce/Documents/MEGA/0_PUC-Rio/2_Periodo/2_Data Science/2_Trabalho_Final/3_3W/1_data/1_raw_data/1/WELL-00001_20140124093303.csv'),\n",
       "       WindowsPath('c:/Users/marce/Documents/MEGA/0_PUC-Rio/2_Periodo/2_Data Science/2_Trabalho_Final/3_3W/1_data/1_raw_data/1/WELL-00002_20140126161944.csv'),\n",
       "       WindowsPath('c:/Users/marce/Documents/MEGA/0_PUC-Rio/2_Periodo/2_Data Science/2_Trabalho_Final/3_3W/1_data/1_raw_data/1/WELL-00006_20170731180930.csv'),\n",
       "       WindowsPath('c:/Users/marce/Documents/MEGA/0_PUC-Rio/2_Periodo/2_Data Science/2_Trabalho_Final/3_3W/1_data/1_raw_data/1/WELL-00006_20170731220432.csv'),\n",
       "       WindowsPath('c:/Users/marce/Documents/MEGA/0_PUC-Rio/2_Periodo/2_Data Science/2_Trabalho_Final/3_3W/1_data/1_raw_data/1/WELL-00006_20180617200257.csv')],\n",
       "      dtype=object)"
      ]
     },
     "execution_count": 8,
     "metadata": {},
     "output_type": "execute_result"
    }
   ],
   "source": [
    "real_instances[real_instances[\"class_code\"] == 1][\"instance_path\"].values"
   ]
  },
  {
   "cell_type": "code",
   "execution_count": 9,
   "metadata": {},
   "outputs": [
    {
     "name": "stdout",
     "output_type": "stream",
     "text": [
      "1 se repete 4603\n",
      "Index min 2014-01-24 09:33:03 index max 2014-01-25 01:47:30\n",
      "1 se repete 2929\n",
      "Index min 2014-01-26 16:19:44 index max 2014-01-26 23:00:00\n",
      "1 se repete 1205\n",
      "Index min 2017-07-31 18:09:30 index max 2017-08-01 20:45:00\n",
      "1 se repete 861\n",
      "Index min 2017-07-31 22:04:32 index max 2017-08-01 20:19:27\n",
      "1 se repete 819\n",
      "Index min 2018-06-17 20:02:57 index max 2018-06-18 11:00:00\n"
     ]
    }
   ],
   "source": [
    "falha = 1\n",
    "\n",
    "file_paths = real_instances[real_instances[\"class_code\"] == falha][\"instance_path\"].values\n",
    "df_output = pd.DataFrame()\n",
    "\n",
    "for file_path in file_paths:\n",
    "    df_data = pd.read_csv(file_path)\n",
    "\n",
    "    df_data = FormatData.set_index_dataframe(df_data=df_data,\n",
    "                                         column_name=\"timestamp\")\n",
    "    quantidade = (df_data['class'] == falha).sum()\n",
    "    print(f\"1 se repete {quantidade}\")\n",
    "    print(f\"Index min {df_data.index.min()} index max {df_data.index.max()}\")\n",
    "    \n",
    "    df_output = pd.concat([df_output, df_data], axis=0)"
   ]
  },
  {
   "cell_type": "code",
   "execution_count": 10,
   "metadata": {},
   "outputs": [],
   "source": [
    "df_output = df_output[~df_output.index.duplicated()]"
   ]
  },
  {
   "cell_type": "code",
   "execution_count": 11,
   "metadata": {},
   "outputs": [
    {
     "data": {
      "text/html": [
       "<div>\n",
       "<style scoped>\n",
       "    .dataframe tbody tr th:only-of-type {\n",
       "        vertical-align: middle;\n",
       "    }\n",
       "\n",
       "    .dataframe tbody tr th {\n",
       "        vertical-align: top;\n",
       "    }\n",
       "\n",
       "    .dataframe thead th {\n",
       "        text-align: right;\n",
       "    }\n",
       "</style>\n",
       "<table border=\"1\" class=\"dataframe\">\n",
       "  <thead>\n",
       "    <tr style=\"text-align: right;\">\n",
       "      <th></th>\n",
       "      <th>P-PDG</th>\n",
       "      <th>P-TPT</th>\n",
       "      <th>T-TPT</th>\n",
       "      <th>P-MON-CKP</th>\n",
       "      <th>T-JUS-CKP</th>\n",
       "      <th>P-JUS-CKGL</th>\n",
       "      <th>T-JUS-CKGL</th>\n",
       "      <th>QGL</th>\n",
       "      <th>class</th>\n",
       "    </tr>\n",
       "    <tr>\n",
       "      <th>timestamp</th>\n",
       "      <th></th>\n",
       "      <th></th>\n",
       "      <th></th>\n",
       "      <th></th>\n",
       "      <th></th>\n",
       "      <th></th>\n",
       "      <th></th>\n",
       "      <th></th>\n",
       "      <th></th>\n",
       "    </tr>\n",
       "  </thead>\n",
       "  <tbody>\n",
       "    <tr>\n",
       "      <th>2014-01-24 09:33:03</th>\n",
       "      <td>0.0</td>\n",
       "      <td>18433410.0</td>\n",
       "      <td>116.8718</td>\n",
       "      <td>9397031.0</td>\n",
       "      <td>74.80031</td>\n",
       "      <td>-300917.8</td>\n",
       "      <td>NaN</td>\n",
       "      <td>0.0</td>\n",
       "      <td>0.0</td>\n",
       "    </tr>\n",
       "    <tr>\n",
       "      <th>2014-01-24 09:33:04</th>\n",
       "      <td>0.0</td>\n",
       "      <td>18433410.0</td>\n",
       "      <td>116.8718</td>\n",
       "      <td>9397031.0</td>\n",
       "      <td>74.80031</td>\n",
       "      <td>-300917.8</td>\n",
       "      <td>NaN</td>\n",
       "      <td>0.0</td>\n",
       "      <td>0.0</td>\n",
       "    </tr>\n",
       "    <tr>\n",
       "      <th>2014-01-24 09:33:05</th>\n",
       "      <td>0.0</td>\n",
       "      <td>18433410.0</td>\n",
       "      <td>116.8718</td>\n",
       "      <td>9397032.0</td>\n",
       "      <td>74.80031</td>\n",
       "      <td>-300917.8</td>\n",
       "      <td>NaN</td>\n",
       "      <td>0.0</td>\n",
       "      <td>0.0</td>\n",
       "    </tr>\n",
       "    <tr>\n",
       "      <th>2014-01-24 09:33:06</th>\n",
       "      <td>0.0</td>\n",
       "      <td>18433410.0</td>\n",
       "      <td>116.8718</td>\n",
       "      <td>9397033.0</td>\n",
       "      <td>74.80031</td>\n",
       "      <td>-300917.8</td>\n",
       "      <td>NaN</td>\n",
       "      <td>0.0</td>\n",
       "      <td>0.0</td>\n",
       "    </tr>\n",
       "    <tr>\n",
       "      <th>2014-01-24 09:33:07</th>\n",
       "      <td>0.0</td>\n",
       "      <td>18433410.0</td>\n",
       "      <td>116.8718</td>\n",
       "      <td>9397033.0</td>\n",
       "      <td>74.80031</td>\n",
       "      <td>-300917.8</td>\n",
       "      <td>NaN</td>\n",
       "      <td>0.0</td>\n",
       "      <td>0.0</td>\n",
       "    </tr>\n",
       "  </tbody>\n",
       "</table>\n",
       "</div>"
      ],
      "text/plain": [
       "                     P-PDG       P-TPT     T-TPT  P-MON-CKP  T-JUS-CKP  \\\n",
       "timestamp                                                                \n",
       "2014-01-24 09:33:03    0.0  18433410.0  116.8718  9397031.0   74.80031   \n",
       "2014-01-24 09:33:04    0.0  18433410.0  116.8718  9397031.0   74.80031   \n",
       "2014-01-24 09:33:05    0.0  18433410.0  116.8718  9397032.0   74.80031   \n",
       "2014-01-24 09:33:06    0.0  18433410.0  116.8718  9397033.0   74.80031   \n",
       "2014-01-24 09:33:07    0.0  18433410.0  116.8718  9397033.0   74.80031   \n",
       "\n",
       "                     P-JUS-CKGL  T-JUS-CKGL  QGL  class  \n",
       "timestamp                                                \n",
       "2014-01-24 09:33:03   -300917.8         NaN  0.0    0.0  \n",
       "2014-01-24 09:33:04   -300917.8         NaN  0.0    0.0  \n",
       "2014-01-24 09:33:05   -300917.8         NaN  0.0    0.0  \n",
       "2014-01-24 09:33:06   -300917.8         NaN  0.0    0.0  \n",
       "2014-01-24 09:33:07   -300917.8         NaN  0.0    0.0  "
      ]
     },
     "execution_count": 11,
     "metadata": {},
     "output_type": "execute_result"
    }
   ],
   "source": [
    "df_output.head()"
   ]
  },
  {
   "cell_type": "code",
   "execution_count": 12,
   "metadata": {},
   "outputs": [
    {
     "data": {
      "text/html": [
       "<div>\n",
       "<style scoped>\n",
       "    .dataframe tbody tr th:only-of-type {\n",
       "        vertical-align: middle;\n",
       "    }\n",
       "\n",
       "    .dataframe tbody tr th {\n",
       "        vertical-align: top;\n",
       "    }\n",
       "\n",
       "    .dataframe thead th {\n",
       "        text-align: right;\n",
       "    }\n",
       "</style>\n",
       "<table border=\"1\" class=\"dataframe\">\n",
       "  <thead>\n",
       "    <tr style=\"text-align: right;\">\n",
       "      <th></th>\n",
       "      <th>P-PDG</th>\n",
       "      <th>P-TPT</th>\n",
       "      <th>T-TPT</th>\n",
       "      <th>P-MON-CKP</th>\n",
       "      <th>T-JUS-CKP</th>\n",
       "      <th>P-JUS-CKGL</th>\n",
       "      <th>class</th>\n",
       "    </tr>\n",
       "    <tr>\n",
       "      <th>timestamp</th>\n",
       "      <th></th>\n",
       "      <th></th>\n",
       "      <th></th>\n",
       "      <th></th>\n",
       "      <th></th>\n",
       "      <th></th>\n",
       "      <th></th>\n",
       "    </tr>\n",
       "  </thead>\n",
       "  <tbody>\n",
       "    <tr>\n",
       "      <th>2014-01-24 09:33:03</th>\n",
       "      <td>0.000000e+00</td>\n",
       "      <td>18433410.0</td>\n",
       "      <td>116.8718</td>\n",
       "      <td>9397031.0</td>\n",
       "      <td>74.80031</td>\n",
       "      <td>-300917.8</td>\n",
       "      <td>0.0</td>\n",
       "    </tr>\n",
       "    <tr>\n",
       "      <th>2014-01-24 09:33:04</th>\n",
       "      <td>0.000000e+00</td>\n",
       "      <td>18433410.0</td>\n",
       "      <td>116.8718</td>\n",
       "      <td>9397031.0</td>\n",
       "      <td>74.80031</td>\n",
       "      <td>-300917.8</td>\n",
       "      <td>0.0</td>\n",
       "    </tr>\n",
       "    <tr>\n",
       "      <th>2014-01-24 09:33:05</th>\n",
       "      <td>0.000000e+00</td>\n",
       "      <td>18433410.0</td>\n",
       "      <td>116.8718</td>\n",
       "      <td>9397032.0</td>\n",
       "      <td>74.80031</td>\n",
       "      <td>-300917.8</td>\n",
       "      <td>0.0</td>\n",
       "    </tr>\n",
       "    <tr>\n",
       "      <th>2014-01-24 09:33:06</th>\n",
       "      <td>0.000000e+00</td>\n",
       "      <td>18433410.0</td>\n",
       "      <td>116.8718</td>\n",
       "      <td>9397033.0</td>\n",
       "      <td>74.80031</td>\n",
       "      <td>-300917.8</td>\n",
       "      <td>0.0</td>\n",
       "    </tr>\n",
       "    <tr>\n",
       "      <th>2014-01-24 09:33:07</th>\n",
       "      <td>0.000000e+00</td>\n",
       "      <td>18433410.0</td>\n",
       "      <td>116.8718</td>\n",
       "      <td>9397033.0</td>\n",
       "      <td>74.80031</td>\n",
       "      <td>-300917.8</td>\n",
       "      <td>0.0</td>\n",
       "    </tr>\n",
       "    <tr>\n",
       "      <th>...</th>\n",
       "      <td>...</td>\n",
       "      <td>...</td>\n",
       "      <td>...</td>\n",
       "      <td>...</td>\n",
       "      <td>...</td>\n",
       "      <td>...</td>\n",
       "      <td>...</td>\n",
       "    </tr>\n",
       "    <tr>\n",
       "      <th>2018-06-18 10:59:56</th>\n",
       "      <td>-1.180116e+42</td>\n",
       "      <td>20647810.0</td>\n",
       "      <td>118.2188</td>\n",
       "      <td>10136700.0</td>\n",
       "      <td>71.27952</td>\n",
       "      <td>4108865.0</td>\n",
       "      <td>1.0</td>\n",
       "    </tr>\n",
       "    <tr>\n",
       "      <th>2018-06-18 10:59:57</th>\n",
       "      <td>-1.180116e+42</td>\n",
       "      <td>20647810.0</td>\n",
       "      <td>118.2194</td>\n",
       "      <td>10137410.0</td>\n",
       "      <td>71.27949</td>\n",
       "      <td>4108866.0</td>\n",
       "      <td>1.0</td>\n",
       "    </tr>\n",
       "    <tr>\n",
       "      <th>2018-06-18 10:59:58</th>\n",
       "      <td>-1.180116e+42</td>\n",
       "      <td>20647810.0</td>\n",
       "      <td>118.2201</td>\n",
       "      <td>10138120.0</td>\n",
       "      <td>71.27946</td>\n",
       "      <td>4108866.0</td>\n",
       "      <td>1.0</td>\n",
       "    </tr>\n",
       "    <tr>\n",
       "      <th>2018-06-18 10:59:59</th>\n",
       "      <td>-1.180116e+42</td>\n",
       "      <td>20647810.0</td>\n",
       "      <td>118.2207</td>\n",
       "      <td>10138830.0</td>\n",
       "      <td>71.27944</td>\n",
       "      <td>4108867.0</td>\n",
       "      <td>1.0</td>\n",
       "    </tr>\n",
       "    <tr>\n",
       "      <th>2018-06-18 11:00:00</th>\n",
       "      <td>-1.180116e+42</td>\n",
       "      <td>20647810.0</td>\n",
       "      <td>118.2214</td>\n",
       "      <td>10139540.0</td>\n",
       "      <td>71.27942</td>\n",
       "      <td>4108867.0</td>\n",
       "      <td>1.0</td>\n",
       "    </tr>\n",
       "  </tbody>\n",
       "</table>\n",
       "<p>232040 rows × 7 columns</p>\n",
       "</div>"
      ],
      "text/plain": [
       "                            P-PDG       P-TPT     T-TPT   P-MON-CKP  \\\n",
       "timestamp                                                             \n",
       "2014-01-24 09:33:03  0.000000e+00  18433410.0  116.8718   9397031.0   \n",
       "2014-01-24 09:33:04  0.000000e+00  18433410.0  116.8718   9397031.0   \n",
       "2014-01-24 09:33:05  0.000000e+00  18433410.0  116.8718   9397032.0   \n",
       "2014-01-24 09:33:06  0.000000e+00  18433410.0  116.8718   9397033.0   \n",
       "2014-01-24 09:33:07  0.000000e+00  18433410.0  116.8718   9397033.0   \n",
       "...                           ...         ...       ...         ...   \n",
       "2018-06-18 10:59:56 -1.180116e+42  20647810.0  118.2188  10136700.0   \n",
       "2018-06-18 10:59:57 -1.180116e+42  20647810.0  118.2194  10137410.0   \n",
       "2018-06-18 10:59:58 -1.180116e+42  20647810.0  118.2201  10138120.0   \n",
       "2018-06-18 10:59:59 -1.180116e+42  20647810.0  118.2207  10138830.0   \n",
       "2018-06-18 11:00:00 -1.180116e+42  20647810.0  118.2214  10139540.0   \n",
       "\n",
       "                     T-JUS-CKP  P-JUS-CKGL  class  \n",
       "timestamp                                          \n",
       "2014-01-24 09:33:03   74.80031   -300917.8    0.0  \n",
       "2014-01-24 09:33:04   74.80031   -300917.8    0.0  \n",
       "2014-01-24 09:33:05   74.80031   -300917.8    0.0  \n",
       "2014-01-24 09:33:06   74.80031   -300917.8    0.0  \n",
       "2014-01-24 09:33:07   74.80031   -300917.8    0.0  \n",
       "...                        ...         ...    ...  \n",
       "2018-06-18 10:59:56   71.27952   4108865.0    1.0  \n",
       "2018-06-18 10:59:57   71.27949   4108866.0    1.0  \n",
       "2018-06-18 10:59:58   71.27946   4108866.0    1.0  \n",
       "2018-06-18 10:59:59   71.27944   4108867.0    1.0  \n",
       "2018-06-18 11:00:00   71.27942   4108867.0    1.0  \n",
       "\n",
       "[232040 rows x 7 columns]"
      ]
     },
     "execution_count": 12,
     "metadata": {},
     "output_type": "execute_result"
    }
   ],
   "source": [
    "df_aux = df_output.drop(columns=[\"QGL\", \"T-JUS-CKGL\"])\n",
    "df_aux"
   ]
  },
  {
   "cell_type": "code",
   "execution_count": 13,
   "metadata": {},
   "outputs": [
    {
     "name": "stdout",
     "output_type": "stream",
     "text": [
      "P-PDG null data is 0.0\n",
      "P-TPT null data is 0.0\n",
      "T-TPT null data is 0.0\n",
      "P-MON-CKP null data is 0.0\n",
      "T-JUS-CKP null data is 0.0\n",
      "P-JUS-CKGL null data is 0.0\n",
      "class null data is 4.459575935183589\n"
     ]
    }
   ],
   "source": [
    "for column_name in df_aux.columns:\n",
    "    percent = Preprocessing.check_null_dataframe(df_data=df_aux, column_name=column_name)\n",
    "    print(f\"{column_name} null data is {percent}\")"
   ]
  },
  {
   "cell_type": "code",
   "execution_count": 14,
   "metadata": {},
   "outputs": [
    {
     "data": {
      "text/plain": [
       "(221692, 7)"
      ]
     },
     "execution_count": 14,
     "metadata": {},
     "output_type": "execute_result"
    }
   ],
   "source": [
    "df_aux = df_aux.dropna()\n",
    "df_aux.shape"
   ]
  },
  {
   "cell_type": "code",
   "execution_count": 15,
   "metadata": {},
   "outputs": [
    {
     "name": "stdout",
     "output_type": "stream",
     "text": [
      "P-PDG low variance is 0\n",
      "P-TPT low variance is 0\n",
      "T-TPT low variance is 0\n",
      "P-MON-CKP low variance is 0\n",
      "T-JUS-CKP low variance is 0\n",
      "P-JUS-CKGL low variance is 0\n",
      "class low variance is 0\n"
     ]
    }
   ],
   "source": [
    "for column_name in df_aux.columns:\n",
    "    percent = Preprocessing.check_column_low_variance(df_data=df_output, column_name=column_name)\n",
    "    print(f\"{column_name} low variance is {percent}\")"
   ]
  },
  {
   "cell_type": "code",
   "execution_count": 16,
   "metadata": {},
   "outputs": [
    {
     "name": "stderr",
     "output_type": "stream",
     "text": [
      "C:\\Users\\marce\\AppData\\Local\\Temp\\ipykernel_23016\\311632643.py:1: SettingWithCopyWarning: \n",
      "A value is trying to be set on a copy of a slice from a DataFrame.\n",
      "Try using .loc[row_indexer,col_indexer] = value instead\n",
      "\n",
      "See the caveats in the documentation: https://pandas.pydata.org/pandas-docs/stable/user_guide/indexing.html#returning-a-view-versus-a-copy\n",
      "  df_aux[\"class\"] = df_aux[\"class\"].replace(101, 1)\n"
     ]
    }
   ],
   "source": [
    "df_aux[\"class\"] = df_aux[\"class\"].replace(101, 1)"
   ]
  },
  {
   "cell_type": "code",
   "execution_count": 17,
   "metadata": {},
   "outputs": [
    {
     "data": {
      "text/plain": [
       "class\n",
       "0.0    66.432257\n",
       "1.0    33.567743\n",
       "Name: count, dtype: float64"
      ]
     },
     "execution_count": 17,
     "metadata": {},
     "output_type": "execute_result"
    }
   ],
   "source": [
    "contagem_classes = df_aux['class'].value_counts()\n",
    "\n",
    "# Calcular a porcentagem de cada classe\n",
    "porcentagem_classes = contagem_classes / len(df_aux) * 100\n",
    "porcentagem_classes"
   ]
  },
  {
   "cell_type": "code",
   "execution_count": 18,
   "metadata": {},
   "outputs": [],
   "source": [
    "import numpy as np\n",
    "from tensorflow.keras.layers import Input, Dense\n",
    "from tensorflow.keras.models import Model\n",
    "from sklearn.model_selection import train_test_split"
   ]
  },
  {
   "cell_type": "code",
   "execution_count": 19,
   "metadata": {},
   "outputs": [],
   "source": [
    "# Separar as features (X) e os rótulos (y)\n",
    "X = df_aux.drop('class', axis=1)\n",
    "y = df_aux['class']\n",
    "\n",
    "X_train, X_test, y_train, y_test = train_test_split(X, y, test_size=0.3, stratify=y, random_state=42)\n",
    "X_train, X_val, y_train, y_val = train_test_split(X_train, y_train, test_size=0.2, stratify=y_train, random_state=42)"
   ]
  },
  {
   "cell_type": "code",
   "execution_count": 20,
   "metadata": {},
   "outputs": [],
   "source": [
    "scaler = StandardScaler()\n",
    "X_train = scaler.fit_transform(X_train)\n",
    "\n",
    "X_val = scaler.transform(X_val)\n",
    "X_test = scaler.transform(X_test)"
   ]
  },
  {
   "cell_type": "code",
   "execution_count": 21,
   "metadata": {},
   "outputs": [
    {
     "name": "stdout",
     "output_type": "stream",
     "text": [
      "Epoch 1/50\n",
      "3880/3880 [==============================] - 5s 1ms/step - loss: 0.6884 - val_loss: 0.6059\n",
      "Epoch 2/50\n",
      "3880/3880 [==============================] - 4s 946us/step - loss: 0.6012 - val_loss: 0.5984\n",
      "Epoch 3/50\n",
      "3880/3880 [==============================] - 4s 965us/step - loss: 0.5978 - val_loss: 0.5972\n",
      "Epoch 4/50\n",
      "3880/3880 [==============================] - 4s 938us/step - loss: 0.5973 - val_loss: 0.5971\n",
      "Epoch 5/50\n",
      "3880/3880 [==============================] - 4s 927us/step - loss: 0.5973 - val_loss: 0.5971\n",
      "Epoch 6/50\n",
      "3880/3880 [==============================] - 4s 936us/step - loss: 0.5973 - val_loss: 0.5971\n",
      "Epoch 7/50\n",
      "3880/3880 [==============================] - 4s 917us/step - loss: 0.5973 - val_loss: 0.5971\n",
      "Epoch 8/50\n",
      "3880/3880 [==============================] - 4s 978us/step - loss: 0.5972 - val_loss: 0.5971\n",
      "Epoch 9/50\n",
      "3880/3880 [==============================] - 4s 1ms/step - loss: 0.5972 - val_loss: 0.5971\n",
      "Epoch 10/50\n",
      "3880/3880 [==============================] - 4s 1ms/step - loss: 0.5972 - val_loss: 0.5971\n",
      "Epoch 11/50\n",
      "3880/3880 [==============================] - 4s 995us/step - loss: 0.5968 - val_loss: 0.5961\n",
      "Epoch 12/50\n",
      "3880/3880 [==============================] - 4s 965us/step - loss: 0.5954 - val_loss: 0.5945\n",
      "Epoch 13/50\n",
      "3880/3880 [==============================] - 4s 967us/step - loss: 0.5945 - val_loss: 0.5943\n",
      "Epoch 14/50\n",
      "3880/3880 [==============================] - 4s 955us/step - loss: 0.5944 - val_loss: 0.5942\n",
      "Epoch 15/50\n",
      "3880/3880 [==============================] - 4s 954us/step - loss: 0.5943 - val_loss: 0.5942\n",
      "Epoch 16/50\n",
      "3880/3880 [==============================] - 4s 941us/step - loss: 0.5943 - val_loss: 0.5942\n",
      "Epoch 17/50\n",
      "3880/3880 [==============================] - 4s 920us/step - loss: 0.5943 - val_loss: 0.5942\n",
      "Epoch 18/50\n",
      "3880/3880 [==============================] - 4s 956us/step - loss: 0.5942 - val_loss: 0.5941\n",
      "Epoch 19/50\n",
      "3880/3880 [==============================] - 4s 923us/step - loss: 0.5942 - val_loss: 0.5941\n",
      "Epoch 20/50\n",
      "3880/3880 [==============================] - 4s 974us/step - loss: 0.5942 - val_loss: 0.5941\n",
      "Epoch 21/50\n",
      "3880/3880 [==============================] - 4s 1ms/step - loss: 0.5942 - val_loss: 0.5941\n",
      "Epoch 22/50\n",
      "3880/3880 [==============================] - 4s 1ms/step - loss: 0.5942 - val_loss: 0.5941\n",
      "Epoch 23/50\n",
      "3880/3880 [==============================] - 4s 1ms/step - loss: 0.5942 - val_loss: 0.5941\n",
      "Epoch 24/50\n",
      "3880/3880 [==============================] - 4s 1ms/step - loss: 0.5942 - val_loss: 0.5941\n",
      "Epoch 25/50\n",
      "3880/3880 [==============================] - 4s 1ms/step - loss: 0.5942 - val_loss: 0.5941\n",
      "Epoch 26/50\n",
      "3880/3880 [==============================] - 4s 1ms/step - loss: 0.5942 - val_loss: 0.5941\n",
      "Epoch 27/50\n",
      "3880/3880 [==============================] - 4s 983us/step - loss: 0.5942 - val_loss: 0.5941\n",
      "Epoch 28/50\n",
      "3880/3880 [==============================] - 4s 1ms/step - loss: 0.5942 - val_loss: 0.5941\n",
      "Epoch 29/50\n",
      "3880/3880 [==============================] - 4s 1ms/step - loss: 0.5942 - val_loss: 0.5941\n",
      "Epoch 30/50\n",
      "3880/3880 [==============================] - 5s 1ms/step - loss: 0.5942 - val_loss: 0.5941\n",
      "Epoch 31/50\n",
      "3880/3880 [==============================] - 5s 1ms/step - loss: 0.5942 - val_loss: 0.5941\n",
      "Epoch 32/50\n",
      "3880/3880 [==============================] - 4s 1ms/step - loss: 0.5942 - val_loss: 0.5941\n",
      "Epoch 33/50\n",
      "3880/3880 [==============================] - 4s 1ms/step - loss: 0.5942 - val_loss: 0.5941\n",
      "Epoch 34/50\n",
      "3880/3880 [==============================] - 4s 1ms/step - loss: 0.5942 - val_loss: 0.5941\n",
      "Epoch 35/50\n",
      "3880/3880 [==============================] - 4s 1ms/step - loss: 0.5942 - val_loss: 0.5941\n",
      "Epoch 36/50\n",
      "3880/3880 [==============================] - 5s 1ms/step - loss: 0.5942 - val_loss: 0.5941\n",
      "Epoch 37/50\n",
      "3880/3880 [==============================] - 6s 2ms/step - loss: 0.5942 - val_loss: 0.5941\n",
      "Epoch 38/50\n",
      "3880/3880 [==============================] - 4s 1ms/step - loss: 0.5942 - val_loss: 0.5941\n",
      "Epoch 39/50\n",
      "3880/3880 [==============================] - 4s 1ms/step - loss: 0.5942 - val_loss: 0.5941\n",
      "Epoch 40/50\n",
      "3880/3880 [==============================] - 4s 1ms/step - loss: 0.5942 - val_loss: 0.5941\n",
      "Epoch 41/50\n",
      "3880/3880 [==============================] - 4s 1ms/step - loss: 0.5942 - val_loss: 0.5941\n",
      "Epoch 42/50\n",
      "3880/3880 [==============================] - 4s 1ms/step - loss: 0.5942 - val_loss: 0.5941\n",
      "Epoch 43/50\n",
      "3880/3880 [==============================] - 4s 970us/step - loss: 0.5942 - val_loss: 0.5941\n",
      "Epoch 44/50\n",
      "3880/3880 [==============================] - 4s 961us/step - loss: 0.5942 - val_loss: 0.5941\n",
      "Epoch 45/50\n",
      "3880/3880 [==============================] - 4s 990us/step - loss: 0.5942 - val_loss: 0.5941\n",
      "Epoch 46/50\n",
      "3880/3880 [==============================] - 4s 998us/step - loss: 0.5942 - val_loss: 0.5941\n",
      "Epoch 47/50\n",
      "3880/3880 [==============================] - 4s 966us/step - loss: 0.5942 - val_loss: 0.5941\n",
      "Epoch 48/50\n",
      "3880/3880 [==============================] - 4s 970us/step - loss: 0.5942 - val_loss: 0.5941\n",
      "Epoch 49/50\n",
      "3880/3880 [==============================] - 4s 1ms/step - loss: 0.5942 - val_loss: 0.5941\n",
      "Epoch 50/50\n",
      "3880/3880 [==============================] - 4s 1ms/step - loss: 0.5942 - val_loss: 0.5941\n",
      "2079/2079 [==============================] - 2s 742us/step\n"
     ]
    }
   ],
   "source": [
    "# Definir a arquitetura do Autoencoder\n",
    "input_dim = X_train.shape[1]\n",
    "encoding_dim = 4  # Dimensão da camada de codificação\n",
    "\n",
    "input_layer = Input(shape=(input_dim,))\n",
    "encoder = Dense(encoding_dim, activation='relu')(input_layer)\n",
    "decoder = Dense(input_dim, activation='sigmoid')(encoder)\n",
    "\n",
    "autoencoder = Model(inputs=input_layer, outputs=decoder)\n",
    "\n",
    "# Compilar o modelo\n",
    "autoencoder.compile(optimizer='adam', loss='mse')\n",
    "\n",
    "# Treinar o Autoencoder\n",
    "autoencoder.fit(X_train, X_train, epochs=50, batch_size=32, shuffle=True, validation_data=(X_val, X_val))\n",
    "\n",
    "# Usar o Autoencoder para reconstruir os dados de teste\n",
    "reconstructions = autoencoder.predict(X_test)\n"
   ]
  },
  {
   "cell_type": "code",
   "execution_count": 55,
   "metadata": {},
   "outputs": [
    {
     "name": "stdout",
     "output_type": "stream",
     "text": [
      "Índices das anomalias: [   16    29    69 ... 66491 66492 66505]\n"
     ]
    }
   ],
   "source": [
    "# Calcular a diferença entre os dados originais e as reconstruções\n",
    "mse = np.sqrt(np.mean(np.power(X_test - reconstructions, 2), axis=1))\n",
    "#mse = np.mean(np.power(X_test - reconstructions, 2), axis=1)\n",
    "\n",
    "# Definir um limiar para identificar anomalias (por exemplo, o percentil 95 das pontuações MSE)\n",
    "limiar = np.percentile(mse, 95)\n",
    "\n",
    "# Identificar anomalias com base no limiar\n",
    "anomalias_indices = np.where(mse >= limiar)[0]\n",
    "\n",
    "# Imprimir os índices das anomalias\n",
    "print(\"Índices das anomalias:\", anomalias_indices)"
   ]
  },
  {
   "cell_type": "code",
   "execution_count": 56,
   "metadata": {},
   "outputs": [],
   "source": [
    "df_teste = pd.DataFrame(X_test)"
   ]
  },
  {
   "cell_type": "code",
   "execution_count": 57,
   "metadata": {},
   "outputs": [],
   "source": [
    "df_teste[\"PRED\"] = 0\n",
    "df_teste.loc[anomalias_indices, 'PRED'] = 1\n",
    "df_teste[\"class\"] = y_test.values"
   ]
  },
  {
   "cell_type": "code",
   "execution_count": 58,
   "metadata": {},
   "outputs": [
    {
     "data": {
      "text/plain": [
       "0.6996301196848499"
      ]
     },
     "execution_count": 58,
     "metadata": {},
     "output_type": "execute_result"
    }
   ],
   "source": [
    "accuracy_score(df_teste['class'].values,  df_teste[\"PRED\"].values)"
   ]
  },
  {
   "cell_type": "code",
   "execution_count": 59,
   "metadata": {},
   "outputs": [],
   "source": [
    "precision = precision_score(df_teste['class'].values,  df_teste[\"PRED\"].values, average=None)\n",
    "recall = recall_score(df_teste['class'].values,  df_teste[\"PRED\"].values, average=None)\n",
    "f1 = f1_score(df_teste['class'].values,  df_teste[\"PRED\"].values, average=None)"
   ]
  },
  {
   "cell_type": "code",
   "execution_count": 60,
   "metadata": {},
   "outputs": [
    {
     "name": "stdout",
     "output_type": "stream",
     "text": [
      "Classe 0:\n",
      "Precision: 0.6915577221360514\n",
      "Recall: 0.9889323948124844\n",
      "F1-score: 0.8139337773017278\n",
      "\n",
      "Classe 1:\n",
      "Precision: 0.8529765484064943\n",
      "Recall: 0.12707726763717805\n",
      "F1-score: 0.22119995321819813\n",
      "\n"
     ]
    }
   ],
   "source": [
    "for i in range(len(precision)):\n",
    "    print(f'Classe {i}:')\n",
    "    print(f'Precision: {precision[i]}')\n",
    "    print(f'Recall: {recall[i]}')\n",
    "    print(f'F1-score: {f1[i]}\\n')"
   ]
  }
 ],
 "metadata": {
  "kernelspec": {
   "display_name": "venv3WPetrobras",
   "language": "python",
   "name": "venv3wpetrobras"
  },
  "language_info": {
   "codemirror_mode": {
    "name": "ipython",
    "version": 3
   },
   "file_extension": ".py",
   "mimetype": "text/x-python",
   "name": "python",
   "nbconvert_exporter": "python",
   "pygments_lexer": "ipython3",
   "version": "3.8.9"
  }
 },
 "nbformat": 4,
 "nbformat_minor": 2
}
