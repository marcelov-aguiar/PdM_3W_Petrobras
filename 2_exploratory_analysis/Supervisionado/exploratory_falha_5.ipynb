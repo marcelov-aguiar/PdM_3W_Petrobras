{
 "cells": [
  {
   "cell_type": "code",
   "execution_count": 1,
   "metadata": {},
   "outputs": [],
   "source": [
    "import pandas as pd\n",
    "import os\n",
    "import sys\n",
    "import matplotlib.pyplot as plt\n",
    "import seaborn as sns\n",
    "import numpy as np\n",
    "import dill\n",
    "from typing import List\n",
    "import scipy.stats as sts\n",
    "from sklearn.pipeline import Pipeline\n",
    "from sklearn.decomposition import PCA\n",
    "from sklearn.preprocessing import RobustScaler\n",
    "from sklearn.metrics import precision_score, recall_score, f1_score, accuracy_score\n",
    "from sklearn.model_selection import train_test_split\n",
    "from sklearn.neighbors import KNeighborsClassifier\n",
    "from sklearn.preprocessing import StandardScaler\n",
    "from sklearn.neural_network import MLPClassifier\n",
    "from sklearn.metrics import confusion_matrix\n",
    "\n",
    "import util\n",
    "from pathlib import Path\n",
    "from class_manipulates_path import ManipulatePath\n",
    "from class_preprocessing_refactor import Preprocessing\n",
    "from class_format_data import FormatData\n",
    "util.init()\n",
    "\n",
    "current_path = sys.path[0]"
   ]
  },
  {
   "cell_type": "code",
   "execution_count": 2,
   "metadata": {},
   "outputs": [],
   "source": [
    "def plot_variable(df, column_name, intervalos=None):\n",
    "    \"\"\"\n",
    "    Plota um gráfico de dispersão para uma variável de um DataFrame.\n",
    "\n",
    "    Parâmetros:\n",
    "        - df: DataFrame pandas contendo os dados.\n",
    "        - column_name: Nome da coluna que você deseja plotar.\n",
    "        - intervalos: Lista de intervalos para plotar linhas verticais.\n",
    "    \"\"\"\n",
    "    plt.figure(figsize=(20, 10))\n",
    "    plt.scatter(df.index.values, df[column_name].values, color='darkcyan', alpha=0.5)\n",
    "    plt.xlabel('Índice')\n",
    "    plt.ylabel(column_name)\n",
    "    plt.title(f'Gráfico de dispersão para a variável \"{column_name}\"')\n",
    "\n",
    "\n",
    "    # Plotar linhas verticais para cada intervalo\n",
    "    if intervalos:\n",
    "        for intervalo in intervalos:\n",
    "            plt.axvline(x=intervalo, linestyle='--', color='red')\n",
    "\n",
    "    plt.show()"
   ]
  },
  {
   "cell_type": "code",
   "execution_count": 3,
   "metadata": {},
   "outputs": [],
   "source": [
    "def class_and_file_generator(data_path, real=False, simulated=False, drawn=False):\n",
    "    for class_path in data_path.iterdir():\n",
    "        if class_path.is_dir():\n",
    "            class_code = int(class_path.stem)\n",
    "            for instance_path in class_path.iterdir():\n",
    "                if (instance_path.suffix == '.csv'):\n",
    "                    if (simulated and instance_path.stem.startswith('SIMULATED')) or \\\n",
    "                       (drawn and instance_path.stem.startswith('DRAWN')) or \\\n",
    "                       (real and (not instance_path.stem.startswith('SIMULATED')) and \\\n",
    "                       (not instance_path.stem.startswith('DRAWN'))):\n",
    "                        yield class_code, instance_path"
   ]
  },
  {
   "cell_type": "code",
   "execution_count": 4,
   "metadata": {},
   "outputs": [],
   "source": [
    "manipulate_path = ManipulatePath()\n",
    "\n",
    "preprocessing = Preprocessing()\n",
    "\n",
    "format_data = FormatData()\n",
    "\n",
    "path_raw_data = manipulate_path.get_path_raw_data()\n",
    "\n",
    "abnormal_classes_codes = [1, 2, 5, 6, 7, 8]"
   ]
  },
  {
   "cell_type": "code",
   "execution_count": 5,
   "metadata": {},
   "outputs": [],
   "source": [
    "# Gets all real instances but maintains only those with any type of undesirable event\n",
    "real_instances = pd.DataFrame(class_and_file_generator(path_raw_data, \n",
    "                                                       real=True,\n",
    "                                                       simulated=False, \n",
    "                                                       drawn=False),\n",
    "                              columns=['class_code', 'instance_path'])\n",
    "real_instances = real_instances.loc[real_instances.iloc[:,0].isin(abnormal_classes_codes)].reset_index(drop=True)"
   ]
  },
  {
   "cell_type": "code",
   "execution_count": 6,
   "metadata": {},
   "outputs": [],
   "source": [
    "falha = 5\n",
    "falha_2 = 105"
   ]
  },
  {
   "cell_type": "code",
   "execution_count": 7,
   "metadata": {},
   "outputs": [
    {
     "data": {
      "text/html": [
       "<div>\n",
       "<style scoped>\n",
       "    .dataframe tbody tr th:only-of-type {\n",
       "        vertical-align: middle;\n",
       "    }\n",
       "\n",
       "    .dataframe tbody tr th {\n",
       "        vertical-align: top;\n",
       "    }\n",
       "\n",
       "    .dataframe thead th {\n",
       "        text-align: right;\n",
       "    }\n",
       "</style>\n",
       "<table border=\"1\" class=\"dataframe\">\n",
       "  <thead>\n",
       "    <tr style=\"text-align: right;\">\n",
       "      <th></th>\n",
       "      <th>class_code</th>\n",
       "      <th>instance_path</th>\n",
       "    </tr>\n",
       "  </thead>\n",
       "  <tbody>\n",
       "    <tr>\n",
       "      <th>27</th>\n",
       "      <td>5</td>\n",
       "      <td>c:\\Users\\marce\\Documents\\MEGA\\0_PUC-Rio\\2_Peri...</td>\n",
       "    </tr>\n",
       "    <tr>\n",
       "      <th>28</th>\n",
       "      <td>5</td>\n",
       "      <td>c:\\Users\\marce\\Documents\\MEGA\\0_PUC-Rio\\2_Peri...</td>\n",
       "    </tr>\n",
       "    <tr>\n",
       "      <th>29</th>\n",
       "      <td>5</td>\n",
       "      <td>c:\\Users\\marce\\Documents\\MEGA\\0_PUC-Rio\\2_Peri...</td>\n",
       "    </tr>\n",
       "    <tr>\n",
       "      <th>30</th>\n",
       "      <td>5</td>\n",
       "      <td>c:\\Users\\marce\\Documents\\MEGA\\0_PUC-Rio\\2_Peri...</td>\n",
       "    </tr>\n",
       "    <tr>\n",
       "      <th>31</th>\n",
       "      <td>5</td>\n",
       "      <td>c:\\Users\\marce\\Documents\\MEGA\\0_PUC-Rio\\2_Peri...</td>\n",
       "    </tr>\n",
       "    <tr>\n",
       "      <th>32</th>\n",
       "      <td>5</td>\n",
       "      <td>c:\\Users\\marce\\Documents\\MEGA\\0_PUC-Rio\\2_Peri...</td>\n",
       "    </tr>\n",
       "    <tr>\n",
       "      <th>33</th>\n",
       "      <td>5</td>\n",
       "      <td>c:\\Users\\marce\\Documents\\MEGA\\0_PUC-Rio\\2_Peri...</td>\n",
       "    </tr>\n",
       "    <tr>\n",
       "      <th>34</th>\n",
       "      <td>5</td>\n",
       "      <td>c:\\Users\\marce\\Documents\\MEGA\\0_PUC-Rio\\2_Peri...</td>\n",
       "    </tr>\n",
       "    <tr>\n",
       "      <th>35</th>\n",
       "      <td>5</td>\n",
       "      <td>c:\\Users\\marce\\Documents\\MEGA\\0_PUC-Rio\\2_Peri...</td>\n",
       "    </tr>\n",
       "    <tr>\n",
       "      <th>36</th>\n",
       "      <td>5</td>\n",
       "      <td>c:\\Users\\marce\\Documents\\MEGA\\0_PUC-Rio\\2_Peri...</td>\n",
       "    </tr>\n",
       "    <tr>\n",
       "      <th>37</th>\n",
       "      <td>5</td>\n",
       "      <td>c:\\Users\\marce\\Documents\\MEGA\\0_PUC-Rio\\2_Peri...</td>\n",
       "    </tr>\n",
       "  </tbody>\n",
       "</table>\n",
       "</div>"
      ],
      "text/plain": [
       "    class_code                                      instance_path\n",
       "27           5  c:\\Users\\marce\\Documents\\MEGA\\0_PUC-Rio\\2_Peri...\n",
       "28           5  c:\\Users\\marce\\Documents\\MEGA\\0_PUC-Rio\\2_Peri...\n",
       "29           5  c:\\Users\\marce\\Documents\\MEGA\\0_PUC-Rio\\2_Peri...\n",
       "30           5  c:\\Users\\marce\\Documents\\MEGA\\0_PUC-Rio\\2_Peri...\n",
       "31           5  c:\\Users\\marce\\Documents\\MEGA\\0_PUC-Rio\\2_Peri...\n",
       "32           5  c:\\Users\\marce\\Documents\\MEGA\\0_PUC-Rio\\2_Peri...\n",
       "33           5  c:\\Users\\marce\\Documents\\MEGA\\0_PUC-Rio\\2_Peri...\n",
       "34           5  c:\\Users\\marce\\Documents\\MEGA\\0_PUC-Rio\\2_Peri...\n",
       "35           5  c:\\Users\\marce\\Documents\\MEGA\\0_PUC-Rio\\2_Peri...\n",
       "36           5  c:\\Users\\marce\\Documents\\MEGA\\0_PUC-Rio\\2_Peri...\n",
       "37           5  c:\\Users\\marce\\Documents\\MEGA\\0_PUC-Rio\\2_Peri..."
      ]
     },
     "execution_count": 7,
     "metadata": {},
     "output_type": "execute_result"
    }
   ],
   "source": [
    "real_instances[real_instances[\"class_code\"] == falha]"
   ]
  },
  {
   "cell_type": "code",
   "execution_count": 8,
   "metadata": {},
   "outputs": [
    {
     "data": {
      "text/plain": [
       "array([WindowsPath('c:/Users/marce/Documents/MEGA/0_PUC-Rio/2_Periodo/2_Data_Science/2_Trabalho_Final/3_3W/1_data/1_raw_data/5/WELL-00015_20170620040530.csv'),\n",
       "       WindowsPath('c:/Users/marce/Documents/MEGA/0_PUC-Rio/2_Periodo/2_Data_Science/2_Trabalho_Final/3_3W/1_data/1_raw_data/5/WELL-00016_20180404222255.csv'),\n",
       "       WindowsPath('c:/Users/marce/Documents/MEGA/0_PUC-Rio/2_Periodo/2_Data_Science/2_Trabalho_Final/3_3W/1_data/1_raw_data/5/WELL-00016_20180426102531.csv'),\n",
       "       WindowsPath('c:/Users/marce/Documents/MEGA/0_PUC-Rio/2_Periodo/2_Data_Science/2_Trabalho_Final/3_3W/1_data/1_raw_data/5/WELL-00016_20180426105723.csv'),\n",
       "       WindowsPath('c:/Users/marce/Documents/MEGA/0_PUC-Rio/2_Periodo/2_Data_Science/2_Trabalho_Final/3_3W/1_data/1_raw_data/5/WELL-00016_20180517184536.csv'),\n",
       "       WindowsPath('c:/Users/marce/Documents/MEGA/0_PUC-Rio/2_Periodo/2_Data_Science/2_Trabalho_Final/3_3W/1_data/1_raw_data/5/WELL-00017_20140314135248.csv'),\n",
       "       WindowsPath('c:/Users/marce/Documents/MEGA/0_PUC-Rio/2_Periodo/2_Data_Science/2_Trabalho_Final/3_3W/1_data/1_raw_data/5/WELL-00017_20140317123419.csv'),\n",
       "       WindowsPath('c:/Users/marce/Documents/MEGA/0_PUC-Rio/2_Periodo/2_Data_Science/2_Trabalho_Final/3_3W/1_data/1_raw_data/5/WELL-00017_20140317225927.csv'),\n",
       "       WindowsPath('c:/Users/marce/Documents/MEGA/0_PUC-Rio/2_Periodo/2_Data_Science/2_Trabalho_Final/3_3W/1_data/1_raw_data/5/WELL-00017_20140318130603.csv'),\n",
       "       WindowsPath('c:/Users/marce/Documents/MEGA/0_PUC-Rio/2_Periodo/2_Data_Science/2_Trabalho_Final/3_3W/1_data/1_raw_data/5/WELL-00017_20140319020130.csv'),\n",
       "       WindowsPath('c:/Users/marce/Documents/MEGA/0_PUC-Rio/2_Periodo/2_Data_Science/2_Trabalho_Final/3_3W/1_data/1_raw_data/5/WELL-00017_20140319031616.csv')],\n",
       "      dtype=object)"
      ]
     },
     "execution_count": 8,
     "metadata": {},
     "output_type": "execute_result"
    }
   ],
   "source": [
    "real_instances[real_instances[\"class_code\"] == falha][\"instance_path\"].values"
   ]
  },
  {
   "cell_type": "code",
   "execution_count": 9,
   "metadata": {},
   "outputs": [
    {
     "name": "stdout",
     "output_type": "stream",
     "text": [
      "1 se repete 8959\n",
      "Index min 2017-06-20 04:05:30 index max 2017-06-20 19:23:52\n",
      "1 se repete 2114\n",
      "Index min 2018-04-04 22:22:55 index max 2018-04-05 02:58:55\n",
      "1 se repete 1104\n",
      "Index min 2018-04-26 10:25:31 index max 2018-04-26 14:44:04\n",
      "1 se repete 2796\n",
      "Index min 2018-04-26 10:57:23 index max 2018-04-26 15:44:20\n",
      "1 se repete 10461\n",
      "Index min 2018-05-17 18:45:36 index max 2018-05-18 01:42:55\n",
      "1 se repete 138359\n",
      "Index min 2014-03-14 13:52:48 index max 2014-03-16 08:33:14\n",
      "1 se repete 32072\n",
      "Index min 2014-03-17 12:34:19 index max 2014-03-18 01:30:00\n",
      "1 se repete 39357\n",
      "Index min 2014-03-17 22:59:27 index max 2014-03-18 13:57:58\n",
      "1 se repete 31870\n",
      "Index min 2014-03-18 13:06:03 index max 2014-03-19 02:00:00\n",
      "1 se repete 17742\n",
      "Index min 2014-03-19 02:01:30 index max 2014-03-19 11:00:00\n",
      "1 se repete 45762\n",
      "Index min 2014-03-19 03:16:16 index max 2014-03-20 04:20:38\n"
     ]
    }
   ],
   "source": [
    "file_paths = real_instances[real_instances[\"class_code\"] == falha][\"instance_path\"].values\n",
    "df_output = pd.DataFrame()\n",
    "\n",
    "for file_path in file_paths:\n",
    "    df_data = pd.read_csv(file_path)\n",
    "\n",
    "    df_data = FormatData.set_index_dataframe(df_data=df_data,\n",
    "                                         column_name=\"timestamp\")\n",
    "    quantidade = ((df_data['class'] == falha) | (df_data['class'] == falha_2)).sum()\n",
    "    if quantidade != 0:\n",
    "        print(f\"1 se repete {quantidade}\")\n",
    "        print(f\"Index min {df_data.index.min()} index max {df_data.index.max()}\")\n",
    "\n",
    "    df_output = pd.concat([df_output, df_data], axis=0)"
   ]
  },
  {
   "cell_type": "code",
   "execution_count": 10,
   "metadata": {},
   "outputs": [
    {
     "data": {
      "text/html": [
       "<div>\n",
       "<style scoped>\n",
       "    .dataframe tbody tr th:only-of-type {\n",
       "        vertical-align: middle;\n",
       "    }\n",
       "\n",
       "    .dataframe tbody tr th {\n",
       "        vertical-align: top;\n",
       "    }\n",
       "\n",
       "    .dataframe thead th {\n",
       "        text-align: right;\n",
       "    }\n",
       "</style>\n",
       "<table border=\"1\" class=\"dataframe\">\n",
       "  <thead>\n",
       "    <tr style=\"text-align: right;\">\n",
       "      <th></th>\n",
       "      <th>P-PDG</th>\n",
       "      <th>P-TPT</th>\n",
       "      <th>T-TPT</th>\n",
       "      <th>P-MON-CKP</th>\n",
       "      <th>T-JUS-CKP</th>\n",
       "      <th>P-JUS-CKGL</th>\n",
       "      <th>T-JUS-CKGL</th>\n",
       "      <th>QGL</th>\n",
       "      <th>class</th>\n",
       "    </tr>\n",
       "    <tr>\n",
       "      <th>timestamp</th>\n",
       "      <th></th>\n",
       "      <th></th>\n",
       "      <th></th>\n",
       "      <th></th>\n",
       "      <th></th>\n",
       "      <th></th>\n",
       "      <th></th>\n",
       "      <th></th>\n",
       "      <th></th>\n",
       "    </tr>\n",
       "  </thead>\n",
       "  <tbody>\n",
       "    <tr>\n",
       "      <th>2017-06-20 04:05:30</th>\n",
       "      <td>25008780.0</td>\n",
       "      <td>2.941990e+09</td>\n",
       "      <td>51.93984</td>\n",
       "      <td>5065443.0</td>\n",
       "      <td>33.93840</td>\n",
       "      <td>17542530.0</td>\n",
       "      <td>NaN</td>\n",
       "      <td>0.979444</td>\n",
       "      <td>0.0</td>\n",
       "    </tr>\n",
       "    <tr>\n",
       "      <th>2017-06-20 04:05:31</th>\n",
       "      <td>25008810.0</td>\n",
       "      <td>2.941990e+09</td>\n",
       "      <td>51.94104</td>\n",
       "      <td>5068246.0</td>\n",
       "      <td>33.94290</td>\n",
       "      <td>17542890.0</td>\n",
       "      <td>NaN</td>\n",
       "      <td>0.979297</td>\n",
       "      <td>0.0</td>\n",
       "    </tr>\n",
       "    <tr>\n",
       "      <th>2017-06-20 04:05:32</th>\n",
       "      <td>25008850.0</td>\n",
       "      <td>2.941990e+09</td>\n",
       "      <td>51.94223</td>\n",
       "      <td>5071049.0</td>\n",
       "      <td>33.94739</td>\n",
       "      <td>17543260.0</td>\n",
       "      <td>NaN</td>\n",
       "      <td>0.979149</td>\n",
       "      <td>0.0</td>\n",
       "    </tr>\n",
       "    <tr>\n",
       "      <th>2017-06-20 04:05:33</th>\n",
       "      <td>25008880.0</td>\n",
       "      <td>2.941990e+09</td>\n",
       "      <td>51.94343</td>\n",
       "      <td>5073852.0</td>\n",
       "      <td>33.95188</td>\n",
       "      <td>17543620.0</td>\n",
       "      <td>NaN</td>\n",
       "      <td>0.979001</td>\n",
       "      <td>0.0</td>\n",
       "    </tr>\n",
       "    <tr>\n",
       "      <th>2017-06-20 04:05:34</th>\n",
       "      <td>25008920.0</td>\n",
       "      <td>2.941990e+09</td>\n",
       "      <td>51.94463</td>\n",
       "      <td>5076655.0</td>\n",
       "      <td>33.95638</td>\n",
       "      <td>17543980.0</td>\n",
       "      <td>NaN</td>\n",
       "      <td>0.978853</td>\n",
       "      <td>0.0</td>\n",
       "    </tr>\n",
       "    <tr>\n",
       "      <th>...</th>\n",
       "      <td>...</td>\n",
       "      <td>...</td>\n",
       "      <td>...</td>\n",
       "      <td>...</td>\n",
       "      <td>...</td>\n",
       "      <td>...</td>\n",
       "      <td>...</td>\n",
       "      <td>...</td>\n",
       "      <td>...</td>\n",
       "    </tr>\n",
       "    <tr>\n",
       "      <th>2014-03-20 04:20:34</th>\n",
       "      <td>32308910.0</td>\n",
       "      <td>4.631294e+06</td>\n",
       "      <td>87.30427</td>\n",
       "      <td>1311047.0</td>\n",
       "      <td>31.23388</td>\n",
       "      <td>6356541.0</td>\n",
       "      <td>NaN</td>\n",
       "      <td>0.000000</td>\n",
       "      <td>5.0</td>\n",
       "    </tr>\n",
       "    <tr>\n",
       "      <th>2014-03-20 04:20:35</th>\n",
       "      <td>32308910.0</td>\n",
       "      <td>4.630961e+06</td>\n",
       "      <td>87.30622</td>\n",
       "      <td>1310748.0</td>\n",
       "      <td>31.23269</td>\n",
       "      <td>6356974.0</td>\n",
       "      <td>NaN</td>\n",
       "      <td>0.000000</td>\n",
       "      <td>5.0</td>\n",
       "    </tr>\n",
       "    <tr>\n",
       "      <th>2014-03-20 04:20:36</th>\n",
       "      <td>32308910.0</td>\n",
       "      <td>4.630629e+06</td>\n",
       "      <td>87.30817</td>\n",
       "      <td>1310449.0</td>\n",
       "      <td>31.23150</td>\n",
       "      <td>6357407.0</td>\n",
       "      <td>NaN</td>\n",
       "      <td>0.000000</td>\n",
       "      <td>5.0</td>\n",
       "    </tr>\n",
       "    <tr>\n",
       "      <th>2014-03-20 04:20:37</th>\n",
       "      <td>32308910.0</td>\n",
       "      <td>4.630296e+06</td>\n",
       "      <td>87.31013</td>\n",
       "      <td>1310150.0</td>\n",
       "      <td>31.23031</td>\n",
       "      <td>6357841.0</td>\n",
       "      <td>NaN</td>\n",
       "      <td>0.000000</td>\n",
       "      <td>5.0</td>\n",
       "    </tr>\n",
       "    <tr>\n",
       "      <th>2014-03-20 04:20:38</th>\n",
       "      <td>32308910.0</td>\n",
       "      <td>4.629964e+06</td>\n",
       "      <td>87.31208</td>\n",
       "      <td>1309851.0</td>\n",
       "      <td>31.22912</td>\n",
       "      <td>6358274.0</td>\n",
       "      <td>NaN</td>\n",
       "      <td>0.000000</td>\n",
       "      <td>5.0</td>\n",
       "    </tr>\n",
       "  </tbody>\n",
       "</table>\n",
       "<p>552529 rows × 9 columns</p>\n",
       "</div>"
      ],
      "text/plain": [
       "                          P-PDG         P-TPT     T-TPT  P-MON-CKP  T-JUS-CKP  \\\n",
       "timestamp                                                                       \n",
       "2017-06-20 04:05:30  25008780.0  2.941990e+09  51.93984  5065443.0   33.93840   \n",
       "2017-06-20 04:05:31  25008810.0  2.941990e+09  51.94104  5068246.0   33.94290   \n",
       "2017-06-20 04:05:32  25008850.0  2.941990e+09  51.94223  5071049.0   33.94739   \n",
       "2017-06-20 04:05:33  25008880.0  2.941990e+09  51.94343  5073852.0   33.95188   \n",
       "2017-06-20 04:05:34  25008920.0  2.941990e+09  51.94463  5076655.0   33.95638   \n",
       "...                         ...           ...       ...        ...        ...   \n",
       "2014-03-20 04:20:34  32308910.0  4.631294e+06  87.30427  1311047.0   31.23388   \n",
       "2014-03-20 04:20:35  32308910.0  4.630961e+06  87.30622  1310748.0   31.23269   \n",
       "2014-03-20 04:20:36  32308910.0  4.630629e+06  87.30817  1310449.0   31.23150   \n",
       "2014-03-20 04:20:37  32308910.0  4.630296e+06  87.31013  1310150.0   31.23031   \n",
       "2014-03-20 04:20:38  32308910.0  4.629964e+06  87.31208  1309851.0   31.22912   \n",
       "\n",
       "                     P-JUS-CKGL  T-JUS-CKGL       QGL  class  \n",
       "timestamp                                                     \n",
       "2017-06-20 04:05:30  17542530.0         NaN  0.979444    0.0  \n",
       "2017-06-20 04:05:31  17542890.0         NaN  0.979297    0.0  \n",
       "2017-06-20 04:05:32  17543260.0         NaN  0.979149    0.0  \n",
       "2017-06-20 04:05:33  17543620.0         NaN  0.979001    0.0  \n",
       "2017-06-20 04:05:34  17543980.0         NaN  0.978853    0.0  \n",
       "...                         ...         ...       ...    ...  \n",
       "2014-03-20 04:20:34   6356541.0         NaN  0.000000    5.0  \n",
       "2014-03-20 04:20:35   6356974.0         NaN  0.000000    5.0  \n",
       "2014-03-20 04:20:36   6357407.0         NaN  0.000000    5.0  \n",
       "2014-03-20 04:20:37   6357841.0         NaN  0.000000    5.0  \n",
       "2014-03-20 04:20:38   6358274.0         NaN  0.000000    5.0  \n",
       "\n",
       "[552529 rows x 9 columns]"
      ]
     },
     "execution_count": 10,
     "metadata": {},
     "output_type": "execute_result"
    }
   ],
   "source": [
    "df_output"
   ]
  },
  {
   "cell_type": "code",
   "execution_count": 11,
   "metadata": {},
   "outputs": [],
   "source": [
    "df_output = df_output[~df_output.index.duplicated()]"
   ]
  },
  {
   "cell_type": "code",
   "execution_count": 12,
   "metadata": {},
   "outputs": [
    {
     "data": {
      "text/plain": [
       "(498952, 9)"
      ]
     },
     "execution_count": 12,
     "metadata": {},
     "output_type": "execute_result"
    }
   ],
   "source": [
    "df_output.shape"
   ]
  },
  {
   "cell_type": "code",
   "execution_count": 13,
   "metadata": {},
   "outputs": [
    {
     "data": {
      "text/html": [
       "<div>\n",
       "<style scoped>\n",
       "    .dataframe tbody tr th:only-of-type {\n",
       "        vertical-align: middle;\n",
       "    }\n",
       "\n",
       "    .dataframe tbody tr th {\n",
       "        vertical-align: top;\n",
       "    }\n",
       "\n",
       "    .dataframe thead th {\n",
       "        text-align: right;\n",
       "    }\n",
       "</style>\n",
       "<table border=\"1\" class=\"dataframe\">\n",
       "  <thead>\n",
       "    <tr style=\"text-align: right;\">\n",
       "      <th></th>\n",
       "      <th>P-PDG</th>\n",
       "      <th>P-TPT</th>\n",
       "      <th>T-TPT</th>\n",
       "      <th>P-MON-CKP</th>\n",
       "      <th>T-JUS-CKP</th>\n",
       "      <th>P-JUS-CKGL</th>\n",
       "      <th>class</th>\n",
       "    </tr>\n",
       "    <tr>\n",
       "      <th>timestamp</th>\n",
       "      <th></th>\n",
       "      <th></th>\n",
       "      <th></th>\n",
       "      <th></th>\n",
       "      <th></th>\n",
       "      <th></th>\n",
       "      <th></th>\n",
       "    </tr>\n",
       "  </thead>\n",
       "  <tbody>\n",
       "    <tr>\n",
       "      <th>2017-06-20 04:05:30</th>\n",
       "      <td>25008780.0</td>\n",
       "      <td>2.941990e+09</td>\n",
       "      <td>51.93984</td>\n",
       "      <td>5065443.0</td>\n",
       "      <td>33.93840</td>\n",
       "      <td>17542530.0</td>\n",
       "      <td>0.0</td>\n",
       "    </tr>\n",
       "    <tr>\n",
       "      <th>2017-06-20 04:05:31</th>\n",
       "      <td>25008810.0</td>\n",
       "      <td>2.941990e+09</td>\n",
       "      <td>51.94104</td>\n",
       "      <td>5068246.0</td>\n",
       "      <td>33.94290</td>\n",
       "      <td>17542890.0</td>\n",
       "      <td>0.0</td>\n",
       "    </tr>\n",
       "    <tr>\n",
       "      <th>2017-06-20 04:05:32</th>\n",
       "      <td>25008850.0</td>\n",
       "      <td>2.941990e+09</td>\n",
       "      <td>51.94223</td>\n",
       "      <td>5071049.0</td>\n",
       "      <td>33.94739</td>\n",
       "      <td>17543260.0</td>\n",
       "      <td>0.0</td>\n",
       "    </tr>\n",
       "    <tr>\n",
       "      <th>2017-06-20 04:05:33</th>\n",
       "      <td>25008880.0</td>\n",
       "      <td>2.941990e+09</td>\n",
       "      <td>51.94343</td>\n",
       "      <td>5073852.0</td>\n",
       "      <td>33.95188</td>\n",
       "      <td>17543620.0</td>\n",
       "      <td>0.0</td>\n",
       "    </tr>\n",
       "    <tr>\n",
       "      <th>2017-06-20 04:05:34</th>\n",
       "      <td>25008920.0</td>\n",
       "      <td>2.941990e+09</td>\n",
       "      <td>51.94463</td>\n",
       "      <td>5076655.0</td>\n",
       "      <td>33.95638</td>\n",
       "      <td>17543980.0</td>\n",
       "      <td>0.0</td>\n",
       "    </tr>\n",
       "    <tr>\n",
       "      <th>...</th>\n",
       "      <td>...</td>\n",
       "      <td>...</td>\n",
       "      <td>...</td>\n",
       "      <td>...</td>\n",
       "      <td>...</td>\n",
       "      <td>...</td>\n",
       "      <td>...</td>\n",
       "    </tr>\n",
       "    <tr>\n",
       "      <th>2014-03-20 04:20:34</th>\n",
       "      <td>32308910.0</td>\n",
       "      <td>4.631294e+06</td>\n",
       "      <td>87.30427</td>\n",
       "      <td>1311047.0</td>\n",
       "      <td>31.23388</td>\n",
       "      <td>6356541.0</td>\n",
       "      <td>5.0</td>\n",
       "    </tr>\n",
       "    <tr>\n",
       "      <th>2014-03-20 04:20:35</th>\n",
       "      <td>32308910.0</td>\n",
       "      <td>4.630961e+06</td>\n",
       "      <td>87.30622</td>\n",
       "      <td>1310748.0</td>\n",
       "      <td>31.23269</td>\n",
       "      <td>6356974.0</td>\n",
       "      <td>5.0</td>\n",
       "    </tr>\n",
       "    <tr>\n",
       "      <th>2014-03-20 04:20:36</th>\n",
       "      <td>32308910.0</td>\n",
       "      <td>4.630629e+06</td>\n",
       "      <td>87.30817</td>\n",
       "      <td>1310449.0</td>\n",
       "      <td>31.23150</td>\n",
       "      <td>6357407.0</td>\n",
       "      <td>5.0</td>\n",
       "    </tr>\n",
       "    <tr>\n",
       "      <th>2014-03-20 04:20:37</th>\n",
       "      <td>32308910.0</td>\n",
       "      <td>4.630296e+06</td>\n",
       "      <td>87.31013</td>\n",
       "      <td>1310150.0</td>\n",
       "      <td>31.23031</td>\n",
       "      <td>6357841.0</td>\n",
       "      <td>5.0</td>\n",
       "    </tr>\n",
       "    <tr>\n",
       "      <th>2014-03-20 04:20:38</th>\n",
       "      <td>32308910.0</td>\n",
       "      <td>4.629964e+06</td>\n",
       "      <td>87.31208</td>\n",
       "      <td>1309851.0</td>\n",
       "      <td>31.22912</td>\n",
       "      <td>6358274.0</td>\n",
       "      <td>5.0</td>\n",
       "    </tr>\n",
       "  </tbody>\n",
       "</table>\n",
       "<p>498952 rows × 7 columns</p>\n",
       "</div>"
      ],
      "text/plain": [
       "                          P-PDG         P-TPT     T-TPT  P-MON-CKP  T-JUS-CKP  \\\n",
       "timestamp                                                                       \n",
       "2017-06-20 04:05:30  25008780.0  2.941990e+09  51.93984  5065443.0   33.93840   \n",
       "2017-06-20 04:05:31  25008810.0  2.941990e+09  51.94104  5068246.0   33.94290   \n",
       "2017-06-20 04:05:32  25008850.0  2.941990e+09  51.94223  5071049.0   33.94739   \n",
       "2017-06-20 04:05:33  25008880.0  2.941990e+09  51.94343  5073852.0   33.95188   \n",
       "2017-06-20 04:05:34  25008920.0  2.941990e+09  51.94463  5076655.0   33.95638   \n",
       "...                         ...           ...       ...        ...        ...   \n",
       "2014-03-20 04:20:34  32308910.0  4.631294e+06  87.30427  1311047.0   31.23388   \n",
       "2014-03-20 04:20:35  32308910.0  4.630961e+06  87.30622  1310748.0   31.23269   \n",
       "2014-03-20 04:20:36  32308910.0  4.630629e+06  87.30817  1310449.0   31.23150   \n",
       "2014-03-20 04:20:37  32308910.0  4.630296e+06  87.31013  1310150.0   31.23031   \n",
       "2014-03-20 04:20:38  32308910.0  4.629964e+06  87.31208  1309851.0   31.22912   \n",
       "\n",
       "                     P-JUS-CKGL  class  \n",
       "timestamp                               \n",
       "2017-06-20 04:05:30  17542530.0    0.0  \n",
       "2017-06-20 04:05:31  17542890.0    0.0  \n",
       "2017-06-20 04:05:32  17543260.0    0.0  \n",
       "2017-06-20 04:05:33  17543620.0    0.0  \n",
       "2017-06-20 04:05:34  17543980.0    0.0  \n",
       "...                         ...    ...  \n",
       "2014-03-20 04:20:34   6356541.0    5.0  \n",
       "2014-03-20 04:20:35   6356974.0    5.0  \n",
       "2014-03-20 04:20:36   6357407.0    5.0  \n",
       "2014-03-20 04:20:37   6357841.0    5.0  \n",
       "2014-03-20 04:20:38   6358274.0    5.0  \n",
       "\n",
       "[498952 rows x 7 columns]"
      ]
     },
     "execution_count": 13,
     "metadata": {},
     "output_type": "execute_result"
    }
   ],
   "source": [
    "df_aux = df_output.drop(columns=[\"QGL\", \"T-JUS-CKGL\"])\n",
    "df_aux"
   ]
  },
  {
   "cell_type": "code",
   "execution_count": 14,
   "metadata": {},
   "outputs": [
    {
     "name": "stdout",
     "output_type": "stream",
     "text": [
      "P-PDG null data is 0.32488095047218973\n",
      "P-TPT null data is 0.32488095047218973\n",
      "T-TPT null data is 0.3240792701502349\n",
      "P-MON-CKP null data is 0.32568263079414456\n",
      "T-JUS-CKP null data is 0.32568263079414456\n",
      "P-JUS-CKGL null data is 0.32568263079414456\n",
      "class null data is 13.67887091343456\n"
     ]
    }
   ],
   "source": [
    "for column_name in df_aux.columns:\n",
    "    percent = Preprocessing.check_null_dataframe(df_data=df_output, column_name=column_name)\n",
    "    print(f\"{column_name} null data is {percent}\")"
   ]
  },
  {
   "cell_type": "code",
   "execution_count": 15,
   "metadata": {},
   "outputs": [
    {
     "data": {
      "text/plain": [
       "(429739, 7)"
      ]
     },
     "execution_count": 15,
     "metadata": {},
     "output_type": "execute_result"
    }
   ],
   "source": [
    "df_aux = df_aux.dropna()\n",
    "df_aux.shape"
   ]
  },
  {
   "cell_type": "code",
   "execution_count": 16,
   "metadata": {},
   "outputs": [
    {
     "data": {
      "text/plain": [
       "0.7389717945078291"
      ]
     },
     "execution_count": 16,
     "metadata": {},
     "output_type": "execute_result"
    }
   ],
   "source": [
    "(df_aux['class'] == 105).sum() / df_aux.shape[0]"
   ]
  },
  {
   "cell_type": "markdown",
   "metadata": {},
   "source": [
    "# KNN"
   ]
  },
  {
   "cell_type": "code",
   "execution_count": 17,
   "metadata": {},
   "outputs": [
    {
     "data": {
      "text/plain": [
       "class\n",
       "105.0    73.897179\n",
       "0.0      23.294372\n",
       "5.0       2.808449\n",
       "Name: count, dtype: float64"
      ]
     },
     "execution_count": 17,
     "metadata": {},
     "output_type": "execute_result"
    }
   ],
   "source": [
    "contagem_classes = df_aux['class'].value_counts()\n",
    "\n",
    "# Calcular a porcentagem de cada classe\n",
    "porcentagem_classes = contagem_classes / len(df_aux) * 100\n",
    "porcentagem_classes"
   ]
  },
  {
   "cell_type": "code",
   "execution_count": 18,
   "metadata": {},
   "outputs": [],
   "source": [
    "# Separar as features (X) e os rótulos (y)\n",
    "X = df_aux.drop('class', axis=1)\n",
    "y = df_aux['class']"
   ]
  },
  {
   "cell_type": "code",
   "execution_count": 19,
   "metadata": {},
   "outputs": [
    {
     "data": {
      "text/html": [
       "<div>\n",
       "<style scoped>\n",
       "    .dataframe tbody tr th:only-of-type {\n",
       "        vertical-align: middle;\n",
       "    }\n",
       "\n",
       "    .dataframe tbody tr th {\n",
       "        vertical-align: top;\n",
       "    }\n",
       "\n",
       "    .dataframe thead th {\n",
       "        text-align: right;\n",
       "    }\n",
       "</style>\n",
       "<table border=\"1\" class=\"dataframe\">\n",
       "  <thead>\n",
       "    <tr style=\"text-align: right;\">\n",
       "      <th></th>\n",
       "      <th>P-PDG</th>\n",
       "      <th>P-TPT</th>\n",
       "      <th>T-TPT</th>\n",
       "      <th>P-MON-CKP</th>\n",
       "      <th>T-JUS-CKP</th>\n",
       "      <th>P-JUS-CKGL</th>\n",
       "    </tr>\n",
       "    <tr>\n",
       "      <th>timestamp</th>\n",
       "      <th></th>\n",
       "      <th></th>\n",
       "      <th></th>\n",
       "      <th></th>\n",
       "      <th></th>\n",
       "      <th></th>\n",
       "    </tr>\n",
       "  </thead>\n",
       "  <tbody>\n",
       "    <tr>\n",
       "      <th>2017-06-20 04:05:30</th>\n",
       "      <td>25008780.0</td>\n",
       "      <td>2.941990e+09</td>\n",
       "      <td>51.93984</td>\n",
       "      <td>5065443.0</td>\n",
       "      <td>33.93840</td>\n",
       "      <td>17542530.0</td>\n",
       "    </tr>\n",
       "    <tr>\n",
       "      <th>2017-06-20 04:05:31</th>\n",
       "      <td>25008810.0</td>\n",
       "      <td>2.941990e+09</td>\n",
       "      <td>51.94104</td>\n",
       "      <td>5068246.0</td>\n",
       "      <td>33.94290</td>\n",
       "      <td>17542890.0</td>\n",
       "    </tr>\n",
       "    <tr>\n",
       "      <th>2017-06-20 04:05:32</th>\n",
       "      <td>25008850.0</td>\n",
       "      <td>2.941990e+09</td>\n",
       "      <td>51.94223</td>\n",
       "      <td>5071049.0</td>\n",
       "      <td>33.94739</td>\n",
       "      <td>17543260.0</td>\n",
       "    </tr>\n",
       "    <tr>\n",
       "      <th>2017-06-20 04:05:33</th>\n",
       "      <td>25008880.0</td>\n",
       "      <td>2.941990e+09</td>\n",
       "      <td>51.94343</td>\n",
       "      <td>5073852.0</td>\n",
       "      <td>33.95188</td>\n",
       "      <td>17543620.0</td>\n",
       "    </tr>\n",
       "    <tr>\n",
       "      <th>2017-06-20 04:05:34</th>\n",
       "      <td>25008920.0</td>\n",
       "      <td>2.941990e+09</td>\n",
       "      <td>51.94463</td>\n",
       "      <td>5076655.0</td>\n",
       "      <td>33.95638</td>\n",
       "      <td>17543980.0</td>\n",
       "    </tr>\n",
       "    <tr>\n",
       "      <th>...</th>\n",
       "      <td>...</td>\n",
       "      <td>...</td>\n",
       "      <td>...</td>\n",
       "      <td>...</td>\n",
       "      <td>...</td>\n",
       "      <td>...</td>\n",
       "    </tr>\n",
       "    <tr>\n",
       "      <th>2014-03-20 04:20:34</th>\n",
       "      <td>32308910.0</td>\n",
       "      <td>4.631294e+06</td>\n",
       "      <td>87.30427</td>\n",
       "      <td>1311047.0</td>\n",
       "      <td>31.23388</td>\n",
       "      <td>6356541.0</td>\n",
       "    </tr>\n",
       "    <tr>\n",
       "      <th>2014-03-20 04:20:35</th>\n",
       "      <td>32308910.0</td>\n",
       "      <td>4.630961e+06</td>\n",
       "      <td>87.30622</td>\n",
       "      <td>1310748.0</td>\n",
       "      <td>31.23269</td>\n",
       "      <td>6356974.0</td>\n",
       "    </tr>\n",
       "    <tr>\n",
       "      <th>2014-03-20 04:20:36</th>\n",
       "      <td>32308910.0</td>\n",
       "      <td>4.630629e+06</td>\n",
       "      <td>87.30817</td>\n",
       "      <td>1310449.0</td>\n",
       "      <td>31.23150</td>\n",
       "      <td>6357407.0</td>\n",
       "    </tr>\n",
       "    <tr>\n",
       "      <th>2014-03-20 04:20:37</th>\n",
       "      <td>32308910.0</td>\n",
       "      <td>4.630296e+06</td>\n",
       "      <td>87.31013</td>\n",
       "      <td>1310150.0</td>\n",
       "      <td>31.23031</td>\n",
       "      <td>6357841.0</td>\n",
       "    </tr>\n",
       "    <tr>\n",
       "      <th>2014-03-20 04:20:38</th>\n",
       "      <td>32308910.0</td>\n",
       "      <td>4.629964e+06</td>\n",
       "      <td>87.31208</td>\n",
       "      <td>1309851.0</td>\n",
       "      <td>31.22912</td>\n",
       "      <td>6358274.0</td>\n",
       "    </tr>\n",
       "  </tbody>\n",
       "</table>\n",
       "<p>429739 rows × 6 columns</p>\n",
       "</div>"
      ],
      "text/plain": [
       "                          P-PDG         P-TPT     T-TPT  P-MON-CKP  T-JUS-CKP  \\\n",
       "timestamp                                                                       \n",
       "2017-06-20 04:05:30  25008780.0  2.941990e+09  51.93984  5065443.0   33.93840   \n",
       "2017-06-20 04:05:31  25008810.0  2.941990e+09  51.94104  5068246.0   33.94290   \n",
       "2017-06-20 04:05:32  25008850.0  2.941990e+09  51.94223  5071049.0   33.94739   \n",
       "2017-06-20 04:05:33  25008880.0  2.941990e+09  51.94343  5073852.0   33.95188   \n",
       "2017-06-20 04:05:34  25008920.0  2.941990e+09  51.94463  5076655.0   33.95638   \n",
       "...                         ...           ...       ...        ...        ...   \n",
       "2014-03-20 04:20:34  32308910.0  4.631294e+06  87.30427  1311047.0   31.23388   \n",
       "2014-03-20 04:20:35  32308910.0  4.630961e+06  87.30622  1310748.0   31.23269   \n",
       "2014-03-20 04:20:36  32308910.0  4.630629e+06  87.30817  1310449.0   31.23150   \n",
       "2014-03-20 04:20:37  32308910.0  4.630296e+06  87.31013  1310150.0   31.23031   \n",
       "2014-03-20 04:20:38  32308910.0  4.629964e+06  87.31208  1309851.0   31.22912   \n",
       "\n",
       "                     P-JUS-CKGL  \n",
       "timestamp                        \n",
       "2017-06-20 04:05:30  17542530.0  \n",
       "2017-06-20 04:05:31  17542890.0  \n",
       "2017-06-20 04:05:32  17543260.0  \n",
       "2017-06-20 04:05:33  17543620.0  \n",
       "2017-06-20 04:05:34  17543980.0  \n",
       "...                         ...  \n",
       "2014-03-20 04:20:34   6356541.0  \n",
       "2014-03-20 04:20:35   6356974.0  \n",
       "2014-03-20 04:20:36   6357407.0  \n",
       "2014-03-20 04:20:37   6357841.0  \n",
       "2014-03-20 04:20:38   6358274.0  \n",
       "\n",
       "[429739 rows x 6 columns]"
      ]
     },
     "execution_count": 19,
     "metadata": {},
     "output_type": "execute_result"
    }
   ],
   "source": [
    "X"
   ]
  },
  {
   "cell_type": "code",
   "execution_count": 20,
   "metadata": {},
   "outputs": [],
   "source": [
    "X_train, X_test, y_train, y_test = train_test_split(X, y, test_size=0.3, stratify=y, random_state=42)"
   ]
  },
  {
   "cell_type": "code",
   "execution_count": 21,
   "metadata": {},
   "outputs": [],
   "source": [
    "scaler = StandardScaler()\n",
    "X_train = scaler.fit_transform(X_train)\n",
    "\n",
    "X_test = scaler.transform(X_test)"
   ]
  },
  {
   "cell_type": "code",
   "execution_count": 22,
   "metadata": {},
   "outputs": [],
   "source": [
    "modelo = KNeighborsClassifier(n_neighbors=5)"
   ]
  },
  {
   "cell_type": "code",
   "execution_count": 23,
   "metadata": {},
   "outputs": [
    {
     "data": {
      "text/html": [
       "<style>#sk-container-id-1 {color: black;}#sk-container-id-1 pre{padding: 0;}#sk-container-id-1 div.sk-toggleable {background-color: white;}#sk-container-id-1 label.sk-toggleable__label {cursor: pointer;display: block;width: 100%;margin-bottom: 0;padding: 0.3em;box-sizing: border-box;text-align: center;}#sk-container-id-1 label.sk-toggleable__label-arrow:before {content: \"▸\";float: left;margin-right: 0.25em;color: #696969;}#sk-container-id-1 label.sk-toggleable__label-arrow:hover:before {color: black;}#sk-container-id-1 div.sk-estimator:hover label.sk-toggleable__label-arrow:before {color: black;}#sk-container-id-1 div.sk-toggleable__content {max-height: 0;max-width: 0;overflow: hidden;text-align: left;background-color: #f0f8ff;}#sk-container-id-1 div.sk-toggleable__content pre {margin: 0.2em;color: black;border-radius: 0.25em;background-color: #f0f8ff;}#sk-container-id-1 input.sk-toggleable__control:checked~div.sk-toggleable__content {max-height: 200px;max-width: 100%;overflow: auto;}#sk-container-id-1 input.sk-toggleable__control:checked~label.sk-toggleable__label-arrow:before {content: \"▾\";}#sk-container-id-1 div.sk-estimator input.sk-toggleable__control:checked~label.sk-toggleable__label {background-color: #d4ebff;}#sk-container-id-1 div.sk-label input.sk-toggleable__control:checked~label.sk-toggleable__label {background-color: #d4ebff;}#sk-container-id-1 input.sk-hidden--visually {border: 0;clip: rect(1px 1px 1px 1px);clip: rect(1px, 1px, 1px, 1px);height: 1px;margin: -1px;overflow: hidden;padding: 0;position: absolute;width: 1px;}#sk-container-id-1 div.sk-estimator {font-family: monospace;background-color: #f0f8ff;border: 1px dotted black;border-radius: 0.25em;box-sizing: border-box;margin-bottom: 0.5em;}#sk-container-id-1 div.sk-estimator:hover {background-color: #d4ebff;}#sk-container-id-1 div.sk-parallel-item::after {content: \"\";width: 100%;border-bottom: 1px solid gray;flex-grow: 1;}#sk-container-id-1 div.sk-label:hover label.sk-toggleable__label {background-color: #d4ebff;}#sk-container-id-1 div.sk-serial::before {content: \"\";position: absolute;border-left: 1px solid gray;box-sizing: border-box;top: 0;bottom: 0;left: 50%;z-index: 0;}#sk-container-id-1 div.sk-serial {display: flex;flex-direction: column;align-items: center;background-color: white;padding-right: 0.2em;padding-left: 0.2em;position: relative;}#sk-container-id-1 div.sk-item {position: relative;z-index: 1;}#sk-container-id-1 div.sk-parallel {display: flex;align-items: stretch;justify-content: center;background-color: white;position: relative;}#sk-container-id-1 div.sk-item::before, #sk-container-id-1 div.sk-parallel-item::before {content: \"\";position: absolute;border-left: 1px solid gray;box-sizing: border-box;top: 0;bottom: 0;left: 50%;z-index: -1;}#sk-container-id-1 div.sk-parallel-item {display: flex;flex-direction: column;z-index: 1;position: relative;background-color: white;}#sk-container-id-1 div.sk-parallel-item:first-child::after {align-self: flex-end;width: 50%;}#sk-container-id-1 div.sk-parallel-item:last-child::after {align-self: flex-start;width: 50%;}#sk-container-id-1 div.sk-parallel-item:only-child::after {width: 0;}#sk-container-id-1 div.sk-dashed-wrapped {border: 1px dashed gray;margin: 0 0.4em 0.5em 0.4em;box-sizing: border-box;padding-bottom: 0.4em;background-color: white;}#sk-container-id-1 div.sk-label label {font-family: monospace;font-weight: bold;display: inline-block;line-height: 1.2em;}#sk-container-id-1 div.sk-label-container {text-align: center;}#sk-container-id-1 div.sk-container {/* jupyter's `normalize.less` sets `[hidden] { display: none; }` but bootstrap.min.css set `[hidden] { display: none !important; }` so we also need the `!important` here to be able to override the default hidden behavior on the sphinx rendered scikit-learn.org. See: https://github.com/scikit-learn/scikit-learn/issues/21755 */display: inline-block !important;position: relative;}#sk-container-id-1 div.sk-text-repr-fallback {display: none;}</style><div id=\"sk-container-id-1\" class=\"sk-top-container\"><div class=\"sk-text-repr-fallback\"><pre>KNeighborsClassifier()</pre><b>In a Jupyter environment, please rerun this cell to show the HTML representation or trust the notebook. <br />On GitHub, the HTML representation is unable to render, please try loading this page with nbviewer.org.</b></div><div class=\"sk-container\" hidden><div class=\"sk-item\"><div class=\"sk-estimator sk-toggleable\"><input class=\"sk-toggleable__control sk-hidden--visually\" id=\"sk-estimator-id-1\" type=\"checkbox\" checked><label for=\"sk-estimator-id-1\" class=\"sk-toggleable__label sk-toggleable__label-arrow\">KNeighborsClassifier</label><div class=\"sk-toggleable__content\"><pre>KNeighborsClassifier()</pre></div></div></div></div></div>"
      ],
      "text/plain": [
       "KNeighborsClassifier()"
      ]
     },
     "execution_count": 23,
     "metadata": {},
     "output_type": "execute_result"
    }
   ],
   "source": [
    "modelo.fit(X_train, y_train)"
   ]
  },
  {
   "cell_type": "code",
   "execution_count": 24,
   "metadata": {},
   "outputs": [],
   "source": [
    "y_pred = modelo.predict(X_test)"
   ]
  },
  {
   "cell_type": "code",
   "execution_count": 25,
   "metadata": {},
   "outputs": [
    {
     "data": {
      "text/plain": [
       "0.9741549153751881"
      ]
     },
     "execution_count": 25,
     "metadata": {},
     "output_type": "execute_result"
    }
   ],
   "source": [
    "accuracy_score(y_test, y_pred)"
   ]
  },
  {
   "cell_type": "code",
   "execution_count": 26,
   "metadata": {},
   "outputs": [
    {
     "name": "stdout",
     "output_type": "stream",
     "text": [
      "Classe 105.0:\n",
      "Precision: 0.944\n",
      "Recall: 0.947\n",
      "F1-score: 0.945\n",
      "\n",
      "Classe 0.0:\n",
      "Precision: 0.989\n",
      "Recall: 0.997\n",
      "F1-score: 0.993\n",
      "\n",
      "Classe 5.0:\n",
      "Precision: 0.983\n",
      "Recall: 0.982\n",
      "F1-score: 0.983\n",
      "\n"
     ]
    }
   ],
   "source": [
    "precision = precision_score(y_test,  y_pred, average=None)\n",
    "recall = recall_score(y_test,  y_pred, average=None)\n",
    "f1 = f1_score(y_test,  y_pred, average=None)\n",
    "\n",
    "for i in range(len(precision)):\n",
    "    print(f'Classe {porcentagem_classes.index.values[i]}:')\n",
    "    print(f'Precision: {precision[i]:.3f}')\n",
    "    print(f'Recall: {recall[i]:.3f}')\n",
    "    print(f'F1-score: {f1[i]:.3f}\\n')"
   ]
  },
  {
   "cell_type": "code",
   "execution_count": 27,
   "metadata": {},
   "outputs": [
    {
     "data": {
      "text/plain": [
       "array([[28444,     0,  1587],\n",
       "       [    0,  3610,    11],\n",
       "       [ 1693,    41, 93536]], dtype=int64)"
      ]
     },
     "execution_count": 27,
     "metadata": {},
     "output_type": "execute_result"
    }
   ],
   "source": [
    "confusion_matrix(y_test.values, y_pred)"
   ]
  },
  {
   "cell_type": "markdown",
   "metadata": {},
   "source": [
    "# MLP"
   ]
  },
  {
   "cell_type": "code",
   "execution_count": 27,
   "metadata": {},
   "outputs": [],
   "source": [
    "modelo = MLPClassifier(hidden_layer_sizes=(100, 50), max_iter=500, random_state=42)"
   ]
  },
  {
   "cell_type": "code",
   "execution_count": 28,
   "metadata": {},
   "outputs": [
    {
     "data": {
      "text/html": [
       "<style>#sk-container-id-2 {color: black;}#sk-container-id-2 pre{padding: 0;}#sk-container-id-2 div.sk-toggleable {background-color: white;}#sk-container-id-2 label.sk-toggleable__label {cursor: pointer;display: block;width: 100%;margin-bottom: 0;padding: 0.3em;box-sizing: border-box;text-align: center;}#sk-container-id-2 label.sk-toggleable__label-arrow:before {content: \"▸\";float: left;margin-right: 0.25em;color: #696969;}#sk-container-id-2 label.sk-toggleable__label-arrow:hover:before {color: black;}#sk-container-id-2 div.sk-estimator:hover label.sk-toggleable__label-arrow:before {color: black;}#sk-container-id-2 div.sk-toggleable__content {max-height: 0;max-width: 0;overflow: hidden;text-align: left;background-color: #f0f8ff;}#sk-container-id-2 div.sk-toggleable__content pre {margin: 0.2em;color: black;border-radius: 0.25em;background-color: #f0f8ff;}#sk-container-id-2 input.sk-toggleable__control:checked~div.sk-toggleable__content {max-height: 200px;max-width: 100%;overflow: auto;}#sk-container-id-2 input.sk-toggleable__control:checked~label.sk-toggleable__label-arrow:before {content: \"▾\";}#sk-container-id-2 div.sk-estimator input.sk-toggleable__control:checked~label.sk-toggleable__label {background-color: #d4ebff;}#sk-container-id-2 div.sk-label input.sk-toggleable__control:checked~label.sk-toggleable__label {background-color: #d4ebff;}#sk-container-id-2 input.sk-hidden--visually {border: 0;clip: rect(1px 1px 1px 1px);clip: rect(1px, 1px, 1px, 1px);height: 1px;margin: -1px;overflow: hidden;padding: 0;position: absolute;width: 1px;}#sk-container-id-2 div.sk-estimator {font-family: monospace;background-color: #f0f8ff;border: 1px dotted black;border-radius: 0.25em;box-sizing: border-box;margin-bottom: 0.5em;}#sk-container-id-2 div.sk-estimator:hover {background-color: #d4ebff;}#sk-container-id-2 div.sk-parallel-item::after {content: \"\";width: 100%;border-bottom: 1px solid gray;flex-grow: 1;}#sk-container-id-2 div.sk-label:hover label.sk-toggleable__label {background-color: #d4ebff;}#sk-container-id-2 div.sk-serial::before {content: \"\";position: absolute;border-left: 1px solid gray;box-sizing: border-box;top: 0;bottom: 0;left: 50%;z-index: 0;}#sk-container-id-2 div.sk-serial {display: flex;flex-direction: column;align-items: center;background-color: white;padding-right: 0.2em;padding-left: 0.2em;position: relative;}#sk-container-id-2 div.sk-item {position: relative;z-index: 1;}#sk-container-id-2 div.sk-parallel {display: flex;align-items: stretch;justify-content: center;background-color: white;position: relative;}#sk-container-id-2 div.sk-item::before, #sk-container-id-2 div.sk-parallel-item::before {content: \"\";position: absolute;border-left: 1px solid gray;box-sizing: border-box;top: 0;bottom: 0;left: 50%;z-index: -1;}#sk-container-id-2 div.sk-parallel-item {display: flex;flex-direction: column;z-index: 1;position: relative;background-color: white;}#sk-container-id-2 div.sk-parallel-item:first-child::after {align-self: flex-end;width: 50%;}#sk-container-id-2 div.sk-parallel-item:last-child::after {align-self: flex-start;width: 50%;}#sk-container-id-2 div.sk-parallel-item:only-child::after {width: 0;}#sk-container-id-2 div.sk-dashed-wrapped {border: 1px dashed gray;margin: 0 0.4em 0.5em 0.4em;box-sizing: border-box;padding-bottom: 0.4em;background-color: white;}#sk-container-id-2 div.sk-label label {font-family: monospace;font-weight: bold;display: inline-block;line-height: 1.2em;}#sk-container-id-2 div.sk-label-container {text-align: center;}#sk-container-id-2 div.sk-container {/* jupyter's `normalize.less` sets `[hidden] { display: none; }` but bootstrap.min.css set `[hidden] { display: none !important; }` so we also need the `!important` here to be able to override the default hidden behavior on the sphinx rendered scikit-learn.org. See: https://github.com/scikit-learn/scikit-learn/issues/21755 */display: inline-block !important;position: relative;}#sk-container-id-2 div.sk-text-repr-fallback {display: none;}</style><div id=\"sk-container-id-2\" class=\"sk-top-container\"><div class=\"sk-text-repr-fallback\"><pre>MLPClassifier(hidden_layer_sizes=(100, 50), max_iter=500, random_state=42)</pre><b>In a Jupyter environment, please rerun this cell to show the HTML representation or trust the notebook. <br />On GitHub, the HTML representation is unable to render, please try loading this page with nbviewer.org.</b></div><div class=\"sk-container\" hidden><div class=\"sk-item\"><div class=\"sk-estimator sk-toggleable\"><input class=\"sk-toggleable__control sk-hidden--visually\" id=\"sk-estimator-id-2\" type=\"checkbox\" checked><label for=\"sk-estimator-id-2\" class=\"sk-toggleable__label sk-toggleable__label-arrow\">MLPClassifier</label><div class=\"sk-toggleable__content\"><pre>MLPClassifier(hidden_layer_sizes=(100, 50), max_iter=500, random_state=42)</pre></div></div></div></div></div>"
      ],
      "text/plain": [
       "MLPClassifier(hidden_layer_sizes=(100, 50), max_iter=500, random_state=42)"
      ]
     },
     "execution_count": 28,
     "metadata": {},
     "output_type": "execute_result"
    }
   ],
   "source": [
    "modelo.fit(X_train, y_train)"
   ]
  },
  {
   "cell_type": "code",
   "execution_count": 29,
   "metadata": {},
   "outputs": [],
   "source": [
    "y_pred = modelo.predict(X_test)"
   ]
  },
  {
   "cell_type": "code",
   "execution_count": 30,
   "metadata": {},
   "outputs": [
    {
     "data": {
      "text/plain": [
       "0.9607747320085013"
      ]
     },
     "execution_count": 30,
     "metadata": {},
     "output_type": "execute_result"
    }
   ],
   "source": [
    "accuracy_score(y_test, y_pred)"
   ]
  },
  {
   "cell_type": "code",
   "execution_count": null,
   "metadata": {},
   "outputs": [],
   "source": []
  }
 ],
 "metadata": {
  "kernelspec": {
   "display_name": "venv3WPetrobras",
   "language": "python",
   "name": "venv3wpetrobras"
  },
  "language_info": {
   "codemirror_mode": {
    "name": "ipython",
    "version": 3
   },
   "file_extension": ".py",
   "mimetype": "text/x-python",
   "name": "python",
   "nbconvert_exporter": "python",
   "pygments_lexer": "ipython3",
   "version": "3.8.9"
  }
 },
 "nbformat": 4,
 "nbformat_minor": 2
}
