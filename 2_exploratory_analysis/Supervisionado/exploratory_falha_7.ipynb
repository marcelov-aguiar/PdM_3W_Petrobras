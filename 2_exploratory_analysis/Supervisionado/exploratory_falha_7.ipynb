{
 "cells": [
  {
   "cell_type": "code",
   "execution_count": 1,
   "metadata": {},
   "outputs": [],
   "source": [
    "import pandas as pd\n",
    "import os\n",
    "import sys\n",
    "import matplotlib.pyplot as plt\n",
    "import seaborn as sns\n",
    "import numpy as np\n",
    "import dill\n",
    "from typing import List\n",
    "import scipy.stats as sts\n",
    "from sklearn.pipeline import Pipeline\n",
    "from sklearn.decomposition import PCA\n",
    "from sklearn.preprocessing import RobustScaler\n",
    "from sklearn.metrics import precision_score, recall_score, f1_score, accuracy_score\n",
    "from sklearn.model_selection import train_test_split\n",
    "from sklearn.neighbors import KNeighborsClassifier\n",
    "from sklearn.preprocessing import StandardScaler\n",
    "from sklearn.neural_network import MLPClassifier\n",
    "from sklearn.metrics import confusion_matrix\n",
    "\n",
    "import util\n",
    "from pathlib import Path\n",
    "from class_manipulates_path import ManipulatePath\n",
    "from class_preprocessing_refactor import Preprocessing\n",
    "from class_format_data import FormatData\n",
    "util.init()\n",
    "\n",
    "current_path = sys.path[0]"
   ]
  },
  {
   "cell_type": "code",
   "execution_count": 2,
   "metadata": {},
   "outputs": [],
   "source": [
    "def plot_variable(df, column_name, intervalos=None):\n",
    "    \"\"\"\n",
    "    Plota um gráfico de dispersão para uma variável de um DataFrame.\n",
    "\n",
    "    Parâmetros:\n",
    "        - df: DataFrame pandas contendo os dados.\n",
    "        - column_name: Nome da coluna que você deseja plotar.\n",
    "        - intervalos: Lista de intervalos para plotar linhas verticais.\n",
    "    \"\"\"\n",
    "    plt.figure(figsize=(20, 10))\n",
    "    plt.scatter(df.index.values, df[column_name].values, color='darkcyan', alpha=0.5)\n",
    "    plt.xlabel('Índice')\n",
    "    plt.ylabel(column_name)\n",
    "    plt.title(f'Gráfico de dispersão para a variável \"{column_name}\"')\n",
    "\n",
    "\n",
    "    # Plotar linhas verticais para cada intervalo\n",
    "    if intervalos:\n",
    "        for intervalo in intervalos:\n",
    "            plt.axvline(x=intervalo, linestyle='--', color='red')\n",
    "\n",
    "    plt.show()"
   ]
  },
  {
   "cell_type": "code",
   "execution_count": 3,
   "metadata": {},
   "outputs": [],
   "source": [
    "def class_and_file_generator(data_path, real=False, simulated=False, drawn=False):\n",
    "    for class_path in data_path.iterdir():\n",
    "        if class_path.is_dir():\n",
    "            class_code = int(class_path.stem)\n",
    "            for instance_path in class_path.iterdir():\n",
    "                if (instance_path.suffix == '.csv'):\n",
    "                    if (simulated and instance_path.stem.startswith('SIMULATED')) or \\\n",
    "                       (drawn and instance_path.stem.startswith('DRAWN')) or \\\n",
    "                       (real and (not instance_path.stem.startswith('SIMULATED')) and \\\n",
    "                       (not instance_path.stem.startswith('DRAWN'))):\n",
    "                        yield class_code, instance_path"
   ]
  },
  {
   "cell_type": "code",
   "execution_count": 4,
   "metadata": {},
   "outputs": [],
   "source": [
    "manipulate_path = ManipulatePath()\n",
    "\n",
    "preprocessing = Preprocessing()\n",
    "\n",
    "format_data = FormatData()\n",
    "\n",
    "path_raw_data = manipulate_path.get_path_raw_data()\n",
    "\n",
    "abnormal_classes_codes = [1, 2, 5, 6, 7, 8]"
   ]
  },
  {
   "cell_type": "code",
   "execution_count": 5,
   "metadata": {},
   "outputs": [],
   "source": [
    "# Gets all real instances but maintains only those with any type of undesirable event\n",
    "real_instances = pd.DataFrame(class_and_file_generator(path_raw_data, \n",
    "                                                       real=True,\n",
    "                                                       simulated=True, \n",
    "                                                       drawn=True),\n",
    "                              columns=['class_code', 'instance_path'])\n",
    "real_instances = real_instances.loc[real_instances.iloc[:,0].isin(abnormal_classes_codes)].reset_index(drop=True)"
   ]
  },
  {
   "cell_type": "code",
   "execution_count": 6,
   "metadata": {},
   "outputs": [],
   "source": [
    "# Gets all real instances but maintains only those with any type of undesirable event\n",
    "draw_instances = pd.DataFrame(class_and_file_generator(path_raw_data, \n",
    "                                                       real=False,\n",
    "                                                       simulated=False, \n",
    "                                                       drawn=True),\n",
    "                              columns=['class_code', 'instance_path'])\n",
    "draw_instances = draw_instances.loc[draw_instances.iloc[:,0].isin(abnormal_classes_codes)].reset_index(drop=True)"
   ]
  },
  {
   "cell_type": "code",
   "execution_count": 15,
   "metadata": {},
   "outputs": [],
   "source": [
    "falha = 7\n",
    "falha_2 = 107"
   ]
  },
  {
   "cell_type": "code",
   "execution_count": 16,
   "metadata": {},
   "outputs": [
    {
     "name": "stdout",
     "output_type": "stream",
     "text": [
      "1 se repete 304263\n",
      "Index min 2018-08-20 11:25:44 index max 2018-08-24 11:25:44\n",
      "1 se repete 311012\n",
      "Index min 2018-08-20 11:25:44 index max 2018-08-24 11:25:44\n",
      "1 se repete 318042\n",
      "Index min 2018-08-20 11:25:44 index max 2018-08-24 11:25:44\n",
      "1 se repete 36311\n",
      "Index min 2018-08-20 11:25:44 index max 2018-08-20 23:25:44\n",
      "1 se repete 311012\n",
      "Index min 2018-08-20 11:25:44 index max 2018-08-24 11:25:44\n",
      "1 se repete 283454\n",
      "Index min 2018-08-20 11:25:44 index max 2018-08-24 11:25:44\n",
      "1 se repete 311012\n",
      "Index min 2018-08-20 11:25:44 index max 2018-08-24 11:25:44\n",
      "1 se repete 162537\n",
      "Index min 2018-08-20 11:25:44 index max 2018-08-22 11:25:44\n",
      "1 se repete 36311\n",
      "Index min 2018-08-20 11:25:44 index max 2018-08-20 23:25:44\n",
      "1 se repete 77753\n",
      "Index min 2018-08-20 11:25:44 index max 2018-08-21 11:25:44\n",
      "1 se repete 38817\n",
      "Index min 2017-02-26 14:01:46 index max 2017-02-27 10:18:58\n",
      "1 se repete 127179\n",
      "Index min 2018-06-17 18:13:15 index max 2018-06-19 23:06:08\n",
      "1 se repete 100242\n",
      "Index min 2018-06-20 15:57:28 index max 2018-06-21 23:56:30\n",
      "1 se repete 25136\n",
      "Index min 2018-06-11 02:12:18 index max 2018-06-11 14:08:31\n",
      "1 se repete 17758\n",
      "Index min 2019-04-03 02:33:07 index max 2019-04-03 15:00:00\n"
     ]
    }
   ],
   "source": [
    "file_paths = real_instances[real_instances[\"class_code\"] == falha][\"instance_path\"].values\n",
    "df_output = pd.DataFrame()\n",
    "\n",
    "for file_path in file_paths:\n",
    "    df_data = pd.read_csv(file_path)\n",
    "\n",
    "    df_data = FormatData.set_index_dataframe(df_data=df_data,\n",
    "                                         column_name=\"timestamp\")\n",
    "    quantidade = ((df_data['class'] == falha) | (df_data['class'] == falha_2)).sum()\n",
    "    if quantidade != 0:\n",
    "        print(f\"1 se repete {quantidade}\")\n",
    "        print(f\"Index min {df_data.index.min()} index max {df_data.index.max()}\")\n",
    "\n",
    "    df_output = pd.concat([df_output, df_data], axis=0)"
   ]
  },
  {
   "cell_type": "code",
   "execution_count": 17,
   "metadata": {},
   "outputs": [
    {
     "name": "stdout",
     "output_type": "stream",
     "text": [
      "1 se repete 304263\n",
      "Index min 2018-08-20 11:25:44 index max 2018-08-24 11:25:44\n",
      "1 se repete 311012\n",
      "Index min 2018-08-20 11:25:44 index max 2018-08-24 11:25:44\n",
      "1 se repete 318042\n",
      "Index min 2018-08-20 11:25:44 index max 2018-08-24 11:25:44\n",
      "1 se repete 36311\n",
      "Index min 2018-08-20 11:25:44 index max 2018-08-20 23:25:44\n",
      "1 se repete 311012\n",
      "Index min 2018-08-20 11:25:44 index max 2018-08-24 11:25:44\n",
      "1 se repete 283454\n",
      "Index min 2018-08-20 11:25:44 index max 2018-08-24 11:25:44\n",
      "1 se repete 311012\n",
      "Index min 2018-08-20 11:25:44 index max 2018-08-24 11:25:44\n",
      "1 se repete 162537\n",
      "Index min 2018-08-20 11:25:44 index max 2018-08-22 11:25:44\n",
      "1 se repete 36311\n",
      "Index min 2018-08-20 11:25:44 index max 2018-08-20 23:25:44\n",
      "1 se repete 77753\n",
      "Index min 2018-08-20 11:25:44 index max 2018-08-21 11:25:44\n"
     ]
    }
   ],
   "source": [
    "file_paths = draw_instances[draw_instances[\"class_code\"] == falha][\"instance_path\"].values\n",
    "df_draw = pd.DataFrame()\n",
    "\n",
    "for file_path in file_paths:\n",
    "    df_data = pd.read_csv(file_path)\n",
    "\n",
    "    df_data = FormatData.set_index_dataframe(df_data=df_data,\n",
    "                                         column_name=\"timestamp\")\n",
    "    quantidade = ((df_data['class'] == falha) | (df_data['class'] == falha_2)).sum()\n",
    "    if quantidade != 0:\n",
    "        print(f\"1 se repete {quantidade}\")\n",
    "        print(f\"Index min {df_data.index.min()} index max {df_data.index.max()}\")\n",
    "\n",
    "    df_draw = pd.concat([df_draw, df_data], axis=0)"
   ]
  },
  {
   "cell_type": "code",
   "execution_count": 18,
   "metadata": {},
   "outputs": [
    {
     "data": {
      "text/html": [
       "<div>\n",
       "<style scoped>\n",
       "    .dataframe tbody tr th:only-of-type {\n",
       "        vertical-align: middle;\n",
       "    }\n",
       "\n",
       "    .dataframe tbody tr th {\n",
       "        vertical-align: top;\n",
       "    }\n",
       "\n",
       "    .dataframe thead th {\n",
       "        text-align: right;\n",
       "    }\n",
       "</style>\n",
       "<table border=\"1\" class=\"dataframe\">\n",
       "  <thead>\n",
       "    <tr style=\"text-align: right;\">\n",
       "      <th></th>\n",
       "      <th>P-PDG</th>\n",
       "      <th>P-TPT</th>\n",
       "      <th>T-TPT</th>\n",
       "      <th>P-MON-CKP</th>\n",
       "      <th>T-JUS-CKP</th>\n",
       "      <th>P-JUS-CKGL</th>\n",
       "      <th>T-JUS-CKGL</th>\n",
       "      <th>QGL</th>\n",
       "      <th>class</th>\n",
       "    </tr>\n",
       "    <tr>\n",
       "      <th>timestamp</th>\n",
       "      <th></th>\n",
       "      <th></th>\n",
       "      <th></th>\n",
       "      <th></th>\n",
       "      <th></th>\n",
       "      <th></th>\n",
       "      <th></th>\n",
       "      <th></th>\n",
       "      <th></th>\n",
       "    </tr>\n",
       "  </thead>\n",
       "  <tbody>\n",
       "    <tr>\n",
       "      <th>2018-08-20 11:25:44</th>\n",
       "      <td>250.0977</td>\n",
       "      <td>1.351902e+02</td>\n",
       "      <td>59.97301</td>\n",
       "      <td>1.239075e+01</td>\n",
       "      <td>54.89203</td>\n",
       "      <td>NaN</td>\n",
       "      <td>NaN</td>\n",
       "      <td>NaN</td>\n",
       "      <td>0.0</td>\n",
       "    </tr>\n",
       "    <tr>\n",
       "      <th>2018-08-20 11:25:45</th>\n",
       "      <td>250.0977</td>\n",
       "      <td>1.351902e+02</td>\n",
       "      <td>59.97301</td>\n",
       "      <td>1.239075e+01</td>\n",
       "      <td>54.89203</td>\n",
       "      <td>NaN</td>\n",
       "      <td>NaN</td>\n",
       "      <td>NaN</td>\n",
       "      <td>0.0</td>\n",
       "    </tr>\n",
       "    <tr>\n",
       "      <th>2018-08-20 11:25:46</th>\n",
       "      <td>250.0977</td>\n",
       "      <td>1.351902e+02</td>\n",
       "      <td>59.97301</td>\n",
       "      <td>1.239075e+01</td>\n",
       "      <td>54.89203</td>\n",
       "      <td>NaN</td>\n",
       "      <td>NaN</td>\n",
       "      <td>NaN</td>\n",
       "      <td>0.0</td>\n",
       "    </tr>\n",
       "    <tr>\n",
       "      <th>2018-08-20 11:25:47</th>\n",
       "      <td>250.0977</td>\n",
       "      <td>1.351902e+02</td>\n",
       "      <td>59.97301</td>\n",
       "      <td>1.239075e+01</td>\n",
       "      <td>54.89203</td>\n",
       "      <td>NaN</td>\n",
       "      <td>NaN</td>\n",
       "      <td>NaN</td>\n",
       "      <td>0.0</td>\n",
       "    </tr>\n",
       "    <tr>\n",
       "      <th>2018-08-20 11:25:48</th>\n",
       "      <td>250.0977</td>\n",
       "      <td>1.351902e+02</td>\n",
       "      <td>59.97301</td>\n",
       "      <td>1.239075e+01</td>\n",
       "      <td>54.89203</td>\n",
       "      <td>NaN</td>\n",
       "      <td>NaN</td>\n",
       "      <td>NaN</td>\n",
       "      <td>0.0</td>\n",
       "    </tr>\n",
       "    <tr>\n",
       "      <th>...</th>\n",
       "      <td>...</td>\n",
       "      <td>...</td>\n",
       "      <td>...</td>\n",
       "      <td>...</td>\n",
       "      <td>...</td>\n",
       "      <td>...</td>\n",
       "      <td>...</td>\n",
       "      <td>...</td>\n",
       "      <td>...</td>\n",
       "    </tr>\n",
       "    <tr>\n",
       "      <th>2019-04-03 14:59:56</th>\n",
       "      <td>0.0000</td>\n",
       "      <td>8.489354e+06</td>\n",
       "      <td>109.72130</td>\n",
       "      <td>1.496222e+06</td>\n",
       "      <td>73.38219</td>\n",
       "      <td>9706965.0</td>\n",
       "      <td>NaN</td>\n",
       "      <td>0.0</td>\n",
       "      <td>107.0</td>\n",
       "    </tr>\n",
       "    <tr>\n",
       "      <th>2019-04-03 14:59:57</th>\n",
       "      <td>0.0000</td>\n",
       "      <td>8.489349e+06</td>\n",
       "      <td>109.72120</td>\n",
       "      <td>1.495828e+06</td>\n",
       "      <td>73.38310</td>\n",
       "      <td>9706899.0</td>\n",
       "      <td>NaN</td>\n",
       "      <td>0.0</td>\n",
       "      <td>107.0</td>\n",
       "    </tr>\n",
       "    <tr>\n",
       "      <th>2019-04-03 14:59:58</th>\n",
       "      <td>0.0000</td>\n",
       "      <td>8.489344e+06</td>\n",
       "      <td>109.72100</td>\n",
       "      <td>1.495433e+06</td>\n",
       "      <td>73.38401</td>\n",
       "      <td>9706834.0</td>\n",
       "      <td>NaN</td>\n",
       "      <td>0.0</td>\n",
       "      <td>107.0</td>\n",
       "    </tr>\n",
       "    <tr>\n",
       "      <th>2019-04-03 14:59:59</th>\n",
       "      <td>0.0000</td>\n",
       "      <td>8.489338e+06</td>\n",
       "      <td>109.72090</td>\n",
       "      <td>1.495039e+06</td>\n",
       "      <td>73.38493</td>\n",
       "      <td>9706768.0</td>\n",
       "      <td>NaN</td>\n",
       "      <td>0.0</td>\n",
       "      <td>107.0</td>\n",
       "    </tr>\n",
       "    <tr>\n",
       "      <th>2019-04-03 15:00:00</th>\n",
       "      <td>0.0000</td>\n",
       "      <td>8.489333e+06</td>\n",
       "      <td>109.72070</td>\n",
       "      <td>1.494645e+06</td>\n",
       "      <td>73.38583</td>\n",
       "      <td>9706702.0</td>\n",
       "      <td>NaN</td>\n",
       "      <td>0.0</td>\n",
       "      <td>107.0</td>\n",
       "    </tr>\n",
       "  </tbody>\n",
       "</table>\n",
       "<p>2885548 rows × 9 columns</p>\n",
       "</div>"
      ],
      "text/plain": [
       "                        P-PDG         P-TPT      T-TPT     P-MON-CKP  \\\n",
       "timestamp                                                              \n",
       "2018-08-20 11:25:44  250.0977  1.351902e+02   59.97301  1.239075e+01   \n",
       "2018-08-20 11:25:45  250.0977  1.351902e+02   59.97301  1.239075e+01   \n",
       "2018-08-20 11:25:46  250.0977  1.351902e+02   59.97301  1.239075e+01   \n",
       "2018-08-20 11:25:47  250.0977  1.351902e+02   59.97301  1.239075e+01   \n",
       "2018-08-20 11:25:48  250.0977  1.351902e+02   59.97301  1.239075e+01   \n",
       "...                       ...           ...        ...           ...   \n",
       "2019-04-03 14:59:56    0.0000  8.489354e+06  109.72130  1.496222e+06   \n",
       "2019-04-03 14:59:57    0.0000  8.489349e+06  109.72120  1.495828e+06   \n",
       "2019-04-03 14:59:58    0.0000  8.489344e+06  109.72100  1.495433e+06   \n",
       "2019-04-03 14:59:59    0.0000  8.489338e+06  109.72090  1.495039e+06   \n",
       "2019-04-03 15:00:00    0.0000  8.489333e+06  109.72070  1.494645e+06   \n",
       "\n",
       "                     T-JUS-CKP  P-JUS-CKGL  T-JUS-CKGL  QGL  class  \n",
       "timestamp                                                           \n",
       "2018-08-20 11:25:44   54.89203         NaN         NaN  NaN    0.0  \n",
       "2018-08-20 11:25:45   54.89203         NaN         NaN  NaN    0.0  \n",
       "2018-08-20 11:25:46   54.89203         NaN         NaN  NaN    0.0  \n",
       "2018-08-20 11:25:47   54.89203         NaN         NaN  NaN    0.0  \n",
       "2018-08-20 11:25:48   54.89203         NaN         NaN  NaN    0.0  \n",
       "...                        ...         ...         ...  ...    ...  \n",
       "2019-04-03 14:59:56   73.38219   9706965.0         NaN  0.0  107.0  \n",
       "2019-04-03 14:59:57   73.38310   9706899.0         NaN  0.0  107.0  \n",
       "2019-04-03 14:59:58   73.38401   9706834.0         NaN  0.0  107.0  \n",
       "2019-04-03 14:59:59   73.38493   9706768.0         NaN  0.0  107.0  \n",
       "2019-04-03 15:00:00   73.38583   9706702.0         NaN  0.0  107.0  \n",
       "\n",
       "[2885548 rows x 9 columns]"
      ]
     },
     "execution_count": 18,
     "metadata": {},
     "output_type": "execute_result"
    }
   ],
   "source": [
    "df_output"
   ]
  },
  {
   "cell_type": "code",
   "execution_count": 19,
   "metadata": {},
   "outputs": [
    {
     "data": {
      "text/html": [
       "<div>\n",
       "<style scoped>\n",
       "    .dataframe tbody tr th:only-of-type {\n",
       "        vertical-align: middle;\n",
       "    }\n",
       "\n",
       "    .dataframe tbody tr th {\n",
       "        vertical-align: top;\n",
       "    }\n",
       "\n",
       "    .dataframe thead th {\n",
       "        text-align: right;\n",
       "    }\n",
       "</style>\n",
       "<table border=\"1\" class=\"dataframe\">\n",
       "  <thead>\n",
       "    <tr style=\"text-align: right;\">\n",
       "      <th></th>\n",
       "      <th>P-PDG</th>\n",
       "      <th>P-TPT</th>\n",
       "      <th>T-TPT</th>\n",
       "      <th>P-MON-CKP</th>\n",
       "      <th>T-JUS-CKP</th>\n",
       "      <th>P-JUS-CKGL</th>\n",
       "      <th>T-JUS-CKGL</th>\n",
       "      <th>QGL</th>\n",
       "      <th>class</th>\n",
       "    </tr>\n",
       "    <tr>\n",
       "      <th>timestamp</th>\n",
       "      <th></th>\n",
       "      <th></th>\n",
       "      <th></th>\n",
       "      <th></th>\n",
       "      <th></th>\n",
       "      <th></th>\n",
       "      <th></th>\n",
       "      <th></th>\n",
       "      <th></th>\n",
       "    </tr>\n",
       "  </thead>\n",
       "  <tbody>\n",
       "    <tr>\n",
       "      <th>2018-08-20 11:25:44</th>\n",
       "      <td>250.0977</td>\n",
       "      <td>135.1902</td>\n",
       "      <td>59.97301</td>\n",
       "      <td>12.39075</td>\n",
       "      <td>54.89203</td>\n",
       "      <td>NaN</td>\n",
       "      <td>NaN</td>\n",
       "      <td>NaN</td>\n",
       "      <td>0</td>\n",
       "    </tr>\n",
       "    <tr>\n",
       "      <th>2018-08-20 11:25:45</th>\n",
       "      <td>250.0977</td>\n",
       "      <td>135.1902</td>\n",
       "      <td>59.97301</td>\n",
       "      <td>12.39075</td>\n",
       "      <td>54.89203</td>\n",
       "      <td>NaN</td>\n",
       "      <td>NaN</td>\n",
       "      <td>NaN</td>\n",
       "      <td>0</td>\n",
       "    </tr>\n",
       "    <tr>\n",
       "      <th>2018-08-20 11:25:46</th>\n",
       "      <td>250.0977</td>\n",
       "      <td>135.1902</td>\n",
       "      <td>59.97301</td>\n",
       "      <td>12.39075</td>\n",
       "      <td>54.89203</td>\n",
       "      <td>NaN</td>\n",
       "      <td>NaN</td>\n",
       "      <td>NaN</td>\n",
       "      <td>0</td>\n",
       "    </tr>\n",
       "    <tr>\n",
       "      <th>2018-08-20 11:25:47</th>\n",
       "      <td>250.0977</td>\n",
       "      <td>135.1902</td>\n",
       "      <td>59.97301</td>\n",
       "      <td>12.39075</td>\n",
       "      <td>54.89203</td>\n",
       "      <td>NaN</td>\n",
       "      <td>NaN</td>\n",
       "      <td>NaN</td>\n",
       "      <td>0</td>\n",
       "    </tr>\n",
       "    <tr>\n",
       "      <th>2018-08-20 11:25:48</th>\n",
       "      <td>250.0977</td>\n",
       "      <td>135.1902</td>\n",
       "      <td>59.97301</td>\n",
       "      <td>12.39075</td>\n",
       "      <td>54.89203</td>\n",
       "      <td>NaN</td>\n",
       "      <td>NaN</td>\n",
       "      <td>NaN</td>\n",
       "      <td>0</td>\n",
       "    </tr>\n",
       "    <tr>\n",
       "      <th>...</th>\n",
       "      <td>...</td>\n",
       "      <td>...</td>\n",
       "      <td>...</td>\n",
       "      <td>...</td>\n",
       "      <td>...</td>\n",
       "      <td>...</td>\n",
       "      <td>...</td>\n",
       "      <td>...</td>\n",
       "      <td>...</td>\n",
       "    </tr>\n",
       "    <tr>\n",
       "      <th>2018-08-21 11:25:40</th>\n",
       "      <td>260.9383</td>\n",
       "      <td>211.8869</td>\n",
       "      <td>117.87660</td>\n",
       "      <td>122.91520</td>\n",
       "      <td>65.02185</td>\n",
       "      <td>NaN</td>\n",
       "      <td>NaN</td>\n",
       "      <td>NaN</td>\n",
       "      <td>7</td>\n",
       "    </tr>\n",
       "    <tr>\n",
       "      <th>2018-08-21 11:25:41</th>\n",
       "      <td>260.9383</td>\n",
       "      <td>211.8869</td>\n",
       "      <td>117.87660</td>\n",
       "      <td>122.91520</td>\n",
       "      <td>65.02185</td>\n",
       "      <td>NaN</td>\n",
       "      <td>NaN</td>\n",
       "      <td>NaN</td>\n",
       "      <td>7</td>\n",
       "    </tr>\n",
       "    <tr>\n",
       "      <th>2018-08-21 11:25:42</th>\n",
       "      <td>260.9383</td>\n",
       "      <td>211.8869</td>\n",
       "      <td>117.87660</td>\n",
       "      <td>122.91520</td>\n",
       "      <td>65.02185</td>\n",
       "      <td>NaN</td>\n",
       "      <td>NaN</td>\n",
       "      <td>NaN</td>\n",
       "      <td>7</td>\n",
       "    </tr>\n",
       "    <tr>\n",
       "      <th>2018-08-21 11:25:43</th>\n",
       "      <td>260.9383</td>\n",
       "      <td>211.8869</td>\n",
       "      <td>117.87660</td>\n",
       "      <td>122.91520</td>\n",
       "      <td>65.02185</td>\n",
       "      <td>NaN</td>\n",
       "      <td>NaN</td>\n",
       "      <td>NaN</td>\n",
       "      <td>7</td>\n",
       "    </tr>\n",
       "    <tr>\n",
       "      <th>2018-08-21 11:25:44</th>\n",
       "      <td>260.9383</td>\n",
       "      <td>211.8869</td>\n",
       "      <td>117.87660</td>\n",
       "      <td>122.91520</td>\n",
       "      <td>65.02185</td>\n",
       "      <td>NaN</td>\n",
       "      <td>NaN</td>\n",
       "      <td>NaN</td>\n",
       "      <td>7</td>\n",
       "    </tr>\n",
       "  </tbody>\n",
       "</table>\n",
       "<p>2419210 rows × 9 columns</p>\n",
       "</div>"
      ],
      "text/plain": [
       "                        P-PDG     P-TPT      T-TPT  P-MON-CKP  T-JUS-CKP  \\\n",
       "timestamp                                                                  \n",
       "2018-08-20 11:25:44  250.0977  135.1902   59.97301   12.39075   54.89203   \n",
       "2018-08-20 11:25:45  250.0977  135.1902   59.97301   12.39075   54.89203   \n",
       "2018-08-20 11:25:46  250.0977  135.1902   59.97301   12.39075   54.89203   \n",
       "2018-08-20 11:25:47  250.0977  135.1902   59.97301   12.39075   54.89203   \n",
       "2018-08-20 11:25:48  250.0977  135.1902   59.97301   12.39075   54.89203   \n",
       "...                       ...       ...        ...        ...        ...   \n",
       "2018-08-21 11:25:40  260.9383  211.8869  117.87660  122.91520   65.02185   \n",
       "2018-08-21 11:25:41  260.9383  211.8869  117.87660  122.91520   65.02185   \n",
       "2018-08-21 11:25:42  260.9383  211.8869  117.87660  122.91520   65.02185   \n",
       "2018-08-21 11:25:43  260.9383  211.8869  117.87660  122.91520   65.02185   \n",
       "2018-08-21 11:25:44  260.9383  211.8869  117.87660  122.91520   65.02185   \n",
       "\n",
       "                     P-JUS-CKGL  T-JUS-CKGL  QGL  class  \n",
       "timestamp                                                \n",
       "2018-08-20 11:25:44         NaN         NaN  NaN      0  \n",
       "2018-08-20 11:25:45         NaN         NaN  NaN      0  \n",
       "2018-08-20 11:25:46         NaN         NaN  NaN      0  \n",
       "2018-08-20 11:25:47         NaN         NaN  NaN      0  \n",
       "2018-08-20 11:25:48         NaN         NaN  NaN      0  \n",
       "...                         ...         ...  ...    ...  \n",
       "2018-08-21 11:25:40         NaN         NaN  NaN      7  \n",
       "2018-08-21 11:25:41         NaN         NaN  NaN      7  \n",
       "2018-08-21 11:25:42         NaN         NaN  NaN      7  \n",
       "2018-08-21 11:25:43         NaN         NaN  NaN      7  \n",
       "2018-08-21 11:25:44         NaN         NaN  NaN      7  \n",
       "\n",
       "[2419210 rows x 9 columns]"
      ]
     },
     "execution_count": 19,
     "metadata": {},
     "output_type": "execute_result"
    }
   ],
   "source": [
    "df_draw"
   ]
  },
  {
   "cell_type": "code",
   "execution_count": 20,
   "metadata": {},
   "outputs": [],
   "source": [
    "df_output = df_output[~df_output.index.duplicated()]"
   ]
  },
  {
   "cell_type": "code",
   "execution_count": 21,
   "metadata": {},
   "outputs": [],
   "source": [
    "df_draw = df_draw[~df_draw.index.duplicated()]"
   ]
  },
  {
   "cell_type": "code",
   "execution_count": 22,
   "metadata": {},
   "outputs": [
    {
     "data": {
      "text/plain": [
       "(811939, 9)"
      ]
     },
     "execution_count": 22,
     "metadata": {},
     "output_type": "execute_result"
    }
   ],
   "source": [
    "df_output.shape"
   ]
  },
  {
   "cell_type": "code",
   "execution_count": 28,
   "metadata": {},
   "outputs": [
    {
     "data": {
      "text/html": [
       "<div>\n",
       "<style scoped>\n",
       "    .dataframe tbody tr th:only-of-type {\n",
       "        vertical-align: middle;\n",
       "    }\n",
       "\n",
       "    .dataframe tbody tr th {\n",
       "        vertical-align: top;\n",
       "    }\n",
       "\n",
       "    .dataframe thead th {\n",
       "        text-align: right;\n",
       "    }\n",
       "</style>\n",
       "<table border=\"1\" class=\"dataframe\">\n",
       "  <thead>\n",
       "    <tr style=\"text-align: right;\">\n",
       "      <th></th>\n",
       "      <th>P-PDG</th>\n",
       "      <th>P-TPT</th>\n",
       "      <th>T-TPT</th>\n",
       "      <th>P-MON-CKP</th>\n",
       "      <th>T-JUS-CKP</th>\n",
       "      <th>class</th>\n",
       "    </tr>\n",
       "    <tr>\n",
       "      <th>timestamp</th>\n",
       "      <th></th>\n",
       "      <th></th>\n",
       "      <th></th>\n",
       "      <th></th>\n",
       "      <th></th>\n",
       "      <th></th>\n",
       "    </tr>\n",
       "  </thead>\n",
       "  <tbody>\n",
       "    <tr>\n",
       "      <th>2018-08-20 11:25:44</th>\n",
       "      <td>250.0977</td>\n",
       "      <td>1.351902e+02</td>\n",
       "      <td>59.97301</td>\n",
       "      <td>1.239075e+01</td>\n",
       "      <td>54.89203</td>\n",
       "      <td>0.0</td>\n",
       "    </tr>\n",
       "    <tr>\n",
       "      <th>2018-08-20 11:25:45</th>\n",
       "      <td>250.0977</td>\n",
       "      <td>1.351902e+02</td>\n",
       "      <td>59.97301</td>\n",
       "      <td>1.239075e+01</td>\n",
       "      <td>54.89203</td>\n",
       "      <td>0.0</td>\n",
       "    </tr>\n",
       "    <tr>\n",
       "      <th>2018-08-20 11:25:46</th>\n",
       "      <td>250.0977</td>\n",
       "      <td>1.351902e+02</td>\n",
       "      <td>59.97301</td>\n",
       "      <td>1.239075e+01</td>\n",
       "      <td>54.89203</td>\n",
       "      <td>0.0</td>\n",
       "    </tr>\n",
       "    <tr>\n",
       "      <th>2018-08-20 11:25:47</th>\n",
       "      <td>250.0977</td>\n",
       "      <td>1.351902e+02</td>\n",
       "      <td>59.97301</td>\n",
       "      <td>1.239075e+01</td>\n",
       "      <td>54.89203</td>\n",
       "      <td>0.0</td>\n",
       "    </tr>\n",
       "    <tr>\n",
       "      <th>2018-08-20 11:25:48</th>\n",
       "      <td>250.0977</td>\n",
       "      <td>1.351902e+02</td>\n",
       "      <td>59.97301</td>\n",
       "      <td>1.239075e+01</td>\n",
       "      <td>54.89203</td>\n",
       "      <td>0.0</td>\n",
       "    </tr>\n",
       "    <tr>\n",
       "      <th>...</th>\n",
       "      <td>...</td>\n",
       "      <td>...</td>\n",
       "      <td>...</td>\n",
       "      <td>...</td>\n",
       "      <td>...</td>\n",
       "      <td>...</td>\n",
       "    </tr>\n",
       "    <tr>\n",
       "      <th>2019-04-03 14:59:56</th>\n",
       "      <td>0.0000</td>\n",
       "      <td>8.489354e+06</td>\n",
       "      <td>109.72130</td>\n",
       "      <td>1.496222e+06</td>\n",
       "      <td>73.38219</td>\n",
       "      <td>107.0</td>\n",
       "    </tr>\n",
       "    <tr>\n",
       "      <th>2019-04-03 14:59:57</th>\n",
       "      <td>0.0000</td>\n",
       "      <td>8.489349e+06</td>\n",
       "      <td>109.72120</td>\n",
       "      <td>1.495828e+06</td>\n",
       "      <td>73.38310</td>\n",
       "      <td>107.0</td>\n",
       "    </tr>\n",
       "    <tr>\n",
       "      <th>2019-04-03 14:59:58</th>\n",
       "      <td>0.0000</td>\n",
       "      <td>8.489344e+06</td>\n",
       "      <td>109.72100</td>\n",
       "      <td>1.495433e+06</td>\n",
       "      <td>73.38401</td>\n",
       "      <td>107.0</td>\n",
       "    </tr>\n",
       "    <tr>\n",
       "      <th>2019-04-03 14:59:59</th>\n",
       "      <td>0.0000</td>\n",
       "      <td>8.489338e+06</td>\n",
       "      <td>109.72090</td>\n",
       "      <td>1.495039e+06</td>\n",
       "      <td>73.38493</td>\n",
       "      <td>107.0</td>\n",
       "    </tr>\n",
       "    <tr>\n",
       "      <th>2019-04-03 15:00:00</th>\n",
       "      <td>0.0000</td>\n",
       "      <td>8.489333e+06</td>\n",
       "      <td>109.72070</td>\n",
       "      <td>1.494645e+06</td>\n",
       "      <td>73.38583</td>\n",
       "      <td>107.0</td>\n",
       "    </tr>\n",
       "  </tbody>\n",
       "</table>\n",
       "<p>811939 rows × 6 columns</p>\n",
       "</div>"
      ],
      "text/plain": [
       "                        P-PDG         P-TPT      T-TPT     P-MON-CKP  \\\n",
       "timestamp                                                              \n",
       "2018-08-20 11:25:44  250.0977  1.351902e+02   59.97301  1.239075e+01   \n",
       "2018-08-20 11:25:45  250.0977  1.351902e+02   59.97301  1.239075e+01   \n",
       "2018-08-20 11:25:46  250.0977  1.351902e+02   59.97301  1.239075e+01   \n",
       "2018-08-20 11:25:47  250.0977  1.351902e+02   59.97301  1.239075e+01   \n",
       "2018-08-20 11:25:48  250.0977  1.351902e+02   59.97301  1.239075e+01   \n",
       "...                       ...           ...        ...           ...   \n",
       "2019-04-03 14:59:56    0.0000  8.489354e+06  109.72130  1.496222e+06   \n",
       "2019-04-03 14:59:57    0.0000  8.489349e+06  109.72120  1.495828e+06   \n",
       "2019-04-03 14:59:58    0.0000  8.489344e+06  109.72100  1.495433e+06   \n",
       "2019-04-03 14:59:59    0.0000  8.489338e+06  109.72090  1.495039e+06   \n",
       "2019-04-03 15:00:00    0.0000  8.489333e+06  109.72070  1.494645e+06   \n",
       "\n",
       "                     T-JUS-CKP  class  \n",
       "timestamp                              \n",
       "2018-08-20 11:25:44   54.89203    0.0  \n",
       "2018-08-20 11:25:45   54.89203    0.0  \n",
       "2018-08-20 11:25:46   54.89203    0.0  \n",
       "2018-08-20 11:25:47   54.89203    0.0  \n",
       "2018-08-20 11:25:48   54.89203    0.0  \n",
       "...                        ...    ...  \n",
       "2019-04-03 14:59:56   73.38219  107.0  \n",
       "2019-04-03 14:59:57   73.38310  107.0  \n",
       "2019-04-03 14:59:58   73.38401  107.0  \n",
       "2019-04-03 14:59:59   73.38493  107.0  \n",
       "2019-04-03 15:00:00   73.38583  107.0  \n",
       "\n",
       "[811939 rows x 6 columns]"
      ]
     },
     "execution_count": 28,
     "metadata": {},
     "output_type": "execute_result"
    }
   ],
   "source": [
    "df_aux = df_output.drop(columns=[\"QGL\", \"T-JUS-CKGL\", \"P-JUS-CKGL\"])\n",
    "df_aux"
   ]
  },
  {
   "cell_type": "code",
   "execution_count": 29,
   "metadata": {},
   "outputs": [
    {
     "data": {
      "text/html": [
       "<div>\n",
       "<style scoped>\n",
       "    .dataframe tbody tr th:only-of-type {\n",
       "        vertical-align: middle;\n",
       "    }\n",
       "\n",
       "    .dataframe tbody tr th {\n",
       "        vertical-align: top;\n",
       "    }\n",
       "\n",
       "    .dataframe thead th {\n",
       "        text-align: right;\n",
       "    }\n",
       "</style>\n",
       "<table border=\"1\" class=\"dataframe\">\n",
       "  <thead>\n",
       "    <tr style=\"text-align: right;\">\n",
       "      <th></th>\n",
       "      <th>P-PDG</th>\n",
       "      <th>P-TPT</th>\n",
       "      <th>T-TPT</th>\n",
       "      <th>P-MON-CKP</th>\n",
       "      <th>T-JUS-CKP</th>\n",
       "      <th>class</th>\n",
       "    </tr>\n",
       "    <tr>\n",
       "      <th>timestamp</th>\n",
       "      <th></th>\n",
       "      <th></th>\n",
       "      <th></th>\n",
       "      <th></th>\n",
       "      <th></th>\n",
       "      <th></th>\n",
       "    </tr>\n",
       "  </thead>\n",
       "  <tbody>\n",
       "    <tr>\n",
       "      <th>2018-08-20 11:25:44</th>\n",
       "      <td>250.0977</td>\n",
       "      <td>135.1902</td>\n",
       "      <td>59.97301</td>\n",
       "      <td>12.39075</td>\n",
       "      <td>54.89203</td>\n",
       "      <td>0</td>\n",
       "    </tr>\n",
       "    <tr>\n",
       "      <th>2018-08-20 11:25:45</th>\n",
       "      <td>250.0977</td>\n",
       "      <td>135.1902</td>\n",
       "      <td>59.97301</td>\n",
       "      <td>12.39075</td>\n",
       "      <td>54.89203</td>\n",
       "      <td>0</td>\n",
       "    </tr>\n",
       "    <tr>\n",
       "      <th>2018-08-20 11:25:46</th>\n",
       "      <td>250.0977</td>\n",
       "      <td>135.1902</td>\n",
       "      <td>59.97301</td>\n",
       "      <td>12.39075</td>\n",
       "      <td>54.89203</td>\n",
       "      <td>0</td>\n",
       "    </tr>\n",
       "    <tr>\n",
       "      <th>2018-08-20 11:25:47</th>\n",
       "      <td>250.0977</td>\n",
       "      <td>135.1902</td>\n",
       "      <td>59.97301</td>\n",
       "      <td>12.39075</td>\n",
       "      <td>54.89203</td>\n",
       "      <td>0</td>\n",
       "    </tr>\n",
       "    <tr>\n",
       "      <th>2018-08-20 11:25:48</th>\n",
       "      <td>250.0977</td>\n",
       "      <td>135.1902</td>\n",
       "      <td>59.97301</td>\n",
       "      <td>12.39075</td>\n",
       "      <td>54.89203</td>\n",
       "      <td>0</td>\n",
       "    </tr>\n",
       "    <tr>\n",
       "      <th>...</th>\n",
       "      <td>...</td>\n",
       "      <td>...</td>\n",
       "      <td>...</td>\n",
       "      <td>...</td>\n",
       "      <td>...</td>\n",
       "      <td>...</td>\n",
       "    </tr>\n",
       "    <tr>\n",
       "      <th>2018-08-24 11:25:40</th>\n",
       "      <td>251.8535</td>\n",
       "      <td>139.0000</td>\n",
       "      <td>59.08355</td>\n",
       "      <td>19.22864</td>\n",
       "      <td>54.13496</td>\n",
       "      <td>107</td>\n",
       "    </tr>\n",
       "    <tr>\n",
       "      <th>2018-08-24 11:25:41</th>\n",
       "      <td>251.8535</td>\n",
       "      <td>139.0000</td>\n",
       "      <td>59.08355</td>\n",
       "      <td>19.22868</td>\n",
       "      <td>54.13496</td>\n",
       "      <td>107</td>\n",
       "    </tr>\n",
       "    <tr>\n",
       "      <th>2018-08-24 11:25:42</th>\n",
       "      <td>251.8535</td>\n",
       "      <td>139.0000</td>\n",
       "      <td>59.08355</td>\n",
       "      <td>19.22872</td>\n",
       "      <td>54.13496</td>\n",
       "      <td>107</td>\n",
       "    </tr>\n",
       "    <tr>\n",
       "      <th>2018-08-24 11:25:43</th>\n",
       "      <td>251.8535</td>\n",
       "      <td>139.0000</td>\n",
       "      <td>59.08355</td>\n",
       "      <td>19.22875</td>\n",
       "      <td>54.13496</td>\n",
       "      <td>107</td>\n",
       "    </tr>\n",
       "    <tr>\n",
       "      <th>2018-08-24 11:25:44</th>\n",
       "      <td>251.8535</td>\n",
       "      <td>139.0000</td>\n",
       "      <td>59.08355</td>\n",
       "      <td>19.22879</td>\n",
       "      <td>54.13496</td>\n",
       "      <td>107</td>\n",
       "    </tr>\n",
       "  </tbody>\n",
       "</table>\n",
       "<p>345601 rows × 6 columns</p>\n",
       "</div>"
      ],
      "text/plain": [
       "                        P-PDG     P-TPT     T-TPT  P-MON-CKP  T-JUS-CKP  class\n",
       "timestamp                                                                     \n",
       "2018-08-20 11:25:44  250.0977  135.1902  59.97301   12.39075   54.89203      0\n",
       "2018-08-20 11:25:45  250.0977  135.1902  59.97301   12.39075   54.89203      0\n",
       "2018-08-20 11:25:46  250.0977  135.1902  59.97301   12.39075   54.89203      0\n",
       "2018-08-20 11:25:47  250.0977  135.1902  59.97301   12.39075   54.89203      0\n",
       "2018-08-20 11:25:48  250.0977  135.1902  59.97301   12.39075   54.89203      0\n",
       "...                       ...       ...       ...        ...        ...    ...\n",
       "2018-08-24 11:25:40  251.8535  139.0000  59.08355   19.22864   54.13496    107\n",
       "2018-08-24 11:25:41  251.8535  139.0000  59.08355   19.22868   54.13496    107\n",
       "2018-08-24 11:25:42  251.8535  139.0000  59.08355   19.22872   54.13496    107\n",
       "2018-08-24 11:25:43  251.8535  139.0000  59.08355   19.22875   54.13496    107\n",
       "2018-08-24 11:25:44  251.8535  139.0000  59.08355   19.22879   54.13496    107\n",
       "\n",
       "[345601 rows x 6 columns]"
      ]
     },
     "execution_count": 29,
     "metadata": {},
     "output_type": "execute_result"
    }
   ],
   "source": [
    "df_aux_draw = df_draw.drop(columns=[\"QGL\", \"T-JUS-CKGL\", \"P-JUS-CKGL\"])\n",
    "df_aux_draw"
   ]
  },
  {
   "cell_type": "code",
   "execution_count": 30,
   "metadata": {},
   "outputs": [
    {
     "name": "stdout",
     "output_type": "stream",
     "text": [
      "P-PDG null data is 0.044584630126154795\n",
      "P-TPT null data is 0.044584630126154795\n",
      "T-TPT null data is 0.044584630126154795\n",
      "P-MON-CKP null data is 0.044584630126154795\n",
      "T-JUS-CKP null data is 0.044584630126154795\n",
      "class null data is 0.6363778559719387\n"
     ]
    }
   ],
   "source": [
    "for column_name in df_aux.columns:\n",
    "    percent = Preprocessing.check_null_dataframe(df_data=df_aux, column_name=column_name)\n",
    "    print(f\"{column_name} null data is {percent}\")"
   ]
  },
  {
   "cell_type": "code",
   "execution_count": 31,
   "metadata": {},
   "outputs": [
    {
     "name": "stdout",
     "output_type": "stream",
     "text": [
      "P-PDG null data is 0.0\n",
      "P-TPT null data is 0.0\n",
      "T-TPT null data is 0.0\n",
      "P-MON-CKP null data is 0.0\n",
      "T-JUS-CKP null data is 0.0\n",
      "class null data is 0.0\n"
     ]
    }
   ],
   "source": [
    "for column_name in df_aux.columns:\n",
    "    percent = Preprocessing.check_null_dataframe(df_data=df_aux_draw, column_name=column_name)\n",
    "    print(f\"{column_name} null data is {percent}\")"
   ]
  },
  {
   "cell_type": "code",
   "execution_count": 32,
   "metadata": {},
   "outputs": [
    {
     "data": {
      "text/plain": [
       "(806410, 6)"
      ]
     },
     "execution_count": 32,
     "metadata": {},
     "output_type": "execute_result"
    }
   ],
   "source": [
    "df_aux = df_aux.dropna()\n",
    "df_aux.shape"
   ]
  },
  {
   "cell_type": "code",
   "execution_count": 33,
   "metadata": {},
   "outputs": [
    {
     "data": {
      "text/plain": [
       "(345601, 6)"
      ]
     },
     "execution_count": 33,
     "metadata": {},
     "output_type": "execute_result"
    }
   ],
   "source": [
    "df_aux_draw = df_aux_draw.dropna()\n",
    "df_aux_draw.shape"
   ]
  },
  {
   "cell_type": "markdown",
   "metadata": {},
   "source": [
    "# KNN"
   ]
  },
  {
   "cell_type": "code",
   "execution_count": 34,
   "metadata": {},
   "outputs": [
    {
     "data": {
      "text/plain": [
       "class\n",
       "107    88.038808\n",
       "0      11.961192\n",
       "Name: count, dtype: float64"
      ]
     },
     "execution_count": 34,
     "metadata": {},
     "output_type": "execute_result"
    }
   ],
   "source": [
    "contagem_classes = df_aux_draw['class'].value_counts()\n",
    "\n",
    "# Calcular a porcentagem de cada classe\n",
    "porcentagem_classes = contagem_classes / len(df_aux_draw) * 100\n",
    "porcentagem_classes"
   ]
  },
  {
   "cell_type": "code",
   "execution_count": 35,
   "metadata": {},
   "outputs": [
    {
     "data": {
      "text/plain": [
       "class\n",
       "107.0    72.811969\n",
       "0.0      23.979985\n",
       "7.0       3.208046\n",
       "Name: count, dtype: float64"
      ]
     },
     "execution_count": 35,
     "metadata": {},
     "output_type": "execute_result"
    }
   ],
   "source": [
    "contagem_classes = df_aux['class'].value_counts()\n",
    "\n",
    "# Calcular a porcentagem de cada classe\n",
    "porcentagem_classes = contagem_classes / len(df_aux) * 100\n",
    "porcentagem_classes"
   ]
  },
  {
   "cell_type": "code",
   "execution_count": 36,
   "metadata": {},
   "outputs": [],
   "source": [
    "# Separar as features (X) e os rótulos (y)\n",
    "X = df_aux.drop('class', axis=1)\n",
    "y = df_aux['class']"
   ]
  },
  {
   "cell_type": "code",
   "execution_count": 37,
   "metadata": {},
   "outputs": [
    {
     "data": {
      "text/html": [
       "<div>\n",
       "<style scoped>\n",
       "    .dataframe tbody tr th:only-of-type {\n",
       "        vertical-align: middle;\n",
       "    }\n",
       "\n",
       "    .dataframe tbody tr th {\n",
       "        vertical-align: top;\n",
       "    }\n",
       "\n",
       "    .dataframe thead th {\n",
       "        text-align: right;\n",
       "    }\n",
       "</style>\n",
       "<table border=\"1\" class=\"dataframe\">\n",
       "  <thead>\n",
       "    <tr style=\"text-align: right;\">\n",
       "      <th></th>\n",
       "      <th>P-PDG</th>\n",
       "      <th>P-TPT</th>\n",
       "      <th>T-TPT</th>\n",
       "      <th>P-MON-CKP</th>\n",
       "      <th>T-JUS-CKP</th>\n",
       "    </tr>\n",
       "    <tr>\n",
       "      <th>timestamp</th>\n",
       "      <th></th>\n",
       "      <th></th>\n",
       "      <th></th>\n",
       "      <th></th>\n",
       "      <th></th>\n",
       "    </tr>\n",
       "  </thead>\n",
       "  <tbody>\n",
       "    <tr>\n",
       "      <th>2018-08-20 11:25:44</th>\n",
       "      <td>250.0977</td>\n",
       "      <td>1.351902e+02</td>\n",
       "      <td>59.97301</td>\n",
       "      <td>1.239075e+01</td>\n",
       "      <td>54.89203</td>\n",
       "    </tr>\n",
       "    <tr>\n",
       "      <th>2018-08-20 11:25:45</th>\n",
       "      <td>250.0977</td>\n",
       "      <td>1.351902e+02</td>\n",
       "      <td>59.97301</td>\n",
       "      <td>1.239075e+01</td>\n",
       "      <td>54.89203</td>\n",
       "    </tr>\n",
       "    <tr>\n",
       "      <th>2018-08-20 11:25:46</th>\n",
       "      <td>250.0977</td>\n",
       "      <td>1.351902e+02</td>\n",
       "      <td>59.97301</td>\n",
       "      <td>1.239075e+01</td>\n",
       "      <td>54.89203</td>\n",
       "    </tr>\n",
       "    <tr>\n",
       "      <th>2018-08-20 11:25:47</th>\n",
       "      <td>250.0977</td>\n",
       "      <td>1.351902e+02</td>\n",
       "      <td>59.97301</td>\n",
       "      <td>1.239075e+01</td>\n",
       "      <td>54.89203</td>\n",
       "    </tr>\n",
       "    <tr>\n",
       "      <th>2018-08-20 11:25:48</th>\n",
       "      <td>250.0977</td>\n",
       "      <td>1.351902e+02</td>\n",
       "      <td>59.97301</td>\n",
       "      <td>1.239075e+01</td>\n",
       "      <td>54.89203</td>\n",
       "    </tr>\n",
       "    <tr>\n",
       "      <th>...</th>\n",
       "      <td>...</td>\n",
       "      <td>...</td>\n",
       "      <td>...</td>\n",
       "      <td>...</td>\n",
       "      <td>...</td>\n",
       "    </tr>\n",
       "    <tr>\n",
       "      <th>2019-04-03 14:59:56</th>\n",
       "      <td>0.0000</td>\n",
       "      <td>8.489354e+06</td>\n",
       "      <td>109.72130</td>\n",
       "      <td>1.496222e+06</td>\n",
       "      <td>73.38219</td>\n",
       "    </tr>\n",
       "    <tr>\n",
       "      <th>2019-04-03 14:59:57</th>\n",
       "      <td>0.0000</td>\n",
       "      <td>8.489349e+06</td>\n",
       "      <td>109.72120</td>\n",
       "      <td>1.495828e+06</td>\n",
       "      <td>73.38310</td>\n",
       "    </tr>\n",
       "    <tr>\n",
       "      <th>2019-04-03 14:59:58</th>\n",
       "      <td>0.0000</td>\n",
       "      <td>8.489344e+06</td>\n",
       "      <td>109.72100</td>\n",
       "      <td>1.495433e+06</td>\n",
       "      <td>73.38401</td>\n",
       "    </tr>\n",
       "    <tr>\n",
       "      <th>2019-04-03 14:59:59</th>\n",
       "      <td>0.0000</td>\n",
       "      <td>8.489338e+06</td>\n",
       "      <td>109.72090</td>\n",
       "      <td>1.495039e+06</td>\n",
       "      <td>73.38493</td>\n",
       "    </tr>\n",
       "    <tr>\n",
       "      <th>2019-04-03 15:00:00</th>\n",
       "      <td>0.0000</td>\n",
       "      <td>8.489333e+06</td>\n",
       "      <td>109.72070</td>\n",
       "      <td>1.494645e+06</td>\n",
       "      <td>73.38583</td>\n",
       "    </tr>\n",
       "  </tbody>\n",
       "</table>\n",
       "<p>806410 rows × 5 columns</p>\n",
       "</div>"
      ],
      "text/plain": [
       "                        P-PDG         P-TPT      T-TPT     P-MON-CKP  \\\n",
       "timestamp                                                              \n",
       "2018-08-20 11:25:44  250.0977  1.351902e+02   59.97301  1.239075e+01   \n",
       "2018-08-20 11:25:45  250.0977  1.351902e+02   59.97301  1.239075e+01   \n",
       "2018-08-20 11:25:46  250.0977  1.351902e+02   59.97301  1.239075e+01   \n",
       "2018-08-20 11:25:47  250.0977  1.351902e+02   59.97301  1.239075e+01   \n",
       "2018-08-20 11:25:48  250.0977  1.351902e+02   59.97301  1.239075e+01   \n",
       "...                       ...           ...        ...           ...   \n",
       "2019-04-03 14:59:56    0.0000  8.489354e+06  109.72130  1.496222e+06   \n",
       "2019-04-03 14:59:57    0.0000  8.489349e+06  109.72120  1.495828e+06   \n",
       "2019-04-03 14:59:58    0.0000  8.489344e+06  109.72100  1.495433e+06   \n",
       "2019-04-03 14:59:59    0.0000  8.489338e+06  109.72090  1.495039e+06   \n",
       "2019-04-03 15:00:00    0.0000  8.489333e+06  109.72070  1.494645e+06   \n",
       "\n",
       "                     T-JUS-CKP  \n",
       "timestamp                       \n",
       "2018-08-20 11:25:44   54.89203  \n",
       "2018-08-20 11:25:45   54.89203  \n",
       "2018-08-20 11:25:46   54.89203  \n",
       "2018-08-20 11:25:47   54.89203  \n",
       "2018-08-20 11:25:48   54.89203  \n",
       "...                        ...  \n",
       "2019-04-03 14:59:56   73.38219  \n",
       "2019-04-03 14:59:57   73.38310  \n",
       "2019-04-03 14:59:58   73.38401  \n",
       "2019-04-03 14:59:59   73.38493  \n",
       "2019-04-03 15:00:00   73.38583  \n",
       "\n",
       "[806410 rows x 5 columns]"
      ]
     },
     "execution_count": 37,
     "metadata": {},
     "output_type": "execute_result"
    }
   ],
   "source": [
    "X"
   ]
  },
  {
   "cell_type": "code",
   "execution_count": 38,
   "metadata": {},
   "outputs": [],
   "source": [
    "X_train, X_test, y_train, y_test = train_test_split(X, y, test_size=0.3, stratify=y, random_state=42)"
   ]
  },
  {
   "cell_type": "code",
   "execution_count": 39,
   "metadata": {},
   "outputs": [],
   "source": [
    "scaler = StandardScaler()\n",
    "X_train = scaler.fit_transform(X_train)\n",
    "\n",
    "X_test = scaler.transform(X_test)"
   ]
  },
  {
   "cell_type": "code",
   "execution_count": 40,
   "metadata": {},
   "outputs": [],
   "source": [
    "modelo = KNeighborsClassifier(n_neighbors=5)"
   ]
  },
  {
   "cell_type": "code",
   "execution_count": 41,
   "metadata": {},
   "outputs": [
    {
     "data": {
      "text/html": [
       "<style>#sk-container-id-1 {color: black;}#sk-container-id-1 pre{padding: 0;}#sk-container-id-1 div.sk-toggleable {background-color: white;}#sk-container-id-1 label.sk-toggleable__label {cursor: pointer;display: block;width: 100%;margin-bottom: 0;padding: 0.3em;box-sizing: border-box;text-align: center;}#sk-container-id-1 label.sk-toggleable__label-arrow:before {content: \"▸\";float: left;margin-right: 0.25em;color: #696969;}#sk-container-id-1 label.sk-toggleable__label-arrow:hover:before {color: black;}#sk-container-id-1 div.sk-estimator:hover label.sk-toggleable__label-arrow:before {color: black;}#sk-container-id-1 div.sk-toggleable__content {max-height: 0;max-width: 0;overflow: hidden;text-align: left;background-color: #f0f8ff;}#sk-container-id-1 div.sk-toggleable__content pre {margin: 0.2em;color: black;border-radius: 0.25em;background-color: #f0f8ff;}#sk-container-id-1 input.sk-toggleable__control:checked~div.sk-toggleable__content {max-height: 200px;max-width: 100%;overflow: auto;}#sk-container-id-1 input.sk-toggleable__control:checked~label.sk-toggleable__label-arrow:before {content: \"▾\";}#sk-container-id-1 div.sk-estimator input.sk-toggleable__control:checked~label.sk-toggleable__label {background-color: #d4ebff;}#sk-container-id-1 div.sk-label input.sk-toggleable__control:checked~label.sk-toggleable__label {background-color: #d4ebff;}#sk-container-id-1 input.sk-hidden--visually {border: 0;clip: rect(1px 1px 1px 1px);clip: rect(1px, 1px, 1px, 1px);height: 1px;margin: -1px;overflow: hidden;padding: 0;position: absolute;width: 1px;}#sk-container-id-1 div.sk-estimator {font-family: monospace;background-color: #f0f8ff;border: 1px dotted black;border-radius: 0.25em;box-sizing: border-box;margin-bottom: 0.5em;}#sk-container-id-1 div.sk-estimator:hover {background-color: #d4ebff;}#sk-container-id-1 div.sk-parallel-item::after {content: \"\";width: 100%;border-bottom: 1px solid gray;flex-grow: 1;}#sk-container-id-1 div.sk-label:hover label.sk-toggleable__label {background-color: #d4ebff;}#sk-container-id-1 div.sk-serial::before {content: \"\";position: absolute;border-left: 1px solid gray;box-sizing: border-box;top: 0;bottom: 0;left: 50%;z-index: 0;}#sk-container-id-1 div.sk-serial {display: flex;flex-direction: column;align-items: center;background-color: white;padding-right: 0.2em;padding-left: 0.2em;position: relative;}#sk-container-id-1 div.sk-item {position: relative;z-index: 1;}#sk-container-id-1 div.sk-parallel {display: flex;align-items: stretch;justify-content: center;background-color: white;position: relative;}#sk-container-id-1 div.sk-item::before, #sk-container-id-1 div.sk-parallel-item::before {content: \"\";position: absolute;border-left: 1px solid gray;box-sizing: border-box;top: 0;bottom: 0;left: 50%;z-index: -1;}#sk-container-id-1 div.sk-parallel-item {display: flex;flex-direction: column;z-index: 1;position: relative;background-color: white;}#sk-container-id-1 div.sk-parallel-item:first-child::after {align-self: flex-end;width: 50%;}#sk-container-id-1 div.sk-parallel-item:last-child::after {align-self: flex-start;width: 50%;}#sk-container-id-1 div.sk-parallel-item:only-child::after {width: 0;}#sk-container-id-1 div.sk-dashed-wrapped {border: 1px dashed gray;margin: 0 0.4em 0.5em 0.4em;box-sizing: border-box;padding-bottom: 0.4em;background-color: white;}#sk-container-id-1 div.sk-label label {font-family: monospace;font-weight: bold;display: inline-block;line-height: 1.2em;}#sk-container-id-1 div.sk-label-container {text-align: center;}#sk-container-id-1 div.sk-container {/* jupyter's `normalize.less` sets `[hidden] { display: none; }` but bootstrap.min.css set `[hidden] { display: none !important; }` so we also need the `!important` here to be able to override the default hidden behavior on the sphinx rendered scikit-learn.org. See: https://github.com/scikit-learn/scikit-learn/issues/21755 */display: inline-block !important;position: relative;}#sk-container-id-1 div.sk-text-repr-fallback {display: none;}</style><div id=\"sk-container-id-1\" class=\"sk-top-container\"><div class=\"sk-text-repr-fallback\"><pre>KNeighborsClassifier()</pre><b>In a Jupyter environment, please rerun this cell to show the HTML representation or trust the notebook. <br />On GitHub, the HTML representation is unable to render, please try loading this page with nbviewer.org.</b></div><div class=\"sk-container\" hidden><div class=\"sk-item\"><div class=\"sk-estimator sk-toggleable\"><input class=\"sk-toggleable__control sk-hidden--visually\" id=\"sk-estimator-id-1\" type=\"checkbox\" checked><label for=\"sk-estimator-id-1\" class=\"sk-toggleable__label sk-toggleable__label-arrow\">KNeighborsClassifier</label><div class=\"sk-toggleable__content\"><pre>KNeighborsClassifier()</pre></div></div></div></div></div>"
      ],
      "text/plain": [
       "KNeighborsClassifier()"
      ]
     },
     "execution_count": 41,
     "metadata": {},
     "output_type": "execute_result"
    }
   ],
   "source": [
    "modelo.fit(X_train, y_train)"
   ]
  },
  {
   "cell_type": "code",
   "execution_count": 42,
   "metadata": {},
   "outputs": [],
   "source": [
    "y_pred = modelo.predict(X_test)"
   ]
  },
  {
   "cell_type": "code",
   "execution_count": 43,
   "metadata": {},
   "outputs": [
    {
     "data": {
      "text/plain": [
       "0.9957424469769307"
      ]
     },
     "execution_count": 43,
     "metadata": {},
     "output_type": "execute_result"
    }
   ],
   "source": [
    "accuracy_score(y_test, y_pred)"
   ]
  },
  {
   "cell_type": "code",
   "execution_count": 44,
   "metadata": {},
   "outputs": [
    {
     "name": "stdout",
     "output_type": "stream",
     "text": [
      "Classe 107.0:\n",
      "Precision: 0.993\n",
      "Recall: 0.994\n",
      "F1-score: 0.994\n",
      "\n",
      "Classe 0.0:\n",
      "Precision: 0.979\n",
      "Recall: 0.983\n",
      "F1-score: 0.981\n",
      "\n",
      "Classe 7.0:\n",
      "Precision: 0.997\n",
      "Recall: 0.997\n",
      "F1-score: 0.997\n",
      "\n"
     ]
    }
   ],
   "source": [
    "precision = precision_score(y_test,  y_pred, average=None)\n",
    "recall = recall_score(y_test,  y_pred, average=None)\n",
    "f1 = f1_score(y_test,  y_pred, average=None)\n",
    "\n",
    "for i in range(len(precision)):\n",
    "    print(f'Classe {porcentagem_classes.index.values[i]}:')\n",
    "    print(f'Precision: {precision[i]:.3f}')\n",
    "    print(f'Recall: {recall[i]:.3f}')\n",
    "    print(f'F1-score: {f1[i]:.3f}\\n')"
   ]
  },
  {
   "cell_type": "code",
   "execution_count": 45,
   "metadata": {},
   "outputs": [
    {
     "data": {
      "text/plain": [
       "array([[ 57667,      0,    346],\n",
       "       [     0,   7629,    132],\n",
       "       [   392,    160, 175597]], dtype=int64)"
      ]
     },
     "execution_count": 45,
     "metadata": {},
     "output_type": "execute_result"
    }
   ],
   "source": [
    "confusion_matrix(y_test.values, y_pred)"
   ]
  },
  {
   "cell_type": "markdown",
   "metadata": {},
   "source": [
    "# Teste com os dados desenhados"
   ]
  },
  {
   "cell_type": "code",
   "execution_count": 46,
   "metadata": {},
   "outputs": [],
   "source": [
    "# Separar as features (X) e os rótulos (y)\n",
    "X_draw = df_aux_draw.drop('class', axis=1)\n",
    "y_draw = df_aux_draw['class']"
   ]
  },
  {
   "cell_type": "code",
   "execution_count": 47,
   "metadata": {},
   "outputs": [],
   "source": [
    "X_draw = scaler.transform(X_draw)"
   ]
  },
  {
   "cell_type": "code",
   "execution_count": 48,
   "metadata": {},
   "outputs": [],
   "source": [
    "y_draw_pred = modelo.predict(X_draw)"
   ]
  },
  {
   "cell_type": "code",
   "execution_count": 53,
   "metadata": {},
   "outputs": [
    {
     "data": {
      "text/plain": [
       "1.0"
      ]
     },
     "execution_count": 53,
     "metadata": {},
     "output_type": "execute_result"
    }
   ],
   "source": [
    "accuracy_score(y_draw.values, y_draw_pred)"
   ]
  },
  {
   "cell_type": "code",
   "execution_count": 54,
   "metadata": {},
   "outputs": [
    {
     "name": "stdout",
     "output_type": "stream",
     "text": [
      "Classe 107.0:\n",
      "Precision: 1.000\n",
      "Recall: 1.000\n",
      "F1-score: 1.000\n",
      "\n",
      "Classe 0.0:\n",
      "Precision: 1.000\n",
      "Recall: 1.000\n",
      "F1-score: 1.000\n",
      "\n"
     ]
    }
   ],
   "source": [
    "precision = precision_score(y_draw.values,  y_draw_pred, average=None)\n",
    "recall = recall_score(y_draw.values,  y_draw_pred, average=None)\n",
    "f1 = f1_score(y_draw.values,  y_draw_pred, average=None)\n",
    "\n",
    "for i in range(len(precision)):\n",
    "    print(f'Classe {porcentagem_classes.index.values[i]}:')\n",
    "    print(f'Precision: {precision[i]:.3f}')\n",
    "    print(f'Recall: {recall[i]:.3f}')\n",
    "    print(f'F1-score: {f1[i]:.3f}\\n')"
   ]
  },
  {
   "cell_type": "markdown",
   "metadata": {},
   "source": [
    "# MLP"
   ]
  },
  {
   "cell_type": "code",
   "execution_count": 27,
   "metadata": {},
   "outputs": [],
   "source": [
    "modelo = MLPClassifier(hidden_layer_sizes=(100, 50), max_iter=500, random_state=42)"
   ]
  },
  {
   "cell_type": "code",
   "execution_count": 28,
   "metadata": {},
   "outputs": [
    {
     "data": {
      "text/html": [
       "<style>#sk-container-id-2 {color: black;}#sk-container-id-2 pre{padding: 0;}#sk-container-id-2 div.sk-toggleable {background-color: white;}#sk-container-id-2 label.sk-toggleable__label {cursor: pointer;display: block;width: 100%;margin-bottom: 0;padding: 0.3em;box-sizing: border-box;text-align: center;}#sk-container-id-2 label.sk-toggleable__label-arrow:before {content: \"▸\";float: left;margin-right: 0.25em;color: #696969;}#sk-container-id-2 label.sk-toggleable__label-arrow:hover:before {color: black;}#sk-container-id-2 div.sk-estimator:hover label.sk-toggleable__label-arrow:before {color: black;}#sk-container-id-2 div.sk-toggleable__content {max-height: 0;max-width: 0;overflow: hidden;text-align: left;background-color: #f0f8ff;}#sk-container-id-2 div.sk-toggleable__content pre {margin: 0.2em;color: black;border-radius: 0.25em;background-color: #f0f8ff;}#sk-container-id-2 input.sk-toggleable__control:checked~div.sk-toggleable__content {max-height: 200px;max-width: 100%;overflow: auto;}#sk-container-id-2 input.sk-toggleable__control:checked~label.sk-toggleable__label-arrow:before {content: \"▾\";}#sk-container-id-2 div.sk-estimator input.sk-toggleable__control:checked~label.sk-toggleable__label {background-color: #d4ebff;}#sk-container-id-2 div.sk-label input.sk-toggleable__control:checked~label.sk-toggleable__label {background-color: #d4ebff;}#sk-container-id-2 input.sk-hidden--visually {border: 0;clip: rect(1px 1px 1px 1px);clip: rect(1px, 1px, 1px, 1px);height: 1px;margin: -1px;overflow: hidden;padding: 0;position: absolute;width: 1px;}#sk-container-id-2 div.sk-estimator {font-family: monospace;background-color: #f0f8ff;border: 1px dotted black;border-radius: 0.25em;box-sizing: border-box;margin-bottom: 0.5em;}#sk-container-id-2 div.sk-estimator:hover {background-color: #d4ebff;}#sk-container-id-2 div.sk-parallel-item::after {content: \"\";width: 100%;border-bottom: 1px solid gray;flex-grow: 1;}#sk-container-id-2 div.sk-label:hover label.sk-toggleable__label {background-color: #d4ebff;}#sk-container-id-2 div.sk-serial::before {content: \"\";position: absolute;border-left: 1px solid gray;box-sizing: border-box;top: 0;bottom: 0;left: 50%;z-index: 0;}#sk-container-id-2 div.sk-serial {display: flex;flex-direction: column;align-items: center;background-color: white;padding-right: 0.2em;padding-left: 0.2em;position: relative;}#sk-container-id-2 div.sk-item {position: relative;z-index: 1;}#sk-container-id-2 div.sk-parallel {display: flex;align-items: stretch;justify-content: center;background-color: white;position: relative;}#sk-container-id-2 div.sk-item::before, #sk-container-id-2 div.sk-parallel-item::before {content: \"\";position: absolute;border-left: 1px solid gray;box-sizing: border-box;top: 0;bottom: 0;left: 50%;z-index: -1;}#sk-container-id-2 div.sk-parallel-item {display: flex;flex-direction: column;z-index: 1;position: relative;background-color: white;}#sk-container-id-2 div.sk-parallel-item:first-child::after {align-self: flex-end;width: 50%;}#sk-container-id-2 div.sk-parallel-item:last-child::after {align-self: flex-start;width: 50%;}#sk-container-id-2 div.sk-parallel-item:only-child::after {width: 0;}#sk-container-id-2 div.sk-dashed-wrapped {border: 1px dashed gray;margin: 0 0.4em 0.5em 0.4em;box-sizing: border-box;padding-bottom: 0.4em;background-color: white;}#sk-container-id-2 div.sk-label label {font-family: monospace;font-weight: bold;display: inline-block;line-height: 1.2em;}#sk-container-id-2 div.sk-label-container {text-align: center;}#sk-container-id-2 div.sk-container {/* jupyter's `normalize.less` sets `[hidden] { display: none; }` but bootstrap.min.css set `[hidden] { display: none !important; }` so we also need the `!important` here to be able to override the default hidden behavior on the sphinx rendered scikit-learn.org. See: https://github.com/scikit-learn/scikit-learn/issues/21755 */display: inline-block !important;position: relative;}#sk-container-id-2 div.sk-text-repr-fallback {display: none;}</style><div id=\"sk-container-id-2\" class=\"sk-top-container\"><div class=\"sk-text-repr-fallback\"><pre>MLPClassifier(hidden_layer_sizes=(100, 50), max_iter=500, random_state=42)</pre><b>In a Jupyter environment, please rerun this cell to show the HTML representation or trust the notebook. <br />On GitHub, the HTML representation is unable to render, please try loading this page with nbviewer.org.</b></div><div class=\"sk-container\" hidden><div class=\"sk-item\"><div class=\"sk-estimator sk-toggleable\"><input class=\"sk-toggleable__control sk-hidden--visually\" id=\"sk-estimator-id-2\" type=\"checkbox\" checked><label for=\"sk-estimator-id-2\" class=\"sk-toggleable__label sk-toggleable__label-arrow\">MLPClassifier</label><div class=\"sk-toggleable__content\"><pre>MLPClassifier(hidden_layer_sizes=(100, 50), max_iter=500, random_state=42)</pre></div></div></div></div></div>"
      ],
      "text/plain": [
       "MLPClassifier(hidden_layer_sizes=(100, 50), max_iter=500, random_state=42)"
      ]
     },
     "execution_count": 28,
     "metadata": {},
     "output_type": "execute_result"
    }
   ],
   "source": [
    "modelo.fit(X_train, y_train)"
   ]
  },
  {
   "cell_type": "code",
   "execution_count": 29,
   "metadata": {},
   "outputs": [],
   "source": [
    "y_pred = modelo.predict(X_test)"
   ]
  },
  {
   "cell_type": "code",
   "execution_count": 30,
   "metadata": {},
   "outputs": [
    {
     "data": {
      "text/plain": [
       "0.9812504068922115"
      ]
     },
     "execution_count": 30,
     "metadata": {},
     "output_type": "execute_result"
    }
   ],
   "source": [
    "accuracy_score(y_test, y_pred)"
   ]
  }
 ],
 "metadata": {
  "kernelspec": {
   "display_name": "venv3WPetrobras",
   "language": "python",
   "name": "venv3wpetrobras"
  },
  "language_info": {
   "codemirror_mode": {
    "name": "ipython",
    "version": 3
   },
   "file_extension": ".py",
   "mimetype": "text/x-python",
   "name": "python",
   "nbconvert_exporter": "python",
   "pygments_lexer": "ipython3",
   "version": "3.8.9"
  }
 },
 "nbformat": 4,
 "nbformat_minor": 2
}
