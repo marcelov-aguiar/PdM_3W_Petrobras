{
 "cells": [
  {
   "cell_type": "code",
   "execution_count": 1,
   "metadata": {},
   "outputs": [],
   "source": [
    "import pandas as pd\n",
    "import os\n",
    "import sys\n",
    "import matplotlib.pyplot as plt\n",
    "import seaborn as sns\n",
    "import numpy as np\n",
    "import dill\n",
    "from typing import List\n",
    "import scipy.stats as sts\n",
    "import pickle\n",
    "from sklearn.pipeline import Pipeline\n",
    "from sklearn.decomposition import PCA\n",
    "from sklearn.preprocessing import RobustScaler\n",
    "from sklearn.metrics import precision_score, recall_score, f1_score, accuracy_score\n",
    "from sklearn.model_selection import train_test_split\n",
    "from sklearn.neighbors import KNeighborsClassifier\n",
    "from sklearn.preprocessing import StandardScaler\n",
    "from sklearn.neural_network import MLPClassifier\n",
    "import tensorflow as tf\n",
    "from tensorflow.keras.models import Sequential\n",
    "from tensorflow.keras.layers import Dense\n",
    "from tensorflow.keras.callbacks import ModelCheckpoint\n",
    "from tensorflow.keras.models import load_model\n",
    "\n",
    "import util\n",
    "from pathlib import Path\n",
    "from sk.replace_column_dataframe import ReplaceColumnDataFrame\n",
    "from sk.norm_standard_scaler import NormStandardScaler\n",
    "import constants.columns_dataframe as const\n",
    "from class_manipulates_path import ManipulatePath\n",
    "from class_preprocessing_refactor import Preprocessing\n",
    "from class_format_data import FormatData\n",
    "util.init()\n",
    "\n",
    "current_path = sys.path[0]"
   ]
  },
  {
   "cell_type": "code",
   "execution_count": 2,
   "metadata": {},
   "outputs": [
    {
     "name": "stdout",
     "output_type": "stream",
     "text": [
      "GPU disponível: []\n",
      "TensorFlow está usando a GPU: False\n"
     ]
    }
   ],
   "source": [
    "import tensorflow as tf\n",
    "\n",
    "# Verifique se a GPU está disponível\n",
    "print(\"GPU disponível:\", tf.config.list_physical_devices('GPU'))\n",
    "\n",
    "# Verifique se o TensorFlow está usando a GPU\n",
    "print(\"TensorFlow está usando a GPU:\", tf.test.is_built_with_cuda())"
   ]
  },
  {
   "cell_type": "code",
   "execution_count": 3,
   "metadata": {},
   "outputs": [
    {
     "name": "stdout",
     "output_type": "stream",
     "text": [
      "Configurações do TensorFlow relacionadas à GPU:\n",
      "[]\n",
      "TensorFlow está usando a GPU: False\n",
      "Número de GPUs disponíveis: 0\n"
     ]
    }
   ],
   "source": [
    "print(\"Configurações do TensorFlow relacionadas à GPU:\")\n",
    "print(tf.config.list_physical_devices('GPU'))\n",
    "print(\"TensorFlow está usando a GPU:\", tf.test.is_built_with_cuda())\n",
    "print(\"Número de GPUs disponíveis:\", len(tf.config.experimental.list_physical_devices('GPU')))"
   ]
  },
  {
   "cell_type": "code",
   "execution_count": 4,
   "metadata": {},
   "outputs": [],
   "source": [
    "def plot_variable(df, column_name, intervalos=None):\n",
    "    \"\"\"\n",
    "    Plota um gráfico de dispersão para uma variável de um DataFrame.\n",
    "\n",
    "    Parâmetros:\n",
    "        - df: DataFrame pandas contendo os dados.\n",
    "        - column_name: Nome da coluna que você deseja plotar.\n",
    "        - intervalos: Lista de intervalos para plotar linhas verticais.\n",
    "    \"\"\"\n",
    "    plt.figure(figsize=(20, 10))\n",
    "    plt.scatter(df.index.values, df[column_name].values, color='darkcyan', alpha=0.5)\n",
    "    plt.xlabel('Índice')\n",
    "    plt.ylabel(column_name)\n",
    "    plt.title(f'Gráfico de dispersão para a variável \"{column_name}\"')\n",
    "\n",
    "\n",
    "    # Plotar linhas verticais para cada intervalo\n",
    "    if intervalos:\n",
    "        for intervalo in intervalos:\n",
    "            plt.axvline(x=intervalo, linestyle='--', color='red')\n",
    "\n",
    "    plt.show()"
   ]
  },
  {
   "cell_type": "code",
   "execution_count": 5,
   "metadata": {},
   "outputs": [],
   "source": [
    "def mapping_labels(df: pd.DataFrame):\n",
    "    df_data = df.copy()\n",
    "    unique_labels = df_data['class'].unique()\n",
    "    unique_labels.sort()\n",
    "\n",
    "    # Mapear os rótulos para inteiros em ordem crescente\n",
    "    label_mapping = {label: i for i, label in enumerate(unique_labels)}\n",
    "\n",
    "    # Aplicar o mapeamento aos rótulos verdadeiros\n",
    "    labels_int = df_data['class'].map(label_mapping)\n",
    "\n",
    "    # Criar DataFrame com rótulos inteiros\n",
    "    df_mapped = pd.DataFrame({'class': df_data['class'], 'mapped_class': labels_int})\n",
    "    df_data['class'] = df_mapped[\"mapped_class\"]\n",
    "    return df_data, label_mapping\n",
    "\n",
    "def inverse_mapping_labels(df: pd.DataFrame, label_mapping: dict):\n",
    "    df_data = df.copy()\n",
    "    # Inverter o mapeamento original\n",
    "    inverse_label_mapping = {v: k for k, v in label_mapping.items()}\n",
    "\n",
    "    # Aplicar o mapeamento inverso aos rótulos\n",
    "    labels_original = df_data['class'].map(inverse_label_mapping)\n",
    "\n",
    "    # Atualizar o DataFrame com os rótulos originais\n",
    "    df_data['class'] = labels_original\n",
    "    return df_data"
   ]
  },
  {
   "cell_type": "code",
   "execution_count": 6,
   "metadata": {},
   "outputs": [],
   "source": [
    "manipulate_path = ManipulatePath()\n",
    "\n",
    "preprocessing = Preprocessing()\n",
    "\n",
    "format_data = FormatData()\n",
    "\n",
    "path_raw_data = manipulate_path.get_path_raw_data()"
   ]
  },
  {
   "cell_type": "markdown",
   "metadata": {},
   "source": [
    "# Carregando Scaler"
   ]
  },
  {
   "cell_type": "code",
   "execution_count": 7,
   "metadata": {},
   "outputs": [],
   "source": [
    "with open('scaler.pkl', 'rb') as file:\n",
    "    loaded_scaler: StandardScaler = pickle.load(file)"
   ]
  },
  {
   "cell_type": "markdown",
   "metadata": {},
   "source": [
    "# Avaliação com os dados desenhados"
   ]
  },
  {
   "cell_type": "code",
   "execution_count": 8,
   "metadata": {},
   "outputs": [],
   "source": [
    "df_preprocessing = pd.read_parquet(manipulate_path.get_path_preprocessing_draw_data())"
   ]
  },
  {
   "cell_type": "code",
   "execution_count": 9,
   "metadata": {},
   "outputs": [
    {
     "data": {
      "text/plain": [
       "class\n",
       "7    76.090745\n",
       "1    19.606371\n",
       "0     4.302884\n",
       "Name: count, dtype: float64"
      ]
     },
     "execution_count": 9,
     "metadata": {},
     "output_type": "execute_result"
    }
   ],
   "source": [
    "contagem_classes = df_preprocessing['class'].value_counts()\n",
    "\n",
    "# Calcular a porcentagem de cada classe\n",
    "porcentagem_classes_real = contagem_classes / len(df_preprocessing) * 100\n",
    "porcentagem_classes_real"
   ]
  },
  {
   "cell_type": "code",
   "execution_count": 10,
   "metadata": {},
   "outputs": [],
   "source": [
    "X = df_preprocessing.drop('class', axis=1)\n",
    "y = df_preprocessing['class']\n",
    "\n",
    "X_norm = loaded_scaler.transform(X)"
   ]
  },
  {
   "cell_type": "code",
   "execution_count": 11,
   "metadata": {},
   "outputs": [
    {
     "data": {
      "text/plain": [
       "1995127"
      ]
     },
     "execution_count": 11,
     "metadata": {},
     "output_type": "execute_result"
    }
   ],
   "source": [
    "len(X)"
   ]
  },
  {
   "cell_type": "code",
   "execution_count": 12,
   "metadata": {},
   "outputs": [],
   "source": [
    "model_1_load = load_model(os.path.join(Path(os.getcwd()), \"peso_rede_1.h5\"))"
   ]
  },
  {
   "cell_type": "code",
   "execution_count": 13,
   "metadata": {},
   "outputs": [],
   "source": [
    "model_2_load = load_model(os.path.join(Path(os.getcwd()), \"peso_rede_2.h5\"))"
   ]
  },
  {
   "cell_type": "code",
   "execution_count": 14,
   "metadata": {},
   "outputs": [],
   "source": [
    "y_test_nn_1 = ReplaceColumnDataFrame(const.TARGET, const.MAPPING_TWO_CLASSES).transform(pd.DataFrame(y))[\"class\"]"
   ]
  },
  {
   "cell_type": "code",
   "execution_count": 15,
   "metadata": {},
   "outputs": [
    {
     "data": {
      "text/plain": [
       "array([0, 1], dtype=int64)"
      ]
     },
     "execution_count": 15,
     "metadata": {},
     "output_type": "execute_result"
    }
   ],
   "source": [
    "np.unique(y_test_nn_1)"
   ]
  },
  {
   "cell_type": "code",
   "execution_count": 16,
   "metadata": {},
   "outputs": [
    {
     "name": "stdout",
     "output_type": "stream",
     "text": [
      "62348/62348 [==============================] - 46s 730us/step\n"
     ]
    },
    {
     "data": {
      "text/plain": [
       "0.2924024385415064"
      ]
     },
     "execution_count": 16,
     "metadata": {},
     "output_type": "execute_result"
    }
   ],
   "source": [
    "y_pred = model_1_load.predict(X_norm)\n",
    "\n",
    "y_pred = np.squeeze(y_pred)\n",
    "y_pred = np.where(y_pred > 0.5, 1, 0)\n",
    "\n",
    "accuracy_score(y_test_nn_1, y_pred)"
   ]
  },
  {
   "cell_type": "code",
   "execution_count": 17,
   "metadata": {},
   "outputs": [
    {
     "data": {
      "text/plain": [
       "0.24993209454582074"
      ]
     },
     "execution_count": 17,
     "metadata": {},
     "output_type": "execute_result"
    }
   ],
   "source": [
    "f1_score(y_test_nn_1, y_pred, average=\"macro\")"
   ]
  },
  {
   "cell_type": "code",
   "execution_count": 18,
   "metadata": {},
   "outputs": [],
   "source": [
    "df_test_all = X_norm.copy()\n",
    "df_test_all[\"class\"] = y_pred\n",
    "df_test_all_one = df_test_all[df_test_all[\"class\"] == 1]"
   ]
  },
  {
   "cell_type": "code",
   "execution_count": 19,
   "metadata": {},
   "outputs": [],
   "source": [
    "X_test_all = df_test_all_one.drop('class', axis=1)"
   ]
  },
  {
   "cell_type": "code",
   "execution_count": 20,
   "metadata": {},
   "outputs": [
    {
     "name": "stdout",
     "output_type": "stream",
     "text": [
      "17519/17519 [==============================] - 12s 683us/step\n"
     ]
    }
   ],
   "source": [
    "y_pred_all = model_2_load.predict(X_test_all)\n",
    "y_pred_all = np.argmax(y_pred_all, axis=1)"
   ]
  },
  {
   "cell_type": "code",
   "execution_count": 21,
   "metadata": {},
   "outputs": [
    {
     "data": {
      "text/plain": [
       "array([1, 4], dtype=int64)"
      ]
     },
     "execution_count": 21,
     "metadata": {},
     "output_type": "execute_result"
    }
   ],
   "source": [
    "np.unique(y_pred_all)"
   ]
  },
  {
   "cell_type": "code",
   "execution_count": 22,
   "metadata": {},
   "outputs": [],
   "source": [
    "df_test_all_one.loc[:, \"class\"] = y_pred_all"
   ]
  },
  {
   "cell_type": "code",
   "execution_count": 23,
   "metadata": {},
   "outputs": [
    {
     "data": {
      "text/plain": [
       "array([4, 1], dtype=int64)"
      ]
     },
     "execution_count": 23,
     "metadata": {},
     "output_type": "execute_result"
    }
   ],
   "source": [
    "df_test_all_one[\"class\"].unique()"
   ]
  },
  {
   "cell_type": "code",
   "execution_count": 24,
   "metadata": {},
   "outputs": [
    {
     "name": "stderr",
     "output_type": "stream",
     "text": [
      "C:\\Users\\marce\\AppData\\Local\\Temp\\ipykernel_19528\\977103492.py:1: SettingWithCopyWarning: \n",
      "A value is trying to be set on a copy of a slice from a DataFrame.\n",
      "Try using .loc[row_indexer,col_indexer] = value instead\n",
      "\n",
      "See the caveats in the documentation: https://pandas.pydata.org/pandas-docs/stable/user_guide/indexing.html#returning-a-view-versus-a-copy\n",
      "  df_test_all_one[\"class\"] = df_test_all_one[\"class\"].replace(4, 7)\n"
     ]
    }
   ],
   "source": [
    "df_test_all_one[\"class\"] = df_test_all_one[\"class\"].replace(4, 7)"
   ]
  },
  {
   "cell_type": "code",
   "execution_count": 28,
   "metadata": {},
   "outputs": [],
   "source": [
    "df_test_all.loc[df_test_all[\"class\"] == 1, \"class\"] = df_test_all_one[\"class\"].values"
   ]
  },
  {
   "cell_type": "code",
   "execution_count": 29,
   "metadata": {},
   "outputs": [
    {
     "data": {
      "text/html": [
       "<div>\n",
       "<style scoped>\n",
       "    .dataframe tbody tr th:only-of-type {\n",
       "        vertical-align: middle;\n",
       "    }\n",
       "\n",
       "    .dataframe tbody tr th {\n",
       "        vertical-align: top;\n",
       "    }\n",
       "\n",
       "    .dataframe thead th {\n",
       "        text-align: right;\n",
       "    }\n",
       "</style>\n",
       "<table border=\"1\" class=\"dataframe\">\n",
       "  <thead>\n",
       "    <tr style=\"text-align: right;\">\n",
       "      <th></th>\n",
       "      <th>P-TPT</th>\n",
       "      <th>T-TPT</th>\n",
       "      <th>P-MON-CKP</th>\n",
       "      <th>T-JUS-CKP</th>\n",
       "      <th>class</th>\n",
       "    </tr>\n",
       "    <tr>\n",
       "      <th>timestamp</th>\n",
       "      <th></th>\n",
       "      <th></th>\n",
       "      <th></th>\n",
       "      <th></th>\n",
       "      <th></th>\n",
       "    </tr>\n",
       "  </thead>\n",
       "  <tbody>\n",
       "    <tr>\n",
       "      <th>2018-09-05 20:44:36</th>\n",
       "      <td>-2.725227</td>\n",
       "      <td>0.475421</td>\n",
       "      <td>-1.651004</td>\n",
       "      <td>0.392071</td>\n",
       "      <td>7</td>\n",
       "    </tr>\n",
       "    <tr>\n",
       "      <th>2018-09-05 20:49:17</th>\n",
       "      <td>-2.725227</td>\n",
       "      <td>0.475421</td>\n",
       "      <td>-1.651004</td>\n",
       "      <td>0.392071</td>\n",
       "      <td>7</td>\n",
       "    </tr>\n",
       "    <tr>\n",
       "      <th>2018-09-05 20:49:18</th>\n",
       "      <td>-2.725227</td>\n",
       "      <td>0.475421</td>\n",
       "      <td>-1.651004</td>\n",
       "      <td>0.392071</td>\n",
       "      <td>7</td>\n",
       "    </tr>\n",
       "    <tr>\n",
       "      <th>2018-09-05 20:49:19</th>\n",
       "      <td>-2.725227</td>\n",
       "      <td>0.475421</td>\n",
       "      <td>-1.651004</td>\n",
       "      <td>0.392071</td>\n",
       "      <td>7</td>\n",
       "    </tr>\n",
       "    <tr>\n",
       "      <th>2018-09-05 20:49:20</th>\n",
       "      <td>-2.725227</td>\n",
       "      <td>0.475421</td>\n",
       "      <td>-1.651004</td>\n",
       "      <td>0.392071</td>\n",
       "      <td>7</td>\n",
       "    </tr>\n",
       "    <tr>\n",
       "      <th>...</th>\n",
       "      <td>...</td>\n",
       "      <td>...</td>\n",
       "      <td>...</td>\n",
       "      <td>...</td>\n",
       "      <td>...</td>\n",
       "    </tr>\n",
       "    <tr>\n",
       "      <th>2018-08-21 11:11:33</th>\n",
       "      <td>-2.725220</td>\n",
       "      <td>0.640268</td>\n",
       "      <td>-1.650997</td>\n",
       "      <td>0.294921</td>\n",
       "      <td>7</td>\n",
       "    </tr>\n",
       "    <tr>\n",
       "      <th>2018-08-21 11:11:35</th>\n",
       "      <td>-2.725220</td>\n",
       "      <td>0.640268</td>\n",
       "      <td>-1.650997</td>\n",
       "      <td>0.294921</td>\n",
       "      <td>7</td>\n",
       "    </tr>\n",
       "    <tr>\n",
       "      <th>2018-08-21 11:11:36</th>\n",
       "      <td>-2.725220</td>\n",
       "      <td>0.640268</td>\n",
       "      <td>-1.650997</td>\n",
       "      <td>0.294921</td>\n",
       "      <td>7</td>\n",
       "    </tr>\n",
       "    <tr>\n",
       "      <th>2018-08-21 11:11:38</th>\n",
       "      <td>-2.725220</td>\n",
       "      <td>0.640268</td>\n",
       "      <td>-1.650997</td>\n",
       "      <td>0.294921</td>\n",
       "      <td>7</td>\n",
       "    </tr>\n",
       "    <tr>\n",
       "      <th>2018-08-21 11:11:40</th>\n",
       "      <td>-2.725220</td>\n",
       "      <td>0.640268</td>\n",
       "      <td>-1.650997</td>\n",
       "      <td>0.294921</td>\n",
       "      <td>7</td>\n",
       "    </tr>\n",
       "  </tbody>\n",
       "</table>\n",
       "<p>1995127 rows × 5 columns</p>\n",
       "</div>"
      ],
      "text/plain": [
       "                        P-TPT     T-TPT  P-MON-CKP  T-JUS-CKP  class\n",
       "timestamp                                                           \n",
       "2018-09-05 20:44:36 -2.725227  0.475421  -1.651004   0.392071      7\n",
       "2018-09-05 20:49:17 -2.725227  0.475421  -1.651004   0.392071      7\n",
       "2018-09-05 20:49:18 -2.725227  0.475421  -1.651004   0.392071      7\n",
       "2018-09-05 20:49:19 -2.725227  0.475421  -1.651004   0.392071      7\n",
       "2018-09-05 20:49:20 -2.725227  0.475421  -1.651004   0.392071      7\n",
       "...                       ...       ...        ...        ...    ...\n",
       "2018-08-21 11:11:33 -2.725220  0.640268  -1.650997   0.294921      7\n",
       "2018-08-21 11:11:35 -2.725220  0.640268  -1.650997   0.294921      7\n",
       "2018-08-21 11:11:36 -2.725220  0.640268  -1.650997   0.294921      7\n",
       "2018-08-21 11:11:38 -2.725220  0.640268  -1.650997   0.294921      7\n",
       "2018-08-21 11:11:40 -2.725220  0.640268  -1.650997   0.294921      7\n",
       "\n",
       "[1995127 rows x 5 columns]"
      ]
     },
     "execution_count": 29,
     "metadata": {},
     "output_type": "execute_result"
    }
   ],
   "source": [
    "df_test_all"
   ]
  },
  {
   "cell_type": "code",
   "execution_count": 30,
   "metadata": {},
   "outputs": [
    {
     "data": {
      "text/plain": [
       "array([7, 0, 1], dtype=int64)"
      ]
     },
     "execution_count": 30,
     "metadata": {},
     "output_type": "execute_result"
    }
   ],
   "source": [
    "df_test_all[\"class\"].unique()"
   ]
  },
  {
   "cell_type": "code",
   "execution_count": 31,
   "metadata": {},
   "outputs": [
    {
     "data": {
      "text/plain": [
       "array([0, 1, 7], dtype=int64)"
      ]
     },
     "execution_count": 31,
     "metadata": {},
     "output_type": "execute_result"
    }
   ],
   "source": [
    "np.unique(y)"
   ]
  },
  {
   "cell_type": "code",
   "execution_count": 32,
   "metadata": {},
   "outputs": [
    {
     "data": {
      "text/plain": [
       "0.11067766613353436"
      ]
     },
     "execution_count": 32,
     "metadata": {},
     "output_type": "execute_result"
    }
   ],
   "source": [
    "accuracy_score(y, df_test_all[\"class\"].values)"
   ]
  },
  {
   "cell_type": "code",
   "execution_count": 33,
   "metadata": {},
   "outputs": [
    {
     "data": {
      "text/plain": [
       "0.08113612727585373"
      ]
     },
     "execution_count": 33,
     "metadata": {},
     "output_type": "execute_result"
    }
   ],
   "source": [
    "f1_score(y, df_test_all[\"class\"].values, average=\"macro\")"
   ]
  },
  {
   "cell_type": "code",
   "execution_count": 34,
   "metadata": {},
   "outputs": [
    {
     "name": "stdout",
     "output_type": "stream",
     "text": [
      "Classe 0:\n",
      "Precision: 0.037863245897091106\n",
      "Recall: 0.6326996552045475\n",
      "F1-score: 0.07145060540825676\n",
      "\n",
      "Classe 1:\n",
      "Precision: 1.0\n",
      "Recall: 0.007175871483644024\n",
      "F1-score: 0.014249490455075016\n",
      "\n",
      "Classe 7:\n",
      "Precision: 0.2934676015482557\n",
      "Recall: 0.1078270503989508\n",
      "F1-score: 0.15770828596422942\n",
      "\n"
     ]
    }
   ],
   "source": [
    "precision = precision_score(y, df_test_all[\"class\"].values, average=None)\n",
    "recall = recall_score(y, df_test_all[\"class\"].values, average=None)\n",
    "f1 = f1_score(y, df_test_all[\"class\"].values, average=None)\n",
    "\n",
    "for i in range(len(precision)):\n",
    "    print(f'Classe {np.unique(y)[i]}:')\n",
    "    print(f'Precision: {precision[i]}')\n",
    "    print(f'Recall: {recall[i]}')\n",
    "    print(f'F1-score: {f1[i]}\\n')"
   ]
  },
  {
   "cell_type": "markdown",
   "metadata": {},
   "source": [
    "# Avaliação com os dados simulados"
   ]
  },
  {
   "cell_type": "code",
   "execution_count": 35,
   "metadata": {},
   "outputs": [],
   "source": [
    "df_preprocessing = pd.read_parquet(manipulate_path.get_path_preprocessing_simulated_data())"
   ]
  },
  {
   "cell_type": "code",
   "execution_count": 36,
   "metadata": {},
   "outputs": [],
   "source": [
    "#df_preprocessing, label_mapping = mapping_labels(df_preprocessing)"
   ]
  },
  {
   "cell_type": "code",
   "execution_count": 37,
   "metadata": {},
   "outputs": [],
   "source": [
    "label_mapping = {1.0: 0, 2.0: 1, 5.0: 2, 6.0: 3, 7.0: 4}"
   ]
  },
  {
   "cell_type": "code",
   "execution_count": 38,
   "metadata": {},
   "outputs": [
    {
     "data": {
      "text/plain": [
       "class\n",
       "5    55.980035\n",
       "1    40.844868\n",
       "2     2.312167\n",
       "0     0.862930\n",
       "Name: count, dtype: float64"
      ]
     },
     "execution_count": 38,
     "metadata": {},
     "output_type": "execute_result"
    }
   ],
   "source": [
    "contagem_classes = df_preprocessing['class'].value_counts()\n",
    "\n",
    "# Calcular a porcentagem de cada classe\n",
    "porcentagem_classes_real = contagem_classes / len(df_preprocessing) * 100\n",
    "porcentagem_classes_real"
   ]
  },
  {
   "cell_type": "code",
   "execution_count": 39,
   "metadata": {},
   "outputs": [],
   "source": [
    "X = df_preprocessing.drop('class', axis=1)\n",
    "y = df_preprocessing['class']\n",
    "\n",
    "X_norm = loaded_scaler.transform(X)"
   ]
  },
  {
   "cell_type": "code",
   "execution_count": 49,
   "metadata": {},
   "outputs": [
    {
     "data": {
      "text/plain": [
       "17437449"
      ]
     },
     "execution_count": 49,
     "metadata": {},
     "output_type": "execute_result"
    }
   ],
   "source": [
    "len(X)"
   ]
  },
  {
   "cell_type": "code",
   "execution_count": 40,
   "metadata": {},
   "outputs": [],
   "source": [
    "y_test_nn_1 = ReplaceColumnDataFrame(const.TARGET, const.MAPPING_TWO_CLASSES).transform(pd.DataFrame(y))[\"class\"]"
   ]
  },
  {
   "cell_type": "code",
   "execution_count": 41,
   "metadata": {},
   "outputs": [
    {
     "data": {
      "text/plain": [
       "array([0, 1], dtype=int64)"
      ]
     },
     "execution_count": 41,
     "metadata": {},
     "output_type": "execute_result"
    }
   ],
   "source": [
    "np.unique(\n",
    "    y_test_nn_1\n",
    ")"
   ]
  },
  {
   "cell_type": "code",
   "execution_count": 42,
   "metadata": {},
   "outputs": [
    {
     "name": "stdout",
     "output_type": "stream",
     "text": [
      "544921/544921 [==============================] - 368s 675us/step\n"
     ]
    }
   ],
   "source": [
    "y_pred = model_1_load.predict(X_norm)"
   ]
  },
  {
   "cell_type": "code",
   "execution_count": 43,
   "metadata": {},
   "outputs": [
    {
     "data": {
      "text/plain": [
       "array([[8.1351134e-11],\n",
       "       [8.1313900e-11],\n",
       "       [8.1285992e-11],\n",
       "       ...,\n",
       "       [9.9999994e-01],\n",
       "       [9.9999994e-01],\n",
       "       [9.9999994e-01]], dtype=float32)"
      ]
     },
     "execution_count": 43,
     "metadata": {},
     "output_type": "execute_result"
    }
   ],
   "source": [
    "y_pred"
   ]
  },
  {
   "cell_type": "code",
   "execution_count": 44,
   "metadata": {},
   "outputs": [
    {
     "data": {
      "text/plain": [
       "0.32644213038271824"
      ]
     },
     "execution_count": 44,
     "metadata": {},
     "output_type": "execute_result"
    }
   ],
   "source": [
    "y_pred = np.squeeze(y_pred)\n",
    "y_pred = np.where(y_pred > 0.5, 1, 0)\n",
    "\n",
    "accuracy_score(y_test_nn_1, y_pred)"
   ]
  },
  {
   "cell_type": "code",
   "execution_count": 47,
   "metadata": {},
   "outputs": [
    {
     "data": {
      "text/plain": [
       "array([0, 1])"
      ]
     },
     "execution_count": 47,
     "metadata": {},
     "output_type": "execute_result"
    }
   ],
   "source": [
    "np.unique(y_pred)"
   ]
  },
  {
   "cell_type": "code",
   "execution_count": 45,
   "metadata": {},
   "outputs": [],
   "source": [
    "df_test_all = X_norm.copy()\n",
    "df_test_all[\"class\"] = y_pred\n",
    "df_test_all_one = df_test_all[df_test_all[\"class\"] == 1]"
   ]
  },
  {
   "cell_type": "code",
   "execution_count": 46,
   "metadata": {},
   "outputs": [],
   "source": [
    "X_test_all = df_test_all_one.drop('class', axis=1)"
   ]
  },
  {
   "cell_type": "code",
   "execution_count": 48,
   "metadata": {},
   "outputs": [
    {
     "name": "stdout",
     "output_type": "stream",
     "text": [
      "177308/177308 [==============================] - 123s 691us/step\n"
     ]
    }
   ],
   "source": [
    "y_pred_all = model_2_load.predict(X_test_all)\n",
    "y_pred_all = np.argmax(y_pred_all, axis=1)"
   ]
  },
  {
   "cell_type": "code",
   "execution_count": 49,
   "metadata": {},
   "outputs": [
    {
     "data": {
      "text/plain": [
       "array([0, 1, 2, 3, 4], dtype=int64)"
      ]
     },
     "execution_count": 49,
     "metadata": {},
     "output_type": "execute_result"
    }
   ],
   "source": [
    "np.unique(y_pred_all)"
   ]
  },
  {
   "cell_type": "code",
   "execution_count": 57,
   "metadata": {},
   "outputs": [
    {
     "data": {
      "text/plain": [
       "array([0.46505533, 0.04955884, 0.01609157, 0.35750314, 0.11179111])"
      ]
     },
     "execution_count": 57,
     "metadata": {},
     "output_type": "execute_result"
    }
   ],
   "source": [
    "unique, counts = np.unique(y_pred_all, return_counts=True)\n",
    "\n",
    "# Calcular a proporção de cada valor\n",
    "proportions = counts / len(y_pred_all)\n",
    "proportions"
   ]
  },
  {
   "cell_type": "code",
   "execution_count": 53,
   "metadata": {},
   "outputs": [
    {
     "data": {
      "text/plain": [
       "{1.0: 0, 2.0: 1, 5.0: 2, 6.0: 3, 7.0: 4}"
      ]
     },
     "execution_count": 53,
     "metadata": {},
     "output_type": "execute_result"
    }
   ],
   "source": [
    "label_mapping"
   ]
  },
  {
   "cell_type": "code",
   "execution_count": 51,
   "metadata": {},
   "outputs": [],
   "source": [
    "temp = y_pred_all.copy()"
   ]
  },
  {
   "cell_type": "code",
   "execution_count": 54,
   "metadata": {},
   "outputs": [],
   "source": [
    "temp = np.where(temp == 4, 7, temp)\n",
    "temp = np.where(temp == 3, 6, temp)\n",
    "temp = np.where(temp == 2, 5, temp)\n",
    "temp = np.where(temp == 1, 2, temp)\n",
    "temp = np.where(temp == 0, 1, temp)"
   ]
  },
  {
   "cell_type": "code",
   "execution_count": 55,
   "metadata": {},
   "outputs": [
    {
     "data": {
      "text/plain": [
       "array([1, 2, 5, 6, 7], dtype=int64)"
      ]
     },
     "execution_count": 55,
     "metadata": {},
     "output_type": "execute_result"
    }
   ],
   "source": [
    "np.unique(temp)"
   ]
  },
  {
   "cell_type": "code",
   "execution_count": 56,
   "metadata": {},
   "outputs": [
    {
     "data": {
      "text/plain": [
       "array([0.46505533, 0.04955884, 0.01609157, 0.35750314, 0.11179111])"
      ]
     },
     "execution_count": 56,
     "metadata": {},
     "output_type": "execute_result"
    }
   ],
   "source": [
    "unique, counts = np.unique(temp, return_counts=True)\n",
    "\n",
    "# Calcular a proporção de cada valor\n",
    "proportions = counts / len(temp)\n",
    "proportions"
   ]
  },
  {
   "cell_type": "code",
   "execution_count": 58,
   "metadata": {},
   "outputs": [],
   "source": [
    "df_test_all_one.loc[:, \"class\"] = temp"
   ]
  },
  {
   "cell_type": "code",
   "execution_count": 59,
   "metadata": {},
   "outputs": [
    {
     "data": {
      "text/plain": [
       "array([6, 1, 5, 2, 7], dtype=int64)"
      ]
     },
     "execution_count": 59,
     "metadata": {},
     "output_type": "execute_result"
    }
   ],
   "source": [
    "df_test_all_one[\"class\"].unique()"
   ]
  },
  {
   "cell_type": "code",
   "execution_count": 62,
   "metadata": {},
   "outputs": [],
   "source": [
    "df_test_all.loc[df_test_all[\"class\"] == 1, \"class\"] = df_test_all_one[\"class\"].values"
   ]
  },
  {
   "cell_type": "code",
   "execution_count": 64,
   "metadata": {},
   "outputs": [
    {
     "data": {
      "text/plain": [
       "array([0, 1, 2, 5], dtype=int64)"
      ]
     },
     "execution_count": 64,
     "metadata": {},
     "output_type": "execute_result"
    }
   ],
   "source": [
    "np.unique(y)"
   ]
  },
  {
   "cell_type": "code",
   "execution_count": 65,
   "metadata": {},
   "outputs": [
    {
     "data": {
      "text/plain": [
       "array([0, 1, 2, 5, 6, 7], dtype=int64)"
      ]
     },
     "execution_count": 65,
     "metadata": {},
     "output_type": "execute_result"
    }
   ],
   "source": [
    "y_test_nn_2 = df_test_all[\"class\"].values\n",
    "np.unique(y_test_nn_2)"
   ]
  },
  {
   "cell_type": "code",
   "execution_count": 66,
   "metadata": {},
   "outputs": [
    {
     "data": {
      "text/plain": [
       "0.02053649017124007"
      ]
     },
     "execution_count": 66,
     "metadata": {},
     "output_type": "execute_result"
    }
   ],
   "source": [
    "accuracy_score(y, y_test_nn_2)"
   ]
  },
  {
   "cell_type": "code",
   "execution_count": 67,
   "metadata": {},
   "outputs": [
    {
     "data": {
      "text/plain": [
       "0.13563843288342614"
      ]
     },
     "execution_count": 67,
     "metadata": {},
     "output_type": "execute_result"
    }
   ],
   "source": [
    "f1_score(y, y_test_nn_2, average=\"macro\")"
   ]
  },
  {
   "cell_type": "code",
   "execution_count": 68,
   "metadata": {},
   "outputs": [
    {
     "name": "stderr",
     "output_type": "stream",
     "text": [
      "c:\\Users\\marce\\Documents\\0_python_env\\venv3WPetrobras\\lib\\site-packages\\sklearn\\metrics\\_classification.py:1471: UndefinedMetricWarning: Recall is ill-defined and being set to 0.0 in labels with no true samples. Use `zero_division` parameter to control this behavior.\n",
      "  _warn_prf(average, modifier, msg_start, len(result))\n"
     ]
    }
   ],
   "source": [
    "precision = precision_score(y, y_test_nn_2, average=None)\n",
    "recall = recall_score(y, y_test_nn_2, average=None)\n",
    "f1 = f1_score(y, y_test_nn_2, average=None)"
   ]
  },
  {
   "cell_type": "code",
   "execution_count": 69,
   "metadata": {},
   "outputs": [
    {
     "name": "stdout",
     "output_type": "stream",
     "text": [
      "Classe 0:\n",
      "Precision: 0.00718104513513201\n",
      "Recall: 0.5613963966957527\n",
      "F1-score: 0.014180699291871527\n",
      "\n",
      "Classe 6:\n",
      "Precision: 0.0\n",
      "Recall: 0.0\n",
      "F1-score: 0.0\n",
      "\n",
      "Classe 1:\n",
      "Precision: 0.9731141687619359\n",
      "Recall: 0.6786719678161034\n",
      "F1-score: 0.7996498980086854\n",
      "\n",
      "Classe 5:\n",
      "Precision: 0.0\n",
      "Recall: 0.0\n",
      "F1-score: 0.0\n",
      "\n",
      "Classe 2:\n",
      "Precision: 0.0\n",
      "Recall: 0.0\n",
      "F1-score: 0.0\n",
      "\n",
      "Classe 7:\n",
      "Precision: 0.0\n",
      "Recall: 0.0\n",
      "F1-score: 0.0\n",
      "\n"
     ]
    }
   ],
   "source": [
    "\n",
    "for i in range(len(precision)):\n",
    "    print(f'Classe {df_test_all[\"class\"].unique()[i]}:')\n",
    "    print(f'Precision: {precision[i]}')\n",
    "    print(f'Recall: {recall[i]}')\n",
    "    print(f'F1-score: {f1[i]}\\n')"
   ]
  }
 ],
 "metadata": {
  "kernelspec": {
   "display_name": "venv3WPetrobras",
   "language": "python",
   "name": "venv3wpetrobras"
  },
  "language_info": {
   "codemirror_mode": {
    "name": "ipython",
    "version": 3
   },
   "file_extension": ".py",
   "mimetype": "text/x-python",
   "name": "python",
   "nbconvert_exporter": "python",
   "pygments_lexer": "ipython3",
   "version": "3.8.9"
  }
 },
 "nbformat": 4,
 "nbformat_minor": 2
}
