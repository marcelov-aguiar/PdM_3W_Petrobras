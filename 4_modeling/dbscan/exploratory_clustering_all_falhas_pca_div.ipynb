{
 "cells": [
  {
   "cell_type": "code",
   "execution_count": 1,
   "metadata": {},
   "outputs": [
    {
     "data": {
      "text/plain": [
       "'Módulo util importado com sucesso.'"
      ]
     },
     "execution_count": 1,
     "metadata": {},
     "output_type": "execute_result"
    }
   ],
   "source": [
    "import pandas as pd\n",
    "import os\n",
    "import sys\n",
    "import matplotlib.pyplot as plt\n",
    "import seaborn as sns\n",
    "import util\n",
    "from pathlib import Path\n",
    "import numpy as np\n",
    "import re\n",
    "from sklearn.cluster import KMeans\n",
    "from sklearn.cluster import DBSCAN\n",
    "from sklearn.decomposition import PCA\n",
    "from sklearn.metrics import silhouette_score\n",
    "from sklearn.preprocessing import StandardScaler\n",
    "from sklearn.preprocessing import PolynomialFeatures\n",
    "from class_manipulates_path import ManipulatePath\n",
    "from class_preprocessing_refactor import Preprocessing\n",
    "from class_format_data import FormatData\n",
    "util.init()"
   ]
  },
  {
   "cell_type": "code",
   "execution_count": 2,
   "metadata": {},
   "outputs": [],
   "source": [
    "def plot_variable(df, column_name):\n",
    "    \"\"\"\n",
    "    Plota um gráfico de dispersão para uma variável de um DataFrame.\n",
    "\n",
    "    Parâmetros:\n",
    "        - df: DataFrame pandas contendo os dados.\n",
    "        - column_name: Nome da coluna que você deseja plotar.\n",
    "        - intervalos: Lista de intervalos para plotar linhas verticais.\n",
    "    \"\"\"\n",
    "    plt.figure(figsize=(20, 10))\n",
    "    plt.scatter(df.index.values, df[column_name].values, color='darkcyan', alpha=0.5)\n",
    "    plt.xlabel('Índice')\n",
    "    plt.ylabel(column_name)\n",
    "    plt.title(f'Gráfico de dispersão para a variável \"{column_name}\"')\n",
    "\n",
    "    plt.show()"
   ]
  },
  {
   "cell_type": "code",
   "execution_count": 3,
   "metadata": {},
   "outputs": [],
   "source": [
    "def class_and_file_generator(data_path, real=False, simulated=False, drawn=False):\n",
    "    for class_path in data_path.iterdir():\n",
    "        if class_path.is_dir():\n",
    "            class_code = int(class_path.stem)\n",
    "            for instance_path in class_path.iterdir():\n",
    "                if (instance_path.suffix == '.csv'):\n",
    "                    if (simulated and instance_path.stem.startswith('SIMULATED')) or \\\n",
    "                       (drawn and instance_path.stem.startswith('DRAWN')) or \\\n",
    "                       (real and (not instance_path.stem.startswith('SIMULATED')) and \\\n",
    "                       (not instance_path.stem.startswith('DRAWN'))):\n",
    "                        yield class_code, instance_path"
   ]
  },
  {
   "cell_type": "code",
   "execution_count": 4,
   "metadata": {},
   "outputs": [],
   "source": [
    "def plot_two_variables(df, var1, var2, binary_column=None, svg_name=\"teste.svg\"):\n",
    "    \"\"\"\n",
    "    Plota um gráfico de dispersão para duas variáveis de um DataFrame, colorindo os pontos conforme uma coluna binária, se fornecida.\n",
    "\n",
    "    Parâmetros:\n",
    "        - df: DataFrame pandas contendo os dados.\n",
    "        - var1: Nome da primeira variável (eixo x).\n",
    "        - var2: Nome da segunda variável (eixo y).\n",
    "        - binary_column: Nome da coluna binária usada para colorir os pontos (opcional).\n",
    "    \"\"\"\n",
    "    plt.figure(figsize=(10, 6))\n",
    "\n",
    "    if binary_column is not None:\n",
    "        # Obtendo os valores únicos da coluna binária\n",
    "        classes = df[binary_column].unique()\n",
    "\n",
    "        # Criando um mapeamento de classe para cor\n",
    "        colors = {cls: plt.cm.tab10(i) for i, cls in enumerate(classes)}\n",
    "\n",
    "        # Colorindo os pontos de acordo com as classes\n",
    "        for cls in classes:\n",
    "            df_cls = df[df[binary_column] == cls]\n",
    "            plt.scatter(df_cls[var1], df_cls[var2], color=colors[cls], label=cls, alpha=0.5)\n",
    "        \n",
    "        plt.legend(title=\"Grupos\")\n",
    "    else:\n",
    "        plt.scatter(df[var1], df[var2], alpha=0.5)\n",
    "\n",
    "    plt.xlabel(\"Primeira componente\")\n",
    "    plt.ylabel(\"Segunda componente\")\n",
    "    #plt.title(f'Gráfico de Dispersão: {var1} vs {var2}')\n",
    "    plt.grid(True)\n",
    "    plt.savefig(svg_name, format='svg')\n",
    "    plt.show()"
   ]
  },
  {
   "cell_type": "code",
   "execution_count": 5,
   "metadata": {},
   "outputs": [],
   "source": [
    "def plot_variavel_e_histograma(dataframe, nome_coluna):\n",
    "    # Verifica se a coluna existe no DataFrame\n",
    "    if nome_coluna not in dataframe.columns:\n",
    "        print(\"A coluna especificada não existe no DataFrame.\")\n",
    "        return\n",
    "    \n",
    "    # Plota a variável ao longo do tempo\n",
    "    plt.figure(figsize=(12, 5))\n",
    "    plt.subplot(1, 2, 1)\n",
    "    dataframe[nome_coluna].plot()\n",
    "    plt.title(\"Variação ao longo do tempo\")\n",
    "    plt.xlabel(\"Índice\")\n",
    "    plt.ylabel(nome_coluna)\n",
    "    \n",
    "    # Plota o histograma da variável\n",
    "    plt.subplot(1, 2, 2)\n",
    "    dataframe[nome_coluna].hist()\n",
    "    plt.title(\"Histograma\")\n",
    "    plt.xlabel(nome_coluna)\n",
    "    plt.ylabel(\"Frequência\")\n",
    "    \n",
    "    plt.tight_layout()\n",
    "    plt.show()"
   ]
  },
  {
   "cell_type": "code",
   "execution_count": 6,
   "metadata": {},
   "outputs": [],
   "source": [
    "def kmeans_two_variables(df, var1, var2, n_clusters=3):\n",
    "    \"\"\"\n",
    "    Aplica o algoritmo K-means para agrupar duas variáveis de um DataFrame.\n",
    "\n",
    "    Parâmetros:\n",
    "        - df: DataFrame pandas contendo os dados.\n",
    "        - var1: Nome da primeira variável.\n",
    "        - var2: Nome da segunda variável.\n",
    "        - n_clusters: Número de clusters (padrão é 3).\n",
    "    \"\"\"\n",
    "    # Seleciona as duas variáveis\n",
    "    X = df[[var1, var2]]\n",
    "\n",
    "    # Aplica o algoritmo K-means\n",
    "    kmeans = KMeans(n_clusters=n_clusters)\n",
    "    kmeans.fit(X)\n",
    "\n",
    "    # Obtém as coordenadas dos centroides\n",
    "    centroids = kmeans.cluster_centers_\n",
    "\n",
    "    # Plota os pontos e os centroides\n",
    "    plt.figure(figsize=(10, 6))\n",
    "    plt.scatter(X[var1], X[var2], c=kmeans.labels_, cmap='viridis', alpha=0.5)\n",
    "    plt.scatter(centroids[:, 0], centroids[:, 1], marker='x', s=100, color='red')\n",
    "    plt.xlabel(var1)\n",
    "    plt.ylabel(var2)\n",
    "    plt.title(f'K-means: {var1} vs {var2}')\n",
    "    plt.grid(True)\n",
    "    plt.show()"
   ]
  },
  {
   "cell_type": "code",
   "execution_count": 7,
   "metadata": {},
   "outputs": [],
   "source": [
    "def extract_well_number(path):\n",
    "    match = re.search(r'WELL-(\\d+)_', path)\n",
    "    if match:\n",
    "        return match.group(1)\n",
    "    else:\n",
    "        return None"
   ]
  },
  {
   "cell_type": "code",
   "execution_count": 8,
   "metadata": {},
   "outputs": [],
   "source": [
    "manipulate_path = ManipulatePath()\n",
    "\n",
    "preprocessing = Preprocessing()\n",
    "\n",
    "format_data = FormatData()\n",
    "\n",
    "path_raw_data = manipulate_path.get_path_raw_data()"
   ]
  },
  {
   "cell_type": "code",
   "execution_count": 9,
   "metadata": {},
   "outputs": [],
   "source": [
    "df_preprocessing = pd.read_parquet(manipulate_path.get_path_preprocessing_real_data_all_classes())"
   ]
  },
  {
   "cell_type": "code",
   "execution_count": 10,
   "metadata": {},
   "outputs": [],
   "source": [
    "columns_poly = ['P-TPT', 'T-TPT', 'P-MON-CKP', 'T-JUS-CKP']"
   ]
  },
  {
   "cell_type": "code",
   "execution_count": 11,
   "metadata": {},
   "outputs": [
    {
     "data": {
      "text/html": [
       "<div>\n",
       "<style scoped>\n",
       "    .dataframe tbody tr th:only-of-type {\n",
       "        vertical-align: middle;\n",
       "    }\n",
       "\n",
       "    .dataframe tbody tr th {\n",
       "        vertical-align: top;\n",
       "    }\n",
       "\n",
       "    .dataframe thead th {\n",
       "        text-align: right;\n",
       "    }\n",
       "</style>\n",
       "<table border=\"1\" class=\"dataframe\">\n",
       "  <thead>\n",
       "    <tr style=\"text-align: right;\">\n",
       "      <th></th>\n",
       "      <th>P-TPT</th>\n",
       "      <th>T-TPT</th>\n",
       "      <th>P-MON-CKP</th>\n",
       "      <th>T-JUS-CKP</th>\n",
       "      <th>class</th>\n",
       "    </tr>\n",
       "    <tr>\n",
       "      <th>timestamp</th>\n",
       "      <th></th>\n",
       "      <th></th>\n",
       "      <th></th>\n",
       "      <th></th>\n",
       "      <th></th>\n",
       "    </tr>\n",
       "  </thead>\n",
       "  <tbody>\n",
       "    <tr>\n",
       "      <th>2014-01-24 09:33:03</th>\n",
       "      <td>18433410.0</td>\n",
       "      <td>116.8718</td>\n",
       "      <td>9397031.0</td>\n",
       "      <td>74.80031</td>\n",
       "      <td>0.0</td>\n",
       "    </tr>\n",
       "    <tr>\n",
       "      <th>2014-01-24 09:33:04</th>\n",
       "      <td>18433410.0</td>\n",
       "      <td>116.8718</td>\n",
       "      <td>9397031.0</td>\n",
       "      <td>74.80031</td>\n",
       "      <td>0.0</td>\n",
       "    </tr>\n",
       "    <tr>\n",
       "      <th>2014-01-24 09:33:05</th>\n",
       "      <td>18433410.0</td>\n",
       "      <td>116.8718</td>\n",
       "      <td>9397032.0</td>\n",
       "      <td>74.80031</td>\n",
       "      <td>0.0</td>\n",
       "    </tr>\n",
       "    <tr>\n",
       "      <th>2014-01-24 09:33:06</th>\n",
       "      <td>18433410.0</td>\n",
       "      <td>116.8718</td>\n",
       "      <td>9397033.0</td>\n",
       "      <td>74.80031</td>\n",
       "      <td>0.0</td>\n",
       "    </tr>\n",
       "    <tr>\n",
       "      <th>2014-01-24 09:33:07</th>\n",
       "      <td>18433410.0</td>\n",
       "      <td>116.8718</td>\n",
       "      <td>9397033.0</td>\n",
       "      <td>74.80031</td>\n",
       "      <td>0.0</td>\n",
       "    </tr>\n",
       "    <tr>\n",
       "      <th>...</th>\n",
       "      <td>...</td>\n",
       "      <td>...</td>\n",
       "      <td>...</td>\n",
       "      <td>...</td>\n",
       "      <td>...</td>\n",
       "    </tr>\n",
       "    <tr>\n",
       "      <th>2019-04-03 14:59:56</th>\n",
       "      <td>8489354.0</td>\n",
       "      <td>109.7213</td>\n",
       "      <td>1496222.0</td>\n",
       "      <td>73.38219</td>\n",
       "      <td>7.0</td>\n",
       "    </tr>\n",
       "    <tr>\n",
       "      <th>2019-04-03 14:59:57</th>\n",
       "      <td>8489349.0</td>\n",
       "      <td>109.7212</td>\n",
       "      <td>1495828.0</td>\n",
       "      <td>73.38310</td>\n",
       "      <td>7.0</td>\n",
       "    </tr>\n",
       "    <tr>\n",
       "      <th>2019-04-03 14:59:58</th>\n",
       "      <td>8489344.0</td>\n",
       "      <td>109.7210</td>\n",
       "      <td>1495433.0</td>\n",
       "      <td>73.38401</td>\n",
       "      <td>7.0</td>\n",
       "    </tr>\n",
       "    <tr>\n",
       "      <th>2019-04-03 14:59:59</th>\n",
       "      <td>8489338.0</td>\n",
       "      <td>109.7209</td>\n",
       "      <td>1495039.0</td>\n",
       "      <td>73.38493</td>\n",
       "      <td>7.0</td>\n",
       "    </tr>\n",
       "    <tr>\n",
       "      <th>2019-04-03 15:00:00</th>\n",
       "      <td>8489333.0</td>\n",
       "      <td>109.7207</td>\n",
       "      <td>1494645.0</td>\n",
       "      <td>73.38583</td>\n",
       "      <td>7.0</td>\n",
       "    </tr>\n",
       "  </tbody>\n",
       "</table>\n",
       "<p>977733 rows × 5 columns</p>\n",
       "</div>"
      ],
      "text/plain": [
       "                          P-TPT     T-TPT  P-MON-CKP  T-JUS-CKP  class\n",
       "timestamp                                                             \n",
       "2014-01-24 09:33:03  18433410.0  116.8718  9397031.0   74.80031    0.0\n",
       "2014-01-24 09:33:04  18433410.0  116.8718  9397031.0   74.80031    0.0\n",
       "2014-01-24 09:33:05  18433410.0  116.8718  9397032.0   74.80031    0.0\n",
       "2014-01-24 09:33:06  18433410.0  116.8718  9397033.0   74.80031    0.0\n",
       "2014-01-24 09:33:07  18433410.0  116.8718  9397033.0   74.80031    0.0\n",
       "...                         ...       ...        ...        ...    ...\n",
       "2019-04-03 14:59:56   8489354.0  109.7213  1496222.0   73.38219    7.0\n",
       "2019-04-03 14:59:57   8489349.0  109.7212  1495828.0   73.38310    7.0\n",
       "2019-04-03 14:59:58   8489344.0  109.7210  1495433.0   73.38401    7.0\n",
       "2019-04-03 14:59:59   8489338.0  109.7209  1495039.0   73.38493    7.0\n",
       "2019-04-03 15:00:00   8489333.0  109.7207  1494645.0   73.38583    7.0\n",
       "\n",
       "[977733 rows x 5 columns]"
      ]
     },
     "execution_count": 11,
     "metadata": {},
     "output_type": "execute_result"
    }
   ],
   "source": [
    "df_preprocessing"
   ]
  },
  {
   "cell_type": "code",
   "execution_count": 12,
   "metadata": {},
   "outputs": [
    {
     "data": {
      "text/plain": [
       "Index(['P-TPT', 'T-TPT', 'P-MON-CKP', 'T-JUS-CKP', 'class'], dtype='object')"
      ]
     },
     "execution_count": 12,
     "metadata": {},
     "output_type": "execute_result"
    }
   ],
   "source": [
    "df_preprocessing.columns"
   ]
  },
  {
   "cell_type": "code",
   "execution_count": 13,
   "metadata": {},
   "outputs": [
    {
     "data": {
      "text/plain": [
       "class\n",
       "0.0    32.679781\n",
       "5.0    30.983203\n",
       "7.0    29.009351\n",
       "1.0     4.797527\n",
       "6.0     1.810310\n",
       "2.0     0.719828\n",
       "Name: count, dtype: float64"
      ]
     },
     "execution_count": 13,
     "metadata": {},
     "output_type": "execute_result"
    }
   ],
   "source": [
    "contagem_classes = df_preprocessing['class'].value_counts()\n",
    "\n",
    "# Calcular a porcentagem de cada classe\n",
    "porcentagem_classes = contagem_classes / len(df_preprocessing) * 100\n",
    "porcentagem_classes"
   ]
  },
  {
   "cell_type": "code",
   "execution_count": 14,
   "metadata": {},
   "outputs": [
    {
     "data": {
      "image/png": "[encoded data removed]",
      "text/plain": [
       "<Figure size 1000x600 with 1 Axes>"
      ]
     },
     "metadata": {},
     "output_type": "display_data"
    }
   ],
   "source": [
    "plot_two_variables(df_preprocessing, 'P-TPT', 'T-TPT', binary_column=\"class\")"
   ]
  },
  {
   "cell_type": "code",
   "execution_count": 15,
   "metadata": {},
   "outputs": [],
   "source": [
    "def kmeans_six_variables(X_pca, n_clusters=3):\n",
    "    \"\"\"\n",
    "    Aplica o algoritmo K-means para agrupar seis variáveis de um DataFrame após a redução de dimensionalidade com PCA.\n",
    "\n",
    "    Parâmetros:\n",
    "        - df: DataFrame pandas contendo os dados.\n",
    "        - n_clusters: Número de clusters (padrão é 3).\n",
    "    \"\"\"\n",
    "    # Aplica PCA para reduzir a dimensionalidade para 2 componentes\n",
    "    # Aplica o algoritmo K-means\n",
    "    kmeans = KMeans(n_clusters=n_clusters)\n",
    "    kmeans.fit(X_pca)\n",
    "\n",
    "    # Plota os grupos\n",
    "    plt.figure(figsize=(10, 6))\n",
    "    plt.scatter(X_pca[:, 0], X_pca[:, 1], c=kmeans.labels_, cmap='viridis', alpha=0.5)\n",
    "    plt.scatter(kmeans.cluster_centers_[:, 0], kmeans.cluster_centers_[:, 1], marker='x', s=100, color='red')\n",
    "    plt.xlabel('PC1')\n",
    "    plt.ylabel('PC2')\n",
    "    plt.title('K-means Clustering após Redução de Dimensionalidade')\n",
    "    plt.grid(True)\n",
    "    plt.show()"
   ]
  },
  {
   "cell_type": "code",
   "execution_count": 16,
   "metadata": {},
   "outputs": [
    {
     "name": "stderr",
     "output_type": "stream",
     "text": [
      "c:\\Users\\marce\\Documents\\0_python_env\\venv3WPetrobras\\lib\\site-packages\\sklearn\\cluster\\_kmeans.py:1416: FutureWarning: The default value of `n_init` will change from 10 to 'auto' in 1.4. Set the value of `n_init` explicitly to suppress the warning\n",
      "  super()._check_params_vs_input(X, default_n_init=10)\n"
     ]
    },
    {
     "data": {
      "image/png": "[encoded data removed]",
      "text/plain": [
       "<Figure size 1000x600 with 1 Axes>"
      ]
     },
     "metadata": {},
     "output_type": "display_data"
    }
   ],
   "source": [
    "n_components = 2\n",
    "pca = PCA(n_components=n_components)\n",
    "scaler = StandardScaler()\n",
    "X = scaler.fit_transform(df_preprocessing.drop(columns=\"class\"))\n",
    "X_pca = pca.fit_transform(X)\n",
    "kmeans_six_variables(X_pca, n_clusters=6)"
   ]
  },
  {
   "cell_type": "code",
   "execution_count": 17,
   "metadata": {},
   "outputs": [],
   "source": [
    "explained_variance = pca.explained_variance_ratio_\n",
    "cumulative_explained_variance = np.cumsum(explained_variance)"
   ]
  },
  {
   "cell_type": "code",
   "execution_count": 18,
   "metadata": {},
   "outputs": [
    {
     "data": {
      "text/plain": [
       "array([0.65918314, 0.91280914])"
      ]
     },
     "execution_count": 18,
     "metadata": {},
     "output_type": "execute_result"
    }
   ],
   "source": [
    "cumulative_explained_variance"
   ]
  },
  {
   "cell_type": "code",
   "execution_count": 19,
   "metadata": {},
   "outputs": [],
   "source": [
    "list_comp = [f\"COMP_{x+1}\"  for x in range(n_components)]\n",
    "df_pca = pd.DataFrame(X_pca, columns=list_comp)\n",
    "df_pca[\"class\"] = df_preprocessing[\"class\"].values"
   ]
  },
  {
   "cell_type": "code",
   "execution_count": 20,
   "metadata": {},
   "outputs": [
    {
     "data": {
      "image/png": "[encoded data removed]",
      "text/plain": [
       "<Figure size 1000x600 with 1 Axes>"
      ]
     },
     "metadata": {},
     "output_type": "display_data"
    }
   ],
   "source": [
    "plot_two_variables(df_pca, 'COMP_1', 'COMP_2', binary_column=\"class\")"
   ]
  },
  {
   "cell_type": "code",
   "execution_count": 21,
   "metadata": {},
   "outputs": [],
   "source": [
    "from sklearn.model_selection import StratifiedShuffleSplit, train_test_split"
   ]
  },
  {
   "cell_type": "code",
   "execution_count": 22,
   "metadata": {},
   "outputs": [],
   "source": [
    "def split_dataframe(df, target_column=None, test_size=0.0003, random_state=42):\n",
    "    if target_column:\n",
    "        # Se a coluna alvo for fornecida, realizar a divisão estratificada\n",
    "        split = StratifiedShuffleSplit(n_splits=1, test_size=test_size, random_state=random_state)\n",
    "        for train_index, test_index in split.split(df, df[target_column]):\n",
    "            df_1 = df.iloc[train_index]\n",
    "            df_2 = df.iloc[test_index]\n",
    "    else:\n",
    "        # Se a coluna alvo não for fornecida, realizar a divisão simples\n",
    "        df_1, df_2 = train_test_split(df, test_size=test_size, random_state=random_state)\n",
    "\n",
    "    return df_1, df_2"
   ]
  },
  {
   "cell_type": "code",
   "execution_count": 23,
   "metadata": {},
   "outputs": [],
   "source": [
    "df_1, df_2 = split_dataframe(df_pca, target_column='class')"
   ]
  },
  {
   "cell_type": "code",
   "execution_count": 24,
   "metadata": {},
   "outputs": [
    {
     "data": {
      "text/html": [
       "<div>\n",
       "<style scoped>\n",
       "    .dataframe tbody tr th:only-of-type {\n",
       "        vertical-align: middle;\n",
       "    }\n",
       "\n",
       "    .dataframe tbody tr th {\n",
       "        vertical-align: top;\n",
       "    }\n",
       "\n",
       "    .dataframe thead th {\n",
       "        text-align: right;\n",
       "    }\n",
       "</style>\n",
       "<table border=\"1\" class=\"dataframe\">\n",
       "  <thead>\n",
       "    <tr style=\"text-align: right;\">\n",
       "      <th></th>\n",
       "      <th>COMP_1</th>\n",
       "      <th>COMP_2</th>\n",
       "      <th>class</th>\n",
       "    </tr>\n",
       "  </thead>\n",
       "  <tbody>\n",
       "    <tr>\n",
       "      <th>177248</th>\n",
       "      <td>-1.708124</td>\n",
       "      <td>0.414847</td>\n",
       "      <td>0.0</td>\n",
       "    </tr>\n",
       "    <tr>\n",
       "      <th>880081</th>\n",
       "      <td>-1.839483</td>\n",
       "      <td>1.000664</td>\n",
       "      <td>7.0</td>\n",
       "    </tr>\n",
       "    <tr>\n",
       "      <th>283537</th>\n",
       "      <td>1.519297</td>\n",
       "      <td>1.238628</td>\n",
       "      <td>5.0</td>\n",
       "    </tr>\n",
       "    <tr>\n",
       "      <th>205226</th>\n",
       "      <td>5.112105</td>\n",
       "      <td>1.704171</td>\n",
       "      <td>2.0</td>\n",
       "    </tr>\n",
       "    <tr>\n",
       "      <th>751537</th>\n",
       "      <td>-1.769870</td>\n",
       "      <td>0.519801</td>\n",
       "      <td>7.0</td>\n",
       "    </tr>\n",
       "    <tr>\n",
       "      <th>...</th>\n",
       "      <td>...</td>\n",
       "      <td>...</td>\n",
       "      <td>...</td>\n",
       "    </tr>\n",
       "    <tr>\n",
       "      <th>741022</th>\n",
       "      <td>-1.760320</td>\n",
       "      <td>0.516762</td>\n",
       "      <td>7.0</td>\n",
       "    </tr>\n",
       "    <tr>\n",
       "      <th>370729</th>\n",
       "      <td>1.495469</td>\n",
       "      <td>-0.079950</td>\n",
       "      <td>0.0</td>\n",
       "    </tr>\n",
       "    <tr>\n",
       "      <th>608766</th>\n",
       "      <td>-0.638563</td>\n",
       "      <td>-1.299562</td>\n",
       "      <td>6.0</td>\n",
       "    </tr>\n",
       "    <tr>\n",
       "      <th>766761</th>\n",
       "      <td>-1.775695</td>\n",
       "      <td>0.545035</td>\n",
       "      <td>7.0</td>\n",
       "    </tr>\n",
       "    <tr>\n",
       "      <th>109612</th>\n",
       "      <td>-0.787859</td>\n",
       "      <td>-1.269812</td>\n",
       "      <td>0.0</td>\n",
       "    </tr>\n",
       "  </tbody>\n",
       "</table>\n",
       "<p>977439 rows × 3 columns</p>\n",
       "</div>"
      ],
      "text/plain": [
       "          COMP_1    COMP_2  class\n",
       "177248 -1.708124  0.414847    0.0\n",
       "880081 -1.839483  1.000664    7.0\n",
       "283537  1.519297  1.238628    5.0\n",
       "205226  5.112105  1.704171    2.0\n",
       "751537 -1.769870  0.519801    7.0\n",
       "...          ...       ...    ...\n",
       "741022 -1.760320  0.516762    7.0\n",
       "370729  1.495469 -0.079950    0.0\n",
       "608766 -0.638563 -1.299562    6.0\n",
       "766761 -1.775695  0.545035    7.0\n",
       "109612 -0.787859 -1.269812    0.0\n",
       "\n",
       "[977439 rows x 3 columns]"
      ]
     },
     "execution_count": 24,
     "metadata": {},
     "output_type": "execute_result"
    }
   ],
   "source": [
    "df_1"
   ]
  },
  {
   "cell_type": "code",
   "execution_count": 25,
   "metadata": {},
   "outputs": [
    {
     "data": {
      "text/html": [
       "<div>\n",
       "<style scoped>\n",
       "    .dataframe tbody tr th:only-of-type {\n",
       "        vertical-align: middle;\n",
       "    }\n",
       "\n",
       "    .dataframe tbody tr th {\n",
       "        vertical-align: top;\n",
       "    }\n",
       "\n",
       "    .dataframe thead th {\n",
       "        text-align: right;\n",
       "    }\n",
       "</style>\n",
       "<table border=\"1\" class=\"dataframe\">\n",
       "  <thead>\n",
       "    <tr style=\"text-align: right;\">\n",
       "      <th></th>\n",
       "      <th>COMP_1</th>\n",
       "      <th>COMP_2</th>\n",
       "      <th>class</th>\n",
       "    </tr>\n",
       "  </thead>\n",
       "  <tbody>\n",
       "    <tr>\n",
       "      <th>432982</th>\n",
       "      <td>1.731880</td>\n",
       "      <td>-0.272237</td>\n",
       "      <td>5.0</td>\n",
       "    </tr>\n",
       "    <tr>\n",
       "      <th>507885</th>\n",
       "      <td>1.672102</td>\n",
       "      <td>-0.742712</td>\n",
       "      <td>0.0</td>\n",
       "    </tr>\n",
       "    <tr>\n",
       "      <th>11534</th>\n",
       "      <td>-1.459973</td>\n",
       "      <td>0.049190</td>\n",
       "      <td>0.0</td>\n",
       "    </tr>\n",
       "    <tr>\n",
       "      <th>247867</th>\n",
       "      <td>1.230394</td>\n",
       "      <td>1.438458</td>\n",
       "      <td>5.0</td>\n",
       "    </tr>\n",
       "    <tr>\n",
       "      <th>724323</th>\n",
       "      <td>-1.749528</td>\n",
       "      <td>0.490369</td>\n",
       "      <td>7.0</td>\n",
       "    </tr>\n",
       "    <tr>\n",
       "      <th>...</th>\n",
       "      <td>...</td>\n",
       "      <td>...</td>\n",
       "      <td>...</td>\n",
       "    </tr>\n",
       "    <tr>\n",
       "      <th>125320</th>\n",
       "      <td>-0.798599</td>\n",
       "      <td>-1.310914</td>\n",
       "      <td>1.0</td>\n",
       "    </tr>\n",
       "    <tr>\n",
       "      <th>266112</th>\n",
       "      <td>1.400642</td>\n",
       "      <td>1.313593</td>\n",
       "      <td>5.0</td>\n",
       "    </tr>\n",
       "    <tr>\n",
       "      <th>129686</th>\n",
       "      <td>-0.804513</td>\n",
       "      <td>-1.329748</td>\n",
       "      <td>1.0</td>\n",
       "    </tr>\n",
       "    <tr>\n",
       "      <th>56216</th>\n",
       "      <td>-1.324189</td>\n",
       "      <td>-0.410967</td>\n",
       "      <td>1.0</td>\n",
       "    </tr>\n",
       "    <tr>\n",
       "      <th>642033</th>\n",
       "      <td>-0.463145</td>\n",
       "      <td>-0.946827</td>\n",
       "      <td>0.0</td>\n",
       "    </tr>\n",
       "  </tbody>\n",
       "</table>\n",
       "<p>294 rows × 3 columns</p>\n",
       "</div>"
      ],
      "text/plain": [
       "          COMP_1    COMP_2  class\n",
       "432982  1.731880 -0.272237    5.0\n",
       "507885  1.672102 -0.742712    0.0\n",
       "11534  -1.459973  0.049190    0.0\n",
       "247867  1.230394  1.438458    5.0\n",
       "724323 -1.749528  0.490369    7.0\n",
       "...          ...       ...    ...\n",
       "125320 -0.798599 -1.310914    1.0\n",
       "266112  1.400642  1.313593    5.0\n",
       "129686 -0.804513 -1.329748    1.0\n",
       "56216  -1.324189 -0.410967    1.0\n",
       "642033 -0.463145 -0.946827    0.0\n",
       "\n",
       "[294 rows x 3 columns]"
      ]
     },
     "execution_count": 25,
     "metadata": {},
     "output_type": "execute_result"
    }
   ],
   "source": [
    "df_2"
   ]
  },
  {
   "cell_type": "markdown",
   "metadata": {},
   "source": [
    "# Teste com apenas 300 registros"
   ]
  },
  {
   "cell_type": "code",
   "execution_count": 26,
   "metadata": {},
   "outputs": [
    {
     "data": {
      "image/png": "[encoded data removed]",
      "text/plain": [
       "<Figure size 1000x600 with 1 Axes>"
      ]
     },
     "metadata": {},
     "output_type": "display_data"
    }
   ],
   "source": [
    "plot_two_variables(df_2.sort_values(by=\"class\"), 'COMP_1', 'COMP_2', binary_column=\"class\", svg_name=\"comp_target_real.svg\")"
   ]
  },
  {
   "cell_type": "code",
   "execution_count": 27,
   "metadata": {},
   "outputs": [],
   "source": [
    "def grid_search_dbscan(X, eps_values, min_samples_values):\n",
    "    \"\"\"\n",
    "    Realiza uma busca em grade para encontrar os melhores valores de eps e min_samples para o DBSCAN.\n",
    "\n",
    "    Parâmetros:\n",
    "        - X: Matriz de features.\n",
    "        - eps_values: Lista de valores para o parâmetro eps.\n",
    "        - min_samples_values: Lista de valores para o parâmetro min_samples.\n",
    "\n",
    "    Retorna:\n",
    "        - Melhores valores de eps e min_samples.\n",
    "    \"\"\"\n",
    "    best_eps = None\n",
    "    best_min_samples = None\n",
    "    best_score = -1\n",
    "\n",
    "    for eps in eps_values:\n",
    "        for min_samples in min_samples_values:\n",
    "            dbscan = DBSCAN(eps=eps, min_samples=min_samples, n_jobs=-1)\n",
    "            labels = dbscan.fit_predict(X)\n",
    "            unique_labels = np.unique(labels)\n",
    "            if len(unique_labels) > 1:  # Verifica se há mais de um cluster\n",
    "                score = silhouette_score(X, labels)\n",
    "                if score > best_score:\n",
    "                    best_score = score\n",
    "                    best_eps = eps\n",
    "                    best_min_samples = min_samples\n",
    "\n",
    "    return best_eps, best_min_samples\n",
    "\n",
    "# Exemplo de uso:\n",
    "# Supondo que 'X' seja a sua matriz de features e 'eps_values' e 'min_samples_values' sejam as listas de valores para os parâmetros\n",
    "best_eps, best_min_samples = grid_search_dbscan(df_2.drop(columns=[\"class\"]), eps_values=[0.01, 0.1, 0.5, 1.0], min_samples_values=[2, 5, 10])"
   ]
  },
  {
   "cell_type": "code",
   "execution_count": 28,
   "metadata": {},
   "outputs": [
    {
     "data": {
      "text/plain": [
       "0.5"
      ]
     },
     "execution_count": 28,
     "metadata": {},
     "output_type": "execute_result"
    }
   ],
   "source": [
    "best_eps"
   ]
  },
  {
   "cell_type": "code",
   "execution_count": 29,
   "metadata": {},
   "outputs": [
    {
     "data": {
      "text/plain": [
       "5"
      ]
     },
     "execution_count": 29,
     "metadata": {},
     "output_type": "execute_result"
    }
   ],
   "source": [
    "best_min_samples"
   ]
  },
  {
   "cell_type": "code",
   "execution_count": 30,
   "metadata": {},
   "outputs": [
    {
     "data": {
      "image/png": "[encoded data removed]",
      "text/plain": [
       "<Figure size 1000x600 with 1 Axes>"
      ]
     },
     "metadata": {},
     "output_type": "display_data"
    }
   ],
   "source": [
    "# Aplica o algoritmo DBSCAN\n",
    "eps=best_eps\n",
    "min_samples=best_min_samples\n",
    "dbscan = DBSCAN(eps=eps, min_samples=min_samples, n_jobs=-1)\n",
    "dbscan.fit(df_2.drop(columns=[\"class\"]))\n",
    "\n",
    "# Plota os pontos\n",
    "plt.figure(figsize=(10, 6))\n",
    "scatter = plt.scatter(df_2[\"COMP_1\"], df_2[\"COMP_2\"], c=dbscan.labels_, cmap='tab10', alpha=0.5)\n",
    "plt.xlabel(\"COMP_1\")\n",
    "plt.ylabel(\"COMP_2\")\n",
    "plt.title(f'DBSCAN: {\"COMP_1\"} vs {\"COMP_2\"}')\n",
    "plt.grid(True)\n",
    "\n",
    "legend1 = plt.legend(*scatter.legend_elements(), title=\"Labels\")\n",
    "plt.gca().add_artist(legend1)\n",
    "\n",
    "plt.show()"
   ]
  },
  {
   "cell_type": "code",
   "execution_count": 31,
   "metadata": {},
   "outputs": [
    {
     "name": "stderr",
     "output_type": "stream",
     "text": [
      "C:\\Users\\marce\\AppData\\Local\\Temp\\ipykernel_28168\\2251982250.py:1: SettingWithCopyWarning: \n",
      "A value is trying to be set on a copy of a slice from a DataFrame.\n",
      "Try using .loc[row_indexer,col_indexer] = value instead\n",
      "\n",
      "See the caveats in the documentation: https://pandas.pydata.org/pandas-docs/stable/user_guide/indexing.html#returning-a-view-versus-a-copy\n",
      "  df_2[\"class_prev\"] = dbscan.labels_\n"
     ]
    }
   ],
   "source": [
    "df_2[\"class_prev\"] = dbscan.labels_"
   ]
  },
  {
   "cell_type": "code",
   "execution_count": 32,
   "metadata": {},
   "outputs": [
    {
     "data": {
      "text/plain": [
       "array([-1,  0,  1,  2,  3,  4], dtype=int64)"
      ]
     },
     "execution_count": 32,
     "metadata": {},
     "output_type": "execute_result"
    }
   ],
   "source": [
    "np.unique(dbscan.labels_)"
   ]
  },
  {
   "cell_type": "code",
   "execution_count": 33,
   "metadata": {},
   "outputs": [],
   "source": [
    "mapping_class_prev = {\n",
    "    1: 7,\n",
    "    3: 1,\n",
    "    4: 6,\n",
    "    2: 5,\n",
    "    0: 0,\n",
    "    -1: 2,\n",
    "}"
   ]
  },
  {
   "cell_type": "code",
   "execution_count": 34,
   "metadata": {},
   "outputs": [
    {
     "name": "stderr",
     "output_type": "stream",
     "text": [
      "C:\\Users\\marce\\AppData\\Local\\Temp\\ipykernel_28168\\1445420469.py:1: SettingWithCopyWarning: \n",
      "A value is trying to be set on a copy of a slice from a DataFrame.\n",
      "Try using .loc[row_indexer,col_indexer] = value instead\n",
      "\n",
      "See the caveats in the documentation: https://pandas.pydata.org/pandas-docs/stable/user_guide/indexing.html#returning-a-view-versus-a-copy\n",
      "  df_2[\"class_prev\"] = df_2[\"class_prev\"].replace(mapping_class_prev)\n"
     ]
    }
   ],
   "source": [
    "df_2[\"class_prev\"] = df_2[\"class_prev\"].replace(mapping_class_prev)"
   ]
  },
  {
   "cell_type": "code",
   "execution_count": 35,
   "metadata": {},
   "outputs": [
    {
     "data": {
      "image/png": "[encoded data removed]",
      "text/plain": [
       "<Figure size 1000x600 with 1 Axes>"
      ]
     },
     "metadata": {},
     "output_type": "display_data"
    }
   ],
   "source": [
    "plot_two_variables(df_2.sort_values(by=\"class_prev\"), 'COMP_1', 'COMP_2', binary_column=\"class_prev\", svg_name=\"comp_target_agrupado.svg\")"
   ]
  },
  {
   "cell_type": "code",
   "execution_count": 36,
   "metadata": {},
   "outputs": [
    {
     "name": "stdout",
     "output_type": "stream",
     "text": [
      "Acurácia: 0.45918367346938777\n"
     ]
    }
   ],
   "source": [
    "from sklearn.metrics import precision_score, recall_score, f1_score, accuracy_score\n",
    "\n",
    "# Supondo que 'y_true' seja a lista/array com os rótulos verdadeiros e 'y_pred' os rótulos previstos pelo seu modelo\n",
    "accuracy = accuracy_score(df_2[\"class\"], df_2['class_prev'])\n",
    "print(\"Acurácia:\", accuracy)"
   ]
  },
  {
   "cell_type": "code",
   "execution_count": 37,
   "metadata": {},
   "outputs": [
    {
     "name": "stdout",
     "output_type": "stream",
     "text": [
      "Classe 0.0:\n",
      "Precision: 0.2459016393442623\n",
      "Recall: 0.15625\n",
      "F1-score: 0.1910828025477707\n",
      "\n",
      "Classe 1.0:\n",
      "Precision: 0.15151515151515152\n",
      "Recall: 0.7142857142857143\n",
      "F1-score: 0.25\n",
      "\n",
      "Classe 2.0:\n",
      "Precision: 0.25\n",
      "Recall: 1.0\n",
      "F1-score: 0.4\n",
      "\n",
      "Classe 5.0:\n",
      "Precision: 0.9761904761904762\n",
      "Recall: 0.45054945054945056\n",
      "F1-score: 0.6165413533834586\n",
      "\n",
      "Classe 6.0:\n",
      "Precision: 0.0\n",
      "Recall: 0.0\n",
      "F1-score: 0.0\n",
      "\n",
      "Classe 7.0:\n",
      "Precision: 0.6442307692307693\n",
      "Recall: 0.788235294117647\n",
      "F1-score: 0.708994708994709\n",
      "\n"
     ]
    }
   ],
   "source": [
    "precision = precision_score(df_2[\"class\"], df_2['class_prev'].values, average=None)\n",
    "recall = recall_score(df_2[\"class\"], df_2['class_prev'].values, average=None)\n",
    "f1 = f1_score(df_2[\"class\"], df_2['class_prev'].values, average=None)\n",
    "\n",
    "mean_f1_score = []\n",
    "for i in range(len(precision)):\n",
    "    print(f'Classe {np.unique(df_2[\"class\"])[i]}:')\n",
    "    print(f'Precision: {precision[i]}')\n",
    "    print(f'Recall: {recall[i]}')\n",
    "    print(f'F1-score: {f1[i]}\\n')"
   ]
  },
  {
   "cell_type": "code",
   "execution_count": 38,
   "metadata": {},
   "outputs": [
    {
     "data": {
      "text/plain": [
       "0.36110314415432304"
      ]
     },
     "execution_count": 38,
     "metadata": {},
     "output_type": "execute_result"
    }
   ],
   "source": [
    "f1_score(df_2[\"class\"], df_2['class_prev'].values, average=\"macro\")"
   ]
  },
  {
   "cell_type": "code",
   "execution_count": 39,
   "metadata": {},
   "outputs": [
    {
     "data": {
      "text/plain": [
       "class\n",
       "0.0    32.653061\n",
       "5.0    30.952381\n",
       "7.0    28.911565\n",
       "1.0     4.761905\n",
       "6.0     2.040816\n",
       "2.0     0.680272\n",
       "Name: count, dtype: float64"
      ]
     },
     "execution_count": 39,
     "metadata": {},
     "output_type": "execute_result"
    }
   ],
   "source": [
    "contagem_classes = df_2['class'].value_counts()\n",
    "\n",
    "# Calcular a porcentagem de cada classe\n",
    "porcentagem_classes = contagem_classes / len(df_2) * 100\n",
    "porcentagem_classes"
   ]
  },
  {
   "cell_type": "code",
   "execution_count": 40,
   "metadata": {},
   "outputs": [],
   "source": [
    "df_processing_1, df_processing_2 = split_dataframe(df_preprocessing, target_column='class')"
   ]
  },
  {
   "cell_type": "code",
   "execution_count": 41,
   "metadata": {},
   "outputs": [
    {
     "data": {
      "text/html": [
       "<div>\n",
       "<style scoped>\n",
       "    .dataframe tbody tr th:only-of-type {\n",
       "        vertical-align: middle;\n",
       "    }\n",
       "\n",
       "    .dataframe tbody tr th {\n",
       "        vertical-align: top;\n",
       "    }\n",
       "\n",
       "    .dataframe thead th {\n",
       "        text-align: right;\n",
       "    }\n",
       "</style>\n",
       "<table border=\"1\" class=\"dataframe\">\n",
       "  <thead>\n",
       "    <tr style=\"text-align: right;\">\n",
       "      <th></th>\n",
       "      <th>P-TPT</th>\n",
       "      <th>T-TPT</th>\n",
       "      <th>P-MON-CKP</th>\n",
       "      <th>T-JUS-CKP</th>\n",
       "      <th>class</th>\n",
       "    </tr>\n",
       "    <tr>\n",
       "      <th>timestamp</th>\n",
       "      <th></th>\n",
       "      <th></th>\n",
       "      <th></th>\n",
       "      <th></th>\n",
       "      <th></th>\n",
       "    </tr>\n",
       "  </thead>\n",
       "  <tbody>\n",
       "    <tr>\n",
       "      <th>2014-03-18 08:48:25</th>\n",
       "      <td>7583908.0</td>\n",
       "      <td>98.40878</td>\n",
       "      <td>3261349.0</td>\n",
       "      <td>43.81690</td>\n",
       "      <td>5.0</td>\n",
       "    </tr>\n",
       "    <tr>\n",
       "      <th>2014-03-19 12:43:55</th>\n",
       "      <td>6337455.0</td>\n",
       "      <td>101.37720</td>\n",
       "      <td>2604916.0</td>\n",
       "      <td>50.60535</td>\n",
       "      <td>0.0</td>\n",
       "    </tr>\n",
       "    <tr>\n",
       "      <th>2014-01-24 12:45:17</th>\n",
       "      <td>18437220.0</td>\n",
       "      <td>116.87180</td>\n",
       "      <td>9401221.0</td>\n",
       "      <td>74.79038</td>\n",
       "      <td>0.0</td>\n",
       "    </tr>\n",
       "    <tr>\n",
       "      <th>2014-03-14 22:53:27</th>\n",
       "      <td>14355880.0</td>\n",
       "      <td>86.46021</td>\n",
       "      <td>7123661.0</td>\n",
       "      <td>32.15251</td>\n",
       "      <td>5.0</td>\n",
       "    </tr>\n",
       "    <tr>\n",
       "      <th>2018-06-18 20:03:04</th>\n",
       "      <td>20647810.0</td>\n",
       "      <td>118.22820</td>\n",
       "      <td>10566870.0</td>\n",
       "      <td>70.51610</td>\n",
       "      <td>7.0</td>\n",
       "    </tr>\n",
       "    <tr>\n",
       "      <th>...</th>\n",
       "      <td>...</td>\n",
       "      <td>...</td>\n",
       "      <td>...</td>\n",
       "      <td>...</td>\n",
       "      <td>...</td>\n",
       "    </tr>\n",
       "    <tr>\n",
       "      <th>2017-08-01 14:40:00</th>\n",
       "      <td>18234740.0</td>\n",
       "      <td>118.90300</td>\n",
       "      <td>2512656.0</td>\n",
       "      <td>79.66547</td>\n",
       "      <td>1.0</td>\n",
       "    </tr>\n",
       "    <tr>\n",
       "      <th>2014-03-15 03:57:32</th>\n",
       "      <td>13765210.0</td>\n",
       "      <td>86.31015</td>\n",
       "      <td>6423888.0</td>\n",
       "      <td>31.33380</td>\n",
       "      <td>5.0</td>\n",
       "    </tr>\n",
       "    <tr>\n",
       "      <th>2017-08-01 15:52:46</th>\n",
       "      <td>18174060.0</td>\n",
       "      <td>118.98110</td>\n",
       "      <td>2507937.0</td>\n",
       "      <td>80.05676</td>\n",
       "      <td>1.0</td>\n",
       "    </tr>\n",
       "    <tr>\n",
       "      <th>2014-01-25 01:12:27</th>\n",
       "      <td>17455880.0</td>\n",
       "      <td>117.65010</td>\n",
       "      <td>7950811.0</td>\n",
       "      <td>79.15257</td>\n",
       "      <td>1.0</td>\n",
       "    </tr>\n",
       "    <tr>\n",
       "      <th>2017-02-26 22:01:07</th>\n",
       "      <td>13337670.0</td>\n",
       "      <td>118.13050</td>\n",
       "      <td>5347480.0</td>\n",
       "      <td>73.77396</td>\n",
       "      <td>0.0</td>\n",
       "    </tr>\n",
       "  </tbody>\n",
       "</table>\n",
       "<p>294 rows × 5 columns</p>\n",
       "</div>"
      ],
      "text/plain": [
       "                          P-TPT      T-TPT   P-MON-CKP  T-JUS-CKP  class\n",
       "timestamp                                                               \n",
       "2014-03-18 08:48:25   7583908.0   98.40878   3261349.0   43.81690    5.0\n",
       "2014-03-19 12:43:55   6337455.0  101.37720   2604916.0   50.60535    0.0\n",
       "2014-01-24 12:45:17  18437220.0  116.87180   9401221.0   74.79038    0.0\n",
       "2014-03-14 22:53:27  14355880.0   86.46021   7123661.0   32.15251    5.0\n",
       "2018-06-18 20:03:04  20647810.0  118.22820  10566870.0   70.51610    7.0\n",
       "...                         ...        ...         ...        ...    ...\n",
       "2017-08-01 14:40:00  18234740.0  118.90300   2512656.0   79.66547    1.0\n",
       "2014-03-15 03:57:32  13765210.0   86.31015   6423888.0   31.33380    5.0\n",
       "2017-08-01 15:52:46  18174060.0  118.98110   2507937.0   80.05676    1.0\n",
       "2014-01-25 01:12:27  17455880.0  117.65010   7950811.0   79.15257    1.0\n",
       "2017-02-26 22:01:07  13337670.0  118.13050   5347480.0   73.77396    0.0\n",
       "\n",
       "[294 rows x 5 columns]"
      ]
     },
     "execution_count": 41,
     "metadata": {},
     "output_type": "execute_result"
    }
   ],
   "source": [
    "df_processing_2"
   ]
  },
  {
   "cell_type": "code",
   "execution_count": 42,
   "metadata": {},
   "outputs": [
    {
     "name": "stderr",
     "output_type": "stream",
     "text": [
      "C:\\Users\\marce\\AppData\\Local\\Temp\\ipykernel_28168\\800780047.py:1: SettingWithCopyWarning: \n",
      "A value is trying to be set on a copy of a slice from a DataFrame.\n",
      "Try using .loc[row_indexer,col_indexer] = value instead\n",
      "\n",
      "See the caveats in the documentation: https://pandas.pydata.org/pandas-docs/stable/user_guide/indexing.html#returning-a-view-versus-a-copy\n",
      "  df_processing_2[\"class_prev\"] = df_2['class_prev'].values\n"
     ]
    }
   ],
   "source": [
    "df_processing_2[\"class_prev\"] = df_2['class_prev'].values"
   ]
  },
  {
   "cell_type": "code",
   "execution_count": 43,
   "metadata": {},
   "outputs": [
    {
     "data": {
      "text/html": [
       "<div>\n",
       "<style scoped>\n",
       "    .dataframe tbody tr th:only-of-type {\n",
       "        vertical-align: middle;\n",
       "    }\n",
       "\n",
       "    .dataframe tbody tr th {\n",
       "        vertical-align: top;\n",
       "    }\n",
       "\n",
       "    .dataframe thead th {\n",
       "        text-align: right;\n",
       "    }\n",
       "</style>\n",
       "<table border=\"1\" class=\"dataframe\">\n",
       "  <thead>\n",
       "    <tr style=\"text-align: right;\">\n",
       "      <th></th>\n",
       "      <th>P-TPT</th>\n",
       "      <th>T-TPT</th>\n",
       "      <th>P-MON-CKP</th>\n",
       "      <th>T-JUS-CKP</th>\n",
       "      <th>class</th>\n",
       "      <th>class_prev</th>\n",
       "    </tr>\n",
       "    <tr>\n",
       "      <th>timestamp</th>\n",
       "      <th></th>\n",
       "      <th></th>\n",
       "      <th></th>\n",
       "      <th></th>\n",
       "      <th></th>\n",
       "      <th></th>\n",
       "    </tr>\n",
       "  </thead>\n",
       "  <tbody>\n",
       "    <tr>\n",
       "      <th>2014-03-18 08:48:25</th>\n",
       "      <td>7583908.0</td>\n",
       "      <td>98.40878</td>\n",
       "      <td>3261349.0</td>\n",
       "      <td>43.81690</td>\n",
       "      <td>5.0</td>\n",
       "      <td>0</td>\n",
       "    </tr>\n",
       "    <tr>\n",
       "      <th>2014-03-19 12:43:55</th>\n",
       "      <td>6337455.0</td>\n",
       "      <td>101.37720</td>\n",
       "      <td>2604916.0</td>\n",
       "      <td>50.60535</td>\n",
       "      <td>0.0</td>\n",
       "      <td>0</td>\n",
       "    </tr>\n",
       "    <tr>\n",
       "      <th>2014-01-24 12:45:17</th>\n",
       "      <td>18437220.0</td>\n",
       "      <td>116.87180</td>\n",
       "      <td>9401221.0</td>\n",
       "      <td>74.79038</td>\n",
       "      <td>0.0</td>\n",
       "      <td>7</td>\n",
       "    </tr>\n",
       "    <tr>\n",
       "      <th>2014-03-14 22:53:27</th>\n",
       "      <td>14355880.0</td>\n",
       "      <td>86.46021</td>\n",
       "      <td>7123661.0</td>\n",
       "      <td>32.15251</td>\n",
       "      <td>5.0</td>\n",
       "      <td>5</td>\n",
       "    </tr>\n",
       "    <tr>\n",
       "      <th>2018-06-18 20:03:04</th>\n",
       "      <td>20647810.0</td>\n",
       "      <td>118.22820</td>\n",
       "      <td>10566870.0</td>\n",
       "      <td>70.51610</td>\n",
       "      <td>7.0</td>\n",
       "      <td>7</td>\n",
       "    </tr>\n",
       "    <tr>\n",
       "      <th>...</th>\n",
       "      <td>...</td>\n",
       "      <td>...</td>\n",
       "      <td>...</td>\n",
       "      <td>...</td>\n",
       "      <td>...</td>\n",
       "      <td>...</td>\n",
       "    </tr>\n",
       "    <tr>\n",
       "      <th>2017-08-01 14:40:00</th>\n",
       "      <td>18234740.0</td>\n",
       "      <td>118.90300</td>\n",
       "      <td>2512656.0</td>\n",
       "      <td>79.66547</td>\n",
       "      <td>1.0</td>\n",
       "      <td>1</td>\n",
       "    </tr>\n",
       "    <tr>\n",
       "      <th>2014-03-15 03:57:32</th>\n",
       "      <td>13765210.0</td>\n",
       "      <td>86.31015</td>\n",
       "      <td>6423888.0</td>\n",
       "      <td>31.33380</td>\n",
       "      <td>5.0</td>\n",
       "      <td>5</td>\n",
       "    </tr>\n",
       "    <tr>\n",
       "      <th>2017-08-01 15:52:46</th>\n",
       "      <td>18174060.0</td>\n",
       "      <td>118.98110</td>\n",
       "      <td>2507937.0</td>\n",
       "      <td>80.05676</td>\n",
       "      <td>1.0</td>\n",
       "      <td>1</td>\n",
       "    </tr>\n",
       "    <tr>\n",
       "      <th>2014-01-25 01:12:27</th>\n",
       "      <td>17455880.0</td>\n",
       "      <td>117.65010</td>\n",
       "      <td>7950811.0</td>\n",
       "      <td>79.15257</td>\n",
       "      <td>1.0</td>\n",
       "      <td>7</td>\n",
       "    </tr>\n",
       "    <tr>\n",
       "      <th>2017-02-26 22:01:07</th>\n",
       "      <td>13337670.0</td>\n",
       "      <td>118.13050</td>\n",
       "      <td>5347480.0</td>\n",
       "      <td>73.77396</td>\n",
       "      <td>0.0</td>\n",
       "      <td>1</td>\n",
       "    </tr>\n",
       "  </tbody>\n",
       "</table>\n",
       "<p>294 rows × 6 columns</p>\n",
       "</div>"
      ],
      "text/plain": [
       "                          P-TPT      T-TPT   P-MON-CKP  T-JUS-CKP  class  \\\n",
       "timestamp                                                                  \n",
       "2014-03-18 08:48:25   7583908.0   98.40878   3261349.0   43.81690    5.0   \n",
       "2014-03-19 12:43:55   6337455.0  101.37720   2604916.0   50.60535    0.0   \n",
       "2014-01-24 12:45:17  18437220.0  116.87180   9401221.0   74.79038    0.0   \n",
       "2014-03-14 22:53:27  14355880.0   86.46021   7123661.0   32.15251    5.0   \n",
       "2018-06-18 20:03:04  20647810.0  118.22820  10566870.0   70.51610    7.0   \n",
       "...                         ...        ...         ...        ...    ...   \n",
       "2017-08-01 14:40:00  18234740.0  118.90300   2512656.0   79.66547    1.0   \n",
       "2014-03-15 03:57:32  13765210.0   86.31015   6423888.0   31.33380    5.0   \n",
       "2017-08-01 15:52:46  18174060.0  118.98110   2507937.0   80.05676    1.0   \n",
       "2014-01-25 01:12:27  17455880.0  117.65010   7950811.0   79.15257    1.0   \n",
       "2017-02-26 22:01:07  13337670.0  118.13050   5347480.0   73.77396    0.0   \n",
       "\n",
       "                     class_prev  \n",
       "timestamp                        \n",
       "2014-03-18 08:48:25           0  \n",
       "2014-03-19 12:43:55           0  \n",
       "2014-01-24 12:45:17           7  \n",
       "2014-03-14 22:53:27           5  \n",
       "2018-06-18 20:03:04           7  \n",
       "...                         ...  \n",
       "2017-08-01 14:40:00           1  \n",
       "2014-03-15 03:57:32           5  \n",
       "2017-08-01 15:52:46           1  \n",
       "2014-01-25 01:12:27           7  \n",
       "2017-02-26 22:01:07           1  \n",
       "\n",
       "[294 rows x 6 columns]"
      ]
     },
     "execution_count": 43,
     "metadata": {},
     "output_type": "execute_result"
    }
   ],
   "source": [
    "df_processing_2"
   ]
  },
  {
   "cell_type": "code",
   "execution_count": 44,
   "metadata": {},
   "outputs": [
    {
     "name": "stdout",
     "output_type": "stream",
     "text": [
      "Acurácia: 0.45918367346938777\n"
     ]
    }
   ],
   "source": [
    "accuracy = accuracy_score(df_processing_2[\"class\"], df_processing_2['class_prev'])\n",
    "print(\"Acurácia:\", accuracy)"
   ]
  },
  {
   "cell_type": "code",
   "execution_count": 45,
   "metadata": {},
   "outputs": [
    {
     "data": {
      "text/plain": [
       "0.36110314415432304"
      ]
     },
     "execution_count": 45,
     "metadata": {},
     "output_type": "execute_result"
    }
   ],
   "source": [
    "f1_score(df_2[\"class\"], df_2['class_prev'].values, average=\"macro\")"
   ]
  },
  {
   "cell_type": "code",
   "execution_count": 100,
   "metadata": {},
   "outputs": [
    {
     "data": {
      "text/html": [
       "<div>\n",
       "<style scoped>\n",
       "    .dataframe tbody tr th:only-of-type {\n",
       "        vertical-align: middle;\n",
       "    }\n",
       "\n",
       "    .dataframe tbody tr th {\n",
       "        vertical-align: top;\n",
       "    }\n",
       "\n",
       "    .dataframe thead th {\n",
       "        text-align: right;\n",
       "    }\n",
       "</style>\n",
       "<table border=\"1\" class=\"dataframe\">\n",
       "  <thead>\n",
       "    <tr style=\"text-align: right;\">\n",
       "      <th></th>\n",
       "      <th>P-TPT</th>\n",
       "      <th>T-TPT</th>\n",
       "      <th>P-MON-CKP</th>\n",
       "      <th>T-JUS-CKP</th>\n",
       "      <th>class</th>\n",
       "      <th>class_prev</th>\n",
       "    </tr>\n",
       "    <tr>\n",
       "      <th>timestamp</th>\n",
       "      <th></th>\n",
       "      <th></th>\n",
       "      <th></th>\n",
       "      <th></th>\n",
       "      <th></th>\n",
       "      <th></th>\n",
       "    </tr>\n",
       "  </thead>\n",
       "  <tbody>\n",
       "    <tr>\n",
       "      <th>2014-03-18 08:48:25</th>\n",
       "      <td>7583908.0</td>\n",
       "      <td>98.40878</td>\n",
       "      <td>3261349.0</td>\n",
       "      <td>43.81690</td>\n",
       "      <td>5.0</td>\n",
       "      <td>0</td>\n",
       "    </tr>\n",
       "    <tr>\n",
       "      <th>2014-03-19 12:43:55</th>\n",
       "      <td>6337455.0</td>\n",
       "      <td>101.37720</td>\n",
       "      <td>2604916.0</td>\n",
       "      <td>50.60535</td>\n",
       "      <td>0.0</td>\n",
       "      <td>0</td>\n",
       "    </tr>\n",
       "    <tr>\n",
       "      <th>2014-01-24 12:45:17</th>\n",
       "      <td>18437220.0</td>\n",
       "      <td>116.87180</td>\n",
       "      <td>9401221.0</td>\n",
       "      <td>74.79038</td>\n",
       "      <td>0.0</td>\n",
       "      <td>7</td>\n",
       "    </tr>\n",
       "    <tr>\n",
       "      <th>2014-03-14 22:53:27</th>\n",
       "      <td>14355880.0</td>\n",
       "      <td>86.46021</td>\n",
       "      <td>7123661.0</td>\n",
       "      <td>32.15251</td>\n",
       "      <td>5.0</td>\n",
       "      <td>5</td>\n",
       "    </tr>\n",
       "    <tr>\n",
       "      <th>2018-06-18 20:03:04</th>\n",
       "      <td>20647810.0</td>\n",
       "      <td>118.22820</td>\n",
       "      <td>10566870.0</td>\n",
       "      <td>70.51610</td>\n",
       "      <td>7.0</td>\n",
       "      <td>7</td>\n",
       "    </tr>\n",
       "    <tr>\n",
       "      <th>...</th>\n",
       "      <td>...</td>\n",
       "      <td>...</td>\n",
       "      <td>...</td>\n",
       "      <td>...</td>\n",
       "      <td>...</td>\n",
       "      <td>...</td>\n",
       "    </tr>\n",
       "    <tr>\n",
       "      <th>2017-08-01 14:40:00</th>\n",
       "      <td>18234740.0</td>\n",
       "      <td>118.90300</td>\n",
       "      <td>2512656.0</td>\n",
       "      <td>79.66547</td>\n",
       "      <td>1.0</td>\n",
       "      <td>1</td>\n",
       "    </tr>\n",
       "    <tr>\n",
       "      <th>2014-03-15 03:57:32</th>\n",
       "      <td>13765210.0</td>\n",
       "      <td>86.31015</td>\n",
       "      <td>6423888.0</td>\n",
       "      <td>31.33380</td>\n",
       "      <td>5.0</td>\n",
       "      <td>5</td>\n",
       "    </tr>\n",
       "    <tr>\n",
       "      <th>2017-08-01 15:52:46</th>\n",
       "      <td>18174060.0</td>\n",
       "      <td>118.98110</td>\n",
       "      <td>2507937.0</td>\n",
       "      <td>80.05676</td>\n",
       "      <td>1.0</td>\n",
       "      <td>1</td>\n",
       "    </tr>\n",
       "    <tr>\n",
       "      <th>2014-01-25 01:12:27</th>\n",
       "      <td>17455880.0</td>\n",
       "      <td>117.65010</td>\n",
       "      <td>7950811.0</td>\n",
       "      <td>79.15257</td>\n",
       "      <td>1.0</td>\n",
       "      <td>7</td>\n",
       "    </tr>\n",
       "    <tr>\n",
       "      <th>2017-02-26 22:01:07</th>\n",
       "      <td>13337670.0</td>\n",
       "      <td>118.13050</td>\n",
       "      <td>5347480.0</td>\n",
       "      <td>73.77396</td>\n",
       "      <td>0.0</td>\n",
       "      <td>1</td>\n",
       "    </tr>\n",
       "  </tbody>\n",
       "</table>\n",
       "<p>294 rows × 6 columns</p>\n",
       "</div>"
      ],
      "text/plain": [
       "                          P-TPT      T-TPT   P-MON-CKP  T-JUS-CKP  class  \\\n",
       "timestamp                                                                  \n",
       "2014-03-18 08:48:25   7583908.0   98.40878   3261349.0   43.81690    5.0   \n",
       "2014-03-19 12:43:55   6337455.0  101.37720   2604916.0   50.60535    0.0   \n",
       "2014-01-24 12:45:17  18437220.0  116.87180   9401221.0   74.79038    0.0   \n",
       "2014-03-14 22:53:27  14355880.0   86.46021   7123661.0   32.15251    5.0   \n",
       "2018-06-18 20:03:04  20647810.0  118.22820  10566870.0   70.51610    7.0   \n",
       "...                         ...        ...         ...        ...    ...   \n",
       "2017-08-01 14:40:00  18234740.0  118.90300   2512656.0   79.66547    1.0   \n",
       "2014-03-15 03:57:32  13765210.0   86.31015   6423888.0   31.33380    5.0   \n",
       "2017-08-01 15:52:46  18174060.0  118.98110   2507937.0   80.05676    1.0   \n",
       "2014-01-25 01:12:27  17455880.0  117.65010   7950811.0   79.15257    1.0   \n",
       "2017-02-26 22:01:07  13337670.0  118.13050   5347480.0   73.77396    0.0   \n",
       "\n",
       "                     class_prev  \n",
       "timestamp                        \n",
       "2014-03-18 08:48:25           0  \n",
       "2014-03-19 12:43:55           0  \n",
       "2014-01-24 12:45:17           7  \n",
       "2014-03-14 22:53:27           5  \n",
       "2018-06-18 20:03:04           7  \n",
       "...                         ...  \n",
       "2017-08-01 14:40:00           1  \n",
       "2014-03-15 03:57:32           5  \n",
       "2017-08-01 15:52:46           1  \n",
       "2014-01-25 01:12:27           7  \n",
       "2017-02-26 22:01:07           1  \n",
       "\n",
       "[294 rows x 6 columns]"
      ]
     },
     "execution_count": 100,
     "metadata": {},
     "output_type": "execute_result"
    }
   ],
   "source": [
    "df_processing_2"
   ]
  },
  {
   "cell_type": "code",
   "execution_count": 101,
   "metadata": {},
   "outputs": [
    {
     "data": {
      "text/plain": [
       "0.4451383642847863"
      ]
     },
     "execution_count": 101,
     "metadata": {},
     "output_type": "execute_result"
    }
   ],
   "source": [
    "silhouette_score(df_processing_2.drop(columns=[\"class\", \"class_prev\"]), df_processing_2['class_prev'].values)"
   ]
  },
  {
   "cell_type": "code",
   "execution_count": 102,
   "metadata": {},
   "outputs": [
    {
     "data": {
      "text/html": [
       "<div>\n",
       "<style scoped>\n",
       "    .dataframe tbody tr th:only-of-type {\n",
       "        vertical-align: middle;\n",
       "    }\n",
       "\n",
       "    .dataframe tbody tr th {\n",
       "        vertical-align: top;\n",
       "    }\n",
       "\n",
       "    .dataframe thead tr th {\n",
       "        text-align: left;\n",
       "    }\n",
       "\n",
       "    .dataframe thead tr:last-of-type th {\n",
       "        text-align: right;\n",
       "    }\n",
       "</style>\n",
       "<table border=\"1\" class=\"dataframe\">\n",
       "  <thead>\n",
       "    <tr>\n",
       "      <th></th>\n",
       "      <th colspan=\"2\" halign=\"left\">P-TPT</th>\n",
       "      <th colspan=\"2\" halign=\"left\">T-TPT</th>\n",
       "      <th colspan=\"2\" halign=\"left\">P-MON-CKP</th>\n",
       "      <th colspan=\"2\" halign=\"left\">T-JUS-CKP</th>\n",
       "    </tr>\n",
       "    <tr>\n",
       "      <th></th>\n",
       "      <th>mean</th>\n",
       "      <th>std</th>\n",
       "      <th>mean</th>\n",
       "      <th>std</th>\n",
       "      <th>mean</th>\n",
       "      <th>std</th>\n",
       "      <th>mean</th>\n",
       "      <th>std</th>\n",
       "    </tr>\n",
       "    <tr>\n",
       "      <th>class</th>\n",
       "      <th></th>\n",
       "      <th></th>\n",
       "      <th></th>\n",
       "      <th></th>\n",
       "      <th></th>\n",
       "      <th></th>\n",
       "      <th></th>\n",
       "      <th></th>\n",
       "    </tr>\n",
       "  </thead>\n",
       "  <tbody>\n",
       "    <tr>\n",
       "      <th>0.0</th>\n",
       "      <td>1.500041e+07</td>\n",
       "      <td>4.928366e+06</td>\n",
       "      <td>112.816320</td>\n",
       "      <td>11.642907</td>\n",
       "      <td>5.622483e+06</td>\n",
       "      <td>3.383156e+06</td>\n",
       "      <td>69.590077</td>\n",
       "      <td>12.800905</td>\n",
       "    </tr>\n",
       "    <tr>\n",
       "      <th>1.0</th>\n",
       "      <td>1.790926e+07</td>\n",
       "      <td>2.961931e+05</td>\n",
       "      <td>118.674143</td>\n",
       "      <td>0.735635</td>\n",
       "      <td>3.991665e+06</td>\n",
       "      <td>2.641681e+06</td>\n",
       "      <td>79.760714</td>\n",
       "      <td>0.939542</td>\n",
       "    </tr>\n",
       "    <tr>\n",
       "      <th>2.0</th>\n",
       "      <td>7.859308e+06</td>\n",
       "      <td>2.058380e+06</td>\n",
       "      <td>28.595775</td>\n",
       "      <td>15.476835</td>\n",
       "      <td>3.548119e+06</td>\n",
       "      <td>5.387178e+05</td>\n",
       "      <td>36.142635</td>\n",
       "      <td>8.010169</td>\n",
       "    </tr>\n",
       "    <tr>\n",
       "      <th>5.0</th>\n",
       "      <td>9.910387e+06</td>\n",
       "      <td>3.180078e+06</td>\n",
       "      <td>88.908577</td>\n",
       "      <td>15.516055</td>\n",
       "      <td>4.157510e+06</td>\n",
       "      <td>1.914500e+06</td>\n",
       "      <td>37.731756</td>\n",
       "      <td>7.847206</td>\n",
       "    </tr>\n",
       "    <tr>\n",
       "      <th>6.0</th>\n",
       "      <td>1.324429e+07</td>\n",
       "      <td>1.729864e+05</td>\n",
       "      <td>116.796850</td>\n",
       "      <td>4.879127</td>\n",
       "      <td>3.757855e+06</td>\n",
       "      <td>1.129872e+06</td>\n",
       "      <td>81.270795</td>\n",
       "      <td>3.943009</td>\n",
       "    </tr>\n",
       "    <tr>\n",
       "      <th>7.0</th>\n",
       "      <td>1.890018e+07</td>\n",
       "      <td>4.019317e+06</td>\n",
       "      <td>117.252802</td>\n",
       "      <td>2.289958</td>\n",
       "      <td>9.674479e+06</td>\n",
       "      <td>3.209112e+06</td>\n",
       "      <td>69.435471</td>\n",
       "      <td>3.362830</td>\n",
       "    </tr>\n",
       "  </tbody>\n",
       "</table>\n",
       "</div>"
      ],
      "text/plain": [
       "              P-TPT                     T-TPT                P-MON-CKP  \\\n",
       "               mean           std        mean        std          mean   \n",
       "class                                                                    \n",
       "0.0    1.500041e+07  4.928366e+06  112.816320  11.642907  5.622483e+06   \n",
       "1.0    1.790926e+07  2.961931e+05  118.674143   0.735635  3.991665e+06   \n",
       "2.0    7.859308e+06  2.058380e+06   28.595775  15.476835  3.548119e+06   \n",
       "5.0    9.910387e+06  3.180078e+06   88.908577  15.516055  4.157510e+06   \n",
       "6.0    1.324429e+07  1.729864e+05  116.796850   4.879127  3.757855e+06   \n",
       "7.0    1.890018e+07  4.019317e+06  117.252802   2.289958  9.674479e+06   \n",
       "\n",
       "                     T-JUS-CKP             \n",
       "                std       mean        std  \n",
       "class                                      \n",
       "0.0    3.383156e+06  69.590077  12.800905  \n",
       "1.0    2.641681e+06  79.760714   0.939542  \n",
       "2.0    5.387178e+05  36.142635   8.010169  \n",
       "5.0    1.914500e+06  37.731756   7.847206  \n",
       "6.0    1.129872e+06  81.270795   3.943009  \n",
       "7.0    3.209112e+06  69.435471   3.362830  "
      ]
     },
     "execution_count": 102,
     "metadata": {},
     "output_type": "execute_result"
    }
   ],
   "source": [
    "grouped = df_processing_2.drop(columns=[\"class_prev\"]).groupby('class')\n",
    "\n",
    "# Calcular as métricas\n",
    "metrics = grouped.agg(['mean','std'])\n",
    "metrics"
   ]
  },
  {
   "cell_type": "code",
   "execution_count": 103,
   "metadata": {},
   "outputs": [
    {
     "data": {
      "text/html": [
       "<div>\n",
       "<style scoped>\n",
       "    .dataframe tbody tr th:only-of-type {\n",
       "        vertical-align: middle;\n",
       "    }\n",
       "\n",
       "    .dataframe tbody tr th {\n",
       "        vertical-align: top;\n",
       "    }\n",
       "\n",
       "    .dataframe thead tr th {\n",
       "        text-align: left;\n",
       "    }\n",
       "\n",
       "    .dataframe thead tr:last-of-type th {\n",
       "        text-align: right;\n",
       "    }\n",
       "</style>\n",
       "<table border=\"1\" class=\"dataframe\">\n",
       "  <thead>\n",
       "    <tr>\n",
       "      <th></th>\n",
       "      <th colspan=\"2\" halign=\"left\">P-TPT</th>\n",
       "      <th colspan=\"2\" halign=\"left\">T-TPT</th>\n",
       "      <th colspan=\"2\" halign=\"left\">P-MON-CKP</th>\n",
       "      <th colspan=\"2\" halign=\"left\">T-JUS-CKP</th>\n",
       "    </tr>\n",
       "    <tr>\n",
       "      <th></th>\n",
       "      <th>mean</th>\n",
       "      <th>std</th>\n",
       "      <th>mean</th>\n",
       "      <th>std</th>\n",
       "      <th>mean</th>\n",
       "      <th>std</th>\n",
       "      <th>mean</th>\n",
       "      <th>std</th>\n",
       "    </tr>\n",
       "    <tr>\n",
       "      <th>class_prev</th>\n",
       "      <th></th>\n",
       "      <th></th>\n",
       "      <th></th>\n",
       "      <th></th>\n",
       "      <th></th>\n",
       "      <th></th>\n",
       "      <th></th>\n",
       "      <th></th>\n",
       "    </tr>\n",
       "  </thead>\n",
       "  <tbody>\n",
       "    <tr>\n",
       "      <th>0</th>\n",
       "      <td>7.035500e+06</td>\n",
       "      <td>1.216960e+06</td>\n",
       "      <td>97.314182</td>\n",
       "      <td>6.266465</td>\n",
       "      <td>2.754173e+06</td>\n",
       "      <td>7.842189e+05</td>\n",
       "      <td>45.433985</td>\n",
       "      <td>3.872418</td>\n",
       "    </tr>\n",
       "    <tr>\n",
       "      <th>1</th>\n",
       "      <td>1.498328e+07</td>\n",
       "      <td>2.412970e+06</td>\n",
       "      <td>118.276682</td>\n",
       "      <td>1.491301</td>\n",
       "      <td>3.829394e+06</td>\n",
       "      <td>1.468861e+06</td>\n",
       "      <td>77.595967</td>\n",
       "      <td>4.024475</td>\n",
       "    </tr>\n",
       "    <tr>\n",
       "      <th>2</th>\n",
       "      <td>1.101688e+07</td>\n",
       "      <td>2.486632e+06</td>\n",
       "      <td>33.988138</td>\n",
       "      <td>17.764116</td>\n",
       "      <td>2.771516e+06</td>\n",
       "      <td>2.226097e+06</td>\n",
       "      <td>38.913115</td>\n",
       "      <td>8.301622</td>\n",
       "    </tr>\n",
       "    <tr>\n",
       "      <th>5</th>\n",
       "      <td>1.311916e+07</td>\n",
       "      <td>1.160068e+06</td>\n",
       "      <td>86.079623</td>\n",
       "      <td>0.611036</td>\n",
       "      <td>6.046753e+06</td>\n",
       "      <td>9.277913e+05</td>\n",
       "      <td>29.550263</td>\n",
       "      <td>2.391643</td>\n",
       "    </tr>\n",
       "    <tr>\n",
       "      <th>6</th>\n",
       "      <td>8.442883e+06</td>\n",
       "      <td>1.829606e+04</td>\n",
       "      <td>109.801392</td>\n",
       "      <td>0.051318</td>\n",
       "      <td>1.452134e+06</td>\n",
       "      <td>3.645016e+04</td>\n",
       "      <td>74.225718</td>\n",
       "      <td>0.334525</td>\n",
       "    </tr>\n",
       "    <tr>\n",
       "      <th>7</th>\n",
       "      <td>2.045534e+07</td>\n",
       "      <td>1.007588e+06</td>\n",
       "      <td>117.787044</td>\n",
       "      <td>0.493856</td>\n",
       "      <td>1.067491e+07</td>\n",
       "      <td>1.090911e+06</td>\n",
       "      <td>70.025529</td>\n",
       "      <td>3.716045</td>\n",
       "    </tr>\n",
       "  </tbody>\n",
       "</table>\n",
       "</div>"
      ],
      "text/plain": [
       "                   P-TPT                     T-TPT                P-MON-CKP  \\\n",
       "                    mean           std        mean        std          mean   \n",
       "class_prev                                                                    \n",
       "0           7.035500e+06  1.216960e+06   97.314182   6.266465  2.754173e+06   \n",
       "1           1.498328e+07  2.412970e+06  118.276682   1.491301  3.829394e+06   \n",
       "2           1.101688e+07  2.486632e+06   33.988138  17.764116  2.771516e+06   \n",
       "5           1.311916e+07  1.160068e+06   86.079623   0.611036  6.046753e+06   \n",
       "6           8.442883e+06  1.829606e+04  109.801392   0.051318  1.452134e+06   \n",
       "7           2.045534e+07  1.007588e+06  117.787044   0.493856  1.067491e+07   \n",
       "\n",
       "                          T-JUS-CKP            \n",
       "                     std       mean       std  \n",
       "class_prev                                     \n",
       "0           7.842189e+05  45.433985  3.872418  \n",
       "1           1.468861e+06  77.595967  4.024475  \n",
       "2           2.226097e+06  38.913115  8.301622  \n",
       "5           9.277913e+05  29.550263  2.391643  \n",
       "6           3.645016e+04  74.225718  0.334525  \n",
       "7           1.090911e+06  70.025529  3.716045  "
      ]
     },
     "execution_count": 103,
     "metadata": {},
     "output_type": "execute_result"
    }
   ],
   "source": [
    "grouped = df_processing_2.drop(columns=[\"class\"]).groupby('class_prev')\n",
    "\n",
    "# Calcular as métricas\n",
    "metrics = grouped.agg(['mean','std'])\n",
    "metrics"
   ]
  }
 ],
 "metadata": {
  "kernelspec": {
   "display_name": "venv3WPetrobras",
   "language": "python",
   "name": "venv3wpetrobras"
  },
  "language_info": {
   "codemirror_mode": {
    "name": "ipython",
    "version": 3
   },
   "file_extension": ".py",
   "mimetype": "text/x-python",
   "name": "python",
   "nbconvert_exporter": "python",
   "pygments_lexer": "ipython3",
   "version": "3.8.9"
  }
 },
 "nbformat": 4,
 "nbformat_minor": 2
}
